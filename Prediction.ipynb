{
 "cells": [
  {
   "cell_type": "markdown",
   "id": "524554c8-8c36-4912-a620-ed8ff63bab81",
   "metadata": {},
   "source": [
    "#### Introduction\n",
    "This is a machine learning project to predict unit/property monthly rent price in Kuala Lumpur region, Malaysia. The project uses a dataset from an online ads listing for property mudah.my. This project outlines the process of web-scraping/ data gathering, data cleaning-wrangling, and machine learning modeling.\n",
    "\n",
    "This project aims to answers question about how much a unit monthly rent would be if given information such as location, number of bedrooms, parking, furnished, etc? This would help potential tenant and also the owner to get the best price of their rental unit, comparable to the market value.\n",
    "\n",
    "Some previous work about house pricing was listed below, however most of them are targeting a dataset of house pricing or an Airbnb pricing. There are difference such as in Airbnb, the booking rarely took more than 2 weeks, let alone a year. Therefore the pricing may be different. Additionally, in Airbnb, there is text feature coming from the review given by the tenant and the owner.The better the review, the higher the rent prices -- which was not available in this current project dataset.\n",
    "\n",
    "Previous work by [@madhuri2019], [@xu2022], [@zhao2022] highlight the importance feature selection, and the choice of machine learning model. Based on the previous works, the most consistently performed machine learning model are Random Forest and Gradient boosting, and the MAE and R2 score usually used in evaluating the performance of the model. Although the above work are all not about apartment rent pricing, similar method can be applied to this project.\n",
    "\n",
    "The following feature is available in the dataset:\n",
    "\n",
    "ads_id: ads listing ID, unique to each ads\n",
    "prop_name: the building name of the property\n",
    "completion_year: year of the building/property completed\n",
    "monthly_rent: monthly rent price in Malaysian Ringgit (RM)\n",
    "location: the location (region) of the property\n",
    "property_type: property type, such as flat, apartment, etc\n",
    "rooms: number of rooms\n",
    "parking: number of parking spot\n",
    "bathroom: number of bathroom\n",
    "size: total area of the unit in sq.ft\n",
    "furnished: furnishin status of the unit, fully-partial-non\n",
    "facilities: main facilities within the unit\n",
    "additional_facilities: additional facilities"
   ]
  },
  {
   "cell_type": "code",
   "execution_count": 1,
   "id": "30da97f3-1cdd-4ce1-a157-0a61f082d652",
   "metadata": {
    "tags": []
   },
   "outputs": [],
   "source": [
    "import polars as pl\n",
    "import re\n",
    "import seaborn as sns\n",
    "import matplotlib.pyplot as plt\n",
    "import numpy as np\n",
    "import pandas as pd"
   ]
  },
  {
   "cell_type": "markdown",
   "id": "695316ca-20d3-41c2-9c47-8cb0e659e6d9",
   "metadata": {},
   "source": [
    "#### Data Understanding\n",
    "Reload the original dataset."
   ]
  },
  {
   "cell_type": "code",
   "execution_count": 2,
   "id": "58130aa9-23c3-4b0c-8dc2-3743427eaeec",
   "metadata": {},
   "outputs": [],
   "source": [
    "file_path = \"./mudah-apartment-kl-selangor.csv\""
   ]
  },
  {
   "cell_type": "code",
   "execution_count": 3,
   "id": "b06285e3-47bb-474f-a2fd-61e601b42008",
   "metadata": {},
   "outputs": [],
   "source": [
    "df = pl.read_csv(file_path, infer_schema_length=10000) "
   ]
  },
  {
   "cell_type": "code",
   "execution_count": 4,
   "id": "79ffe886-7711-4050-a76a-1a7453428fe0",
   "metadata": {},
   "outputs": [
    {
     "data": {
      "text/html": [
       "<div><style>\n",
       ".dataframe > thead > tr > th,\n",
       ".dataframe > tbody > tr > td {\n",
       "  text-align: right;\n",
       "}\n",
       "</style>\n",
       "<small>shape: (19991, 14)</small><table border=\"1\" class=\"dataframe\"><thead><tr><th>ads_id</th><th>prop_name</th><th>completion_year</th><th>monthly_rent</th><th>location</th><th>property_type</th><th>rooms</th><th>parking</th><th>bathroom</th><th>size</th><th>furnished</th><th>facilities</th><th>additional_facilities</th><th>region</th></tr><tr><td>i64</td><td>str</td><td>f64</td><td>str</td><td>str</td><td>str</td><td>str</td><td>f64</td><td>f64</td><td>str</td><td>str</td><td>str</td><td>str</td><td>str</td></tr></thead><tbody><tr><td>100323185</td><td>&quot;The Hipster @ …</td><td>2022.0</td><td>&quot;RM 4 200 per m…</td><td>&quot;Kuala Lumpur -…</td><td>&quot;Condominium&quot;</td><td>&quot;5&quot;</td><td>2.0</td><td>6.0</td><td>&quot;1842 sq.ft.&quot;</td><td>&quot;Fully Furnishe…</td><td>&quot;Minimart, Gymn…</td><td>&quot;Air-Cond, Cook…</td><td>&quot;Kuala Lumpur&quot;</td></tr><tr><td>100203973</td><td>&quot;Segar Courts&quot;</td><td>null</td><td>&quot;RM 2 300 per m…</td><td>&quot;Kuala Lumpur -…</td><td>&quot;Condominium&quot;</td><td>&quot;3&quot;</td><td>1.0</td><td>2.0</td><td>&quot;1170 sq.ft.&quot;</td><td>&quot;Partially Furn…</td><td>&quot;Playground, Pa…</td><td>&quot;Air-Cond, Cook…</td><td>&quot;Kuala Lumpur&quot;</td></tr><tr><td>100323128</td><td>&quot;Pangsapuri Ter…</td><td>null</td><td>&quot;RM 1 000 per m…</td><td>&quot;Kuala Lumpur -…</td><td>&quot;Apartment&quot;</td><td>&quot;3&quot;</td><td>null</td><td>2.0</td><td>&quot;650 sq.ft.&quot;</td><td>&quot;Fully Furnishe…</td><td>&quot;Minimart, Jogg…</td><td>null</td><td>&quot;Kuala Lumpur&quot;</td></tr><tr><td>100191767</td><td>&quot;Sentul Point S…</td><td>2020.0</td><td>&quot;RM 1 700 per m…</td><td>&quot;Kuala Lumpur -…</td><td>&quot;Apartment&quot;</td><td>&quot;2&quot;</td><td>1.0</td><td>2.0</td><td>&quot;743 sq.ft.&quot;</td><td>&quot;Partially Furn…</td><td>&quot;Parking, Playg…</td><td>&quot;Cooking Allowe…</td><td>&quot;Kuala Lumpur&quot;</td></tr><tr><td>97022692</td><td>&quot;Arte Mont Kiar…</td><td>null</td><td>&quot;RM 1 299 per m…</td><td>&quot;Kuala Lumpur -…</td><td>&quot;Service Reside…</td><td>&quot;1&quot;</td><td>1.0</td><td>1.0</td><td>&quot;494 sq.ft.&quot;</td><td>&quot;Not Furnished&quot;</td><td>&quot;Parking, Secur…</td><td>&quot;Air-Cond&quot;</td><td>&quot;Kuala Lumpur&quot;</td></tr><tr><td>100322897</td><td>&quot;Residensi Vist…</td><td>null</td><td>&quot;RM 1 500 per m…</td><td>&quot;Kuala Lumpur -…</td><td>&quot;Apartment&quot;</td><td>&quot;3&quot;</td><td>1.0</td><td>2.0</td><td>&quot;884 sq.ft.&quot;</td><td>&quot;Partially Furn…</td><td>&quot;Parking, Secur…</td><td>&quot;Cooking Allowe…</td><td>&quot;Kuala Lumpur&quot;</td></tr><tr><td>100322962</td><td>&quot;Sky Meridien&quot;</td><td>null</td><td>&quot;RM 2 900 per m…</td><td>&quot;Kuala Lumpur -…</td><td>&quot;Service Reside…</td><td>&quot;3&quot;</td><td>2.0</td><td>2.0</td><td>&quot;982 sq.ft.&quot;</td><td>&quot;Fully Furnishe…</td><td>&quot;Parking, Secur…</td><td>&quot;Air-Cond, Cook…</td><td>&quot;Kuala Lumpur&quot;</td></tr><tr><td>100322885</td><td>&quot;Arte Plus Jala…</td><td>2018.0</td><td>&quot;RM 1 550 per m…</td><td>&quot;Kuala Lumpur -…</td><td>&quot;Service Reside…</td><td>&quot;1&quot;</td><td>1.0</td><td>1.0</td><td>&quot;700 sq.ft.&quot;</td><td>&quot;Fully Furnishe…</td><td>&quot;Parking, Gymna…</td><td>&quot;Air-Cond, Cook…</td><td>&quot;Kuala Lumpur&quot;</td></tr><tr><td>100322866</td><td>&quot;Nova I&quot;</td><td>2014.0</td><td>&quot;RM 1 400 per m…</td><td>&quot;Kuala Lumpur -…</td><td>&quot;Apartment&quot;</td><td>&quot;2&quot;</td><td>1.0</td><td>1.0</td><td>&quot;750 sq.ft.&quot;</td><td>&quot;Fully Furnishe…</td><td>&quot;Playground, Se…</td><td>&quot;Air-Cond, Cook…</td><td>&quot;Kuala Lumpur&quot;</td></tr><tr><td>100322863</td><td>&quot;Sofiya Residen…</td><td>null</td><td>&quot;RM 1 350 per m…</td><td>&quot;Kuala Lumpur -…</td><td>&quot;Condominium&quot;</td><td>&quot;3&quot;</td><td>1.0</td><td>2.0</td><td>&quot;862 sq.ft.&quot;</td><td>&quot;Partially Furn…</td><td>&quot;Playground, Se…</td><td>&quot;Air-Cond, Cook…</td><td>&quot;Kuala Lumpur&quot;</td></tr><tr><td>100322813</td><td>&quot;The Park Sky R…</td><td>2019.0</td><td>&quot;RM 2 600 per m…</td><td>&quot;Kuala Lumpur -…</td><td>&quot;Service Reside…</td><td>&quot;2&quot;</td><td>null</td><td>2.0</td><td>&quot;868 sq.ft.&quot;</td><td>&quot;Partially Furn…</td><td>&quot;Parking, Playg…</td><td>&quot;Cooking Allowe…</td><td>&quot;Kuala Lumpur&quot;</td></tr><tr><td>100322809</td><td>&quot;PV9 Residences…</td><td>2022.0</td><td>&quot;RM 2 000 per m…</td><td>&quot;Kuala Lumpur -…</td><td>&quot;Service Reside…</td><td>&quot;4&quot;</td><td>2.0</td><td>2.0</td><td>&quot;1100 sq.ft.&quot;</td><td>&quot;Partially Furn…</td><td>&quot;Parking, Secur…</td><td>&quot;Air-Cond, Cook…</td><td>&quot;Kuala Lumpur&quot;</td></tr><tr><td>&hellip;</td><td>&hellip;</td><td>&hellip;</td><td>&hellip;</td><td>&hellip;</td><td>&hellip;</td><td>&hellip;</td><td>&hellip;</td><td>&hellip;</td><td>&hellip;</td><td>&hellip;</td><td>&hellip;</td><td>&hellip;</td><td>&hellip;</td></tr><tr><td>100047076</td><td>&quot;Cyberia SmartH…</td><td>2002.0</td><td>&quot;RM 1 400 per m…</td><td>&quot;Selangor - Cyb…</td><td>&quot;Condominium&quot;</td><td>&quot;4.0&quot;</td><td>1.0</td><td>3.0</td><td>&quot;1600 sq.ft.&quot;</td><td>&quot;Not Furnished&quot;</td><td>&quot;Parking, Secur…</td><td>&quot;Cooking Allowe…</td><td>&quot;Selangor&quot;</td></tr><tr><td>100493961</td><td>&quot;Residensi Lili…</td><td>null</td><td>&quot;RM 2 000 per m…</td><td>&quot;Selangor - Sep…</td><td>&quot;Condominium&quot;</td><td>&quot;4.0&quot;</td><td>2.0</td><td>4.0</td><td>&quot;1450 sq.ft.&quot;</td><td>&quot;Not Furnished&quot;</td><td>&quot;Parking, Secur…</td><td>&quot;Cooking Allowe…</td><td>&quot;Selangor&quot;</td></tr><tr><td>100047477</td><td>&quot;The Domain @ N…</td><td>2009.0</td><td>&quot;RM 1 200 per m…</td><td>&quot;Selangor - Cyb…</td><td>&quot;Service Reside…</td><td>&quot;2.0&quot;</td><td>1.0</td><td>2.0</td><td>&quot;780 sq.ft.&quot;</td><td>&quot;Fully Furnishe…</td><td>&quot;Parking, Secur…</td><td>&quot;Air-Cond, Cook…</td><td>&quot;Selangor&quot;</td></tr><tr><td>100493587</td><td>&quot;Permai Villa&quot;</td><td>null</td><td>&quot;RM 1 100 per m…</td><td>&quot;Selangor - Puc…</td><td>&quot;Apartment&quot;</td><td>&quot;3.0&quot;</td><td>1.0</td><td>2.0</td><td>&quot;941 sq.ft.&quot;</td><td>&quot;Partially Furn…</td><td>&quot;Parking, Minim…</td><td>null</td><td>&quot;Selangor&quot;</td></tr><tr><td>100493626</td><td>&quot;Lakefront Home…</td><td>2021.0</td><td>&quot;RM 885 per mon…</td><td>&quot;Selangor - Cyb…</td><td>&quot;Condominium&quot;</td><td>&quot;3.0&quot;</td><td>2.0</td><td>2.0</td><td>&quot;1015 sq.ft.&quot;</td><td>&quot;Partially Furn…</td><td>&quot;Parking, Secur…</td><td>&quot;Cooking Allowe…</td><td>&quot;Selangor&quot;</td></tr><tr><td>100493771</td><td>&quot;BSP Skypark Se…</td><td>null</td><td>&quot;RM 1 800 per m…</td><td>&quot;Selangor - Kua…</td><td>&quot;Service Reside…</td><td>&quot;4.0&quot;</td><td>3.0</td><td>3.0</td><td>&quot;1261 sq.ft.&quot;</td><td>&quot;Partially Furn…</td><td>&quot;Gymnasium, Min…</td><td>&quot;Air-Cond, Cook…</td><td>&quot;Selangor&quot;</td></tr><tr><td>100305654</td><td>&quot;Tiara Imperio …</td><td>2019.0</td><td>&quot;RM 1 500 per m…</td><td>&quot;Selangor - Kaj…</td><td>&quot;Service Reside…</td><td>&quot;2.0&quot;</td><td>2.0</td><td>1.0</td><td>&quot;455 sq.ft.&quot;</td><td>&quot;Fully Furnishe…</td><td>null</td><td>&quot;Air-Cond&quot;</td><td>&quot;Selangor&quot;</td></tr><tr><td>100493687</td><td>&quot;Pangsapuri Gap…</td><td>null</td><td>&quot;RM 1 200 per m…</td><td>&quot;Selangor - Kaj…</td><td>&quot;Apartment&quot;</td><td>&quot;3.0&quot;</td><td>null</td><td>2.0</td><td>&quot;1000 sq.ft.&quot;</td><td>&quot;Partially Furn…</td><td>&quot;Security, Park…</td><td>&quot;Near KTM/LRT&quot;</td><td>&quot;Selangor&quot;</td></tr><tr><td>100371347</td><td>&quot;BSP 21&quot;</td><td>2018.0</td><td>&quot;RM 1 300 per m…</td><td>&quot;Selangor - Ban…</td><td>&quot;Service Reside…</td><td>&quot;4.0&quot;</td><td>2.0</td><td>3.0</td><td>&quot;1427 sq.ft.&quot;</td><td>&quot;Partially Furn…</td><td>&quot;Jogging Track,…</td><td>&quot;Air-Cond, Cook…</td><td>&quot;Selangor&quot;</td></tr><tr><td>100493228</td><td>&quot;Ameera Residen…</td><td>null</td><td>&quot;RM 1 350 per m…</td><td>&quot;Selangor - Kaj…</td><td>&quot;Condominium&quot;</td><td>&quot;3.0&quot;</td><td>2.0</td><td>2.0</td><td>&quot;1270 sq.ft.&quot;</td><td>&quot;Partially Furn…</td><td>&quot;Parking, Secur…</td><td>&quot;Air-Cond, Cook…</td><td>&quot;Selangor&quot;</td></tr><tr><td>100235153</td><td>&quot;The Arc @ Cybe…</td><td>null</td><td>&quot;RM 1 200 per m…</td><td>&quot;Selangor - Cyb…</td><td>&quot;Service Reside…</td><td>&quot;3.0&quot;</td><td>1.0</td><td>2.0</td><td>&quot;1100 sq.ft.&quot;</td><td>&quot;Fully Furnishe…</td><td>&quot;Parking, Secur…</td><td>&quot;Cooking Allowe…</td><td>&quot;Selangor&quot;</td></tr><tr><td>100235168</td><td>&quot;Tamarind Suite…</td><td>2016.0</td><td>&quot;RM 1 000 per m…</td><td>&quot;Selangor - Cyb…</td><td>&quot;Studio&quot;</td><td>&quot;1.0&quot;</td><td>1.0</td><td>1.0</td><td>&quot;580 sq.ft.&quot;</td><td>&quot;Partially Furn…</td><td>&quot;Parking, Secur…</td><td>&quot;Air-Cond, Cook…</td><td>&quot;Selangor&quot;</td></tr></tbody></table></div>"
      ],
      "text/plain": [
       "shape: (19_991, 14)\n",
       "┌────────────┬─────────┬────────────┬────────────┬───┬─────────┬──────────┬────────────┬───────────┐\n",
       "│ ads_id     ┆ prop_na ┆ completion ┆ monthly_re ┆ … ┆ furnish ┆ faciliti ┆ additional ┆ region    │\n",
       "│ ---        ┆ me      ┆ _year      ┆ nt         ┆   ┆ ed      ┆ es       ┆ _facilitie ┆ ---       │\n",
       "│ i64        ┆ ---     ┆ ---        ┆ ---        ┆   ┆ ---     ┆ ---      ┆ s          ┆ str       │\n",
       "│            ┆ str     ┆ f64        ┆ str        ┆   ┆ str     ┆ str      ┆ ---        ┆           │\n",
       "│            ┆         ┆            ┆            ┆   ┆         ┆          ┆ str        ┆           │\n",
       "╞════════════╪═════════╪════════════╪════════════╪═══╪═════════╪══════════╪════════════╪═══════════╡\n",
       "│ 100323185  ┆ The     ┆ 2022.0     ┆ RM 4 200   ┆ … ┆ Fully   ┆ Minimart ┆ Air-Cond,  ┆ Kuala     │\n",
       "│            ┆ Hipster ┆            ┆ per month  ┆   ┆ Furnish ┆ , Gymnas ┆ Cooking    ┆ Lumpur    │\n",
       "│            ┆ @ Taman ┆            ┆            ┆   ┆ ed      ┆ ium, Sec ┆ Allowed,   ┆           │\n",
       "│            ┆ Desa    ┆            ┆            ┆   ┆         ┆ urity,   ┆ Washi…     ┆           │\n",
       "│            ┆         ┆            ┆            ┆   ┆         ┆ P…       ┆            ┆           │\n",
       "│ 100203973  ┆ Segar   ┆ null       ┆ RM 2 300   ┆ … ┆ Partial ┆ Playgrou ┆ Air-Cond,  ┆ Kuala     │\n",
       "│            ┆ Courts  ┆            ┆ per month  ┆   ┆ ly Furn ┆ nd,      ┆ Cooking    ┆ Lumpur    │\n",
       "│            ┆         ┆            ┆            ┆   ┆ ished   ┆ Parking, ┆ Allowed,   ┆           │\n",
       "│            ┆         ┆            ┆            ┆   ┆         ┆ Barbeque ┆ Near …     ┆           │\n",
       "│            ┆         ┆            ┆            ┆   ┆         ┆ ar…      ┆            ┆           │\n",
       "│ 100323128  ┆ Pangsap ┆ null       ┆ RM 1 000   ┆ … ┆ Fully   ┆ Minimart ┆ null       ┆ Kuala     │\n",
       "│            ┆ uri     ┆            ┆ per month  ┆   ┆ Furnish ┆ ,        ┆            ┆ Lumpur    │\n",
       "│            ┆ Teratak ┆            ┆            ┆   ┆ ed      ┆ Jogging  ┆            ┆           │\n",
       "│            ┆ Muhibba ┆            ┆            ┆   ┆         ┆ Track,   ┆            ┆           │\n",
       "│            ┆ h 2     ┆            ┆            ┆   ┆         ┆ Lift, S… ┆            ┆           │\n",
       "│ 100191767  ┆ Sentul  ┆ 2020.0     ┆ RM 1 700   ┆ … ┆ Partial ┆ Parking, ┆ Cooking    ┆ Kuala     │\n",
       "│            ┆ Point   ┆            ┆ per month  ┆   ┆ ly Furn ┆ Playgrou ┆ Allowed,   ┆ Lumpur    │\n",
       "│            ┆ Suite   ┆            ┆            ┆   ┆ ished   ┆ nd,      ┆ Near       ┆           │\n",
       "│            ┆ Apartme ┆            ┆            ┆   ┆         ┆ Swimming ┆ KTM/LRT,   ┆           │\n",
       "│            ┆ nt      ┆            ┆            ┆   ┆         ┆ Po…      ┆ W…         ┆           │\n",
       "│ …          ┆ …       ┆ …          ┆ …          ┆ … ┆ …       ┆ …        ┆ …          ┆ …         │\n",
       "│ 100371347  ┆ BSP 21  ┆ 2018.0     ┆ RM 1 300   ┆ … ┆ Partial ┆ Jogging  ┆ Air-Cond,  ┆ Selangor  │\n",
       "│            ┆         ┆            ┆ per month  ┆   ┆ ly Furn ┆ Track,   ┆ Cooking    ┆           │\n",
       "│            ┆         ┆            ┆            ┆   ┆ ished   ┆ Barbeque ┆ Allowed    ┆           │\n",
       "│            ┆         ┆            ┆            ┆   ┆         ┆ area,    ┆            ┆           │\n",
       "│            ┆         ┆            ┆            ┆   ┆         ┆ Pl…      ┆            ┆           │\n",
       "│ 100493228  ┆ Ameera  ┆ null       ┆ RM 1 350   ┆ … ┆ Partial ┆ Parking, ┆ Air-Cond,  ┆ Selangor  │\n",
       "│            ┆ Residen ┆            ┆ per month  ┆   ┆ ly Furn ┆ Security ┆ Cooking    ┆           │\n",
       "│            ┆ ce      ┆            ┆            ┆   ┆ ished   ┆ , Lift,  ┆ Allowed,   ┆           │\n",
       "│            ┆         ┆            ┆            ┆   ┆         ┆ Swimmin… ┆ Washi…     ┆           │\n",
       "│ 100235153  ┆ The Arc ┆ null       ┆ RM 1 200   ┆ … ┆ Fully   ┆ Parking, ┆ Cooking    ┆ Selangor  │\n",
       "│            ┆ @ Cyber ┆            ┆ per month  ┆   ┆ Furnish ┆ Security ┆ Allowed,   ┆           │\n",
       "│            ┆ jaya    ┆            ┆            ┆   ┆ ed      ┆ , Lift,  ┆ Washing    ┆           │\n",
       "│            ┆         ┆            ┆            ┆   ┆         ┆ Swimmin… ┆ Machine    ┆           │\n",
       "│ 100235168  ┆ Tamarin ┆ 2016.0     ┆ RM 1 000   ┆ … ┆ Partial ┆ Parking, ┆ Air-Cond,  ┆ Selangor  │\n",
       "│            ┆ d       ┆            ┆ per month  ┆   ┆ ly Furn ┆ Security ┆ Cooking    ┆           │\n",
       "│            ┆ Suites  ┆            ┆            ┆   ┆ ished   ┆ , Lift,  ┆ Allowed,   ┆           │\n",
       "│            ┆ @ Cyber ┆            ┆            ┆   ┆         ┆ Swimmin… ┆ Washi…     ┆           │\n",
       "│            ┆ jaya    ┆            ┆            ┆   ┆         ┆          ┆            ┆           │\n",
       "└────────────┴─────────┴────────────┴────────────┴───┴─────────┴──────────┴────────────┴───────────┘"
      ]
     },
     "execution_count": 4,
     "metadata": {},
     "output_type": "execute_result"
    }
   ],
   "source": [
    "df"
   ]
  },
  {
   "cell_type": "markdown",
   "id": "cece6837-1a45-4901-91a0-4644b7c70883",
   "metadata": {},
   "source": [
    "##### Data Description"
   ]
  },
  {
   "cell_type": "code",
   "execution_count": 5,
   "id": "328174cf-4d3e-4d4b-9e33-6bd983e10416",
   "metadata": {},
   "outputs": [
    {
     "data": {
      "text/html": [
       "<div><style>\n",
       ".dataframe > thead > tr > th,\n",
       ".dataframe > tbody > tr > td {\n",
       "  text-align: right;\n",
       "}\n",
       "</style>\n",
       "<small>shape: (7, 15)</small><table border=\"1\" class=\"dataframe\"><thead><tr><th>describe</th><th>ads_id</th><th>prop_name</th><th>completion_year</th><th>monthly_rent</th><th>location</th><th>property_type</th><th>rooms</th><th>parking</th><th>bathroom</th><th>size</th><th>furnished</th><th>facilities</th><th>additional_facilities</th><th>region</th></tr><tr><td>str</td><td>f64</td><td>str</td><td>f64</td><td>str</td><td>str</td><td>str</td><td>str</td><td>f64</td><td>f64</td><td>str</td><td>str</td><td>str</td><td>str</td><td>str</td></tr></thead><tbody><tr><td>&quot;count&quot;</td><td>19991.0</td><td>&quot;19991&quot;</td><td>19991.0</td><td>&quot;19991&quot;</td><td>&quot;19991&quot;</td><td>&quot;19991&quot;</td><td>&quot;19991&quot;</td><td>19991.0</td><td>19991.0</td><td>&quot;19991&quot;</td><td>&quot;19991&quot;</td><td>&quot;19991&quot;</td><td>&quot;19991&quot;</td><td>&quot;19991&quot;</td></tr><tr><td>&quot;null_count&quot;</td><td>0.0</td><td>&quot;948&quot;</td><td>9185.0</td><td>&quot;2&quot;</td><td>&quot;0&quot;</td><td>&quot;0&quot;</td><td>&quot;6&quot;</td><td>5702.0</td><td>6.0</td><td>&quot;0&quot;</td><td>&quot;5&quot;</td><td>&quot;2209&quot;</td><td>&quot;5948&quot;</td><td>&quot;0&quot;</td></tr><tr><td>&quot;mean&quot;</td><td>9.9707e7</td><td>null</td><td>2014.822321</td><td>null</td><td>null</td><td>null</td><td>null</td><td>1.416824</td><td>1.891719</td><td>null</td><td>null</td><td>null</td><td>null</td><td>null</td></tr><tr><td>&quot;std&quot;</td><td>3.4826e6</td><td>null</td><td>6.735355</td><td>null</td><td>null</td><td>null</td><td>null</td><td>0.567368</td><td>0.556266</td><td>null</td><td>null</td><td>null</td><td>null</td><td>null</td></tr><tr><td>&quot;min&quot;</td><td>1.6525511e7</td><td>&quot;1 Harmonis&quot;</td><td>1977.0</td><td>&quot;RM 1 000 per m…</td><td>&quot;Kuala Lumpur -…</td><td>&quot;Apartment&quot;</td><td>&quot;1&quot;</td><td>1.0</td><td>1.0</td><td>&quot;1 sq.ft.&quot;</td><td>&quot;Fully Furnishe…</td><td>&quot;Barbeque area&quot;</td><td>&quot;, Air-Cond, Co…</td><td>&quot;Kuala Lumpur&quot;</td></tr><tr><td>&quot;max&quot;</td><td>1.00854617e8</td><td>&quot;wangsa maju se…</td><td>2025.0</td><td>&quot;RM 999 per mon…</td><td>&quot;Selangor - Ulu…</td><td>&quot;Townhouse Cond…</td><td>&quot;More than 10&quot;</td><td>10.0</td><td>8.0</td><td>&quot;99999999 sq.ft…</td><td>&quot;Partially Furn…</td><td>&quot;Tennis Court, …</td><td>&quot;Washing Machin…</td><td>&quot;Selangor&quot;</td></tr><tr><td>&quot;median&quot;</td><td>1.00212678e8</td><td>null</td><td>2017.0</td><td>null</td><td>null</td><td>null</td><td>null</td><td>1.0</td><td>2.0</td><td>null</td><td>null</td><td>null</td><td>null</td><td>null</td></tr></tbody></table></div>"
      ],
      "text/plain": [
       "shape: (7, 15)\n",
       "┌───────────┬───────────┬─────────┬────────────┬───┬───────────┬──────────┬────────────┬───────────┐\n",
       "│ describe  ┆ ads_id    ┆ prop_na ┆ completion ┆ … ┆ furnished ┆ faciliti ┆ additional ┆ region    │\n",
       "│ ---       ┆ ---       ┆ me      ┆ _year      ┆   ┆ ---       ┆ es       ┆ _facilitie ┆ ---       │\n",
       "│ str       ┆ f64       ┆ ---     ┆ ---        ┆   ┆ str       ┆ ---      ┆ s          ┆ str       │\n",
       "│           ┆           ┆ str     ┆ f64        ┆   ┆           ┆ str      ┆ ---        ┆           │\n",
       "│           ┆           ┆         ┆            ┆   ┆           ┆          ┆ str        ┆           │\n",
       "╞═══════════╪═══════════╪═════════╪════════════╪═══╪═══════════╪══════════╪════════════╪═══════════╡\n",
       "│ count     ┆ 19991.0   ┆ 19991   ┆ 19991.0    ┆ … ┆ 19991     ┆ 19991    ┆ 19991      ┆ 19991     │\n",
       "│ null_coun ┆ 0.0       ┆ 948     ┆ 9185.0     ┆ … ┆ 5         ┆ 2209     ┆ 5948       ┆ 0         │\n",
       "│ t         ┆           ┆         ┆            ┆   ┆           ┆          ┆            ┆           │\n",
       "│ mean      ┆ 9.9707e7  ┆ null    ┆ 2014.82232 ┆ … ┆ null      ┆ null     ┆ null       ┆ null      │\n",
       "│           ┆           ┆         ┆ 1          ┆   ┆           ┆          ┆            ┆           │\n",
       "│ std       ┆ 3.4826e6  ┆ null    ┆ 6.735355   ┆ … ┆ null      ┆ null     ┆ null       ┆ null      │\n",
       "│ min       ┆ 1.6525511 ┆ 1 Harmo ┆ 1977.0     ┆ … ┆ Fully     ┆ Barbeque ┆ ,          ┆ Kuala     │\n",
       "│           ┆ e7        ┆ nis     ┆            ┆   ┆ Furnished ┆ area     ┆ Air-Cond,  ┆ Lumpur    │\n",
       "│           ┆           ┆         ┆            ┆   ┆           ┆          ┆ Cooking    ┆           │\n",
       "│           ┆           ┆         ┆            ┆   ┆           ┆          ┆ Allowed,   ┆           │\n",
       "│           ┆           ┆         ┆            ┆   ┆           ┆          ┆ Nea…       ┆           │\n",
       "│ max       ┆ 1.0085461 ┆ wangsa  ┆ 2025.0     ┆ … ┆ Partially ┆ Tennis   ┆ Washing    ┆ Selangor  │\n",
       "│           ┆ 7e8       ┆ maju    ┆            ┆   ┆ Furnished ┆ Court,   ┆ Machine,   ┆           │\n",
       "│           ┆           ┆ section ┆            ┆   ┆           ┆ Swimming ┆ Near       ┆           │\n",
       "│           ┆           ┆ 2       ┆            ┆   ┆           ┆ Pool,    ┆ KTM/LRT,   ┆           │\n",
       "│           ┆           ┆         ┆            ┆   ┆           ┆ Squ…     ┆ I…         ┆           │\n",
       "│ median    ┆ 1.0021267 ┆ null    ┆ 2017.0     ┆ … ┆ null      ┆ null     ┆ null       ┆ null      │\n",
       "│           ┆ 8e8       ┆         ┆            ┆   ┆           ┆          ┆            ┆           │\n",
       "└───────────┴───────────┴─────────┴────────────┴───┴───────────┴──────────┴────────────┴───────────┘"
      ]
     },
     "execution_count": 5,
     "metadata": {},
     "output_type": "execute_result"
    }
   ],
   "source": [
    "df.describe()"
   ]
  },
  {
   "cell_type": "markdown",
   "id": "c9e8bb60-c214-4616-8bbe-744a47020f51",
   "metadata": {},
   "source": [
    "##### Only select house in Kuala Lumpur Region"
   ]
  },
  {
   "cell_type": "raw",
   "id": "364fdb94-15b4-4777-af55-2cad5e1da24e",
   "metadata": {},
   "source": [
    "df = df.filter(pl.col(\"region\") == \"Kuala Lumpur\")"
   ]
  },
  {
   "cell_type": "markdown",
   "id": "215ac31c-2867-4c2b-8718-b8882e72d8e2",
   "metadata": {},
   "source": [
    "##### Drop Duplicate"
   ]
  },
  {
   "cell_type": "code",
   "execution_count": 6,
   "id": "3c9f3cf3-78ab-427f-83c5-82fd6ef99d29",
   "metadata": {},
   "outputs": [
    {
     "data": {
      "text/html": [
       "<div><style>\n",
       ".dataframe > thead > tr > th,\n",
       ".dataframe > tbody > tr > td {\n",
       "  text-align: right;\n",
       "}\n",
       "</style>\n",
       "<small>shape: (16, 14)</small><table border=\"1\" class=\"dataframe\"><thead><tr><th>ads_id</th><th>prop_name</th><th>completion_year</th><th>monthly_rent</th><th>location</th><th>property_type</th><th>rooms</th><th>parking</th><th>bathroom</th><th>size</th><th>furnished</th><th>facilities</th><th>additional_facilities</th><th>region</th></tr><tr><td>i64</td><td>str</td><td>f64</td><td>str</td><td>str</td><td>str</td><td>str</td><td>f64</td><td>f64</td><td>str</td><td>str</td><td>str</td><td>str</td><td>str</td></tr></thead><tbody><tr><td>100828884</td><td>&quot;Saville @ Cher…</td><td>2019.0</td><td>&quot;RM 1 800 per m…</td><td>&quot;Selangor - Che…</td><td>&quot;Service Reside…</td><td>&quot;2.0&quot;</td><td>1.0</td><td>1.0</td><td>&quot;1367 sq.ft.&quot;</td><td>&quot;Fully Furnishe…</td><td>&quot;Gymnasium, Squ…</td><td>&quot;Air-Cond, Cook…</td><td>&quot;Selangor&quot;</td></tr><tr><td>100828884</td><td>&quot;Saville @ Cher…</td><td>2019.0</td><td>&quot;RM 1 800 per m…</td><td>&quot;Selangor - Che…</td><td>&quot;Service Reside…</td><td>&quot;2.0&quot;</td><td>1.0</td><td>1.0</td><td>&quot;1367 sq.ft.&quot;</td><td>&quot;Fully Furnishe…</td><td>&quot;Gymnasium, Squ…</td><td>&quot;Air-Cond, Cook…</td><td>&quot;Selangor&quot;</td></tr><tr><td>100822848</td><td>&quot;Taming Mutiara…</td><td>null</td><td>&quot;RM 1 200 per m…</td><td>&quot;Selangor - Ban…</td><td>&quot;Apartment&quot;</td><td>&quot;3.0&quot;</td><td>2.0</td><td>2.0</td><td>&quot;986 sq.ft.&quot;</td><td>&quot;Fully Furnishe…</td><td>&quot;Parking, Secur…</td><td>&quot;Cooking Allowe…</td><td>&quot;Selangor&quot;</td></tr><tr><td>100822848</td><td>&quot;Taming Mutiara…</td><td>null</td><td>&quot;RM 1 200 per m…</td><td>&quot;Selangor - Ban…</td><td>&quot;Apartment&quot;</td><td>&quot;3.0&quot;</td><td>2.0</td><td>2.0</td><td>&quot;986 sq.ft.&quot;</td><td>&quot;Fully Furnishe…</td><td>&quot;Parking, Secur…</td><td>&quot;Cooking Allowe…</td><td>&quot;Selangor&quot;</td></tr><tr><td>100800319</td><td>&quot;Greenfield Res…</td><td>2021.0</td><td>&quot;RM 1 500 per m…</td><td>&quot;Selangor - Ban…</td><td>&quot;Service Reside…</td><td>&quot;2.0&quot;</td><td>1.0</td><td>1.0</td><td>&quot;581 sq.ft.&quot;</td><td>&quot;Partially Furn…</td><td>&quot;Jogging Track,…</td><td>&quot;Air-Cond, Cook…</td><td>&quot;Selangor&quot;</td></tr><tr><td>100800319</td><td>&quot;Greenfield Res…</td><td>2021.0</td><td>&quot;RM 1 500 per m…</td><td>&quot;Selangor - Ban…</td><td>&quot;Service Reside…</td><td>&quot;2.0&quot;</td><td>1.0</td><td>1.0</td><td>&quot;581 sq.ft.&quot;</td><td>&quot;Partially Furn…</td><td>&quot;Jogging Track,…</td><td>&quot;Air-Cond, Cook…</td><td>&quot;Selangor&quot;</td></tr><tr><td>100786964</td><td>&quot;Desa Saujana&quot;</td><td>null</td><td>&quot;RM 900 per mon…</td><td>&quot;Selangor - Ser…</td><td>&quot;Apartment&quot;</td><td>&quot;3.0&quot;</td><td>1.0</td><td>2.0</td><td>&quot;850 sq.ft.&quot;</td><td>&quot;Fully Furnishe…</td><td>&quot;Parking, Gymna…</td><td>&quot;Cooking Allowe…</td><td>&quot;Selangor&quot;</td></tr><tr><td>100786964</td><td>&quot;Desa Saujana&quot;</td><td>null</td><td>&quot;RM 900 per mon…</td><td>&quot;Selangor - Ser…</td><td>&quot;Apartment&quot;</td><td>&quot;3.0&quot;</td><td>1.0</td><td>2.0</td><td>&quot;850 sq.ft.&quot;</td><td>&quot;Fully Furnishe…</td><td>&quot;Parking, Gymna…</td><td>&quot;Cooking Allowe…</td><td>&quot;Selangor&quot;</td></tr><tr><td>100691270</td><td>&quot;Sri Sunway Apa…</td><td>2002.0</td><td>&quot;RM 950 per mon…</td><td>&quot;Selangor - Puc…</td><td>&quot;Apartment&quot;</td><td>&quot;3.0&quot;</td><td>1.0</td><td>2.0</td><td>&quot;823 sq.ft.&quot;</td><td>&quot;Partially Furn…</td><td>&quot;Security, Play…</td><td>&quot;Air-Cond, Cook…</td><td>&quot;Selangor&quot;</td></tr><tr><td>100691270</td><td>&quot;Sri Sunway Apa…</td><td>2002.0</td><td>&quot;RM 950 per mon…</td><td>&quot;Selangor - Puc…</td><td>&quot;Apartment&quot;</td><td>&quot;3.0&quot;</td><td>1.0</td><td>2.0</td><td>&quot;823 sq.ft.&quot;</td><td>&quot;Partially Furn…</td><td>&quot;Security, Play…</td><td>&quot;Air-Cond, Cook…</td><td>&quot;Selangor&quot;</td></tr><tr><td>100640316</td><td>&quot;Hill10 Residen…</td><td>null</td><td>&quot;RM 2 500 per m…</td><td>&quot;Selangor - Sha…</td><td>&quot;Service Reside…</td><td>&quot;2.0&quot;</td><td>null</td><td>1.0</td><td>&quot;602 sq.ft.&quot;</td><td>&quot;Fully Furnishe…</td><td>&quot;Gymnasium, Bar…</td><td>null</td><td>&quot;Selangor&quot;</td></tr><tr><td>100640316</td><td>&quot;Hill10 Residen…</td><td>null</td><td>&quot;RM 2 500 per m…</td><td>&quot;Selangor - Sha…</td><td>&quot;Service Reside…</td><td>&quot;2.0&quot;</td><td>null</td><td>1.0</td><td>&quot;602 sq.ft.&quot;</td><td>&quot;Fully Furnishe…</td><td>&quot;Gymnasium, Bar…</td><td>null</td><td>&quot;Selangor&quot;</td></tr><tr><td>100304102</td><td>&quot;Impiria Reside…</td><td>2018.0</td><td>&quot;RM 3 300 per m…</td><td>&quot;Selangor - Kla…</td><td>&quot;Service Reside…</td><td>&quot;4.0&quot;</td><td>null</td><td>3.0</td><td>&quot;1312 sq.ft.&quot;</td><td>&quot;Fully Furnishe…</td><td>&quot;Minimart, Gymn…</td><td>null</td><td>&quot;Selangor&quot;</td></tr><tr><td>100304102</td><td>&quot;Impiria Reside…</td><td>2018.0</td><td>&quot;RM 3 300 per m…</td><td>&quot;Selangor - Kla…</td><td>&quot;Service Reside…</td><td>&quot;4.0&quot;</td><td>null</td><td>3.0</td><td>&quot;1312 sq.ft.&quot;</td><td>&quot;Fully Furnishe…</td><td>&quot;Minimart, Gymn…</td><td>null</td><td>&quot;Selangor&quot;</td></tr><tr><td>100108343</td><td>&quot;The Glenz @ Gl…</td><td>null</td><td>&quot;RM 1 800 per m…</td><td>&quot;Selangor - Set…</td><td>&quot;Service Reside…</td><td>&quot;2.0&quot;</td><td>null</td><td>2.0</td><td>&quot;800 sq.ft.&quot;</td><td>&quot;Partially Furn…</td><td>null</td><td>null</td><td>&quot;Selangor&quot;</td></tr><tr><td>100108343</td><td>&quot;The Glenz @ Gl…</td><td>null</td><td>&quot;RM 1 800 per m…</td><td>&quot;Selangor - Set…</td><td>&quot;Service Reside…</td><td>&quot;2.0&quot;</td><td>null</td><td>2.0</td><td>&quot;800 sq.ft.&quot;</td><td>&quot;Partially Furn…</td><td>null</td><td>null</td><td>&quot;Selangor&quot;</td></tr></tbody></table></div>"
      ],
      "text/plain": [
       "shape: (16, 14)\n",
       "┌───────────┬───────────┬────────────┬────────────┬───┬─────────┬──────────┬────────────┬──────────┐\n",
       "│ ads_id    ┆ prop_name ┆ completion ┆ monthly_re ┆ … ┆ furnish ┆ faciliti ┆ additional ┆ region   │\n",
       "│ ---       ┆ ---       ┆ _year      ┆ nt         ┆   ┆ ed      ┆ es       ┆ _facilitie ┆ ---      │\n",
       "│ i64       ┆ str       ┆ ---        ┆ ---        ┆   ┆ ---     ┆ ---      ┆ s          ┆ str      │\n",
       "│           ┆           ┆ f64        ┆ str        ┆   ┆ str     ┆ str      ┆ ---        ┆          │\n",
       "│           ┆           ┆            ┆            ┆   ┆         ┆          ┆ str        ┆          │\n",
       "╞═══════════╪═══════════╪════════════╪════════════╪═══╪═════════╪══════════╪════════════╪══════════╡\n",
       "│ 100828884 ┆ Saville @ ┆ 2019.0     ┆ RM 1 800   ┆ … ┆ Fully   ┆ Gymnasiu ┆ Air-Cond,  ┆ Selangor │\n",
       "│           ┆ Cheras    ┆            ┆ per month  ┆   ┆ Furnish ┆ m,       ┆ Cooking    ┆          │\n",
       "│           ┆           ┆            ┆            ┆   ┆ ed      ┆ Squash   ┆ Allowed,   ┆          │\n",
       "│           ┆           ┆            ┆            ┆   ┆         ┆ Court,   ┆ Near …     ┆          │\n",
       "│           ┆           ┆            ┆            ┆   ┆         ┆ Swimmin… ┆            ┆          │\n",
       "│ 100828884 ┆ Saville @ ┆ 2019.0     ┆ RM 1 800   ┆ … ┆ Fully   ┆ Gymnasiu ┆ Air-Cond,  ┆ Selangor │\n",
       "│           ┆ Cheras    ┆            ┆ per month  ┆   ┆ Furnish ┆ m,       ┆ Cooking    ┆          │\n",
       "│           ┆           ┆            ┆            ┆   ┆ ed      ┆ Squash   ┆ Allowed,   ┆          │\n",
       "│           ┆           ┆            ┆            ┆   ┆         ┆ Court,   ┆ Near …     ┆          │\n",
       "│           ┆           ┆            ┆            ┆   ┆         ┆ Swimmin… ┆            ┆          │\n",
       "│ 100822848 ┆ Taming    ┆ null       ┆ RM 1 200   ┆ … ┆ Fully   ┆ Parking, ┆ Cooking    ┆ Selangor │\n",
       "│           ┆ Mutiara   ┆            ┆ per month  ┆   ┆ Furnish ┆ Security ┆ Allowed,   ┆          │\n",
       "│           ┆           ┆            ┆            ┆   ┆ ed      ┆ , Lift,  ┆ Washing    ┆          │\n",
       "│           ┆           ┆            ┆            ┆   ┆         ┆ Playgro… ┆ Machine    ┆          │\n",
       "│ 100822848 ┆ Taming    ┆ null       ┆ RM 1 200   ┆ … ┆ Fully   ┆ Parking, ┆ Cooking    ┆ Selangor │\n",
       "│           ┆ Mutiara   ┆            ┆ per month  ┆   ┆ Furnish ┆ Security ┆ Allowed,   ┆          │\n",
       "│           ┆           ┆            ┆            ┆   ┆ ed      ┆ , Lift,  ┆ Washing    ┆          │\n",
       "│           ┆           ┆            ┆            ┆   ┆         ┆ Playgro… ┆ Machine    ┆          │\n",
       "│ …         ┆ …         ┆ …          ┆ …          ┆ … ┆ …       ┆ …        ┆ …          ┆ …        │\n",
       "│ 100304102 ┆ Impiria   ┆ 2018.0     ┆ RM 3 300   ┆ … ┆ Fully   ┆ Minimart ┆ null       ┆ Selangor │\n",
       "│           ┆ Residensi ┆            ┆ per month  ┆   ┆ Furnish ┆ , Gymnas ┆            ┆          │\n",
       "│           ┆ Bukit     ┆            ┆            ┆   ┆ ed      ┆ ium, Sec ┆            ┆          │\n",
       "│           ┆ Tinggi K… ┆            ┆            ┆   ┆         ┆ urity,   ┆            ┆          │\n",
       "│           ┆           ┆            ┆            ┆   ┆         ┆ P…       ┆            ┆          │\n",
       "│ 100304102 ┆ Impiria   ┆ 2018.0     ┆ RM 3 300   ┆ … ┆ Fully   ┆ Minimart ┆ null       ┆ Selangor │\n",
       "│           ┆ Residensi ┆            ┆ per month  ┆   ┆ Furnish ┆ , Gymnas ┆            ┆          │\n",
       "│           ┆ Bukit     ┆            ┆            ┆   ┆ ed      ┆ ium, Sec ┆            ┆          │\n",
       "│           ┆ Tinggi K… ┆            ┆            ┆   ┆         ┆ urity,   ┆            ┆          │\n",
       "│           ┆           ┆            ┆            ┆   ┆         ┆ P…       ┆            ┆          │\n",
       "│ 100108343 ┆ The Glenz ┆ null       ┆ RM 1 800   ┆ … ┆ Partial ┆ null     ┆ null       ┆ Selangor │\n",
       "│           ┆ @         ┆            ┆ per month  ┆   ┆ ly Furn ┆          ┆            ┆          │\n",
       "│           ┆ Glenmarie ┆            ┆            ┆   ┆ ished   ┆          ┆            ┆          │\n",
       "│ 100108343 ┆ The Glenz ┆ null       ┆ RM 1 800   ┆ … ┆ Partial ┆ null     ┆ null       ┆ Selangor │\n",
       "│           ┆ @         ┆            ┆ per month  ┆   ┆ ly Furn ┆          ┆            ┆          │\n",
       "│           ┆ Glenmarie ┆            ┆            ┆   ┆ ished   ┆          ┆            ┆          │\n",
       "└───────────┴───────────┴────────────┴────────────┴───┴─────────┴──────────┴────────────┴──────────┘"
      ]
     },
     "execution_count": 6,
     "metadata": {},
     "output_type": "execute_result"
    }
   ],
   "source": [
    "df.filter(df.is_duplicated())"
   ]
  },
  {
   "cell_type": "code",
   "execution_count": 7,
   "id": "44055bad-c603-43fa-b96a-3deeff0ede4f",
   "metadata": {},
   "outputs": [],
   "source": [
    "df = df.unique()"
   ]
  },
  {
   "cell_type": "markdown",
   "id": "98061ffa-4c5f-4fd3-86d8-f5adb7ca92f8",
   "metadata": {},
   "source": [
    "##### Extracting Number and Keyword"
   ]
  },
  {
   "cell_type": "code",
   "execution_count": 8,
   "id": "e1c22859-17ce-49e3-92c3-2bb414c009c4",
   "metadata": {},
   "outputs": [],
   "source": [
    "df = df.with_columns(pl.col(\"monthly_rent\").apply(lambda x: int(re.search(r'RM (.*?) per', x).group(1).replace(' ', ''))))\n",
    "df = df.rename({\"monthly_rent\": \"monthly_rent_rm\"})"
   ]
  },
  {
   "cell_type": "code",
   "execution_count": 9,
   "id": "f435eec8-cda9-4ad8-8635-f118384c97e2",
   "metadata": {},
   "outputs": [],
   "source": [
    "df = df.with_columns(pl.col(\"size\").apply(lambda x: int(re.search(r'(.*?) sq', x).group(1).replace(' ', ''))))\n",
    "df = df.rename({'size': 'size_sqft'})"
   ]
  },
  {
   "cell_type": "code",
   "execution_count": 10,
   "id": "1a353d11-29ba-400b-9155-697025d74b74",
   "metadata": {},
   "outputs": [],
   "source": [
    "df = df.with_columns(pl.col(\"location\").apply(lambda x: re.sub(r\"Kuala Lumpur - \\s*\", \"\", x)))"
   ]
  },
  {
   "cell_type": "code",
   "execution_count": 11,
   "id": "c9bd73ef-57ab-40bd-8bfe-ce2584ea3a42",
   "metadata": {},
   "outputs": [],
   "source": [
    "df = df.with_columns(pl.col(\"location\").apply(lambda x: re.sub(r\"Selangor - \\s*\", \"\", x)))"
   ]
  },
  {
   "cell_type": "code",
   "execution_count": 12,
   "id": "28be0e20-d942-4ad0-8611-c47b60b521db",
   "metadata": {},
   "outputs": [
    {
     "data": {
      "text/html": [
       "<div><style>\n",
       ".dataframe > thead > tr > th,\n",
       ".dataframe > tbody > tr > td {\n",
       "  text-align: right;\n",
       "}\n",
       "</style>\n",
       "<small>shape: (19983, 14)</small><table border=\"1\" class=\"dataframe\"><thead><tr><th>ads_id</th><th>prop_name</th><th>completion_year</th><th>monthly_rent_rm</th><th>location</th><th>property_type</th><th>rooms</th><th>parking</th><th>bathroom</th><th>size_sqft</th><th>furnished</th><th>facilities</th><th>additional_facilities</th><th>region</th></tr><tr><td>i64</td><td>str</td><td>f64</td><td>i64</td><td>str</td><td>str</td><td>str</td><td>f64</td><td>f64</td><td>i64</td><td>str</td><td>str</td><td>str</td><td>str</td></tr></thead><tbody><tr><td>100272026</td><td>&quot;Platinum OUG R…</td><td>2021.0</td><td>2500</td><td>&quot;Kuchai Lama&quot;</td><td>&quot;Condominium&quot;</td><td>&quot;3&quot;</td><td>2.0</td><td>2.0</td><td>1200</td><td>&quot;Fully Furnishe…</td><td>&quot;Lift, Security…</td><td>&quot;Air-Cond, Cook…</td><td>&quot;Kuala Lumpur&quot;</td></tr><tr><td>100115899</td><td>&quot;Majestic Maxim…</td><td>2021.0</td><td>1500</td><td>&quot;Cheras&quot;</td><td>&quot;Service Reside…</td><td>&quot;2&quot;</td><td>1.0</td><td>2.0</td><td>650</td><td>&quot;Partially Furn…</td><td>&quot;Gymnasium, Lif…</td><td>&quot;Air-Cond, Cook…</td><td>&quot;Kuala Lumpur&quot;</td></tr><tr><td>100712647</td><td>&quot;Enggang Apartm…</td><td>null</td><td>700</td><td>&quot;Puchong&quot;</td><td>&quot;Apartment&quot;</td><td>&quot;3.0&quot;</td><td>1.0</td><td>2.0</td><td>700</td><td>&quot;Partially Furn…</td><td>&quot;Minimart, Play…</td><td>null</td><td>&quot;Selangor&quot;</td></tr><tr><td>100692936</td><td>&quot;i-Suite @ i-Ci…</td><td>2017.0</td><td>1500</td><td>&quot;I-City&quot;</td><td>&quot;Service Reside…</td><td>&quot;2.0&quot;</td><td>null</td><td>1.0</td><td>600</td><td>&quot;Fully Furnishe…</td><td>&quot;Playground, Sw…</td><td>&quot;Air-Cond, Cook…</td><td>&quot;Selangor&quot;</td></tr><tr><td>100317753</td><td>&quot;Bayu @ Pandan …</td><td>2015.0</td><td>1700</td><td>&quot;Pandan Jaya&quot;</td><td>&quot;Condominium&quot;</td><td>&quot;3&quot;</td><td>1.0</td><td>2.0</td><td>1072</td><td>&quot;Partially Furn…</td><td>&quot;Parking, Playg…</td><td>&quot;Air-Cond, Cook…</td><td>&quot;Kuala Lumpur&quot;</td></tr><tr><td>99882175</td><td>&quot;Serini Melawat…</td><td>2018.0</td><td>1899</td><td>&quot;Taman Melawati…</td><td>&quot;Condominium&quot;</td><td>&quot;2&quot;</td><td>2.0</td><td>1.0</td><td>640</td><td>&quot;Fully Furnishe…</td><td>&quot;Gymnasium, Par…</td><td>null</td><td>&quot;Kuala Lumpur&quot;</td></tr><tr><td>100512371</td><td>&quot;Apartment Perm…</td><td>null</td><td>850</td><td>&quot;Damansara Dama…</td><td>&quot;Apartment&quot;</td><td>&quot;3.0&quot;</td><td>1.0</td><td>2.0</td><td>700</td><td>&quot;Partially Furn…</td><td>&quot;Parking, Minim…</td><td>&quot;Cooking Allowe…</td><td>&quot;Selangor&quot;</td></tr><tr><td>100506682</td><td>&quot;Residensi Bist…</td><td>2013.0</td><td>1200</td><td>&quot;Ampang&quot;</td><td>&quot;Apartment&quot;</td><td>&quot;3.0&quot;</td><td>1.0</td><td>2.0</td><td>850</td><td>&quot;Not Furnished&quot;</td><td>&quot;Security, Mult…</td><td>null</td><td>&quot;Selangor&quot;</td></tr><tr><td>100801530</td><td>&quot;Utropolis Urba…</td><td>2018.0</td><td>850</td><td>&quot;Shah Alam&quot;</td><td>&quot;Condominium&quot;</td><td>&quot;1.0&quot;</td><td>1.0</td><td>1.0</td><td>250</td><td>&quot;Partially Furn…</td><td>&quot;Parking, Gymna…</td><td>&quot;Air-Cond&quot;</td><td>&quot;Selangor&quot;</td></tr><tr><td>100645994</td><td>&quot;Geo@Bukit Rima…</td><td>2020.0</td><td>1600</td><td>&quot;Shah Alam&quot;</td><td>&quot;Condominium&quot;</td><td>&quot;3.0&quot;</td><td>2.0</td><td>2.0</td><td>875</td><td>&quot;Partially Furn…</td><td>&quot;Tennis Court, …</td><td>null</td><td>&quot;Selangor&quot;</td></tr><tr><td>99937412</td><td>&quot;Maxim Residenc…</td><td>2017.0</td><td>1400</td><td>&quot;Cheras&quot;</td><td>&quot;Service Reside…</td><td>&quot;3&quot;</td><td>2.0</td><td>2.0</td><td>1050</td><td>&quot;Partially Furn…</td><td>&quot;Security, Gymn…</td><td>&quot;Air-Cond, Cook…</td><td>&quot;Kuala Lumpur&quot;</td></tr><tr><td>100692624</td><td>&quot;Aman 1&quot;</td><td>2020.0</td><td>1200</td><td>&quot;Shah Alam&quot;</td><td>&quot;Apartment&quot;</td><td>&quot;3.0&quot;</td><td>2.0</td><td>2.0</td><td>870</td><td>&quot;Partially Furn…</td><td>&quot;Barbeque area,…</td><td>&quot;Cooking Allowe…</td><td>&quot;Selangor&quot;</td></tr><tr><td>&hellip;</td><td>&hellip;</td><td>&hellip;</td><td>&hellip;</td><td>&hellip;</td><td>&hellip;</td><td>&hellip;</td><td>&hellip;</td><td>&hellip;</td><td>&hellip;</td><td>&hellip;</td><td>&hellip;</td><td>&hellip;</td><td>&hellip;</td></tr><tr><td>100546246</td><td>&quot;Casa Bluebell,…</td><td>null</td><td>1600</td><td>&quot;Dengkil&quot;</td><td>&quot;Townhouse Cond…</td><td>&quot;3.0&quot;</td><td>1.0</td><td>2.0</td><td>1160</td><td>&quot;Partially Furn…</td><td>&quot;Parking, Swimm…</td><td>null</td><td>&quot;Selangor&quot;</td></tr><tr><td>100824931</td><td>&quot;Main Place Res…</td><td>2014.0</td><td>1400</td><td>&quot;USJ&quot;</td><td>&quot;Service Reside…</td><td>&quot;1.0&quot;</td><td>1.0</td><td>1.0</td><td>450</td><td>&quot;Fully Furnishe…</td><td>&quot;Parking&quot;</td><td>&quot;Air-Cond, Near…</td><td>&quot;Selangor&quot;</td></tr><tr><td>100777381</td><td>&quot;Rampai Idaman&quot;</td><td>null</td><td>300</td><td>&quot;Damansara Dama…</td><td>&quot;Flat&quot;</td><td>&quot;4.0&quot;</td><td>null</td><td>2.0</td><td>650</td><td>&quot;Not Furnished&quot;</td><td>null</td><td>&quot;Internet&quot;</td><td>&quot;Selangor&quot;</td></tr><tr><td>99602057</td><td>&quot;G Residence @ …</td><td>2015.0</td><td>3200</td><td>&quot;Desa Pandan&quot;</td><td>&quot;Service Reside…</td><td>&quot;2&quot;</td><td>2.0</td><td>2.0</td><td>1410</td><td>&quot;Fully Furnishe…</td><td>&quot;Security, Mult…</td><td>&quot;Air-Cond, Cook…</td><td>&quot;Kuala Lumpur&quot;</td></tr><tr><td>99921667</td><td>&quot;Vista Saujana&quot;</td><td>null</td><td>900</td><td>&quot;Kepong&quot;</td><td>&quot;Apartment&quot;</td><td>&quot;3&quot;</td><td>1.0</td><td>2.0</td><td>955</td><td>&quot;Not Furnished&quot;</td><td>&quot;Parking, Swimm…</td><td>&quot;Cooking Allowe…</td><td>&quot;Kuala Lumpur&quot;</td></tr><tr><td>99587338</td><td>&quot;Nadi Bangsar S…</td><td>null</td><td>4600</td><td>&quot;Bangsar&quot;</td><td>&quot;Service Reside…</td><td>&quot;2&quot;</td><td>null</td><td>2.0</td><td>1056</td><td>&quot;Fully Furnishe…</td><td>&quot;Swimming Pool,…</td><td>null</td><td>&quot;Kuala Lumpur&quot;</td></tr><tr><td>100095759</td><td>&quot;Setapak Ria Co…</td><td>1994.0</td><td>1200</td><td>&quot;Setapak&quot;</td><td>&quot;Condominium&quot;</td><td>&quot;3&quot;</td><td>1.0</td><td>2.0</td><td>911</td><td>&quot;Partially Furn…</td><td>&quot;Security, Gymn…</td><td>null</td><td>&quot;Kuala Lumpur&quot;</td></tr><tr><td>100320547</td><td>&quot;One Maxim&quot;</td><td>2020.0</td><td>1300</td><td>&quot;Sentul&quot;</td><td>&quot;Service Reside…</td><td>&quot;3&quot;</td><td>1.0</td><td>2.0</td><td>819</td><td>&quot;Partially Furn…</td><td>&quot;Parking, Sauna…</td><td>&quot;Cooking Allowe…</td><td>&quot;Kuala Lumpur&quot;</td></tr><tr><td>92367206</td><td>&quot;Binjai Residen…</td><td>2007.0</td><td>5950</td><td>&quot;KLCC&quot;</td><td>&quot;Condominium&quot;</td><td>&quot;4&quot;</td><td>2.0</td><td>4.0</td><td>2178</td><td>&quot;Partially Furn…</td><td>&quot;Security, Swim…</td><td>&quot;Air-Cond, Cook…</td><td>&quot;Kuala Lumpur&quot;</td></tr><tr><td>99800429</td><td>&quot;Serini Melawat…</td><td>2018.0</td><td>2400</td><td>&quot;Taman Melawati…</td><td>&quot;Service Reside…</td><td>&quot;2&quot;</td><td>2.0</td><td>2.0</td><td>856</td><td>&quot;Fully Furnishe…</td><td>&quot;Playground, Gy…</td><td>&quot;Air-Cond, Cook…</td><td>&quot;Kuala Lumpur&quot;</td></tr><tr><td>100228390</td><td>&quot;28 Boulevard&quot;</td><td>2019.0</td><td>1700</td><td>&quot;Pandan Perdana…</td><td>&quot;Apartment&quot;</td><td>&quot;1&quot;</td><td>1.0</td><td>1.0</td><td>450</td><td>&quot;Fully Furnishe…</td><td>&quot;Swimming Pool,…</td><td>&quot;Air-Cond, Cook…</td><td>&quot;Kuala Lumpur&quot;</td></tr><tr><td>100626759</td><td>&quot;Mentari Court&quot;</td><td>2006.0</td><td>1450</td><td>&quot;Petaling Jaya&quot;</td><td>&quot;Apartment&quot;</td><td>&quot;3.0&quot;</td><td>null</td><td>2.0</td><td>780</td><td>&quot;Partially Furn…</td><td>&quot;Lift, Swimming…</td><td>null</td><td>&quot;Selangor&quot;</td></tr></tbody></table></div>"
      ],
      "text/plain": [
       "shape: (19_983, 14)\n",
       "┌────────────┬─────────┬────────────┬────────────┬───┬─────────┬──────────┬────────────┬───────────┐\n",
       "│ ads_id     ┆ prop_na ┆ completion ┆ monthly_re ┆ … ┆ furnish ┆ faciliti ┆ additional ┆ region    │\n",
       "│ ---        ┆ me      ┆ _year      ┆ nt_rm      ┆   ┆ ed      ┆ es       ┆ _facilitie ┆ ---       │\n",
       "│ i64        ┆ ---     ┆ ---        ┆ ---        ┆   ┆ ---     ┆ ---      ┆ s          ┆ str       │\n",
       "│            ┆ str     ┆ f64        ┆ i64        ┆   ┆ str     ┆ str      ┆ ---        ┆           │\n",
       "│            ┆         ┆            ┆            ┆   ┆         ┆          ┆ str        ┆           │\n",
       "╞════════════╪═════════╪════════════╪════════════╪═══╪═════════╪══════════╪════════════╪═══════════╡\n",
       "│ 100272026  ┆ Platinu ┆ 2021.0     ┆ 2500       ┆ … ┆ Fully   ┆ Lift,    ┆ Air-Cond,  ┆ Kuala     │\n",
       "│            ┆ m OUG   ┆            ┆            ┆   ┆ Furnish ┆ Security ┆ Cooking    ┆ Lumpur    │\n",
       "│            ┆ Residen ┆            ┆            ┆   ┆ ed      ┆ , Gymnas ┆ Allowed,   ┆           │\n",
       "│            ┆ ce      ┆            ┆            ┆   ┆         ┆ ium,     ┆ Near …     ┆           │\n",
       "│            ┆         ┆            ┆            ┆   ┆         ┆ Playg…   ┆            ┆           │\n",
       "│ 100115899  ┆ Majesti ┆ 2021.0     ┆ 1500       ┆ … ┆ Partial ┆ Gymnasiu ┆ Air-Cond,  ┆ Kuala     │\n",
       "│            ┆ c Maxim ┆            ┆            ┆   ┆ ly Furn ┆ m, Lift, ┆ Cooking    ┆ Lumpur    │\n",
       "│            ┆         ┆            ┆            ┆   ┆ ished   ┆ Barbeque ┆ Allowed,   ┆           │\n",
       "│            ┆         ┆            ┆            ┆   ┆         ┆ area, …  ┆ Near …     ┆           │\n",
       "│ 100712647  ┆ Enggang ┆ null       ┆ 700        ┆ … ┆ Partial ┆ Minimart ┆ null       ┆ Selangor  │\n",
       "│            ┆ Apartme ┆            ┆            ┆   ┆ ly Furn ┆ , Playgr ┆            ┆           │\n",
       "│            ┆ nt      ┆            ┆            ┆   ┆ ished   ┆ ound,    ┆            ┆           │\n",
       "│            ┆         ┆            ┆            ┆   ┆         ┆ Parking  ┆            ┆           │\n",
       "│ 100692936  ┆ i-Suite ┆ 2017.0     ┆ 1500       ┆ … ┆ Fully   ┆ Playgrou ┆ Air-Cond,  ┆ Selangor  │\n",
       "│            ┆ @       ┆            ┆            ┆   ┆ Furnish ┆ nd,      ┆ Cooking    ┆           │\n",
       "│            ┆ i-City  ┆            ┆            ┆   ┆ ed      ┆ Swimming ┆ Allowed,   ┆           │\n",
       "│            ┆         ┆            ┆            ┆   ┆         ┆ Pool,    ┆ Washi…     ┆           │\n",
       "│            ┆         ┆            ┆            ┆   ┆         ┆ Barbe…   ┆            ┆           │\n",
       "│ …          ┆ …       ┆ …          ┆ …          ┆ … ┆ …       ┆ …        ┆ …          ┆ …         │\n",
       "│ 92367206   ┆ Binjai  ┆ 2007.0     ┆ 5950       ┆ … ┆ Partial ┆ Security ┆ Air-Cond,  ┆ Kuala     │\n",
       "│            ┆ Residen ┆            ┆            ┆   ┆ ly Furn ┆ ,        ┆ Cooking    ┆ Lumpur    │\n",
       "│            ┆ cy      ┆            ┆            ┆   ┆ ished   ┆ Swimming ┆ Allowed,   ┆           │\n",
       "│            ┆         ┆            ┆            ┆   ┆         ┆ Pool,    ┆ Washi…     ┆           │\n",
       "│            ┆         ┆            ┆            ┆   ┆         ┆ Sauna, … ┆            ┆           │\n",
       "│ 99800429   ┆ Serini  ┆ 2018.0     ┆ 2400       ┆ … ┆ Fully   ┆ Playgrou ┆ Air-Cond,  ┆ Kuala     │\n",
       "│            ┆ Melawat ┆            ┆            ┆   ┆ Furnish ┆ nd, Gymn ┆ Cooking    ┆ Lumpur    │\n",
       "│            ┆ i       ┆            ┆            ┆   ┆ ed      ┆ asium,   ┆ Allowed    ┆           │\n",
       "│            ┆         ┆            ┆            ┆   ┆         ┆ Parking, ┆            ┆           │\n",
       "│            ┆         ┆            ┆            ┆   ┆         ┆ …        ┆            ┆           │\n",
       "│ 100228390  ┆ 28 Boul ┆ 2019.0     ┆ 1700       ┆ … ┆ Fully   ┆ Swimming ┆ Air-Cond,  ┆ Kuala     │\n",
       "│            ┆ evard   ┆            ┆            ┆   ┆ Furnish ┆ Pool,    ┆ Cooking    ┆ Lumpur    │\n",
       "│            ┆         ┆            ┆            ┆   ┆ ed      ┆ Security ┆ Allowed,   ┆           │\n",
       "│            ┆         ┆            ┆            ┆   ┆         ┆ ,        ┆ Near …     ┆           │\n",
       "│            ┆         ┆            ┆            ┆   ┆         ┆ Jogging… ┆            ┆           │\n",
       "│ 100626759  ┆ Mentari ┆ 2006.0     ┆ 1450       ┆ … ┆ Partial ┆ Lift,    ┆ null       ┆ Selangor  │\n",
       "│            ┆ Court   ┆            ┆            ┆   ┆ ly Furn ┆ Swimming ┆            ┆           │\n",
       "│            ┆         ┆            ┆            ┆   ┆ ished   ┆ Pool,    ┆            ┆           │\n",
       "│            ┆         ┆            ┆            ┆   ┆         ┆ Security ┆            ┆           │\n",
       "│            ┆         ┆            ┆            ┆   ┆         ┆ , P…     ┆            ┆           │\n",
       "└────────────┴─────────┴────────────┴────────────┴───┴─────────┴──────────┴────────────┴───────────┘"
      ]
     },
     "execution_count": 12,
     "metadata": {},
     "output_type": "execute_result"
    }
   ],
   "source": [
    "df"
   ]
  },
  {
   "cell_type": "markdown",
   "id": "8529758d-19f1-4b44-bb62-1526b8743d06",
   "metadata": {},
   "source": [
    "##### Extracting Near KTM/LRT\n",
    "Hypotheses: closer access to KTM/LRT = higher monthly rent"
   ]
  },
  {
   "cell_type": "code",
   "execution_count": 13,
   "id": "d3dbf86a-06ea-4b9e-aa5f-cbae42237ee8",
   "metadata": {},
   "outputs": [],
   "source": [
    "# Extracting \"near KTM/LRT\" into its own column.\n",
    "def extract_near_ktm_lrt(text):\n",
    "    pattern = re.compile(r'\\bNear KTM/LRT\\b')\n",
    "    try:\n",
    "        match = pattern.search(text)\n",
    "        if match:\n",
    "            return True\n",
    "        return False\n",
    "    except TypeError:\n",
    "        return text"
   ]
  },
  {
   "cell_type": "code",
   "execution_count": 14,
   "id": "d59902d9-7f82-492d-ad98-d0916ae1f4cd",
   "metadata": {},
   "outputs": [
    {
     "data": {
      "text/html": [
       "<div><style>\n",
       ".dataframe > thead > tr > th,\n",
       ".dataframe > tbody > tr > td {\n",
       "  text-align: right;\n",
       "}\n",
       "</style>\n",
       "<small>shape: (19983,)</small><table border=\"1\" class=\"dataframe\"><thead><tr><th>additional_facilities</th></tr><tr><td>bool</td></tr></thead><tbody><tr><td>true</td></tr><tr><td>true</td></tr><tr><td>null</td></tr><tr><td>false</td></tr><tr><td>true</td></tr><tr><td>null</td></tr><tr><td>true</td></tr><tr><td>null</td></tr><tr><td>false</td></tr><tr><td>null</td></tr><tr><td>true</td></tr><tr><td>false</td></tr><tr><td>&hellip;</td></tr><tr><td>null</td></tr><tr><td>true</td></tr><tr><td>false</td></tr><tr><td>false</td></tr><tr><td>false</td></tr><tr><td>null</td></tr><tr><td>null</td></tr><tr><td>false</td></tr><tr><td>false</td></tr><tr><td>false</td></tr><tr><td>true</td></tr><tr><td>null</td></tr></tbody></table></div>"
      ],
      "text/plain": [
       "shape: (19_983,)\n",
       "Series: 'additional_facilities' [bool]\n",
       "[\n",
       "\ttrue\n",
       "\ttrue\n",
       "\tnull\n",
       "\tfalse\n",
       "\ttrue\n",
       "\tnull\n",
       "\ttrue\n",
       "\tnull\n",
       "\tfalse\n",
       "\tnull\n",
       "\ttrue\n",
       "\tfalse\n",
       "\t…\n",
       "\tfalse\n",
       "\tnull\n",
       "\ttrue\n",
       "\tfalse\n",
       "\tfalse\n",
       "\tfalse\n",
       "\tnull\n",
       "\tnull\n",
       "\tfalse\n",
       "\tfalse\n",
       "\tfalse\n",
       "\ttrue\n",
       "\tnull\n",
       "]"
      ]
     },
     "execution_count": 14,
     "metadata": {},
     "output_type": "execute_result"
    }
   ],
   "source": [
    "df[\"additional_facilities\"].apply(lambda x: extract_near_ktm_lrt(x))"
   ]
  },
  {
   "cell_type": "code",
   "execution_count": 15,
   "id": "c8dffd5e-c393-475f-bd6d-43eddff18db5",
   "metadata": {},
   "outputs": [],
   "source": [
    "df = df.select([\n",
    "    pl.all(),\n",
    "    pl.col(\"additional_facilities\").apply(lambda x: extract_near_ktm_lrt(x)).alias(\"nearby_railways\")\n",
    "])"
   ]
  },
  {
   "cell_type": "code",
   "execution_count": 16,
   "id": "ad898ee8-85bd-4172-bd1d-c1de148dcf3f",
   "metadata": {},
   "outputs": [],
   "source": [
    "near_ktmlrt = df.filter(pl.col(\"nearby_railways\") == True).select(pl.col(\"monthly_rent_rm\")).median().item()\n",
    "not_near_ktmlrt = df.filter(pl.col(\"nearby_railways\") == False).select(pl.col(\"monthly_rent_rm\")).median().item()"
   ]
  },
  {
   "cell_type": "code",
   "execution_count": 17,
   "id": "3b29cb2d-6bb3-48a8-b90c-dc858b1bcf62",
   "metadata": {},
   "outputs": [
    {
     "data": {
      "text/plain": [
       "'\\nMedian:\\nNearby KTM/LRT: 1500 RM\\nNot nearby KTM/LRT: 1400 RM\\n'"
      ]
     },
     "execution_count": 17,
     "metadata": {},
     "output_type": "execute_result"
    }
   ],
   "source": [
    "f\"\"\"\n",
    "Median:\n",
    "Nearby KTM/LRT: {near_ktmlrt:.0f} RM\n",
    "Not nearby KTM/LRT: {not_near_ktmlrt:.0f} RM\n",
    "\"\"\""
   ]
  },
  {
   "cell_type": "markdown",
   "id": "68643972-52e9-4417-b5ea-edda34e4bcbc",
   "metadata": {},
   "source": [
    "#### \n",
    "Plotting the difference between nearby KTM/LRT or not:"
   ]
  },
  {
   "cell_type": "code",
   "execution_count": 18,
   "id": "694c369b-1fd4-4d64-a9de-bd4c3b2eca29",
   "metadata": {},
   "outputs": [
    {
     "data": {
      "text/plain": [
       "(0.0, 4000.0)"
      ]
     },
     "execution_count": 18,
     "metadata": {},
     "output_type": "execute_result"
    },
    {
     "data": {
      "image/png": "[encoded data removed]",
      "text/plain": [
       "<Figure size 640x480 with 1 Axes>"
      ]
     },
     "metadata": {},
     "output_type": "display_data"
    }
   ],
   "source": [
    "#| label: fig-nearbyktm\n",
    "#| fig-cap: Boxplot between Nearby KTM/LRT or Not\n",
    "\n",
    "sns.boxplot(data=df.to_pandas(), x='monthly_rent_rm', y='nearby_railways')\n",
    "plt.xlim(0,4000)"
   ]
  },
  {
   "cell_type": "code",
   "execution_count": 19,
   "id": "aba8aace-3b41-4b53-9f20-be6b0b7c8a41",
   "metadata": {},
   "outputs": [
    {
     "data": {
      "text/html": [
       "<div><style>\n",
       ".dataframe > thead > tr > th,\n",
       ".dataframe > tbody > tr > td {\n",
       "  text-align: right;\n",
       "}\n",
       "</style>\n",
       "<small>shape: (19983, 15)</small><table border=\"1\" class=\"dataframe\"><thead><tr><th>ads_id</th><th>prop_name</th><th>completion_year</th><th>monthly_rent_rm</th><th>location</th><th>property_type</th><th>rooms</th><th>parking</th><th>bathroom</th><th>size_sqft</th><th>furnished</th><th>facilities</th><th>additional_facilities</th><th>region</th><th>nearby_railways</th></tr><tr><td>i64</td><td>str</td><td>f64</td><td>i64</td><td>str</td><td>str</td><td>str</td><td>f64</td><td>f64</td><td>i64</td><td>str</td><td>str</td><td>str</td><td>str</td><td>bool</td></tr></thead><tbody><tr><td>100272026</td><td>&quot;Platinum OUG R…</td><td>2021.0</td><td>2500</td><td>&quot;Kuchai Lama&quot;</td><td>&quot;Condominium&quot;</td><td>&quot;3&quot;</td><td>2.0</td><td>2.0</td><td>1200</td><td>&quot;Fully Furnishe…</td><td>&quot;Lift, Security…</td><td>&quot;Air-Cond, Cook…</td><td>&quot;Kuala Lumpur&quot;</td><td>true</td></tr><tr><td>100115899</td><td>&quot;Majestic Maxim…</td><td>2021.0</td><td>1500</td><td>&quot;Cheras&quot;</td><td>&quot;Service Reside…</td><td>&quot;2&quot;</td><td>1.0</td><td>2.0</td><td>650</td><td>&quot;Partially Furn…</td><td>&quot;Gymnasium, Lif…</td><td>&quot;Air-Cond, Cook…</td><td>&quot;Kuala Lumpur&quot;</td><td>true</td></tr><tr><td>100712647</td><td>&quot;Enggang Apartm…</td><td>null</td><td>700</td><td>&quot;Puchong&quot;</td><td>&quot;Apartment&quot;</td><td>&quot;3.0&quot;</td><td>1.0</td><td>2.0</td><td>700</td><td>&quot;Partially Furn…</td><td>&quot;Minimart, Play…</td><td>null</td><td>&quot;Selangor&quot;</td><td>null</td></tr><tr><td>100692936</td><td>&quot;i-Suite @ i-Ci…</td><td>2017.0</td><td>1500</td><td>&quot;I-City&quot;</td><td>&quot;Service Reside…</td><td>&quot;2.0&quot;</td><td>null</td><td>1.0</td><td>600</td><td>&quot;Fully Furnishe…</td><td>&quot;Playground, Sw…</td><td>&quot;Air-Cond, Cook…</td><td>&quot;Selangor&quot;</td><td>false</td></tr><tr><td>100317753</td><td>&quot;Bayu @ Pandan …</td><td>2015.0</td><td>1700</td><td>&quot;Pandan Jaya&quot;</td><td>&quot;Condominium&quot;</td><td>&quot;3&quot;</td><td>1.0</td><td>2.0</td><td>1072</td><td>&quot;Partially Furn…</td><td>&quot;Parking, Playg…</td><td>&quot;Air-Cond, Cook…</td><td>&quot;Kuala Lumpur&quot;</td><td>true</td></tr><tr><td>99882175</td><td>&quot;Serini Melawat…</td><td>2018.0</td><td>1899</td><td>&quot;Taman Melawati…</td><td>&quot;Condominium&quot;</td><td>&quot;2&quot;</td><td>2.0</td><td>1.0</td><td>640</td><td>&quot;Fully Furnishe…</td><td>&quot;Gymnasium, Par…</td><td>null</td><td>&quot;Kuala Lumpur&quot;</td><td>null</td></tr><tr><td>100512371</td><td>&quot;Apartment Perm…</td><td>null</td><td>850</td><td>&quot;Damansara Dama…</td><td>&quot;Apartment&quot;</td><td>&quot;3.0&quot;</td><td>1.0</td><td>2.0</td><td>700</td><td>&quot;Partially Furn…</td><td>&quot;Parking, Minim…</td><td>&quot;Cooking Allowe…</td><td>&quot;Selangor&quot;</td><td>true</td></tr><tr><td>100506682</td><td>&quot;Residensi Bist…</td><td>2013.0</td><td>1200</td><td>&quot;Ampang&quot;</td><td>&quot;Apartment&quot;</td><td>&quot;3.0&quot;</td><td>1.0</td><td>2.0</td><td>850</td><td>&quot;Not Furnished&quot;</td><td>&quot;Security, Mult…</td><td>null</td><td>&quot;Selangor&quot;</td><td>null</td></tr><tr><td>100801530</td><td>&quot;Utropolis Urba…</td><td>2018.0</td><td>850</td><td>&quot;Shah Alam&quot;</td><td>&quot;Condominium&quot;</td><td>&quot;1.0&quot;</td><td>1.0</td><td>1.0</td><td>250</td><td>&quot;Partially Furn…</td><td>&quot;Parking, Gymna…</td><td>&quot;Air-Cond&quot;</td><td>&quot;Selangor&quot;</td><td>false</td></tr><tr><td>100645994</td><td>&quot;Geo@Bukit Rima…</td><td>2020.0</td><td>1600</td><td>&quot;Shah Alam&quot;</td><td>&quot;Condominium&quot;</td><td>&quot;3.0&quot;</td><td>2.0</td><td>2.0</td><td>875</td><td>&quot;Partially Furn…</td><td>&quot;Tennis Court, …</td><td>null</td><td>&quot;Selangor&quot;</td><td>null</td></tr><tr><td>99937412</td><td>&quot;Maxim Residenc…</td><td>2017.0</td><td>1400</td><td>&quot;Cheras&quot;</td><td>&quot;Service Reside…</td><td>&quot;3&quot;</td><td>2.0</td><td>2.0</td><td>1050</td><td>&quot;Partially Furn…</td><td>&quot;Security, Gymn…</td><td>&quot;Air-Cond, Cook…</td><td>&quot;Kuala Lumpur&quot;</td><td>true</td></tr><tr><td>100692624</td><td>&quot;Aman 1&quot;</td><td>2020.0</td><td>1200</td><td>&quot;Shah Alam&quot;</td><td>&quot;Apartment&quot;</td><td>&quot;3.0&quot;</td><td>2.0</td><td>2.0</td><td>870</td><td>&quot;Partially Furn…</td><td>&quot;Barbeque area,…</td><td>&quot;Cooking Allowe…</td><td>&quot;Selangor&quot;</td><td>false</td></tr><tr><td>&hellip;</td><td>&hellip;</td><td>&hellip;</td><td>&hellip;</td><td>&hellip;</td><td>&hellip;</td><td>&hellip;</td><td>&hellip;</td><td>&hellip;</td><td>&hellip;</td><td>&hellip;</td><td>&hellip;</td><td>&hellip;</td><td>&hellip;</td><td>&hellip;</td></tr><tr><td>100546246</td><td>&quot;Casa Bluebell,…</td><td>null</td><td>1600</td><td>&quot;Dengkil&quot;</td><td>&quot;Townhouse Cond…</td><td>&quot;3.0&quot;</td><td>1.0</td><td>2.0</td><td>1160</td><td>&quot;Partially Furn…</td><td>&quot;Parking, Swimm…</td><td>null</td><td>&quot;Selangor&quot;</td><td>null</td></tr><tr><td>100824931</td><td>&quot;Main Place Res…</td><td>2014.0</td><td>1400</td><td>&quot;USJ&quot;</td><td>&quot;Service Reside…</td><td>&quot;1.0&quot;</td><td>1.0</td><td>1.0</td><td>450</td><td>&quot;Fully Furnishe…</td><td>&quot;Parking&quot;</td><td>&quot;Air-Cond, Near…</td><td>&quot;Selangor&quot;</td><td>true</td></tr><tr><td>100777381</td><td>&quot;Rampai Idaman&quot;</td><td>null</td><td>300</td><td>&quot;Damansara Dama…</td><td>&quot;Flat&quot;</td><td>&quot;4.0&quot;</td><td>null</td><td>2.0</td><td>650</td><td>&quot;Not Furnished&quot;</td><td>null</td><td>&quot;Internet&quot;</td><td>&quot;Selangor&quot;</td><td>false</td></tr><tr><td>99602057</td><td>&quot;G Residence @ …</td><td>2015.0</td><td>3200</td><td>&quot;Desa Pandan&quot;</td><td>&quot;Service Reside…</td><td>&quot;2&quot;</td><td>2.0</td><td>2.0</td><td>1410</td><td>&quot;Fully Furnishe…</td><td>&quot;Security, Mult…</td><td>&quot;Air-Cond, Cook…</td><td>&quot;Kuala Lumpur&quot;</td><td>false</td></tr><tr><td>99921667</td><td>&quot;Vista Saujana&quot;</td><td>null</td><td>900</td><td>&quot;Kepong&quot;</td><td>&quot;Apartment&quot;</td><td>&quot;3&quot;</td><td>1.0</td><td>2.0</td><td>955</td><td>&quot;Not Furnished&quot;</td><td>&quot;Parking, Swimm…</td><td>&quot;Cooking Allowe…</td><td>&quot;Kuala Lumpur&quot;</td><td>false</td></tr><tr><td>99587338</td><td>&quot;Nadi Bangsar S…</td><td>null</td><td>4600</td><td>&quot;Bangsar&quot;</td><td>&quot;Service Reside…</td><td>&quot;2&quot;</td><td>null</td><td>2.0</td><td>1056</td><td>&quot;Fully Furnishe…</td><td>&quot;Swimming Pool,…</td><td>null</td><td>&quot;Kuala Lumpur&quot;</td><td>null</td></tr><tr><td>100095759</td><td>&quot;Setapak Ria Co…</td><td>1994.0</td><td>1200</td><td>&quot;Setapak&quot;</td><td>&quot;Condominium&quot;</td><td>&quot;3&quot;</td><td>1.0</td><td>2.0</td><td>911</td><td>&quot;Partially Furn…</td><td>&quot;Security, Gymn…</td><td>null</td><td>&quot;Kuala Lumpur&quot;</td><td>null</td></tr><tr><td>100320547</td><td>&quot;One Maxim&quot;</td><td>2020.0</td><td>1300</td><td>&quot;Sentul&quot;</td><td>&quot;Service Reside…</td><td>&quot;3&quot;</td><td>1.0</td><td>2.0</td><td>819</td><td>&quot;Partially Furn…</td><td>&quot;Parking, Sauna…</td><td>&quot;Cooking Allowe…</td><td>&quot;Kuala Lumpur&quot;</td><td>false</td></tr><tr><td>92367206</td><td>&quot;Binjai Residen…</td><td>2007.0</td><td>5950</td><td>&quot;KLCC&quot;</td><td>&quot;Condominium&quot;</td><td>&quot;4&quot;</td><td>2.0</td><td>4.0</td><td>2178</td><td>&quot;Partially Furn…</td><td>&quot;Security, Swim…</td><td>&quot;Air-Cond, Cook…</td><td>&quot;Kuala Lumpur&quot;</td><td>false</td></tr><tr><td>99800429</td><td>&quot;Serini Melawat…</td><td>2018.0</td><td>2400</td><td>&quot;Taman Melawati…</td><td>&quot;Service Reside…</td><td>&quot;2&quot;</td><td>2.0</td><td>2.0</td><td>856</td><td>&quot;Fully Furnishe…</td><td>&quot;Playground, Gy…</td><td>&quot;Air-Cond, Cook…</td><td>&quot;Kuala Lumpur&quot;</td><td>false</td></tr><tr><td>100228390</td><td>&quot;28 Boulevard&quot;</td><td>2019.0</td><td>1700</td><td>&quot;Pandan Perdana…</td><td>&quot;Apartment&quot;</td><td>&quot;1&quot;</td><td>1.0</td><td>1.0</td><td>450</td><td>&quot;Fully Furnishe…</td><td>&quot;Swimming Pool,…</td><td>&quot;Air-Cond, Cook…</td><td>&quot;Kuala Lumpur&quot;</td><td>true</td></tr><tr><td>100626759</td><td>&quot;Mentari Court&quot;</td><td>2006.0</td><td>1450</td><td>&quot;Petaling Jaya&quot;</td><td>&quot;Apartment&quot;</td><td>&quot;3.0&quot;</td><td>null</td><td>2.0</td><td>780</td><td>&quot;Partially Furn…</td><td>&quot;Lift, Swimming…</td><td>null</td><td>&quot;Selangor&quot;</td><td>null</td></tr></tbody></table></div>"
      ],
      "text/plain": [
       "shape: (19_983, 15)\n",
       "┌──────────┬─────────┬────────────┬────────────┬───┬──────────┬────────────┬──────────┬────────────┐\n",
       "│ ads_id   ┆ prop_na ┆ completion ┆ monthly_re ┆ … ┆ faciliti ┆ additional ┆ region   ┆ nearby_rai │\n",
       "│ ---      ┆ me      ┆ _year      ┆ nt_rm      ┆   ┆ es       ┆ _facilitie ┆ ---      ┆ lways      │\n",
       "│ i64      ┆ ---     ┆ ---        ┆ ---        ┆   ┆ ---      ┆ s          ┆ str      ┆ ---        │\n",
       "│          ┆ str     ┆ f64        ┆ i64        ┆   ┆ str      ┆ ---        ┆          ┆ bool       │\n",
       "│          ┆         ┆            ┆            ┆   ┆          ┆ str        ┆          ┆            │\n",
       "╞══════════╪═════════╪════════════╪════════════╪═══╪══════════╪════════════╪══════════╪════════════╡\n",
       "│ 10027202 ┆ Platinu ┆ 2021.0     ┆ 2500       ┆ … ┆ Lift,    ┆ Air-Cond,  ┆ Kuala    ┆ true       │\n",
       "│ 6        ┆ m OUG   ┆            ┆            ┆   ┆ Security ┆ Cooking    ┆ Lumpur   ┆            │\n",
       "│          ┆ Residen ┆            ┆            ┆   ┆ , Gymnas ┆ Allowed,   ┆          ┆            │\n",
       "│          ┆ ce      ┆            ┆            ┆   ┆ ium,     ┆ Near …     ┆          ┆            │\n",
       "│          ┆         ┆            ┆            ┆   ┆ Playg…   ┆            ┆          ┆            │\n",
       "│ 10011589 ┆ Majesti ┆ 2021.0     ┆ 1500       ┆ … ┆ Gymnasiu ┆ Air-Cond,  ┆ Kuala    ┆ true       │\n",
       "│ 9        ┆ c Maxim ┆            ┆            ┆   ┆ m, Lift, ┆ Cooking    ┆ Lumpur   ┆            │\n",
       "│          ┆         ┆            ┆            ┆   ┆ Barbeque ┆ Allowed,   ┆          ┆            │\n",
       "│          ┆         ┆            ┆            ┆   ┆ area, …  ┆ Near …     ┆          ┆            │\n",
       "│ 10071264 ┆ Enggang ┆ null       ┆ 700        ┆ … ┆ Minimart ┆ null       ┆ Selangor ┆ null       │\n",
       "│ 7        ┆ Apartme ┆            ┆            ┆   ┆ , Playgr ┆            ┆          ┆            │\n",
       "│          ┆ nt      ┆            ┆            ┆   ┆ ound,    ┆            ┆          ┆            │\n",
       "│          ┆         ┆            ┆            ┆   ┆ Parking  ┆            ┆          ┆            │\n",
       "│ 10069293 ┆ i-Suite ┆ 2017.0     ┆ 1500       ┆ … ┆ Playgrou ┆ Air-Cond,  ┆ Selangor ┆ false      │\n",
       "│ 6        ┆ @       ┆            ┆            ┆   ┆ nd,      ┆ Cooking    ┆          ┆            │\n",
       "│          ┆ i-City  ┆            ┆            ┆   ┆ Swimming ┆ Allowed,   ┆          ┆            │\n",
       "│          ┆         ┆            ┆            ┆   ┆ Pool,    ┆ Washi…     ┆          ┆            │\n",
       "│          ┆         ┆            ┆            ┆   ┆ Barbe…   ┆            ┆          ┆            │\n",
       "│ …        ┆ …       ┆ …          ┆ …          ┆ … ┆ …        ┆ …          ┆ …        ┆ …          │\n",
       "│ 92367206 ┆ Binjai  ┆ 2007.0     ┆ 5950       ┆ … ┆ Security ┆ Air-Cond,  ┆ Kuala    ┆ false      │\n",
       "│          ┆ Residen ┆            ┆            ┆   ┆ ,        ┆ Cooking    ┆ Lumpur   ┆            │\n",
       "│          ┆ cy      ┆            ┆            ┆   ┆ Swimming ┆ Allowed,   ┆          ┆            │\n",
       "│          ┆         ┆            ┆            ┆   ┆ Pool,    ┆ Washi…     ┆          ┆            │\n",
       "│          ┆         ┆            ┆            ┆   ┆ Sauna, … ┆            ┆          ┆            │\n",
       "│ 99800429 ┆ Serini  ┆ 2018.0     ┆ 2400       ┆ … ┆ Playgrou ┆ Air-Cond,  ┆ Kuala    ┆ false      │\n",
       "│          ┆ Melawat ┆            ┆            ┆   ┆ nd, Gymn ┆ Cooking    ┆ Lumpur   ┆            │\n",
       "│          ┆ i       ┆            ┆            ┆   ┆ asium,   ┆ Allowed    ┆          ┆            │\n",
       "│          ┆         ┆            ┆            ┆   ┆ Parking, ┆            ┆          ┆            │\n",
       "│          ┆         ┆            ┆            ┆   ┆ …        ┆            ┆          ┆            │\n",
       "│ 10022839 ┆ 28 Boul ┆ 2019.0     ┆ 1700       ┆ … ┆ Swimming ┆ Air-Cond,  ┆ Kuala    ┆ true       │\n",
       "│ 0        ┆ evard   ┆            ┆            ┆   ┆ Pool,    ┆ Cooking    ┆ Lumpur   ┆            │\n",
       "│          ┆         ┆            ┆            ┆   ┆ Security ┆ Allowed,   ┆          ┆            │\n",
       "│          ┆         ┆            ┆            ┆   ┆ ,        ┆ Near …     ┆          ┆            │\n",
       "│          ┆         ┆            ┆            ┆   ┆ Jogging… ┆            ┆          ┆            │\n",
       "│ 10062675 ┆ Mentari ┆ 2006.0     ┆ 1450       ┆ … ┆ Lift,    ┆ null       ┆ Selangor ┆ null       │\n",
       "│ 9        ┆ Court   ┆            ┆            ┆   ┆ Swimming ┆            ┆          ┆            │\n",
       "│          ┆         ┆            ┆            ┆   ┆ Pool,    ┆            ┆          ┆            │\n",
       "│          ┆         ┆            ┆            ┆   ┆ Security ┆            ┆          ┆            │\n",
       "│          ┆         ┆            ┆            ┆   ┆ , P…     ┆            ┆          ┆            │\n",
       "└──────────┴─────────┴────────────┴────────────┴───┴──────────┴────────────┴──────────┴────────────┘"
      ]
     },
     "execution_count": 19,
     "metadata": {},
     "output_type": "execute_result"
    }
   ],
   "source": [
    "df"
   ]
  },
  {
   "cell_type": "code",
   "execution_count": 20,
   "id": "3d38c17a-ced4-4fe4-82ba-6d6da0f083ab",
   "metadata": {},
   "outputs": [
    {
     "data": {
      "text/html": [
       "<div><style>\n",
       ".dataframe > thead > tr > th,\n",
       ".dataframe > tbody > tr > td {\n",
       "  text-align: right;\n",
       "}\n",
       "</style>\n",
       "<small>shape: (3, 2)</small><table border=\"1\" class=\"dataframe\"><thead><tr><th>nearby_railways</th><th>counts</th></tr><tr><td>bool</td><td>u32</td></tr></thead><tbody><tr><td>null</td><td>32</td></tr><tr><td>true</td><td>166</td></tr><tr><td>false</td><td>24</td></tr></tbody></table></div>"
      ],
      "text/plain": [
       "shape: (3, 2)\n",
       "┌─────────────────┬────────┐\n",
       "│ nearby_railways ┆ counts │\n",
       "│ ---             ┆ ---    │\n",
       "│ bool            ┆ u32    │\n",
       "╞═════════════════╪════════╡\n",
       "│ null            ┆ 32     │\n",
       "│ true            ┆ 166    │\n",
       "│ false           ┆ 24     │\n",
       "└─────────────────┴────────┘"
      ]
     },
     "execution_count": 20,
     "metadata": {},
     "output_type": "execute_result"
    }
   ],
   "source": [
    "df.filter(pl.col('prop_name') == 'Majestic Maxim')[\"nearby_railways\"].value_counts()"
   ]
  },
  {
   "cell_type": "markdown",
   "id": "e5b011b6-4c58-474c-b400-b33e011cdbf4",
   "metadata": {},
   "source": [
    "####\n",
    "As seen above, @fig-nearbyktm shows that it sligthly increases the median monthly rent by 50RM. However, near KTM/LRT is not appearing in all row even though the property is the same\n",
    "\n",
    "Conclusion: Near KTM/LRT may be used, but it can be improved as the listing is inconsistent"
   ]
  },
  {
   "cell_type": "markdown",
   "id": "7852c6e7-e026-4564-b633-ed098a71e7e1",
   "metadata": {},
   "source": [
    "##### Drop Missing Values in Facilities and Additional Facilities"
   ]
  },
  {
   "cell_type": "code",
   "execution_count": 21,
   "id": "a4519e93-f3f7-4488-8796-ee306d906c71",
   "metadata": {},
   "outputs": [
    {
     "data": {
      "text/html": [
       "<div><style>\n",
       ".dataframe > thead > tr > th,\n",
       ".dataframe > tbody > tr > td {\n",
       "  text-align: right;\n",
       "}\n",
       "</style>\n",
       "<small>shape: (1, 15)</small><table border=\"1\" class=\"dataframe\"><thead><tr><th>ads_id</th><th>prop_name</th><th>completion_year</th><th>monthly_rent_rm</th><th>location</th><th>property_type</th><th>rooms</th><th>parking</th><th>bathroom</th><th>size_sqft</th><th>furnished</th><th>facilities</th><th>additional_facilities</th><th>region</th><th>nearby_railways</th></tr><tr><td>u32</td><td>u32</td><td>u32</td><td>u32</td><td>u32</td><td>u32</td><td>u32</td><td>u32</td><td>u32</td><td>u32</td><td>u32</td><td>u32</td><td>u32</td><td>u32</td><td>u32</td></tr></thead><tbody><tr><td>0</td><td>948</td><td>9181</td><td>2</td><td>0</td><td>0</td><td>6</td><td>5699</td><td>6</td><td>0</td><td>5</td><td>2208</td><td>5945</td><td>0</td><td>5945</td></tr></tbody></table></div>"
      ],
      "text/plain": [
       "shape: (1, 15)\n",
       "┌────────┬───────────┬────────────┬────────────┬───┬────────────┬────────────┬────────┬────────────┐\n",
       "│ ads_id ┆ prop_name ┆ completion ┆ monthly_re ┆ … ┆ facilities ┆ additional ┆ region ┆ nearby_rai │\n",
       "│ ---    ┆ ---       ┆ _year      ┆ nt_rm      ┆   ┆ ---        ┆ _facilitie ┆ ---    ┆ lways      │\n",
       "│ u32    ┆ u32       ┆ ---        ┆ ---        ┆   ┆ u32        ┆ s          ┆ u32    ┆ ---        │\n",
       "│        ┆           ┆ u32        ┆ u32        ┆   ┆            ┆ ---        ┆        ┆ u32        │\n",
       "│        ┆           ┆            ┆            ┆   ┆            ┆ u32        ┆        ┆            │\n",
       "╞════════╪═══════════╪════════════╪════════════╪═══╪════════════╪════════════╪════════╪════════════╡\n",
       "│ 0      ┆ 948       ┆ 9181       ┆ 2          ┆ … ┆ 2208       ┆ 5945       ┆ 0      ┆ 5945       │\n",
       "└────────┴───────────┴────────────┴────────────┴───┴────────────┴────────────┴────────┴────────────┘"
      ]
     },
     "execution_count": 21,
     "metadata": {},
     "output_type": "execute_result"
    }
   ],
   "source": [
    "df.select(pl.all().is_null()).sum()"
   ]
  },
  {
   "cell_type": "code",
   "execution_count": 22,
   "id": "6a697776-912e-4c00-82f0-53370768a7be",
   "metadata": {},
   "outputs": [],
   "source": [
    "# #dropping some columns\n",
    "df = df.drop(['ads_id', \n",
    "    'prop_name', \n",
    "    'facilities', \n",
    "    'additional_facilities'])"
   ]
  },
  {
   "cell_type": "raw",
   "id": "207096bd-1afd-4a86-b5c8-c214a0ab19e4",
   "metadata": {},
   "source": [
    "df.with_columns(pl.col(\"rooms\").cast(pl.Int64))"
   ]
  },
  {
   "cell_type": "code",
   "execution_count": 23,
   "id": "6e39ed0a-de44-4999-9989-c662b319e08e",
   "metadata": {
    "tags": []
   },
   "outputs": [
    {
     "data": {
      "text/html": [
       "<div><style>\n",
       ".dataframe > thead > tr > th,\n",
       ".dataframe > tbody > tr > td {\n",
       "  text-align: right;\n",
       "}\n",
       "</style>\n",
       "<small>shape: (19, 1)</small><table border=\"1\" class=\"dataframe\"><thead><tr><th>rooms</th></tr><tr><td>str</td></tr></thead><tbody><tr><td>&quot;7&quot;</td></tr><tr><td>null</td></tr><tr><td>&quot;3&quot;</td></tr><tr><td>&quot;5&quot;</td></tr><tr><td>&quot;2.0&quot;</td></tr><tr><td>&quot;6.0&quot;</td></tr><tr><td>&quot;3.0&quot;</td></tr><tr><td>&quot;4.0&quot;</td></tr><tr><td>&quot;6&quot;</td></tr><tr><td>&quot;2&quot;</td></tr><tr><td>&quot;5.0&quot;</td></tr><tr><td>&quot;More than 10&quot;</td></tr><tr><td>&quot;10.0&quot;</td></tr><tr><td>&quot;9&quot;</td></tr><tr><td>&quot;4&quot;</td></tr><tr><td>&quot;1&quot;</td></tr><tr><td>&quot;7.0&quot;</td></tr><tr><td>&quot;1.0&quot;</td></tr><tr><td>&quot;9.0&quot;</td></tr></tbody></table></div>"
      ],
      "text/plain": [
       "shape: (19, 1)\n",
       "┌───────┐\n",
       "│ rooms │\n",
       "│ ---   │\n",
       "│ str   │\n",
       "╞═══════╡\n",
       "│ 7     │\n",
       "│ null  │\n",
       "│ 3     │\n",
       "│ 5     │\n",
       "│ …     │\n",
       "│ 1     │\n",
       "│ 7.0   │\n",
       "│ 1.0   │\n",
       "│ 9.0   │\n",
       "└───────┘"
      ]
     },
     "execution_count": 23,
     "metadata": {},
     "output_type": "execute_result"
    }
   ],
   "source": [
    "df.select(pl.col(\"rooms\")).unique()"
   ]
  },
  {
   "cell_type": "markdown",
   "id": "1fe2606c-24c1-4a6c-8537-21f22fe618b4",
   "metadata": {},
   "source": [
    "####\n",
    "Converting rooms from object to int64"
   ]
  },
  {
   "cell_type": "code",
   "execution_count": 24,
   "id": "49986752-6b7d-4a50-b543-a40b467d3d43",
   "metadata": {},
   "outputs": [],
   "source": [
    "df = df.with_columns(pl.col(\"rooms\").apply(lambda x: 10 if x == \"More than 10\" else x))"
   ]
  },
  {
   "cell_type": "code",
   "execution_count": 25,
   "id": "d7a33d82-96aa-4f49-a7d1-b28224317726",
   "metadata": {},
   "outputs": [],
   "source": [
    "df = df.with_columns(pl.col(\"rooms\").cast(pl.Float64))"
   ]
  },
  {
   "cell_type": "code",
   "execution_count": 26,
   "id": "80f26c79-0039-4a7f-8d1c-52ed240fa2d1",
   "metadata": {},
   "outputs": [],
   "source": [
    "df = df.with_columns(pl.col(\"rooms\").cast(pl.Int64))"
   ]
  },
  {
   "cell_type": "markdown",
   "id": "f31c8be9-2713-4d67-9486-1cc1f95e8c67",
   "metadata": {},
   "source": [
    "##### Outlier Removal\n",
    "To remove some unexplainable data such as 0 monthly rent, 0 size, the rent that is way too old (1970), including the monthly rent that is way too high and/or size too big."
   ]
  },
  {
   "cell_type": "code",
   "execution_count": 27,
   "id": "5e50f3cc-7bfe-46ae-a749-055796802a04",
   "metadata": {},
   "outputs": [
    {
     "data": {
      "image/png": "[encoded data removed]",
      "text/plain": [
       "<Figure size 640x480 with 1 Axes>"
      ]
     },
     "metadata": {},
     "output_type": "display_data"
    }
   ],
   "source": [
    "#| label: fig-size-rent\n",
    "#| fig-cap: \"Monthly Rent\"\n",
    "df.to_pandas()[['size_sqft', 'monthly_rent_rm']].plot(kind='scatter', x='size_sqft', y='monthly_rent_rm');\n",
    "plt.ylim(100,5500)\n",
    "plt.xlim(50,3000)\n",
    "plt.show()"
   ]
  },
  {
   "cell_type": "code",
   "execution_count": 28,
   "id": "eb190672-9a4b-4bc0-8a47-321271f37253",
   "metadata": {},
   "outputs": [
    {
     "data": {
      "image/png": "[encoded data removed]",
      "text/plain": [
       "<Figure size 640x480 with 2 Axes>"
      ]
     },
     "metadata": {},
     "output_type": "display_data"
    }
   ],
   "source": [
    "#| label: fig-compare-rent\n",
    "#| fig-cap: \"Comparison between Different Scale\"\n",
    "fig, axs = plt.subplots(1,2)\n",
    "axs[0].boxplot(data=df.to_pandas(), x='monthly_rent_rm')\n",
    "axs[0].set_ylim(0,20000)\n",
    "axs[0].set_title('all data')\n",
    "\n",
    "axs[1].boxplot(data=df.to_pandas(), x='monthly_rent_rm')\n",
    "axs[1].set_ylim(0,5000)\n",
    "axs[1].set_title('croped at 5,000 RM')\n",
    "\n",
    "plt.tight_layout()\n",
    "plt.show()"
   ]
  },
  {
   "cell_type": "code",
   "execution_count": 29,
   "id": "e9787ad5-d91f-49d8-914d-66b5f28901db",
   "metadata": {
    "tags": []
   },
   "outputs": [
    {
     "data": {
      "text/plain": [
       "<Axes: title={'center': 'all data'}>"
      ]
     },
     "execution_count": 29,
     "metadata": {},
     "output_type": "execute_result"
    },
    {
     "data": {
      "image/png": "[encoded data removed]",
      "text/plain": [
       "<Figure size 640x480 with 1 Axes>"
      ]
     },
     "metadata": {},
     "output_type": "display_data"
    }
   ],
   "source": [
    "df.to_pandas()[\"monthly_rent_rm\"].plot(kind=\"box\", ylim = (0,20000), title='all data')"
   ]
  },
  {
   "cell_type": "code",
   "execution_count": 30,
   "id": "606365b4-96ad-413b-8420-e754aad5b4a5",
   "metadata": {},
   "outputs": [
    {
     "data": {
      "text/plain": [
       "<Axes: title={'center': 'croped at 5,000 RM'}>"
      ]
     },
     "execution_count": 30,
     "metadata": {},
     "output_type": "execute_result"
    },
    {
     "data": {
      "image/png": "[encoded data removed]",
      "text/plain": [
       "<Figure size 640x480 with 1 Axes>"
      ]
     },
     "metadata": {},
     "output_type": "display_data"
    }
   ],
   "source": [
    "df.to_pandas()[\"monthly_rent_rm\"].plot(kind=\"box\", ylim = (0,5000), title='croped at 5,000 RM')"
   ]
  },
  {
   "cell_type": "markdown",
   "id": "2975e313-87aa-4729-bc53-2516a5ff72ec",
   "metadata": {},
   "source": [
    "#### \n",
    "Based on EDA on @fig-size-rent and @fig-compare-rent, author decided to filter the data between 100-5500 RM as follows:"
   ]
  },
  {
   "cell_type": "code",
   "execution_count": 31,
   "id": "92174608-2a84-4fd0-adf8-c002a61b1923",
   "metadata": {},
   "outputs": [
    {
     "data": {
      "text/plain": [
       "['completion_year',\n",
       " 'monthly_rent_rm',\n",
       " 'location',\n",
       " 'property_type',\n",
       " 'rooms',\n",
       " 'parking',\n",
       " 'bathroom',\n",
       " 'size_sqft',\n",
       " 'furnished',\n",
       " 'region',\n",
       " 'nearby_railways']"
      ]
     },
     "execution_count": 31,
     "metadata": {},
     "output_type": "execute_result"
    }
   ],
   "source": [
    "df.columns"
   ]
  },
  {
   "cell_type": "code",
   "execution_count": 32,
   "id": "2dd07177-5dfc-49d4-bd83-1b0b5110ad4e",
   "metadata": {},
   "outputs": [],
   "source": [
    "# removing all rows with monthly rent above 5500 RM and below 100RM\n",
    "dfx = df.filter((pl.col(\"monthly_rent_rm\") > 100) & (pl.col(\"monthly_rent_rm\") < 5500))"
   ]
  },
  {
   "cell_type": "code",
   "execution_count": 33,
   "id": "6a7d6b6e-1d80-4477-8ea8-668be9b8c336",
   "metadata": {},
   "outputs": [
    {
     "data": {
      "text/html": [
       "<div><style>\n",
       ".dataframe > thead > tr > th,\n",
       ".dataframe > tbody > tr > td {\n",
       "  text-align: right;\n",
       "}\n",
       "</style>\n",
       "<small>shape: (7, 12)</small><table border=\"1\" class=\"dataframe\"><thead><tr><th>describe</th><th>completion_year</th><th>monthly_rent_rm</th><th>location</th><th>property_type</th><th>rooms</th><th>parking</th><th>bathroom</th><th>size_sqft</th><th>furnished</th><th>region</th><th>nearby_railways</th></tr><tr><td>str</td><td>f64</td><td>f64</td><td>str</td><td>str</td><td>f64</td><td>f64</td><td>f64</td><td>f64</td><td>str</td><td>str</td><td>f64</td></tr></thead><tbody><tr><td>&quot;count&quot;</td><td>19800.0</td><td>19800.0</td><td>&quot;19800&quot;</td><td>&quot;19800&quot;</td><td>19800.0</td><td>19800.0</td><td>19800.0</td><td>19800.0</td><td>&quot;19800&quot;</td><td>&quot;19800&quot;</td><td>19800.0</td></tr><tr><td>&quot;null_count&quot;</td><td>9101.0</td><td>0.0</td><td>&quot;0&quot;</td><td>&quot;0&quot;</td><td>6.0</td><td>5655.0</td><td>4.0</td><td>0.0</td><td>&quot;1&quot;</td><td>&quot;0&quot;</td><td>5879.0</td></tr><tr><td>&quot;mean&quot;</td><td>2014.851388</td><td>1564.744545</td><td>null</td><td>null</td><td>2.672375</td><td>1.411241</td><td>1.87841</td><td>5960.486768</td><td>null</td><td>null</td><td>0.534444</td></tr><tr><td>&quot;std&quot;</td><td>6.742338</td><td>710.937121</td><td>null</td><td>null</td><td>0.797813</td><td>0.561088</td><td>0.518821</td><td>710662.728891</td><td>null</td><td>null</td><td>0.498828</td></tr><tr><td>&quot;min&quot;</td><td>1977.0</td><td>110.0</td><td>&quot;360&quot;</td><td>&quot;Apartment&quot;</td><td>1.0</td><td>1.0</td><td>1.0</td><td>1.0</td><td>&quot;Fully Furnishe…</td><td>&quot;Kuala Lumpur&quot;</td><td>0.0</td></tr><tr><td>&quot;max&quot;</td><td>2025.0</td><td>5499.0</td><td>&quot;Wangsa Maju&quot;</td><td>&quot;Townhouse Cond…</td><td>10.0</td><td>10.0</td><td>8.0</td><td>9.9999999e7</td><td>&quot;Partially Furn…</td><td>&quot;Selangor&quot;</td><td>1.0</td></tr><tr><td>&quot;median&quot;</td><td>2017.0</td><td>1400.0</td><td>null</td><td>null</td><td>3.0</td><td>1.0</td><td>2.0</td><td>883.0</td><td>null</td><td>null</td><td>1.0</td></tr></tbody></table></div>"
      ],
      "text/plain": [
       "shape: (7, 12)\n",
       "┌───────────┬────────────┬────────────┬───────────┬───┬─────────┬─────────┬───────────┬────────────┐\n",
       "│ describe  ┆ completion ┆ monthly_re ┆ location  ┆ … ┆ size_sq ┆ furnish ┆ region    ┆ nearby_rai │\n",
       "│ ---       ┆ _year      ┆ nt_rm      ┆ ---       ┆   ┆ ft      ┆ ed      ┆ ---       ┆ lways      │\n",
       "│ str       ┆ ---        ┆ ---        ┆ str       ┆   ┆ ---     ┆ ---     ┆ str       ┆ ---        │\n",
       "│           ┆ f64        ┆ f64        ┆           ┆   ┆ f64     ┆ str     ┆           ┆ f64        │\n",
       "╞═══════════╪════════════╪════════════╪═══════════╪═══╪═════════╪═════════╪═══════════╪════════════╡\n",
       "│ count     ┆ 19800.0    ┆ 19800.0    ┆ 19800     ┆ … ┆ 19800.0 ┆ 19800   ┆ 19800     ┆ 19800.0    │\n",
       "│ null_coun ┆ 9101.0     ┆ 0.0        ┆ 0         ┆ … ┆ 0.0     ┆ 1       ┆ 0         ┆ 5879.0     │\n",
       "│ t         ┆            ┆            ┆           ┆   ┆         ┆         ┆           ┆            │\n",
       "│ mean      ┆ 2014.85138 ┆ 1564.74454 ┆ null      ┆ … ┆ 5960.48 ┆ null    ┆ null      ┆ 0.534444   │\n",
       "│           ┆ 8          ┆ 5          ┆           ┆   ┆ 6768    ┆         ┆           ┆            │\n",
       "│ std       ┆ 6.742338   ┆ 710.937121 ┆ null      ┆ … ┆ 710662. ┆ null    ┆ null      ┆ 0.498828   │\n",
       "│           ┆            ┆            ┆           ┆   ┆ 728891  ┆         ┆           ┆            │\n",
       "│ min       ┆ 1977.0     ┆ 110.0      ┆ 360       ┆ … ┆ 1.0     ┆ Fully   ┆ Kuala     ┆ 0.0        │\n",
       "│           ┆            ┆            ┆           ┆   ┆         ┆ Furnish ┆ Lumpur    ┆            │\n",
       "│           ┆            ┆            ┆           ┆   ┆         ┆ ed      ┆           ┆            │\n",
       "│ max       ┆ 2025.0     ┆ 5499.0     ┆ Wangsa    ┆ … ┆ 9.99999 ┆ Partial ┆ Selangor  ┆ 1.0        │\n",
       "│           ┆            ┆            ┆ Maju      ┆   ┆ 99e7    ┆ ly Furn ┆           ┆            │\n",
       "│           ┆            ┆            ┆           ┆   ┆         ┆ ished   ┆           ┆            │\n",
       "│ median    ┆ 2017.0     ┆ 1400.0     ┆ null      ┆ … ┆ 883.0   ┆ null    ┆ null      ┆ 1.0        │\n",
       "└───────────┴────────────┴────────────┴───────────┴───┴─────────┴─────────┴───────────┴────────────┘"
      ]
     },
     "execution_count": 33,
     "metadata": {},
     "output_type": "execute_result"
    }
   ],
   "source": [
    "dfx.describe()"
   ]
  },
  {
   "cell_type": "code",
   "execution_count": 34,
   "id": "6c87ee5a-38da-4190-99aa-c47c28770c1a",
   "metadata": {
    "tags": []
   },
   "outputs": [
    {
     "data": {
      "text/plain": [
       "<Axes: >"
      ]
     },
     "execution_count": 34,
     "metadata": {},
     "output_type": "execute_result"
    },
    {
     "data": {
      "image/png": "[encoded data removed]",
      "text/plain": [
       "<Figure size 640x480 with 1 Axes>"
      ]
     },
     "metadata": {},
     "output_type": "display_data"
    }
   ],
   "source": [
    "#| label: fig-rent-final\n",
    "#| fig-cap: \"Data after Outlier Removal\"\n",
    "dfx.to_pandas().monthly_rent_rm.plot(kind='box', x='monthly_rent_rm')"
   ]
  },
  {
   "cell_type": "code",
   "execution_count": 35,
   "id": "0a47326e-cf5d-4367-a1a2-317fda7bfc8f",
   "metadata": {},
   "outputs": [
    {
     "data": {
      "image/png": "[encoded data removed]",
      "text/plain": [
       "<Figure size 640x480 with 2 Axes>"
      ]
     },
     "metadata": {},
     "output_type": "display_data"
    }
   ],
   "source": [
    "#| label: fig-size-comparison\n",
    "#| fig-cap: \"Raw Data Size sq.ft\"\n",
    "fig, axs = plt.subplots(1,2)\n",
    "axs[0].boxplot(data=dfx.to_pandas(), x='size_sqft')\n",
    "axs[0].set_ylim(0,20000)\n",
    "axs[0].set_title('all data')\n",
    "\n",
    "axs[1].boxplot(data=dfx.to_pandas(), x='size_sqft')\n",
    "axs[1].set_ylim(0,2000)\n",
    "axs[1].set_title('croped at 0-2,000 square feet')\n",
    "\n",
    "plt.tight_layout()\n",
    "plt.show()"
   ]
  },
  {
   "cell_type": "raw",
   "id": "254eef45-1219-4cdb-bb2f-791c67983d58",
   "metadata": {
    "tags": []
   },
   "source": [
    "dfx.to_pandas()[\"size_sqft\"].plot(kind=\"box\", ylim = (0,20000), title='all data')"
   ]
  },
  {
   "cell_type": "raw",
   "id": "dcd95fd9-49a0-4322-bc47-0346355075ba",
   "metadata": {},
   "source": [
    "dfx.to_pandas()[\"size_sqft\"].plot(kind=\"box\", ylim = (0,2000), title='croped at 2,000 RM')"
   ]
  },
  {
   "cell_type": "code",
   "execution_count": 36,
   "id": "dabfb4b3-d7a3-43e8-9bfd-b40acead8208",
   "metadata": {},
   "outputs": [],
   "source": [
    "#removing outliers below 500, and higher than 3000 sqft and below 50 sqft\n",
    "dfx = dfx.filter((pl.col(\"size_sqft\") > 50) & (pl.col(\"size_sqft\") < 3000))"
   ]
  },
  {
   "cell_type": "code",
   "execution_count": 37,
   "id": "2efbcb16-8a8b-4f9a-ba91-6845ba4b9d88",
   "metadata": {},
   "outputs": [
    {
     "data": {
      "text/plain": [
       "<Axes: >"
      ]
     },
     "execution_count": 37,
     "metadata": {},
     "output_type": "execute_result"
    },
    {
     "data": {
      "image/png": "[encoded data removed]",
      "text/plain": [
       "<Figure size 640x480 with 1 Axes>"
      ]
     },
     "metadata": {},
     "output_type": "display_data"
    }
   ],
   "source": [
    "dfx.to_pandas()[\"size_sqft\"].plot(kind='box')"
   ]
  },
  {
   "cell_type": "raw",
   "id": "524fcc88-039d-400f-8362-1d98909dab2d",
   "metadata": {},
   "source": [
    "dfx.drop(\"monthly_rent_rm\").to_pandas()"
   ]
  },
  {
   "cell_type": "raw",
   "id": "7db72683-844a-4ff0-9e69-0d27e3d11938",
   "metadata": {},
   "source": [
    "dfx.select(pl.col(\"monthly_rent_rm\")).to_numpy()"
   ]
  },
  {
   "cell_type": "code",
   "execution_count": 38,
   "id": "4e8e8c45-642c-4020-a625-2e7874592ecf",
   "metadata": {},
   "outputs": [
    {
     "data": {
      "image/png": "[encoded data removed]",
      "text/plain": [
       "<Figure size 1200x400 with 5 Axes>"
      ]
     },
     "metadata": {},
     "output_type": "display_data"
    }
   ],
   "source": [
    "#| label: fig-complete-outliers\n",
    "#| fig-cap: \"Final Data after Outlier Removal\"\n",
    "fig, axs = plt.subplots(1,5, figsize=(12,4))\n",
    "axs[0].boxplot(data=dfx.to_pandas().dropna(), x='size_sqft')\n",
    "axs[1].boxplot(data=dfx.to_pandas().dropna(), x='rooms')\n",
    "axs[2].boxplot(data=dfx.to_pandas().dropna(), x='parking')\n",
    "axs[3].boxplot(data=dfx.to_pandas().dropna(), x='bathroom')\n",
    "# axs[4].boxplot(data=dfx.dropna(), x='completion_year')\n",
    "\n",
    "axs[0].set_title('Size')\n",
    "axs[1].set_title('Rooms')\n",
    "axs[2].set_title('Parking')\n",
    "axs[3].set_title('Bathrooms')\n",
    "# axs[4].set_title('Completion Year')\n",
    "\n",
    "plt.tight_layout()\n",
    "plt.show()"
   ]
  },
  {
   "cell_type": "markdown",
   "id": "df7b2066-4ff9-48ee-9046-4846895c04db",
   "metadata": {
    "tags": []
   },
   "source": [
    "#### Data Preprocessing\n",
    "##### Input-Output"
   ]
  },
  {
   "cell_type": "markdown",
   "id": "fbf06844-2109-4d21-b86e-52c747860342",
   "metadata": {},
   "source": [
    "##### Train-Test Split Data"
   ]
  },
  {
   "cell_type": "code",
   "execution_count": 39,
   "id": "0ecf1f7d-5eaa-4715-ac5f-4556059ae30b",
   "metadata": {},
   "outputs": [],
   "source": [
    "from sklearn.model_selection import train_test_split"
   ]
  },
  {
   "cell_type": "code",
   "execution_count": 40,
   "id": "c666a01b-a02f-4132-869a-ccb0b8f10d06",
   "metadata": {},
   "outputs": [],
   "source": [
    "X_train, X_test, y_train, y_test = train_test_split(dfx.drop(\"monthly_rent_rm\").to_pandas(),\n",
    "                                                    dfx.select(pl.col(\"monthly_rent_rm\")).to_numpy(),\n",
    "                                                    test_size = 0.2,\n",
    "                                                    random_state = 123)"
   ]
  },
  {
   "cell_type": "code",
   "execution_count": 41,
   "id": "2b08dd8f-8d9e-4c11-a9f4-d4f430e13b5f",
   "metadata": {},
   "outputs": [
    {
     "data": {
      "text/plain": [
       "0.20004048378118516"
      ]
     },
     "execution_count": 41,
     "metadata": {},
     "output_type": "execute_result"
    }
   ],
   "source": [
    "len(X_test)/len(dfx.drop(\"monthly_rent_rm\").to_pandas())"
   ]
  },
  {
   "cell_type": "code",
   "execution_count": 42,
   "id": "34853951-c3e9-4b10-b32b-ca0fceabc883",
   "metadata": {},
   "outputs": [
    {
     "data": {
      "text/html": [
       "<div>\n",
       "<style scoped>\n",
       "    .dataframe tbody tr th:only-of-type {\n",
       "        vertical-align: middle;\n",
       "    }\n",
       "\n",
       "    .dataframe tbody tr th {\n",
       "        vertical-align: top;\n",
       "    }\n",
       "\n",
       "    .dataframe thead th {\n",
       "        text-align: right;\n",
       "    }\n",
       "</style>\n",
       "<table border=\"1\" class=\"dataframe\">\n",
       "  <thead>\n",
       "    <tr style=\"text-align: right;\">\n",
       "      <th></th>\n",
       "      <th>completion_year</th>\n",
       "      <th>location</th>\n",
       "      <th>property_type</th>\n",
       "      <th>rooms</th>\n",
       "      <th>parking</th>\n",
       "      <th>bathroom</th>\n",
       "      <th>size_sqft</th>\n",
       "      <th>furnished</th>\n",
       "      <th>region</th>\n",
       "      <th>nearby_railways</th>\n",
       "    </tr>\n",
       "  </thead>\n",
       "  <tbody>\n",
       "    <tr>\n",
       "      <th>3850</th>\n",
       "      <td>2005.0</td>\n",
       "      <td>Wangsa Maju</td>\n",
       "      <td>Condominium</td>\n",
       "      <td>3.0</td>\n",
       "      <td>1.0</td>\n",
       "      <td>2.0</td>\n",
       "      <td>1152</td>\n",
       "      <td>Partially Furnished</td>\n",
       "      <td>Kuala Lumpur</td>\n",
       "      <td>True</td>\n",
       "    </tr>\n",
       "    <tr>\n",
       "      <th>16305</th>\n",
       "      <td>NaN</td>\n",
       "      <td>Cheras</td>\n",
       "      <td>Condominium</td>\n",
       "      <td>1.0</td>\n",
       "      <td>1.0</td>\n",
       "      <td>1.0</td>\n",
       "      <td>717</td>\n",
       "      <td>Partially Furnished</td>\n",
       "      <td>Kuala Lumpur</td>\n",
       "      <td>True</td>\n",
       "    </tr>\n",
       "    <tr>\n",
       "      <th>9873</th>\n",
       "      <td>1997.0</td>\n",
       "      <td>Mont Kiara</td>\n",
       "      <td>Condominium</td>\n",
       "      <td>2.0</td>\n",
       "      <td>NaN</td>\n",
       "      <td>2.0</td>\n",
       "      <td>1080</td>\n",
       "      <td>Fully Furnished</td>\n",
       "      <td>Kuala Lumpur</td>\n",
       "      <td>False</td>\n",
       "    </tr>\n",
       "    <tr>\n",
       "      <th>4734</th>\n",
       "      <td>2015.0</td>\n",
       "      <td>Cyberjaya</td>\n",
       "      <td>Apartment</td>\n",
       "      <td>1.0</td>\n",
       "      <td>1.0</td>\n",
       "      <td>8.0</td>\n",
       "      <td>550</td>\n",
       "      <td>Fully Furnished</td>\n",
       "      <td>Selangor</td>\n",
       "      <td>True</td>\n",
       "    </tr>\n",
       "    <tr>\n",
       "      <th>10718</th>\n",
       "      <td>1989.0</td>\n",
       "      <td>Cheras</td>\n",
       "      <td>Condominium</td>\n",
       "      <td>3.0</td>\n",
       "      <td>2.0</td>\n",
       "      <td>2.0</td>\n",
       "      <td>1200</td>\n",
       "      <td>Partially Furnished</td>\n",
       "      <td>Selangor</td>\n",
       "      <td>True</td>\n",
       "    </tr>\n",
       "    <tr>\n",
       "      <th>...</th>\n",
       "      <td>...</td>\n",
       "      <td>...</td>\n",
       "      <td>...</td>\n",
       "      <td>...</td>\n",
       "      <td>...</td>\n",
       "      <td>...</td>\n",
       "      <td>...</td>\n",
       "      <td>...</td>\n",
       "      <td>...</td>\n",
       "      <td>...</td>\n",
       "    </tr>\n",
       "    <tr>\n",
       "      <th>13435</th>\n",
       "      <td>2017.0</td>\n",
       "      <td>Seri Kembangan</td>\n",
       "      <td>Service Residence</td>\n",
       "      <td>2.0</td>\n",
       "      <td>NaN</td>\n",
       "      <td>2.0</td>\n",
       "      <td>966</td>\n",
       "      <td>Fully Furnished</td>\n",
       "      <td>Selangor</td>\n",
       "      <td>None</td>\n",
       "    </tr>\n",
       "    <tr>\n",
       "      <th>7763</th>\n",
       "      <td>NaN</td>\n",
       "      <td>Kajang</td>\n",
       "      <td>Flat</td>\n",
       "      <td>3.0</td>\n",
       "      <td>NaN</td>\n",
       "      <td>2.0</td>\n",
       "      <td>856</td>\n",
       "      <td>Not Furnished</td>\n",
       "      <td>Selangor</td>\n",
       "      <td>None</td>\n",
       "    </tr>\n",
       "    <tr>\n",
       "      <th>15377</th>\n",
       "      <td>2006.0</td>\n",
       "      <td>Sentul</td>\n",
       "      <td>Apartment</td>\n",
       "      <td>3.0</td>\n",
       "      <td>1.0</td>\n",
       "      <td>2.0</td>\n",
       "      <td>1100</td>\n",
       "      <td>Partially Furnished</td>\n",
       "      <td>Kuala Lumpur</td>\n",
       "      <td>True</td>\n",
       "    </tr>\n",
       "    <tr>\n",
       "      <th>17730</th>\n",
       "      <td>2015.0</td>\n",
       "      <td>Damansara Perdana</td>\n",
       "      <td>Condominium</td>\n",
       "      <td>1.0</td>\n",
       "      <td>NaN</td>\n",
       "      <td>2.0</td>\n",
       "      <td>850</td>\n",
       "      <td>Fully Furnished</td>\n",
       "      <td>Selangor</td>\n",
       "      <td>True</td>\n",
       "    </tr>\n",
       "    <tr>\n",
       "      <th>15725</th>\n",
       "      <td>NaN</td>\n",
       "      <td>Bukit Jalil</td>\n",
       "      <td>Condominium</td>\n",
       "      <td>3.0</td>\n",
       "      <td>2.0</td>\n",
       "      <td>2.0</td>\n",
       "      <td>1069</td>\n",
       "      <td>Fully Furnished</td>\n",
       "      <td>Kuala Lumpur</td>\n",
       "      <td>True</td>\n",
       "    </tr>\n",
       "  </tbody>\n",
       "</table>\n",
       "<p>15808 rows × 10 columns</p>\n",
       "</div>"
      ],
      "text/plain": [
       "       completion_year           location      property_type  rooms  parking   \n",
       "3850            2005.0        Wangsa Maju        Condominium    3.0      1.0  \\\n",
       "16305              NaN             Cheras        Condominium    1.0      1.0   \n",
       "9873            1997.0         Mont Kiara        Condominium    2.0      NaN   \n",
       "4734            2015.0          Cyberjaya          Apartment    1.0      1.0   \n",
       "10718           1989.0             Cheras        Condominium    3.0      2.0   \n",
       "...                ...                ...                ...    ...      ...   \n",
       "13435           2017.0     Seri Kembangan  Service Residence    2.0      NaN   \n",
       "7763               NaN             Kajang               Flat    3.0      NaN   \n",
       "15377           2006.0             Sentul          Apartment    3.0      1.0   \n",
       "17730           2015.0  Damansara Perdana        Condominium    1.0      NaN   \n",
       "15725              NaN        Bukit Jalil        Condominium    3.0      2.0   \n",
       "\n",
       "       bathroom  size_sqft            furnished        region nearby_railways  \n",
       "3850        2.0       1152  Partially Furnished  Kuala Lumpur            True  \n",
       "16305       1.0        717  Partially Furnished  Kuala Lumpur            True  \n",
       "9873        2.0       1080      Fully Furnished  Kuala Lumpur           False  \n",
       "4734        8.0        550      Fully Furnished      Selangor            True  \n",
       "10718       2.0       1200  Partially Furnished      Selangor            True  \n",
       "...         ...        ...                  ...           ...             ...  \n",
       "13435       2.0        966      Fully Furnished      Selangor            None  \n",
       "7763        2.0        856        Not Furnished      Selangor            None  \n",
       "15377       2.0       1100  Partially Furnished  Kuala Lumpur            True  \n",
       "17730       2.0        850      Fully Furnished      Selangor            True  \n",
       "15725       2.0       1069      Fully Furnished  Kuala Lumpur            True  \n",
       "\n",
       "[15808 rows x 10 columns]"
      ]
     },
     "execution_count": 42,
     "metadata": {},
     "output_type": "execute_result"
    }
   ],
   "source": [
    "X_train"
   ]
  },
  {
   "cell_type": "markdown",
   "id": "6a383496-f43e-4b37-bf42-9bf1947ef7a9",
   "metadata": {},
   "source": [
    "##### Preprocessing Original Data for Categorical Dtypes\n",
    "\n",
    "One must paying attention to the number of categorical observation in the original data, with respect to the sampling train-test value. If, the test_size = 0.3, that means any categorical observation with a total of 3 and less, would not be distributed evenly among train and test data."
   ]
  },
  {
   "cell_type": "code",
   "execution_count": 43,
   "id": "0a47e132-e2c0-4bc6-9699-ec4fa9d4b474",
   "metadata": {},
   "outputs": [
    {
     "name": "stdout",
     "output_type": "stream",
     "text": [
      "127\n",
      "125\n",
      "114\n"
     ]
    }
   ],
   "source": [
    "print(dfx[\"location\"].n_unique())\n",
    "print(X_train.location.nunique())\n",
    "print(X_test.location.nunique())"
   ]
  },
  {
   "cell_type": "code",
   "execution_count": 44,
   "id": "6380b4a4-1e07-4912-9bb3-e1d1c209b8d2",
   "metadata": {},
   "outputs": [
    {
     "name": "stdout",
     "output_type": "stream",
     "text": [
      "10\n",
      "9\n",
      "9\n"
     ]
    }
   ],
   "source": [
    "print(dfx[\"property_type\"].n_unique())\n",
    "print(X_train.property_type.nunique())\n",
    "print(X_test.property_type.nunique())"
   ]
  },
  {
   "cell_type": "code",
   "execution_count": 45,
   "id": "b531a303-01a6-4865-b992-1976468d58b8",
   "metadata": {},
   "outputs": [
    {
     "name": "stdout",
     "output_type": "stream",
     "text": [
      "{None}\n",
      "{'369', 'Serendah', 'Others', 'Salak Tinggi', 'Bandar Botanic', 'Kuala Selangor', 'Sungai Penchala', '43', 'Pulau Indah (Pulau Lumut)', 'Damansara Jaya', 'Mutiara Damansara', 'Hulu Langat', 'Chan Sow Lin'}\n",
      "{'Houses'}\n",
      "set()\n"
     ]
    }
   ],
   "source": [
    "print(set(X_train.furnished.to_list()) - set(X_test.furnished.to_list()))\n",
    "print(set(X_train.location.to_list()) - set(X_test.location.to_list()))\n",
    "print(set(X_train.property_type.to_list()) - set(X_test.property_type.to_list()))\n",
    "print(set(X_train.nearby_railways.to_list()) - set(X_test.nearby_railways.to_list()))"
   ]
  },
  {
   "cell_type": "markdown",
   "id": "207247ee-2f66-4d95-b3a1-5c1e7c553b58",
   "metadata": {},
   "source": [
    "#### \n",
    "Dropping Data"
   ]
  },
  {
   "cell_type": "code",
   "execution_count": 46,
   "id": "4dcffdbb-12fa-48ba-84b3-5ed8d2a3086d",
   "metadata": {},
   "outputs": [
    {
     "data": {
      "text/html": [
       "<div><style>\n",
       ".dataframe > thead > tr > th,\n",
       ".dataframe > tbody > tr > td {\n",
       "  text-align: right;\n",
       "}\n",
       "</style>\n",
       "<small>shape: (29, 2)</small><table border=\"1\" class=\"dataframe\"><thead><tr><th>location</th><th>counts</th></tr><tr><td>str</td><td>u32</td></tr></thead><tbody><tr><td>&quot;Bandar Botanic…</td><td>1</td></tr><tr><td>&quot;Sungai Penchal…</td><td>1</td></tr><tr><td>&quot;43&quot;</td><td>1</td></tr><tr><td>&quot;Chan Sow Lin&quot;</td><td>1</td></tr><tr><td>&quot;369&quot;</td><td>1</td></tr><tr><td>&quot;Telok Panglima…</td><td>1</td></tr><tr><td>&quot;Pulau Indah (P…</td><td>1</td></tr><tr><td>&quot;Damansara Jaya…</td><td>1</td></tr><tr><td>&quot;Puncak Jalil&quot;</td><td>1</td></tr><tr><td>&quot;Bukit Beruntun…</td><td>2</td></tr><tr><td>&quot;Mutiara Damans…</td><td>2</td></tr><tr><td>&quot;KL Eco City&quot;</td><td>2</td></tr><tr><td>&hellip;</td><td>&hellip;</td></tr><tr><td>&quot;Saujana Utama&quot;</td><td>3</td></tr><tr><td>&quot;Bukit Subang&quot;</td><td>3</td></tr><tr><td>&quot;Serendah&quot;</td><td>3</td></tr><tr><td>&quot;Salak Tinggi&quot;</td><td>4</td></tr><tr><td>&quot;Others&quot;</td><td>5</td></tr><tr><td>&quot;KL Sentral&quot;</td><td>5</td></tr><tr><td>&quot;Bandar Bukit T…</td><td>5</td></tr><tr><td>&quot;Banting&quot;</td><td>6</td></tr><tr><td>&quot;Salak Selatan&quot;</td><td>6</td></tr><tr><td>&quot;Beranang&quot;</td><td>7</td></tr><tr><td>&quot;Bandar Damai P…</td><td>9</td></tr><tr><td>&quot;Jinjang&quot;</td><td>9</td></tr></tbody></table></div>"
      ],
      "text/plain": [
       "shape: (29, 2)\n",
       "┌──────────────────────┬────────┐\n",
       "│ location             ┆ counts │\n",
       "│ ---                  ┆ ---    │\n",
       "│ str                  ┆ u32    │\n",
       "╞══════════════════════╪════════╡\n",
       "│ Bandar Botanic       ┆ 1      │\n",
       "│ Sungai Penchala      ┆ 1      │\n",
       "│ 43                   ┆ 1      │\n",
       "│ Chan Sow Lin         ┆ 1      │\n",
       "│ …                    ┆ …      │\n",
       "│ Salak Selatan        ┆ 6      │\n",
       "│ Beranang             ┆ 7      │\n",
       "│ Bandar Damai Perdana ┆ 9      │\n",
       "│ Jinjang              ┆ 9      │\n",
       "└──────────────────────┴────────┘"
      ]
     },
     "execution_count": 46,
     "metadata": {},
     "output_type": "execute_result"
    }
   ],
   "source": [
    "dfx[\"location\"].value_counts().sort(\"counts\").head(29)"
   ]
  },
  {
   "cell_type": "code",
   "execution_count": 47,
   "id": "3c10b80e-a6b3-4815-819b-b3123f747eb0",
   "metadata": {},
   "outputs": [],
   "source": [
    "exclude_location = dfx[\"location\"].value_counts().sort(\"counts\").head(29)[\"location\"].to_numpy()"
   ]
  },
  {
   "cell_type": "code",
   "execution_count": 48,
   "id": "5d2d7fe9-5a96-47a3-b82d-269b13dec721",
   "metadata": {},
   "outputs": [
    {
     "data": {
      "text/plain": [
       "array(['Damansara Jaya', 'Telok Panglima Garang', 'Puncak Jalil',\n",
       "       'Chan Sow Lin', 'Sungai Penchala', '43', 'Bandar Botanic',\n",
       "       'Pulau Indah (Pulau Lumut)', '369', 'Bukit Tunku',\n",
       "       'Bukit Beruntung', 'Damansara', 'KL Eco City', 'Mutiara Damansara',\n",
       "       'Kuala Selangor', 'Saujana Utama', 'Bukit Subang', 'Hulu Langat',\n",
       "       '517', 'Serendah', 'Salak Tinggi', 'Bandar Bukit Tinggi', 'Others',\n",
       "       'KL Sentral', 'Banting', 'Salak Selatan', 'Beranang', 'Jinjang',\n",
       "       'Bandar Damai Perdana'], dtype=object)"
      ]
     },
     "execution_count": 48,
     "metadata": {},
     "output_type": "execute_result"
    }
   ],
   "source": [
    "exclude_location"
   ]
  },
  {
   "cell_type": "code",
   "execution_count": 49,
   "id": "d6a9e454-e9c7-436a-b89d-0e0bbf5e98ea",
   "metadata": {},
   "outputs": [
    {
     "data": {
      "text/html": [
       "<div><style>\n",
       ".dataframe > thead > tr > th,\n",
       ".dataframe > tbody > tr > td {\n",
       "  text-align: right;\n",
       "}\n",
       "</style>\n",
       "<small>shape: (10, 2)</small><table border=\"1\" class=\"dataframe\"><thead><tr><th>property_type</th><th>counts</th></tr><tr><td>str</td><td>u32</td></tr></thead><tbody><tr><td>&quot;Apartment&quot;</td><td>5232</td></tr><tr><td>&quot;Condo / Servic…</td><td>1</td></tr><tr><td>&quot;Condominium&quot;</td><td>8305</td></tr><tr><td>&quot;Duplex&quot;</td><td>72</td></tr><tr><td>&quot;Flat&quot;</td><td>577</td></tr><tr><td>&quot;Houses&quot;</td><td>1</td></tr><tr><td>&quot;Others&quot;</td><td>87</td></tr><tr><td>&quot;Service Reside…</td><td>5264</td></tr><tr><td>&quot;Studio&quot;</td><td>189</td></tr><tr><td>&quot;Townhouse Cond…</td><td>33</td></tr></tbody></table></div>"
      ],
      "text/plain": [
       "shape: (10, 2)\n",
       "┌───────────────────────────────────┬────────┐\n",
       "│ property_type                     ┆ counts │\n",
       "│ ---                               ┆ ---    │\n",
       "│ str                               ┆ u32    │\n",
       "╞═══════════════════════════════════╪════════╡\n",
       "│ Apartment                         ┆ 5232   │\n",
       "│ Condo / Services residence / Pen… ┆ 1      │\n",
       "│ Condominium                       ┆ 8305   │\n",
       "│ Duplex                            ┆ 72     │\n",
       "│ …                                 ┆ …      │\n",
       "│ Others                            ┆ 87     │\n",
       "│ Service Residence                 ┆ 5264   │\n",
       "│ Studio                            ┆ 189    │\n",
       "│ Townhouse Condo                   ┆ 33     │\n",
       "└───────────────────────────────────┴────────┘"
      ]
     },
     "execution_count": 49,
     "metadata": {},
     "output_type": "execute_result"
    }
   ],
   "source": [
    "dfx[\"property_type\"].value_counts().sort(\"property_type\")"
   ]
  },
  {
   "cell_type": "raw",
   "id": "34ac1c85-739c-4c98-acc1-564434814977",
   "metadata": {},
   "source": [
    "dfx_new = dfx.filter(\n",
    "    (pl.col(\"location\") != 'Jinjang') & (pl.col(\"location\") != 'Serdang') & \n",
    "    (pl.col(\"location\") != 'Sentral') & (pl.col(\"location\") != 'Others') & \n",
    "    (pl.col(\"location\") != 'Tunku') & (pl.col(\"location\") != 'Penchala') & \n",
    "    (pl.col(\"location\") != 'Lin') &\n",
    "    # (pl.col(\"property_type != 'Others') &\n",
    "    (pl.col(\"property_type\") != 'Condo / Services residence / Penthouse / Townhouse') &\n",
    "    (pl.col(\"property_type\") != 'Townhouse Condo'))"
   ]
  },
  {
   "cell_type": "code",
   "execution_count": 50,
   "id": "4aea2a66-78ec-4a89-82ad-01ff9857213a",
   "metadata": {},
   "outputs": [],
   "source": [
    "dfx_new = dfx.filter((~pl.col(\"location\").is_in(exclude_location.tolist())))\n",
    "dfx_new = dfx_new.filter((~pl.col(\"property_type\").is_in([\"Condo / Services residence / Penthouse / Townhouse\", \"Townhouse Condo\"])))"
   ]
  },
  {
   "cell_type": "raw",
   "id": "96844ce2-46f5-4db3-bad6-1fff9c14e4f9",
   "metadata": {},
   "source": [
    "dfx_new = dfx.filter(\n",
    "    (pl.col(\"location\") != 'Chan Sow Lin') & (pl.col(\"location\") != 'Sungai Penchala') &\n",
    "    (pl.col(\"location\") != 'Damansara') & (pl.col(\"location\") != 'KL Eco City') & \n",
    "    (pl.col(\"location\") != 'Bukit Tunku') & (pl.col(\"location\") != 'Others') &\n",
    "    (pl.col(\"location\") != 'KL Sentral') & (pl.col(\"location\") != 'Salak Selatan') &\n",
    "    (pl.col(\"location\") != 'Serdang') &  (pl.col(\"location\") != 'Bandar Damai Perdana') &\n",
    "    (pl.col(\"location\") != 'Jinjang') &\n",
    "    # (pl.col(\"property_type != 'Others') &\n",
    "    (pl.col(\"property_type\") != 'Condo / Services residence / Penthouse / Townhouse') &\n",
    "    (pl.col(\"property_type\") != 'Townhouse Condo'))"
   ]
  },
  {
   "cell_type": "code",
   "execution_count": 51,
   "id": "a0c7806f-50a9-47bd-8224-368e52be3c65",
   "metadata": {},
   "outputs": [
    {
     "data": {
      "text/html": [
       "<div><style>\n",
       ".dataframe > thead > tr > th,\n",
       ".dataframe > tbody > tr > td {\n",
       "  text-align: right;\n",
       "}\n",
       "</style>\n",
       "<small>shape: (7, 2)</small><table border=\"1\" class=\"dataframe\"><thead><tr><th>property_type</th><th>counts</th></tr><tr><td>str</td><td>u32</td></tr></thead><tbody><tr><td>&quot;Flat&quot;</td><td>567</td></tr><tr><td>&quot;Condominium&quot;</td><td>8282</td></tr><tr><td>&quot;Service Reside…</td><td>5246</td></tr><tr><td>&quot;Studio&quot;</td><td>187</td></tr><tr><td>&quot;Duplex&quot;</td><td>72</td></tr><tr><td>&quot;Apartment&quot;</td><td>5196</td></tr><tr><td>&quot;Others&quot;</td><td>86</td></tr></tbody></table></div>"
      ],
      "text/plain": [
       "shape: (7, 2)\n",
       "┌───────────────────┬────────┐\n",
       "│ property_type     ┆ counts │\n",
       "│ ---               ┆ ---    │\n",
       "│ str               ┆ u32    │\n",
       "╞═══════════════════╪════════╡\n",
       "│ Flat              ┆ 567    │\n",
       "│ Condominium       ┆ 8282   │\n",
       "│ Service Residence ┆ 5246   │\n",
       "│ Studio            ┆ 187    │\n",
       "│ Duplex            ┆ 72     │\n",
       "│ Apartment         ┆ 5196   │\n",
       "│ Others            ┆ 86     │\n",
       "└───────────────────┴────────┘"
      ]
     },
     "execution_count": 51,
     "metadata": {},
     "output_type": "execute_result"
    }
   ],
   "source": [
    "dfx_new[\"property_type\"].value_counts()"
   ]
  },
  {
   "cell_type": "code",
   "execution_count": 52,
   "id": "9173f04b-41ce-429e-bbfa-6f09fb8c63b2",
   "metadata": {},
   "outputs": [
    {
     "data": {
      "text/html": [
       "<div><style>\n",
       ".dataframe > thead > tr > th,\n",
       ".dataframe > tbody > tr > td {\n",
       "  text-align: right;\n",
       "}\n",
       "</style>\n",
       "<small>shape: (19636, 11)</small><table border=\"1\" class=\"dataframe\"><thead><tr><th>completion_year</th><th>monthly_rent_rm</th><th>location</th><th>property_type</th><th>rooms</th><th>parking</th><th>bathroom</th><th>size_sqft</th><th>furnished</th><th>region</th><th>nearby_railways</th></tr><tr><td>f64</td><td>i64</td><td>str</td><td>str</td><td>i64</td><td>f64</td><td>f64</td><td>i64</td><td>str</td><td>str</td><td>bool</td></tr></thead><tbody><tr><td>2021.0</td><td>2500</td><td>&quot;Kuchai Lama&quot;</td><td>&quot;Condominium&quot;</td><td>3</td><td>2.0</td><td>2.0</td><td>1200</td><td>&quot;Fully Furnishe…</td><td>&quot;Kuala Lumpur&quot;</td><td>true</td></tr><tr><td>2021.0</td><td>1500</td><td>&quot;Cheras&quot;</td><td>&quot;Service Reside…</td><td>2</td><td>1.0</td><td>2.0</td><td>650</td><td>&quot;Partially Furn…</td><td>&quot;Kuala Lumpur&quot;</td><td>true</td></tr><tr><td>null</td><td>700</td><td>&quot;Puchong&quot;</td><td>&quot;Apartment&quot;</td><td>3</td><td>1.0</td><td>2.0</td><td>700</td><td>&quot;Partially Furn…</td><td>&quot;Selangor&quot;</td><td>null</td></tr><tr><td>2017.0</td><td>1500</td><td>&quot;I-City&quot;</td><td>&quot;Service Reside…</td><td>2</td><td>null</td><td>1.0</td><td>600</td><td>&quot;Fully Furnishe…</td><td>&quot;Selangor&quot;</td><td>false</td></tr><tr><td>2015.0</td><td>1700</td><td>&quot;Pandan Jaya&quot;</td><td>&quot;Condominium&quot;</td><td>3</td><td>1.0</td><td>2.0</td><td>1072</td><td>&quot;Partially Furn…</td><td>&quot;Kuala Lumpur&quot;</td><td>true</td></tr><tr><td>2018.0</td><td>1899</td><td>&quot;Taman Melawati…</td><td>&quot;Condominium&quot;</td><td>2</td><td>2.0</td><td>1.0</td><td>640</td><td>&quot;Fully Furnishe…</td><td>&quot;Kuala Lumpur&quot;</td><td>null</td></tr><tr><td>null</td><td>850</td><td>&quot;Damansara Dama…</td><td>&quot;Apartment&quot;</td><td>3</td><td>1.0</td><td>2.0</td><td>700</td><td>&quot;Partially Furn…</td><td>&quot;Selangor&quot;</td><td>true</td></tr><tr><td>2013.0</td><td>1200</td><td>&quot;Ampang&quot;</td><td>&quot;Apartment&quot;</td><td>3</td><td>1.0</td><td>2.0</td><td>850</td><td>&quot;Not Furnished&quot;</td><td>&quot;Selangor&quot;</td><td>null</td></tr><tr><td>2018.0</td><td>850</td><td>&quot;Shah Alam&quot;</td><td>&quot;Condominium&quot;</td><td>1</td><td>1.0</td><td>1.0</td><td>250</td><td>&quot;Partially Furn…</td><td>&quot;Selangor&quot;</td><td>false</td></tr><tr><td>2020.0</td><td>1600</td><td>&quot;Shah Alam&quot;</td><td>&quot;Condominium&quot;</td><td>3</td><td>2.0</td><td>2.0</td><td>875</td><td>&quot;Partially Furn…</td><td>&quot;Selangor&quot;</td><td>null</td></tr><tr><td>2017.0</td><td>1400</td><td>&quot;Cheras&quot;</td><td>&quot;Service Reside…</td><td>3</td><td>2.0</td><td>2.0</td><td>1050</td><td>&quot;Partially Furn…</td><td>&quot;Kuala Lumpur&quot;</td><td>true</td></tr><tr><td>2020.0</td><td>1200</td><td>&quot;Shah Alam&quot;</td><td>&quot;Apartment&quot;</td><td>3</td><td>2.0</td><td>2.0</td><td>870</td><td>&quot;Partially Furn…</td><td>&quot;Selangor&quot;</td><td>false</td></tr><tr><td>&hellip;</td><td>&hellip;</td><td>&hellip;</td><td>&hellip;</td><td>&hellip;</td><td>&hellip;</td><td>&hellip;</td><td>&hellip;</td><td>&hellip;</td><td>&hellip;</td><td>&hellip;</td></tr><tr><td>2017.0</td><td>1500</td><td>&quot;Kajang&quot;</td><td>&quot;Condominium&quot;</td><td>3</td><td>null</td><td>2.0</td><td>1118</td><td>&quot;Partially Furn…</td><td>&quot;Selangor&quot;</td><td>false</td></tr><tr><td>null</td><td>1158</td><td>&quot;Kajang&quot;</td><td>&quot;Apartment&quot;</td><td>3</td><td>2.0</td><td>2.0</td><td>1000</td><td>&quot;Partially Furn…</td><td>&quot;Selangor&quot;</td><td>false</td></tr><tr><td>2014.0</td><td>1400</td><td>&quot;USJ&quot;</td><td>&quot;Service Reside…</td><td>1</td><td>1.0</td><td>1.0</td><td>450</td><td>&quot;Fully Furnishe…</td><td>&quot;Selangor&quot;</td><td>true</td></tr><tr><td>null</td><td>300</td><td>&quot;Damansara Dama…</td><td>&quot;Flat&quot;</td><td>4</td><td>null</td><td>2.0</td><td>650</td><td>&quot;Not Furnished&quot;</td><td>&quot;Selangor&quot;</td><td>false</td></tr><tr><td>2015.0</td><td>3200</td><td>&quot;Desa Pandan&quot;</td><td>&quot;Service Reside…</td><td>2</td><td>2.0</td><td>2.0</td><td>1410</td><td>&quot;Fully Furnishe…</td><td>&quot;Kuala Lumpur&quot;</td><td>false</td></tr><tr><td>null</td><td>900</td><td>&quot;Kepong&quot;</td><td>&quot;Apartment&quot;</td><td>3</td><td>1.0</td><td>2.0</td><td>955</td><td>&quot;Not Furnished&quot;</td><td>&quot;Kuala Lumpur&quot;</td><td>false</td></tr><tr><td>null</td><td>4600</td><td>&quot;Bangsar&quot;</td><td>&quot;Service Reside…</td><td>2</td><td>null</td><td>2.0</td><td>1056</td><td>&quot;Fully Furnishe…</td><td>&quot;Kuala Lumpur&quot;</td><td>null</td></tr><tr><td>1994.0</td><td>1200</td><td>&quot;Setapak&quot;</td><td>&quot;Condominium&quot;</td><td>3</td><td>1.0</td><td>2.0</td><td>911</td><td>&quot;Partially Furn…</td><td>&quot;Kuala Lumpur&quot;</td><td>null</td></tr><tr><td>2020.0</td><td>1300</td><td>&quot;Sentul&quot;</td><td>&quot;Service Reside…</td><td>3</td><td>1.0</td><td>2.0</td><td>819</td><td>&quot;Partially Furn…</td><td>&quot;Kuala Lumpur&quot;</td><td>false</td></tr><tr><td>2018.0</td><td>2400</td><td>&quot;Taman Melawati…</td><td>&quot;Service Reside…</td><td>2</td><td>2.0</td><td>2.0</td><td>856</td><td>&quot;Fully Furnishe…</td><td>&quot;Kuala Lumpur&quot;</td><td>false</td></tr><tr><td>2019.0</td><td>1700</td><td>&quot;Pandan Perdana…</td><td>&quot;Apartment&quot;</td><td>1</td><td>1.0</td><td>1.0</td><td>450</td><td>&quot;Fully Furnishe…</td><td>&quot;Kuala Lumpur&quot;</td><td>true</td></tr><tr><td>2006.0</td><td>1450</td><td>&quot;Petaling Jaya&quot;</td><td>&quot;Apartment&quot;</td><td>3</td><td>null</td><td>2.0</td><td>780</td><td>&quot;Partially Furn…</td><td>&quot;Selangor&quot;</td><td>null</td></tr></tbody></table></div>"
      ],
      "text/plain": [
       "shape: (19_636, 11)\n",
       "┌────────────┬────────────┬───────────┬────────────┬───┬─────────┬─────────┬──────────┬────────────┐\n",
       "│ completion ┆ monthly_re ┆ location  ┆ property_t ┆ … ┆ size_sq ┆ furnish ┆ region   ┆ nearby_rai │\n",
       "│ _year      ┆ nt_rm      ┆ ---       ┆ ype        ┆   ┆ ft      ┆ ed      ┆ ---      ┆ lways      │\n",
       "│ ---        ┆ ---        ┆ str       ┆ ---        ┆   ┆ ---     ┆ ---     ┆ str      ┆ ---        │\n",
       "│ f64        ┆ i64        ┆           ┆ str        ┆   ┆ i64     ┆ str     ┆          ┆ bool       │\n",
       "╞════════════╪════════════╪═══════════╪════════════╪═══╪═════════╪═════════╪══════════╪════════════╡\n",
       "│ 2021.0     ┆ 2500       ┆ Kuchai    ┆ Condominiu ┆ … ┆ 1200    ┆ Fully   ┆ Kuala    ┆ true       │\n",
       "│            ┆            ┆ Lama      ┆ m          ┆   ┆         ┆ Furnish ┆ Lumpur   ┆            │\n",
       "│            ┆            ┆           ┆            ┆   ┆         ┆ ed      ┆          ┆            │\n",
       "│ 2021.0     ┆ 1500       ┆ Cheras    ┆ Service    ┆ … ┆ 650     ┆ Partial ┆ Kuala    ┆ true       │\n",
       "│            ┆            ┆           ┆ Residence  ┆   ┆         ┆ ly Furn ┆ Lumpur   ┆            │\n",
       "│            ┆            ┆           ┆            ┆   ┆         ┆ ished   ┆          ┆            │\n",
       "│ null       ┆ 700        ┆ Puchong   ┆ Apartment  ┆ … ┆ 700     ┆ Partial ┆ Selangor ┆ null       │\n",
       "│            ┆            ┆           ┆            ┆   ┆         ┆ ly Furn ┆          ┆            │\n",
       "│            ┆            ┆           ┆            ┆   ┆         ┆ ished   ┆          ┆            │\n",
       "│ 2017.0     ┆ 1500       ┆ I-City    ┆ Service    ┆ … ┆ 600     ┆ Fully   ┆ Selangor ┆ false      │\n",
       "│            ┆            ┆           ┆ Residence  ┆   ┆         ┆ Furnish ┆          ┆            │\n",
       "│            ┆            ┆           ┆            ┆   ┆         ┆ ed      ┆          ┆            │\n",
       "│ …          ┆ …          ┆ …         ┆ …          ┆ … ┆ …       ┆ …       ┆ …        ┆ …          │\n",
       "│ 2020.0     ┆ 1300       ┆ Sentul    ┆ Service    ┆ … ┆ 819     ┆ Partial ┆ Kuala    ┆ false      │\n",
       "│            ┆            ┆           ┆ Residence  ┆   ┆         ┆ ly Furn ┆ Lumpur   ┆            │\n",
       "│            ┆            ┆           ┆            ┆   ┆         ┆ ished   ┆          ┆            │\n",
       "│ 2018.0     ┆ 2400       ┆ Taman     ┆ Service    ┆ … ┆ 856     ┆ Fully   ┆ Kuala    ┆ false      │\n",
       "│            ┆            ┆ Melawati  ┆ Residence  ┆   ┆         ┆ Furnish ┆ Lumpur   ┆            │\n",
       "│            ┆            ┆           ┆            ┆   ┆         ┆ ed      ┆          ┆            │\n",
       "│ 2019.0     ┆ 1700       ┆ Pandan    ┆ Apartment  ┆ … ┆ 450     ┆ Fully   ┆ Kuala    ┆ true       │\n",
       "│            ┆            ┆ Perdana   ┆            ┆   ┆         ┆ Furnish ┆ Lumpur   ┆            │\n",
       "│            ┆            ┆           ┆            ┆   ┆         ┆ ed      ┆          ┆            │\n",
       "│ 2006.0     ┆ 1450       ┆ Petaling  ┆ Apartment  ┆ … ┆ 780     ┆ Partial ┆ Selangor ┆ null       │\n",
       "│            ┆            ┆ Jaya      ┆            ┆   ┆         ┆ ly Furn ┆          ┆            │\n",
       "│            ┆            ┆           ┆            ┆   ┆         ┆ ished   ┆          ┆            │\n",
       "└────────────┴────────────┴───────────┴────────────┴───┴─────────┴─────────┴──────────┴────────────┘"
      ]
     },
     "execution_count": 52,
     "metadata": {},
     "output_type": "execute_result"
    }
   ],
   "source": [
    "dfx_new"
   ]
  },
  {
   "cell_type": "code",
   "execution_count": 53,
   "id": "bcefa192-9ed7-48fb-a048-fb1e8a541498",
   "metadata": {},
   "outputs": [],
   "source": [
    "X_train, X_test, y_train, y_test = train_test_split(dfx_new.drop(\"monthly_rent_rm\").to_pandas(),\n",
    "                                                    dfx_new.select(pl.col(\"monthly_rent_rm\")).to_numpy(),\n",
    "                                                    test_size = 0.2,\n",
    "                                                    random_state = 123)"
   ]
  },
  {
   "cell_type": "code",
   "execution_count": 54,
   "id": "4545ed13-ff9e-40eb-a534-a82dbfd61e99",
   "metadata": {},
   "outputs": [
    {
     "name": "stdout",
     "output_type": "stream",
     "text": [
      "{None}\n",
      "set()\n",
      "set()\n"
     ]
    }
   ],
   "source": [
    "print(set(X_train.furnished.to_list()) - set(X_test.furnished.to_list()))\n",
    "print(set(X_train.location.to_list()) - set(X_test.location.to_list()))\n",
    "print(set(X_train.property_type.to_list()) - set(X_test.property_type.to_list()))"
   ]
  },
  {
   "cell_type": "code",
   "execution_count": 55,
   "id": "34687dc3-776b-4c43-bdde-d9fe8aa12232",
   "metadata": {},
   "outputs": [
    {
     "name": "stdout",
     "output_type": "stream",
     "text": [
      "98\n",
      "98\n",
      "98\n"
     ]
    }
   ],
   "source": [
    "print(dfx_new[\"location\"].n_unique())\n",
    "print(X_train.location.nunique())\n",
    "print(X_test.location.nunique())"
   ]
  },
  {
   "cell_type": "markdown",
   "id": "8db25d47-624d-46df-bc44-b87da4fd4bca",
   "metadata": {},
   "source": [
    "##### Training Data Imputation"
   ]
  },
  {
   "cell_type": "code",
   "execution_count": 56,
   "id": "83675221-1733-4bc9-afbf-2c0a9636a515",
   "metadata": {},
   "outputs": [
    {
     "data": {
      "text/plain": [
       "completion_year    7143\n",
       "location              0\n",
       "property_type         0\n",
       "rooms                 2\n",
       "parking            4461\n",
       "bathroom              1\n",
       "size_sqft             0\n",
       "furnished             1\n",
       "region                0\n",
       "nearby_railways    4647\n",
       "dtype: int64"
      ]
     },
     "execution_count": 56,
     "metadata": {},
     "output_type": "execute_result"
    }
   ],
   "source": [
    "X_train.isna().sum()"
   ]
  },
  {
   "cell_type": "code",
   "execution_count": 57,
   "id": "652d8750-d48e-4d67-8aa2-73ad87da22e2",
   "metadata": {},
   "outputs": [],
   "source": [
    "X_train_num = X_train.select_dtypes(exclude='object')"
   ]
  },
  {
   "cell_type": "code",
   "execution_count": 58,
   "id": "fe51180d-0edc-40cd-a15b-3435643d7626",
   "metadata": {},
   "outputs": [
    {
     "data": {
      "text/plain": [
       "completion_year    7143\n",
       "rooms                 2\n",
       "parking            4461\n",
       "bathroom              1\n",
       "size_sqft             0\n",
       "dtype: int64"
      ]
     },
     "execution_count": 58,
     "metadata": {},
     "output_type": "execute_result"
    }
   ],
   "source": [
    "X_train_num.isna().sum()"
   ]
  },
  {
   "cell_type": "markdown",
   "id": "9357302e-e5e2-40a3-b6e8-845dad1e6169",
   "metadata": {},
   "source": [
    "##### \n",
    "We can fill completion year, rooms, parking and bathroom with mode"
   ]
  },
  {
   "cell_type": "code",
   "execution_count": 59,
   "id": "ddbf2705-e3d6-4acf-a862-b2a18d149e47",
   "metadata": {},
   "outputs": [],
   "source": [
    "from sklearn.impute import SimpleImputer\n",
    "def numericalImputation(X_train_num, strategy = 'most_frequent'):\n",
    "    # create imputer\n",
    "    imputer_num = SimpleImputer(missing_values = np.nan, strategy = strategy)\n",
    "    \n",
    "    # fitting\n",
    "    imputer_num.fit(X_train_num)\n",
    "\n",
    "    # transform\n",
    "    imputed_data = imputer_num.transform(X_train_num)\n",
    "    X_train_num_imputed = pd.DataFrame(imputed_data)\n",
    "\n",
    "    # making imputated and non-imputated columns are the same\n",
    "    X_train_num_imputed.columns = X_train_num.columns\n",
    "    X_train_num_imputed.index = X_train_num.index\n",
    "\n",
    "    return X_train_num_imputed, imputer_num"
   ]
  },
  {
   "cell_type": "code",
   "execution_count": 60,
   "id": "493eaf98-5bad-4974-9a4a-babcff8914fa",
   "metadata": {},
   "outputs": [],
   "source": [
    "def numericalImputationNone(X_train_num, strategy = 'most_frequent'):\n",
    "    # create imputer\n",
    "    imputer_num = SimpleImputer(missing_values = None, strategy = strategy)\n",
    "    \n",
    "    # fitting\n",
    "    imputer_num.fit(X_train_num)\n",
    "\n",
    "    # transform\n",
    "    imputed_data = imputer_num.transform(X_train_num)\n",
    "    X_train_num_imputed = pd.DataFrame(imputed_data)\n",
    "\n",
    "    # making imputated and non-imputated columns are the same\n",
    "    X_train_num_imputed.columns = X_train_num.columns\n",
    "    X_train_num_imputed.index = X_train_num.index\n",
    "\n",
    "    return X_train_num_imputed, imputer_num"
   ]
  },
  {
   "cell_type": "code",
   "execution_count": 61,
   "id": "94150007-0bac-4752-a13f-1ed867ffd30f",
   "metadata": {},
   "outputs": [
    {
     "data": {
      "text/plain": [
       "completion_year    0\n",
       "rooms              0\n",
       "parking            0\n",
       "bathroom           0\n",
       "size_sqft          0\n",
       "dtype: int64"
      ]
     },
     "execution_count": 61,
     "metadata": {},
     "output_type": "execute_result"
    }
   ],
   "source": [
    "X_train_num, imputer_num = numericalImputation(X_train_num, strategy='most_frequent')\n",
    "X_train_num.isna().sum()"
   ]
  },
  {
   "cell_type": "markdown",
   "id": "0a4ae7a3-c902-44bd-b815-7f047bee6f43",
   "metadata": {},
   "source": [
    "##### Categorical Data"
   ]
  },
  {
   "cell_type": "code",
   "execution_count": 62,
   "id": "291bc050-4a43-4f13-b220-6955e0b01e49",
   "metadata": {},
   "outputs": [],
   "source": [
    "X_train_cat = X_train.select_dtypes(include='object')"
   ]
  },
  {
   "cell_type": "code",
   "execution_count": 63,
   "id": "60529093-6663-45ec-9ad5-2ceae7259747",
   "metadata": {},
   "outputs": [
    {
     "data": {
      "text/html": [
       "<div>\n",
       "<style scoped>\n",
       "    .dataframe tbody tr th:only-of-type {\n",
       "        vertical-align: middle;\n",
       "    }\n",
       "\n",
       "    .dataframe tbody tr th {\n",
       "        vertical-align: top;\n",
       "    }\n",
       "\n",
       "    .dataframe thead th {\n",
       "        text-align: right;\n",
       "    }\n",
       "</style>\n",
       "<table border=\"1\" class=\"dataframe\">\n",
       "  <thead>\n",
       "    <tr style=\"text-align: right;\">\n",
       "      <th></th>\n",
       "      <th>location</th>\n",
       "      <th>property_type</th>\n",
       "      <th>furnished</th>\n",
       "      <th>region</th>\n",
       "      <th>nearby_railways</th>\n",
       "    </tr>\n",
       "  </thead>\n",
       "  <tbody>\n",
       "    <tr>\n",
       "      <th>11478</th>\n",
       "      <td>Petaling Jaya</td>\n",
       "      <td>Condominium</td>\n",
       "      <td>Fully Furnished</td>\n",
       "      <td>Selangor</td>\n",
       "      <td>True</td>\n",
       "    </tr>\n",
       "    <tr>\n",
       "      <th>12682</th>\n",
       "      <td>Cheras</td>\n",
       "      <td>Apartment</td>\n",
       "      <td>Partially Furnished</td>\n",
       "      <td>Kuala Lumpur</td>\n",
       "      <td>True</td>\n",
       "    </tr>\n",
       "    <tr>\n",
       "      <th>3238</th>\n",
       "      <td>Sentul</td>\n",
       "      <td>Condominium</td>\n",
       "      <td>Fully Furnished</td>\n",
       "      <td>Kuala Lumpur</td>\n",
       "      <td>True</td>\n",
       "    </tr>\n",
       "    <tr>\n",
       "      <th>6272</th>\n",
       "      <td>Desa Pandan</td>\n",
       "      <td>Apartment</td>\n",
       "      <td>Partially Furnished</td>\n",
       "      <td>Kuala Lumpur</td>\n",
       "      <td>True</td>\n",
       "    </tr>\n",
       "    <tr>\n",
       "      <th>13753</th>\n",
       "      <td>Bukit Jalil</td>\n",
       "      <td>Apartment</td>\n",
       "      <td>Partially Furnished</td>\n",
       "      <td>Kuala Lumpur</td>\n",
       "      <td>True</td>\n",
       "    </tr>\n",
       "    <tr>\n",
       "      <th>...</th>\n",
       "      <td>...</td>\n",
       "      <td>...</td>\n",
       "      <td>...</td>\n",
       "      <td>...</td>\n",
       "      <td>...</td>\n",
       "    </tr>\n",
       "    <tr>\n",
       "      <th>13435</th>\n",
       "      <td>Setapak</td>\n",
       "      <td>Condominium</td>\n",
       "      <td>Partially Furnished</td>\n",
       "      <td>Kuala Lumpur</td>\n",
       "      <td>True</td>\n",
       "    </tr>\n",
       "    <tr>\n",
       "      <th>7763</th>\n",
       "      <td>Sentul</td>\n",
       "      <td>Condominium</td>\n",
       "      <td>Fully Furnished</td>\n",
       "      <td>Kuala Lumpur</td>\n",
       "      <td>True</td>\n",
       "    </tr>\n",
       "    <tr>\n",
       "      <th>15377</th>\n",
       "      <td>Bandar Sri Damansara</td>\n",
       "      <td>Apartment</td>\n",
       "      <td>Not Furnished</td>\n",
       "      <td>Selangor</td>\n",
       "      <td>False</td>\n",
       "    </tr>\n",
       "    <tr>\n",
       "      <th>17730</th>\n",
       "      <td>Bukit Jalil</td>\n",
       "      <td>Condominium</td>\n",
       "      <td>Fully Furnished</td>\n",
       "      <td>Kuala Lumpur</td>\n",
       "      <td>True</td>\n",
       "    </tr>\n",
       "    <tr>\n",
       "      <th>15725</th>\n",
       "      <td>Cheras</td>\n",
       "      <td>Condominium</td>\n",
       "      <td>Not Furnished</td>\n",
       "      <td>Kuala Lumpur</td>\n",
       "      <td>True</td>\n",
       "    </tr>\n",
       "  </tbody>\n",
       "</table>\n",
       "<p>15708 rows × 5 columns</p>\n",
       "</div>"
      ],
      "text/plain": [
       "                   location property_type            furnished        region   \n",
       "11478         Petaling Jaya   Condominium      Fully Furnished      Selangor  \\\n",
       "12682                Cheras     Apartment  Partially Furnished  Kuala Lumpur   \n",
       "3238                 Sentul   Condominium      Fully Furnished  Kuala Lumpur   \n",
       "6272            Desa Pandan     Apartment  Partially Furnished  Kuala Lumpur   \n",
       "13753           Bukit Jalil     Apartment  Partially Furnished  Kuala Lumpur   \n",
       "...                     ...           ...                  ...           ...   \n",
       "13435               Setapak   Condominium  Partially Furnished  Kuala Lumpur   \n",
       "7763                 Sentul   Condominium      Fully Furnished  Kuala Lumpur   \n",
       "15377  Bandar Sri Damansara     Apartment        Not Furnished      Selangor   \n",
       "17730           Bukit Jalil   Condominium      Fully Furnished  Kuala Lumpur   \n",
       "15725                Cheras   Condominium        Not Furnished  Kuala Lumpur   \n",
       "\n",
       "      nearby_railways  \n",
       "11478            True  \n",
       "12682            True  \n",
       "3238             True  \n",
       "6272             True  \n",
       "13753            True  \n",
       "...               ...  \n",
       "13435            True  \n",
       "7763             True  \n",
       "15377           False  \n",
       "17730            True  \n",
       "15725            True  \n",
       "\n",
       "[15708 rows x 5 columns]"
      ]
     },
     "execution_count": 63,
     "metadata": {},
     "output_type": "execute_result"
    }
   ],
   "source": [
    "X_train_cat"
   ]
  },
  {
   "cell_type": "code",
   "execution_count": 64,
   "id": "6ab448bb-a6b5-4191-a59e-9214776dda12",
   "metadata": {},
   "outputs": [
    {
     "data": {
      "text/plain": [
       "location              0\n",
       "property_type         0\n",
       "furnished             1\n",
       "region                0\n",
       "nearby_railways    4647\n",
       "dtype: int64"
      ]
     },
     "execution_count": 64,
     "metadata": {},
     "output_type": "execute_result"
    }
   ],
   "source": [
    "X_train_cat.isna().sum()"
   ]
  },
  {
   "cell_type": "markdown",
   "id": "049443b4-82d8-4826-8363-6e1b4dda730c",
   "metadata": {},
   "source": [
    "#### \n",
    "Impute with mode"
   ]
  },
  {
   "cell_type": "code",
   "execution_count": 65,
   "id": "eea8865b-c90e-46f2-8c8e-87950054d006",
   "metadata": {},
   "outputs": [
    {
     "data": {
      "text/plain": [
       "location           0\n",
       "property_type      0\n",
       "furnished          0\n",
       "region             0\n",
       "nearby_railways    0\n",
       "dtype: int64"
      ]
     },
     "execution_count": 65,
     "metadata": {},
     "output_type": "execute_result"
    }
   ],
   "source": [
    "X_train_cat, imputer_num = numericalImputationNone(X_train_cat, strategy='most_frequent')\n",
    "X_train_cat.isna().sum()"
   ]
  },
  {
   "cell_type": "code",
   "execution_count": 66,
   "id": "3f6885e8-ee63-4210-b904-693d1920357f",
   "metadata": {},
   "outputs": [
    {
     "data": {
      "text/html": [
       "<style>#sk-container-id-1 {color: black;background-color: white;}#sk-container-id-1 pre{padding: 0;}#sk-container-id-1 div.sk-toggleable {background-color: white;}#sk-container-id-1 label.sk-toggleable__label {cursor: pointer;display: block;width: 100%;margin-bottom: 0;padding: 0.3em;box-sizing: border-box;text-align: center;}#sk-container-id-1 label.sk-toggleable__label-arrow:before {content: \"▸\";float: left;margin-right: 0.25em;color: #696969;}#sk-container-id-1 label.sk-toggleable__label-arrow:hover:before {color: black;}#sk-container-id-1 div.sk-estimator:hover label.sk-toggleable__label-arrow:before {color: black;}#sk-container-id-1 div.sk-toggleable__content {max-height: 0;max-width: 0;overflow: hidden;text-align: left;background-color: #f0f8ff;}#sk-container-id-1 div.sk-toggleable__content pre {margin: 0.2em;color: black;border-radius: 0.25em;background-color: #f0f8ff;}#sk-container-id-1 input.sk-toggleable__control:checked~div.sk-toggleable__content {max-height: 200px;max-width: 100%;overflow: auto;}#sk-container-id-1 input.sk-toggleable__control:checked~label.sk-toggleable__label-arrow:before {content: \"▾\";}#sk-container-id-1 div.sk-estimator input.sk-toggleable__control:checked~label.sk-toggleable__label {background-color: #d4ebff;}#sk-container-id-1 div.sk-label input.sk-toggleable__control:checked~label.sk-toggleable__label {background-color: #d4ebff;}#sk-container-id-1 input.sk-hidden--visually {border: 0;clip: rect(1px 1px 1px 1px);clip: rect(1px, 1px, 1px, 1px);height: 1px;margin: -1px;overflow: hidden;padding: 0;position: absolute;width: 1px;}#sk-container-id-1 div.sk-estimator {font-family: monospace;background-color: #f0f8ff;border: 1px dotted black;border-radius: 0.25em;box-sizing: border-box;margin-bottom: 0.5em;}#sk-container-id-1 div.sk-estimator:hover {background-color: #d4ebff;}#sk-container-id-1 div.sk-parallel-item::after {content: \"\";width: 100%;border-bottom: 1px solid gray;flex-grow: 1;}#sk-container-id-1 div.sk-label:hover label.sk-toggleable__label {background-color: #d4ebff;}#sk-container-id-1 div.sk-serial::before {content: \"\";position: absolute;border-left: 1px solid gray;box-sizing: border-box;top: 0;bottom: 0;left: 50%;z-index: 0;}#sk-container-id-1 div.sk-serial {display: flex;flex-direction: column;align-items: center;background-color: white;padding-right: 0.2em;padding-left: 0.2em;position: relative;}#sk-container-id-1 div.sk-item {position: relative;z-index: 1;}#sk-container-id-1 div.sk-parallel {display: flex;align-items: stretch;justify-content: center;background-color: white;position: relative;}#sk-container-id-1 div.sk-item::before, #sk-container-id-1 div.sk-parallel-item::before {content: \"\";position: absolute;border-left: 1px solid gray;box-sizing: border-box;top: 0;bottom: 0;left: 50%;z-index: -1;}#sk-container-id-1 div.sk-parallel-item {display: flex;flex-direction: column;z-index: 1;position: relative;background-color: white;}#sk-container-id-1 div.sk-parallel-item:first-child::after {align-self: flex-end;width: 50%;}#sk-container-id-1 div.sk-parallel-item:last-child::after {align-self: flex-start;width: 50%;}#sk-container-id-1 div.sk-parallel-item:only-child::after {width: 0;}#sk-container-id-1 div.sk-dashed-wrapped {border: 1px dashed gray;margin: 0 0.4em 0.5em 0.4em;box-sizing: border-box;padding-bottom: 0.4em;background-color: white;}#sk-container-id-1 div.sk-label label {font-family: monospace;font-weight: bold;display: inline-block;line-height: 1.2em;}#sk-container-id-1 div.sk-label-container {text-align: center;}#sk-container-id-1 div.sk-container {/* jupyter's `normalize.less` sets `[hidden] { display: none; }` but bootstrap.min.css set `[hidden] { display: none !important; }` so we also need the `!important` here to be able to override the default hidden behavior on the sphinx rendered scikit-learn.org. See: https://github.com/scikit-learn/scikit-learn/issues/21755 */display: inline-block !important;position: relative;}#sk-container-id-1 div.sk-text-repr-fallback {display: none;}</style><div id=\"sk-container-id-1\" class=\"sk-top-container\"><div class=\"sk-text-repr-fallback\"><pre>SimpleImputer(missing_values=None, strategy=&#x27;most_frequent&#x27;)</pre><b>In a Jupyter environment, please rerun this cell to show the HTML representation or trust the notebook. <br />On GitHub, the HTML representation is unable to render, please try loading this page with nbviewer.org.</b></div><div class=\"sk-container\" hidden><div class=\"sk-item\"><div class=\"sk-estimator sk-toggleable\"><input class=\"sk-toggleable__control sk-hidden--visually\" id=\"sk-estimator-id-1\" type=\"checkbox\" checked><label for=\"sk-estimator-id-1\" class=\"sk-toggleable__label sk-toggleable__label-arrow\">SimpleImputer</label><div class=\"sk-toggleable__content\"><pre>SimpleImputer(missing_values=None, strategy=&#x27;most_frequent&#x27;)</pre></div></div></div></div></div>"
      ],
      "text/plain": [
       "SimpleImputer(missing_values=None, strategy='most_frequent')"
      ]
     },
     "execution_count": 66,
     "metadata": {},
     "output_type": "execute_result"
    }
   ],
   "source": [
    "imputer_num"
   ]
  },
  {
   "cell_type": "markdown",
   "id": "dae65815-2e71-4769-b847-69d4941141f3",
   "metadata": {},
   "source": [
    "##### Preprocessing Categorical Variable"
   ]
  },
  {
   "cell_type": "code",
   "execution_count": 67,
   "id": "b1b35ae6-59b9-458e-8d37-ebcdadb65269",
   "metadata": {},
   "outputs": [],
   "source": [
    "X_train_cat_ohe =  pd.get_dummies(X_train_cat)"
   ]
  },
  {
   "cell_type": "code",
   "execution_count": 68,
   "id": "76896f1f-c892-482a-b3a0-ef85a1c3cb11",
   "metadata": {},
   "outputs": [
    {
     "data": {
      "text/html": [
       "<div>\n",
       "<style scoped>\n",
       "    .dataframe tbody tr th:only-of-type {\n",
       "        vertical-align: middle;\n",
       "    }\n",
       "\n",
       "    .dataframe tbody tr th {\n",
       "        vertical-align: top;\n",
       "    }\n",
       "\n",
       "    .dataframe thead th {\n",
       "        text-align: right;\n",
       "    }\n",
       "</style>\n",
       "<table border=\"1\" class=\"dataframe\">\n",
       "  <thead>\n",
       "    <tr style=\"text-align: right;\">\n",
       "      <th></th>\n",
       "      <th>location_360</th>\n",
       "      <th>location_389</th>\n",
       "      <th>location_639</th>\n",
       "      <th>location_Alam Impian</th>\n",
       "      <th>location_Ampang</th>\n",
       "      <th>location_Ampang Hilir</th>\n",
       "      <th>location_Ara Damansara</th>\n",
       "      <th>location_Balakong</th>\n",
       "      <th>location_Bandar Bukit Raja</th>\n",
       "      <th>location_Bandar Kinrara</th>\n",
       "      <th>...</th>\n",
       "      <th>property_type_Others</th>\n",
       "      <th>property_type_Service Residence</th>\n",
       "      <th>property_type_Studio</th>\n",
       "      <th>furnished_Fully Furnished</th>\n",
       "      <th>furnished_Not Furnished</th>\n",
       "      <th>furnished_Partially Furnished</th>\n",
       "      <th>region_Kuala Lumpur</th>\n",
       "      <th>region_Selangor</th>\n",
       "      <th>nearby_railways_False</th>\n",
       "      <th>nearby_railways_True</th>\n",
       "    </tr>\n",
       "  </thead>\n",
       "  <tbody>\n",
       "    <tr>\n",
       "      <th>11478</th>\n",
       "      <td>False</td>\n",
       "      <td>False</td>\n",
       "      <td>False</td>\n",
       "      <td>False</td>\n",
       "      <td>False</td>\n",
       "      <td>False</td>\n",
       "      <td>False</td>\n",
       "      <td>False</td>\n",
       "      <td>False</td>\n",
       "      <td>False</td>\n",
       "      <td>...</td>\n",
       "      <td>False</td>\n",
       "      <td>False</td>\n",
       "      <td>False</td>\n",
       "      <td>True</td>\n",
       "      <td>False</td>\n",
       "      <td>False</td>\n",
       "      <td>False</td>\n",
       "      <td>True</td>\n",
       "      <td>False</td>\n",
       "      <td>True</td>\n",
       "    </tr>\n",
       "    <tr>\n",
       "      <th>12682</th>\n",
       "      <td>False</td>\n",
       "      <td>False</td>\n",
       "      <td>False</td>\n",
       "      <td>False</td>\n",
       "      <td>False</td>\n",
       "      <td>False</td>\n",
       "      <td>False</td>\n",
       "      <td>False</td>\n",
       "      <td>False</td>\n",
       "      <td>False</td>\n",
       "      <td>...</td>\n",
       "      <td>False</td>\n",
       "      <td>False</td>\n",
       "      <td>False</td>\n",
       "      <td>False</td>\n",
       "      <td>False</td>\n",
       "      <td>True</td>\n",
       "      <td>True</td>\n",
       "      <td>False</td>\n",
       "      <td>False</td>\n",
       "      <td>True</td>\n",
       "    </tr>\n",
       "    <tr>\n",
       "      <th>3238</th>\n",
       "      <td>False</td>\n",
       "      <td>False</td>\n",
       "      <td>False</td>\n",
       "      <td>False</td>\n",
       "      <td>False</td>\n",
       "      <td>False</td>\n",
       "      <td>False</td>\n",
       "      <td>False</td>\n",
       "      <td>False</td>\n",
       "      <td>False</td>\n",
       "      <td>...</td>\n",
       "      <td>False</td>\n",
       "      <td>False</td>\n",
       "      <td>False</td>\n",
       "      <td>True</td>\n",
       "      <td>False</td>\n",
       "      <td>False</td>\n",
       "      <td>True</td>\n",
       "      <td>False</td>\n",
       "      <td>False</td>\n",
       "      <td>True</td>\n",
       "    </tr>\n",
       "    <tr>\n",
       "      <th>6272</th>\n",
       "      <td>False</td>\n",
       "      <td>False</td>\n",
       "      <td>False</td>\n",
       "      <td>False</td>\n",
       "      <td>False</td>\n",
       "      <td>False</td>\n",
       "      <td>False</td>\n",
       "      <td>False</td>\n",
       "      <td>False</td>\n",
       "      <td>False</td>\n",
       "      <td>...</td>\n",
       "      <td>False</td>\n",
       "      <td>False</td>\n",
       "      <td>False</td>\n",
       "      <td>False</td>\n",
       "      <td>False</td>\n",
       "      <td>True</td>\n",
       "      <td>True</td>\n",
       "      <td>False</td>\n",
       "      <td>False</td>\n",
       "      <td>True</td>\n",
       "    </tr>\n",
       "    <tr>\n",
       "      <th>13753</th>\n",
       "      <td>False</td>\n",
       "      <td>False</td>\n",
       "      <td>False</td>\n",
       "      <td>False</td>\n",
       "      <td>False</td>\n",
       "      <td>False</td>\n",
       "      <td>False</td>\n",
       "      <td>False</td>\n",
       "      <td>False</td>\n",
       "      <td>False</td>\n",
       "      <td>...</td>\n",
       "      <td>False</td>\n",
       "      <td>False</td>\n",
       "      <td>False</td>\n",
       "      <td>False</td>\n",
       "      <td>False</td>\n",
       "      <td>True</td>\n",
       "      <td>True</td>\n",
       "      <td>False</td>\n",
       "      <td>False</td>\n",
       "      <td>True</td>\n",
       "    </tr>\n",
       "    <tr>\n",
       "      <th>...</th>\n",
       "      <td>...</td>\n",
       "      <td>...</td>\n",
       "      <td>...</td>\n",
       "      <td>...</td>\n",
       "      <td>...</td>\n",
       "      <td>...</td>\n",
       "      <td>...</td>\n",
       "      <td>...</td>\n",
       "      <td>...</td>\n",
       "      <td>...</td>\n",
       "      <td>...</td>\n",
       "      <td>...</td>\n",
       "      <td>...</td>\n",
       "      <td>...</td>\n",
       "      <td>...</td>\n",
       "      <td>...</td>\n",
       "      <td>...</td>\n",
       "      <td>...</td>\n",
       "      <td>...</td>\n",
       "      <td>...</td>\n",
       "      <td>...</td>\n",
       "    </tr>\n",
       "    <tr>\n",
       "      <th>13435</th>\n",
       "      <td>False</td>\n",
       "      <td>False</td>\n",
       "      <td>False</td>\n",
       "      <td>False</td>\n",
       "      <td>False</td>\n",
       "      <td>False</td>\n",
       "      <td>False</td>\n",
       "      <td>False</td>\n",
       "      <td>False</td>\n",
       "      <td>False</td>\n",
       "      <td>...</td>\n",
       "      <td>False</td>\n",
       "      <td>False</td>\n",
       "      <td>False</td>\n",
       "      <td>False</td>\n",
       "      <td>False</td>\n",
       "      <td>True</td>\n",
       "      <td>True</td>\n",
       "      <td>False</td>\n",
       "      <td>False</td>\n",
       "      <td>True</td>\n",
       "    </tr>\n",
       "    <tr>\n",
       "      <th>7763</th>\n",
       "      <td>False</td>\n",
       "      <td>False</td>\n",
       "      <td>False</td>\n",
       "      <td>False</td>\n",
       "      <td>False</td>\n",
       "      <td>False</td>\n",
       "      <td>False</td>\n",
       "      <td>False</td>\n",
       "      <td>False</td>\n",
       "      <td>False</td>\n",
       "      <td>...</td>\n",
       "      <td>False</td>\n",
       "      <td>False</td>\n",
       "      <td>False</td>\n",
       "      <td>True</td>\n",
       "      <td>False</td>\n",
       "      <td>False</td>\n",
       "      <td>True</td>\n",
       "      <td>False</td>\n",
       "      <td>False</td>\n",
       "      <td>True</td>\n",
       "    </tr>\n",
       "    <tr>\n",
       "      <th>15377</th>\n",
       "      <td>False</td>\n",
       "      <td>False</td>\n",
       "      <td>False</td>\n",
       "      <td>False</td>\n",
       "      <td>False</td>\n",
       "      <td>False</td>\n",
       "      <td>False</td>\n",
       "      <td>False</td>\n",
       "      <td>False</td>\n",
       "      <td>False</td>\n",
       "      <td>...</td>\n",
       "      <td>False</td>\n",
       "      <td>False</td>\n",
       "      <td>False</td>\n",
       "      <td>False</td>\n",
       "      <td>True</td>\n",
       "      <td>False</td>\n",
       "      <td>False</td>\n",
       "      <td>True</td>\n",
       "      <td>True</td>\n",
       "      <td>False</td>\n",
       "    </tr>\n",
       "    <tr>\n",
       "      <th>17730</th>\n",
       "      <td>False</td>\n",
       "      <td>False</td>\n",
       "      <td>False</td>\n",
       "      <td>False</td>\n",
       "      <td>False</td>\n",
       "      <td>False</td>\n",
       "      <td>False</td>\n",
       "      <td>False</td>\n",
       "      <td>False</td>\n",
       "      <td>False</td>\n",
       "      <td>...</td>\n",
       "      <td>False</td>\n",
       "      <td>False</td>\n",
       "      <td>False</td>\n",
       "      <td>True</td>\n",
       "      <td>False</td>\n",
       "      <td>False</td>\n",
       "      <td>True</td>\n",
       "      <td>False</td>\n",
       "      <td>False</td>\n",
       "      <td>True</td>\n",
       "    </tr>\n",
       "    <tr>\n",
       "      <th>15725</th>\n",
       "      <td>False</td>\n",
       "      <td>False</td>\n",
       "      <td>False</td>\n",
       "      <td>False</td>\n",
       "      <td>False</td>\n",
       "      <td>False</td>\n",
       "      <td>False</td>\n",
       "      <td>False</td>\n",
       "      <td>False</td>\n",
       "      <td>False</td>\n",
       "      <td>...</td>\n",
       "      <td>False</td>\n",
       "      <td>False</td>\n",
       "      <td>False</td>\n",
       "      <td>False</td>\n",
       "      <td>True</td>\n",
       "      <td>False</td>\n",
       "      <td>True</td>\n",
       "      <td>False</td>\n",
       "      <td>False</td>\n",
       "      <td>True</td>\n",
       "    </tr>\n",
       "  </tbody>\n",
       "</table>\n",
       "<p>15708 rows × 112 columns</p>\n",
       "</div>"
      ],
      "text/plain": [
       "       location_360  location_389  location_639  location_Alam Impian   \n",
       "11478         False         False         False                 False  \\\n",
       "12682         False         False         False                 False   \n",
       "3238          False         False         False                 False   \n",
       "6272          False         False         False                 False   \n",
       "13753         False         False         False                 False   \n",
       "...             ...           ...           ...                   ...   \n",
       "13435         False         False         False                 False   \n",
       "7763          False         False         False                 False   \n",
       "15377         False         False         False                 False   \n",
       "17730         False         False         False                 False   \n",
       "15725         False         False         False                 False   \n",
       "\n",
       "       location_Ampang  location_Ampang Hilir  location_Ara Damansara   \n",
       "11478            False                  False                   False  \\\n",
       "12682            False                  False                   False   \n",
       "3238             False                  False                   False   \n",
       "6272             False                  False                   False   \n",
       "13753            False                  False                   False   \n",
       "...                ...                    ...                     ...   \n",
       "13435            False                  False                   False   \n",
       "7763             False                  False                   False   \n",
       "15377            False                  False                   False   \n",
       "17730            False                  False                   False   \n",
       "15725            False                  False                   False   \n",
       "\n",
       "       location_Balakong  location_Bandar Bukit Raja  location_Bandar Kinrara   \n",
       "11478              False                       False                    False  \\\n",
       "12682              False                       False                    False   \n",
       "3238               False                       False                    False   \n",
       "6272               False                       False                    False   \n",
       "13753              False                       False                    False   \n",
       "...                  ...                         ...                      ...   \n",
       "13435              False                       False                    False   \n",
       "7763               False                       False                    False   \n",
       "15377              False                       False                    False   \n",
       "17730              False                       False                    False   \n",
       "15725              False                       False                    False   \n",
       "\n",
       "       ...  property_type_Others  property_type_Service Residence   \n",
       "11478  ...                 False                            False  \\\n",
       "12682  ...                 False                            False   \n",
       "3238   ...                 False                            False   \n",
       "6272   ...                 False                            False   \n",
       "13753  ...                 False                            False   \n",
       "...    ...                   ...                              ...   \n",
       "13435  ...                 False                            False   \n",
       "7763   ...                 False                            False   \n",
       "15377  ...                 False                            False   \n",
       "17730  ...                 False                            False   \n",
       "15725  ...                 False                            False   \n",
       "\n",
       "       property_type_Studio  furnished_Fully Furnished   \n",
       "11478                 False                       True  \\\n",
       "12682                 False                      False   \n",
       "3238                  False                       True   \n",
       "6272                  False                      False   \n",
       "13753                 False                      False   \n",
       "...                     ...                        ...   \n",
       "13435                 False                      False   \n",
       "7763                  False                       True   \n",
       "15377                 False                      False   \n",
       "17730                 False                       True   \n",
       "15725                 False                      False   \n",
       "\n",
       "       furnished_Not Furnished  furnished_Partially Furnished   \n",
       "11478                    False                          False  \\\n",
       "12682                    False                           True   \n",
       "3238                     False                          False   \n",
       "6272                     False                           True   \n",
       "13753                    False                           True   \n",
       "...                        ...                            ...   \n",
       "13435                    False                           True   \n",
       "7763                     False                          False   \n",
       "15377                     True                          False   \n",
       "17730                    False                          False   \n",
       "15725                     True                          False   \n",
       "\n",
       "       region_Kuala Lumpur  region_Selangor  nearby_railways_False   \n",
       "11478                False             True                  False  \\\n",
       "12682                 True            False                  False   \n",
       "3238                  True            False                  False   \n",
       "6272                  True            False                  False   \n",
       "13753                 True            False                  False   \n",
       "...                    ...              ...                    ...   \n",
       "13435                 True            False                  False   \n",
       "7763                  True            False                  False   \n",
       "15377                False             True                   True   \n",
       "17730                 True            False                  False   \n",
       "15725                 True            False                  False   \n",
       "\n",
       "       nearby_railways_True  \n",
       "11478                  True  \n",
       "12682                  True  \n",
       "3238                   True  \n",
       "6272                   True  \n",
       "13753                  True  \n",
       "...                     ...  \n",
       "13435                  True  \n",
       "7763                   True  \n",
       "15377                 False  \n",
       "17730                  True  \n",
       "15725                  True  \n",
       "\n",
       "[15708 rows x 112 columns]"
      ]
     },
     "execution_count": 68,
     "metadata": {},
     "output_type": "execute_result"
    }
   ],
   "source": [
    "X_train_cat_ohe"
   ]
  },
  {
   "cell_type": "code",
   "execution_count": 69,
   "id": "9a0e4205-a200-42d1-8ec1-1df445a6423e",
   "metadata": {},
   "outputs": [],
   "source": [
    "ohe_columns = X_train_cat_ohe.columns"
   ]
  },
  {
   "cell_type": "code",
   "execution_count": 70,
   "id": "b7142c4f-5394-4995-b6a8-daadea3a975a",
   "metadata": {},
   "outputs": [
    {
     "data": {
      "text/plain": [
       "location_360                     0\n",
       "location_389                     0\n",
       "location_639                     0\n",
       "location_Alam Impian             0\n",
       "location_Ampang                  0\n",
       "                                ..\n",
       "furnished_Partially Furnished    0\n",
       "region_Kuala Lumpur              0\n",
       "region_Selangor                  0\n",
       "nearby_railways_False            0\n",
       "nearby_railways_True             0\n",
       "Length: 112, dtype: int64"
      ]
     },
     "execution_count": 70,
     "metadata": {},
     "output_type": "execute_result"
    }
   ],
   "source": [
    "X_train_cat_ohe.isna().sum()"
   ]
  },
  {
   "cell_type": "code",
   "execution_count": 71,
   "id": "a41d8683-5196-461a-bc0b-51c9079065cc",
   "metadata": {},
   "outputs": [
    {
     "data": {
      "text/plain": [
       "completion_year    0\n",
       "rooms              0\n",
       "parking            0\n",
       "bathroom           0\n",
       "size_sqft          0\n",
       "dtype: int64"
      ]
     },
     "execution_count": 71,
     "metadata": {},
     "output_type": "execute_result"
    }
   ],
   "source": [
    "X_train_num.isna().sum()"
   ]
  },
  {
   "cell_type": "markdown",
   "id": "6e23bf9c-b5f5-4b4f-98ab-8bb3746f057c",
   "metadata": {},
   "source": [
    "##### Combine Numerical dan Categorical data"
   ]
  },
  {
   "cell_type": "code",
   "execution_count": 72,
   "id": "4d527ec5-8d4f-4c6f-abf3-6e87c8028eba",
   "metadata": {},
   "outputs": [],
   "source": [
    "X_train_concat = pd.concat([X_train_num, X_train_cat_ohe], axis = 1)"
   ]
  },
  {
   "cell_type": "code",
   "execution_count": 73,
   "id": "4d4dde24-387c-41d3-b48f-dda8355462b7",
   "metadata": {},
   "outputs": [
    {
     "data": {
      "text/html": [
       "<div>\n",
       "<style scoped>\n",
       "    .dataframe tbody tr th:only-of-type {\n",
       "        vertical-align: middle;\n",
       "    }\n",
       "\n",
       "    .dataframe tbody tr th {\n",
       "        vertical-align: top;\n",
       "    }\n",
       "\n",
       "    .dataframe thead th {\n",
       "        text-align: right;\n",
       "    }\n",
       "</style>\n",
       "<table border=\"1\" class=\"dataframe\">\n",
       "  <thead>\n",
       "    <tr style=\"text-align: right;\">\n",
       "      <th></th>\n",
       "      <th>completion_year</th>\n",
       "      <th>rooms</th>\n",
       "      <th>parking</th>\n",
       "      <th>bathroom</th>\n",
       "      <th>size_sqft</th>\n",
       "      <th>location_360</th>\n",
       "      <th>location_389</th>\n",
       "      <th>location_639</th>\n",
       "      <th>location_Alam Impian</th>\n",
       "      <th>location_Ampang</th>\n",
       "      <th>...</th>\n",
       "      <th>property_type_Others</th>\n",
       "      <th>property_type_Service Residence</th>\n",
       "      <th>property_type_Studio</th>\n",
       "      <th>furnished_Fully Furnished</th>\n",
       "      <th>furnished_Not Furnished</th>\n",
       "      <th>furnished_Partially Furnished</th>\n",
       "      <th>region_Kuala Lumpur</th>\n",
       "      <th>region_Selangor</th>\n",
       "      <th>nearby_railways_False</th>\n",
       "      <th>nearby_railways_True</th>\n",
       "    </tr>\n",
       "  </thead>\n",
       "  <tbody>\n",
       "    <tr>\n",
       "      <th>11478</th>\n",
       "      <td>2021.0</td>\n",
       "      <td>1.0</td>\n",
       "      <td>2.0</td>\n",
       "      <td>1.0</td>\n",
       "      <td>466.0</td>\n",
       "      <td>False</td>\n",
       "      <td>False</td>\n",
       "      <td>False</td>\n",
       "      <td>False</td>\n",
       "      <td>False</td>\n",
       "      <td>...</td>\n",
       "      <td>False</td>\n",
       "      <td>False</td>\n",
       "      <td>False</td>\n",
       "      <td>True</td>\n",
       "      <td>False</td>\n",
       "      <td>False</td>\n",
       "      <td>False</td>\n",
       "      <td>True</td>\n",
       "      <td>False</td>\n",
       "      <td>True</td>\n",
       "    </tr>\n",
       "    <tr>\n",
       "      <th>12682</th>\n",
       "      <td>2021.0</td>\n",
       "      <td>2.0</td>\n",
       "      <td>1.0</td>\n",
       "      <td>1.0</td>\n",
       "      <td>650.0</td>\n",
       "      <td>False</td>\n",
       "      <td>False</td>\n",
       "      <td>False</td>\n",
       "      <td>False</td>\n",
       "      <td>False</td>\n",
       "      <td>...</td>\n",
       "      <td>False</td>\n",
       "      <td>False</td>\n",
       "      <td>False</td>\n",
       "      <td>False</td>\n",
       "      <td>False</td>\n",
       "      <td>True</td>\n",
       "      <td>True</td>\n",
       "      <td>False</td>\n",
       "      <td>False</td>\n",
       "      <td>True</td>\n",
       "    </tr>\n",
       "    <tr>\n",
       "      <th>3238</th>\n",
       "      <td>2017.0</td>\n",
       "      <td>2.0</td>\n",
       "      <td>1.0</td>\n",
       "      <td>2.0</td>\n",
       "      <td>900.0</td>\n",
       "      <td>False</td>\n",
       "      <td>False</td>\n",
       "      <td>False</td>\n",
       "      <td>False</td>\n",
       "      <td>False</td>\n",
       "      <td>...</td>\n",
       "      <td>False</td>\n",
       "      <td>False</td>\n",
       "      <td>False</td>\n",
       "      <td>True</td>\n",
       "      <td>False</td>\n",
       "      <td>False</td>\n",
       "      <td>True</td>\n",
       "      <td>False</td>\n",
       "      <td>False</td>\n",
       "      <td>True</td>\n",
       "    </tr>\n",
       "    <tr>\n",
       "      <th>6272</th>\n",
       "      <td>2021.0</td>\n",
       "      <td>3.0</td>\n",
       "      <td>1.0</td>\n",
       "      <td>2.0</td>\n",
       "      <td>900.0</td>\n",
       "      <td>False</td>\n",
       "      <td>False</td>\n",
       "      <td>False</td>\n",
       "      <td>False</td>\n",
       "      <td>False</td>\n",
       "      <td>...</td>\n",
       "      <td>False</td>\n",
       "      <td>False</td>\n",
       "      <td>False</td>\n",
       "      <td>False</td>\n",
       "      <td>False</td>\n",
       "      <td>True</td>\n",
       "      <td>True</td>\n",
       "      <td>False</td>\n",
       "      <td>False</td>\n",
       "      <td>True</td>\n",
       "    </tr>\n",
       "    <tr>\n",
       "      <th>13753</th>\n",
       "      <td>2021.0</td>\n",
       "      <td>3.0</td>\n",
       "      <td>1.0</td>\n",
       "      <td>2.0</td>\n",
       "      <td>850.0</td>\n",
       "      <td>False</td>\n",
       "      <td>False</td>\n",
       "      <td>False</td>\n",
       "      <td>False</td>\n",
       "      <td>False</td>\n",
       "      <td>...</td>\n",
       "      <td>False</td>\n",
       "      <td>False</td>\n",
       "      <td>False</td>\n",
       "      <td>False</td>\n",
       "      <td>False</td>\n",
       "      <td>True</td>\n",
       "      <td>True</td>\n",
       "      <td>False</td>\n",
       "      <td>False</td>\n",
       "      <td>True</td>\n",
       "    </tr>\n",
       "    <tr>\n",
       "      <th>...</th>\n",
       "      <td>...</td>\n",
       "      <td>...</td>\n",
       "      <td>...</td>\n",
       "      <td>...</td>\n",
       "      <td>...</td>\n",
       "      <td>...</td>\n",
       "      <td>...</td>\n",
       "      <td>...</td>\n",
       "      <td>...</td>\n",
       "      <td>...</td>\n",
       "      <td>...</td>\n",
       "      <td>...</td>\n",
       "      <td>...</td>\n",
       "      <td>...</td>\n",
       "      <td>...</td>\n",
       "      <td>...</td>\n",
       "      <td>...</td>\n",
       "      <td>...</td>\n",
       "      <td>...</td>\n",
       "      <td>...</td>\n",
       "      <td>...</td>\n",
       "    </tr>\n",
       "    <tr>\n",
       "      <th>13435</th>\n",
       "      <td>2021.0</td>\n",
       "      <td>3.0</td>\n",
       "      <td>1.0</td>\n",
       "      <td>2.0</td>\n",
       "      <td>991.0</td>\n",
       "      <td>False</td>\n",
       "      <td>False</td>\n",
       "      <td>False</td>\n",
       "      <td>False</td>\n",
       "      <td>False</td>\n",
       "      <td>...</td>\n",
       "      <td>False</td>\n",
       "      <td>False</td>\n",
       "      <td>False</td>\n",
       "      <td>False</td>\n",
       "      <td>False</td>\n",
       "      <td>True</td>\n",
       "      <td>True</td>\n",
       "      <td>False</td>\n",
       "      <td>False</td>\n",
       "      <td>True</td>\n",
       "    </tr>\n",
       "    <tr>\n",
       "      <th>7763</th>\n",
       "      <td>2017.0</td>\n",
       "      <td>3.0</td>\n",
       "      <td>1.0</td>\n",
       "      <td>3.0</td>\n",
       "      <td>1200.0</td>\n",
       "      <td>False</td>\n",
       "      <td>False</td>\n",
       "      <td>False</td>\n",
       "      <td>False</td>\n",
       "      <td>False</td>\n",
       "      <td>...</td>\n",
       "      <td>False</td>\n",
       "      <td>False</td>\n",
       "      <td>False</td>\n",
       "      <td>True</td>\n",
       "      <td>False</td>\n",
       "      <td>False</td>\n",
       "      <td>True</td>\n",
       "      <td>False</td>\n",
       "      <td>False</td>\n",
       "      <td>True</td>\n",
       "    </tr>\n",
       "    <tr>\n",
       "      <th>15377</th>\n",
       "      <td>2021.0</td>\n",
       "      <td>3.0</td>\n",
       "      <td>1.0</td>\n",
       "      <td>2.0</td>\n",
       "      <td>750.0</td>\n",
       "      <td>False</td>\n",
       "      <td>False</td>\n",
       "      <td>False</td>\n",
       "      <td>False</td>\n",
       "      <td>False</td>\n",
       "      <td>...</td>\n",
       "      <td>False</td>\n",
       "      <td>False</td>\n",
       "      <td>False</td>\n",
       "      <td>False</td>\n",
       "      <td>True</td>\n",
       "      <td>False</td>\n",
       "      <td>False</td>\n",
       "      <td>True</td>\n",
       "      <td>True</td>\n",
       "      <td>False</td>\n",
       "    </tr>\n",
       "    <tr>\n",
       "      <th>17730</th>\n",
       "      <td>2020.0</td>\n",
       "      <td>3.0</td>\n",
       "      <td>2.0</td>\n",
       "      <td>3.0</td>\n",
       "      <td>1100.0</td>\n",
       "      <td>False</td>\n",
       "      <td>False</td>\n",
       "      <td>False</td>\n",
       "      <td>False</td>\n",
       "      <td>False</td>\n",
       "      <td>...</td>\n",
       "      <td>False</td>\n",
       "      <td>False</td>\n",
       "      <td>False</td>\n",
       "      <td>True</td>\n",
       "      <td>False</td>\n",
       "      <td>False</td>\n",
       "      <td>True</td>\n",
       "      <td>False</td>\n",
       "      <td>False</td>\n",
       "      <td>True</td>\n",
       "    </tr>\n",
       "    <tr>\n",
       "      <th>15725</th>\n",
       "      <td>1996.0</td>\n",
       "      <td>3.0</td>\n",
       "      <td>1.0</td>\n",
       "      <td>2.0</td>\n",
       "      <td>1100.0</td>\n",
       "      <td>False</td>\n",
       "      <td>False</td>\n",
       "      <td>False</td>\n",
       "      <td>False</td>\n",
       "      <td>False</td>\n",
       "      <td>...</td>\n",
       "      <td>False</td>\n",
       "      <td>False</td>\n",
       "      <td>False</td>\n",
       "      <td>False</td>\n",
       "      <td>True</td>\n",
       "      <td>False</td>\n",
       "      <td>True</td>\n",
       "      <td>False</td>\n",
       "      <td>False</td>\n",
       "      <td>True</td>\n",
       "    </tr>\n",
       "  </tbody>\n",
       "</table>\n",
       "<p>15708 rows × 117 columns</p>\n",
       "</div>"
      ],
      "text/plain": [
       "       completion_year  rooms  parking  bathroom  size_sqft  location_360   \n",
       "11478           2021.0    1.0      2.0       1.0      466.0         False  \\\n",
       "12682           2021.0    2.0      1.0       1.0      650.0         False   \n",
       "3238            2017.0    2.0      1.0       2.0      900.0         False   \n",
       "6272            2021.0    3.0      1.0       2.0      900.0         False   \n",
       "13753           2021.0    3.0      1.0       2.0      850.0         False   \n",
       "...                ...    ...      ...       ...        ...           ...   \n",
       "13435           2021.0    3.0      1.0       2.0      991.0         False   \n",
       "7763            2017.0    3.0      1.0       3.0     1200.0         False   \n",
       "15377           2021.0    3.0      1.0       2.0      750.0         False   \n",
       "17730           2020.0    3.0      2.0       3.0     1100.0         False   \n",
       "15725           1996.0    3.0      1.0       2.0     1100.0         False   \n",
       "\n",
       "       location_389  location_639  location_Alam Impian  location_Ampang  ...   \n",
       "11478         False         False                 False            False  ...  \\\n",
       "12682         False         False                 False            False  ...   \n",
       "3238          False         False                 False            False  ...   \n",
       "6272          False         False                 False            False  ...   \n",
       "13753         False         False                 False            False  ...   \n",
       "...             ...           ...                   ...              ...  ...   \n",
       "13435         False         False                 False            False  ...   \n",
       "7763          False         False                 False            False  ...   \n",
       "15377         False         False                 False            False  ...   \n",
       "17730         False         False                 False            False  ...   \n",
       "15725         False         False                 False            False  ...   \n",
       "\n",
       "       property_type_Others  property_type_Service Residence   \n",
       "11478                 False                            False  \\\n",
       "12682                 False                            False   \n",
       "3238                  False                            False   \n",
       "6272                  False                            False   \n",
       "13753                 False                            False   \n",
       "...                     ...                              ...   \n",
       "13435                 False                            False   \n",
       "7763                  False                            False   \n",
       "15377                 False                            False   \n",
       "17730                 False                            False   \n",
       "15725                 False                            False   \n",
       "\n",
       "       property_type_Studio  furnished_Fully Furnished   \n",
       "11478                 False                       True  \\\n",
       "12682                 False                      False   \n",
       "3238                  False                       True   \n",
       "6272                  False                      False   \n",
       "13753                 False                      False   \n",
       "...                     ...                        ...   \n",
       "13435                 False                      False   \n",
       "7763                  False                       True   \n",
       "15377                 False                      False   \n",
       "17730                 False                       True   \n",
       "15725                 False                      False   \n",
       "\n",
       "       furnished_Not Furnished  furnished_Partially Furnished   \n",
       "11478                    False                          False  \\\n",
       "12682                    False                           True   \n",
       "3238                     False                          False   \n",
       "6272                     False                           True   \n",
       "13753                    False                           True   \n",
       "...                        ...                            ...   \n",
       "13435                    False                           True   \n",
       "7763                     False                          False   \n",
       "15377                     True                          False   \n",
       "17730                    False                          False   \n",
       "15725                     True                          False   \n",
       "\n",
       "       region_Kuala Lumpur  region_Selangor  nearby_railways_False   \n",
       "11478                False             True                  False  \\\n",
       "12682                 True            False                  False   \n",
       "3238                  True            False                  False   \n",
       "6272                  True            False                  False   \n",
       "13753                 True            False                  False   \n",
       "...                    ...              ...                    ...   \n",
       "13435                 True            False                  False   \n",
       "7763                  True            False                  False   \n",
       "15377                False             True                   True   \n",
       "17730                 True            False                  False   \n",
       "15725                 True            False                  False   \n",
       "\n",
       "       nearby_railways_True  \n",
       "11478                  True  \n",
       "12682                  True  \n",
       "3238                   True  \n",
       "6272                   True  \n",
       "13753                  True  \n",
       "...                     ...  \n",
       "13435                  True  \n",
       "7763                   True  \n",
       "15377                 False  \n",
       "17730                  True  \n",
       "15725                  True  \n",
       "\n",
       "[15708 rows x 117 columns]"
      ]
     },
     "execution_count": 73,
     "metadata": {},
     "output_type": "execute_result"
    }
   ],
   "source": [
    "X_train_concat"
   ]
  },
  {
   "cell_type": "code",
   "execution_count": 74,
   "id": "0e9add74-e863-405c-a30b-357cb9e17cbb",
   "metadata": {},
   "outputs": [
    {
     "data": {
      "text/plain": [
       "completion_year                  0\n",
       "rooms                            0\n",
       "parking                          0\n",
       "bathroom                         0\n",
       "size_sqft                        0\n",
       "                                ..\n",
       "furnished_Partially Furnished    0\n",
       "region_Kuala Lumpur              0\n",
       "region_Selangor                  0\n",
       "nearby_railways_False            0\n",
       "nearby_railways_True             0\n",
       "Length: 117, dtype: int64"
      ]
     },
     "execution_count": 74,
     "metadata": {},
     "output_type": "execute_result"
    }
   ],
   "source": [
    "X_train_concat.isnull().sum()"
   ]
  },
  {
   "cell_type": "markdown",
   "id": "3547016f-11d7-4ab7-9f04-c8dd1250f2b7",
   "metadata": {},
   "source": [
    "#### Standardization"
   ]
  },
  {
   "cell_type": "code",
   "execution_count": 75,
   "id": "7d627b97-1236-403a-8861-85336aaa1373",
   "metadata": {},
   "outputs": [],
   "source": [
    "from sklearn.preprocessing import StandardScaler\n",
    "def standardizerData(data):\n",
    "    data_columns = data.columns  #preserve columns\n",
    "    data_index = data.index  #preserve index\n",
    "\n",
    "    # create and fit standardizer\n",
    "    standardizer = StandardScaler()\n",
    "    standardizer.fit(data)\n",
    "\n",
    "    # transform data\n",
    "    standardized_data_raw = standardizer.transform(data)\n",
    "    standardized_data = pd.DataFrame(standardized_data_raw)\n",
    "    standardized_data.columns = data_columns\n",
    "    standardized_data.index = data_index\n",
    "\n",
    "    return standardized_data, standardizer"
   ]
  },
  {
   "cell_type": "code",
   "execution_count": 76,
   "id": "f036210d-1f45-4585-8926-19ced0347547",
   "metadata": {},
   "outputs": [],
   "source": [
    "X_train_clean, standardizer = standardizerData(data = X_train_concat)"
   ]
  },
  {
   "cell_type": "code",
   "execution_count": 77,
   "id": "f77c7bd2-e13c-4f7b-89a4-ee8eb5f8c661",
   "metadata": {},
   "outputs": [
    {
     "data": {
      "text/html": [
       "<div>\n",
       "<style scoped>\n",
       "    .dataframe tbody tr th:only-of-type {\n",
       "        vertical-align: middle;\n",
       "    }\n",
       "\n",
       "    .dataframe tbody tr th {\n",
       "        vertical-align: top;\n",
       "    }\n",
       "\n",
       "    .dataframe thead th {\n",
       "        text-align: right;\n",
       "    }\n",
       "</style>\n",
       "<table border=\"1\" class=\"dataframe\">\n",
       "  <thead>\n",
       "    <tr style=\"text-align: right;\">\n",
       "      <th></th>\n",
       "      <th>completion_year</th>\n",
       "      <th>rooms</th>\n",
       "      <th>parking</th>\n",
       "      <th>bathroom</th>\n",
       "      <th>size_sqft</th>\n",
       "      <th>location_360</th>\n",
       "      <th>location_389</th>\n",
       "      <th>location_639</th>\n",
       "      <th>location_Alam Impian</th>\n",
       "      <th>location_Ampang</th>\n",
       "      <th>...</th>\n",
       "      <th>property_type_Others</th>\n",
       "      <th>property_type_Service Residence</th>\n",
       "      <th>property_type_Studio</th>\n",
       "      <th>furnished_Fully Furnished</th>\n",
       "      <th>furnished_Not Furnished</th>\n",
       "      <th>furnished_Partially Furnished</th>\n",
       "      <th>region_Kuala Lumpur</th>\n",
       "      <th>region_Selangor</th>\n",
       "      <th>nearby_railways_False</th>\n",
       "      <th>nearby_railways_True</th>\n",
       "    </tr>\n",
       "  </thead>\n",
       "  <tbody>\n",
       "    <tr>\n",
       "      <th>11478</th>\n",
       "      <td>0.575268</td>\n",
       "      <td>-2.097264</td>\n",
       "      <td>1.413963</td>\n",
       "      <td>-1.721298</td>\n",
       "      <td>-1.607282</td>\n",
       "      <td>-0.052392</td>\n",
       "      <td>-0.047928</td>\n",
       "      <td>-0.029867</td>\n",
       "      <td>-0.0348</td>\n",
       "      <td>-0.186684</td>\n",
       "      <td>...</td>\n",
       "      <td>-0.065449</td>\n",
       "      <td>-0.606478</td>\n",
       "      <td>-0.097527</td>\n",
       "      <td>1.169836</td>\n",
       "      <td>-0.460576</td>\n",
       "      <td>-0.821248</td>\n",
       "      <td>-0.996949</td>\n",
       "      <td>0.996949</td>\n",
       "      <td>-0.695389</td>\n",
       "      <td>0.695389</td>\n",
       "    </tr>\n",
       "    <tr>\n",
       "      <th>12682</th>\n",
       "      <td>0.575268</td>\n",
       "      <td>-0.841735</td>\n",
       "      <td>-0.575693</td>\n",
       "      <td>-1.721298</td>\n",
       "      <td>-0.932677</td>\n",
       "      <td>-0.052392</td>\n",
       "      <td>-0.047928</td>\n",
       "      <td>-0.029867</td>\n",
       "      <td>-0.0348</td>\n",
       "      <td>-0.186684</td>\n",
       "      <td>...</td>\n",
       "      <td>-0.065449</td>\n",
       "      <td>-0.606478</td>\n",
       "      <td>-0.097527</td>\n",
       "      <td>-0.854821</td>\n",
       "      <td>-0.460576</td>\n",
       "      <td>1.217659</td>\n",
       "      <td>1.003060</td>\n",
       "      <td>-1.003060</td>\n",
       "      <td>-0.695389</td>\n",
       "      <td>0.695389</td>\n",
       "    </tr>\n",
       "    <tr>\n",
       "      <th>3238</th>\n",
       "      <td>-0.107542</td>\n",
       "      <td>-0.841735</td>\n",
       "      <td>-0.575693</td>\n",
       "      <td>0.241117</td>\n",
       "      <td>-0.016094</td>\n",
       "      <td>-0.052392</td>\n",
       "      <td>-0.047928</td>\n",
       "      <td>-0.029867</td>\n",
       "      <td>-0.0348</td>\n",
       "      <td>-0.186684</td>\n",
       "      <td>...</td>\n",
       "      <td>-0.065449</td>\n",
       "      <td>-0.606478</td>\n",
       "      <td>-0.097527</td>\n",
       "      <td>1.169836</td>\n",
       "      <td>-0.460576</td>\n",
       "      <td>-0.821248</td>\n",
       "      <td>1.003060</td>\n",
       "      <td>-1.003060</td>\n",
       "      <td>-0.695389</td>\n",
       "      <td>0.695389</td>\n",
       "    </tr>\n",
       "    <tr>\n",
       "      <th>6272</th>\n",
       "      <td>0.575268</td>\n",
       "      <td>0.413794</td>\n",
       "      <td>-0.575693</td>\n",
       "      <td>0.241117</td>\n",
       "      <td>-0.016094</td>\n",
       "      <td>-0.052392</td>\n",
       "      <td>-0.047928</td>\n",
       "      <td>-0.029867</td>\n",
       "      <td>-0.0348</td>\n",
       "      <td>-0.186684</td>\n",
       "      <td>...</td>\n",
       "      <td>-0.065449</td>\n",
       "      <td>-0.606478</td>\n",
       "      <td>-0.097527</td>\n",
       "      <td>-0.854821</td>\n",
       "      <td>-0.460576</td>\n",
       "      <td>1.217659</td>\n",
       "      <td>1.003060</td>\n",
       "      <td>-1.003060</td>\n",
       "      <td>-0.695389</td>\n",
       "      <td>0.695389</td>\n",
       "    </tr>\n",
       "    <tr>\n",
       "      <th>13753</th>\n",
       "      <td>0.575268</td>\n",
       "      <td>0.413794</td>\n",
       "      <td>-0.575693</td>\n",
       "      <td>0.241117</td>\n",
       "      <td>-0.199410</td>\n",
       "      <td>-0.052392</td>\n",
       "      <td>-0.047928</td>\n",
       "      <td>-0.029867</td>\n",
       "      <td>-0.0348</td>\n",
       "      <td>-0.186684</td>\n",
       "      <td>...</td>\n",
       "      <td>-0.065449</td>\n",
       "      <td>-0.606478</td>\n",
       "      <td>-0.097527</td>\n",
       "      <td>-0.854821</td>\n",
       "      <td>-0.460576</td>\n",
       "      <td>1.217659</td>\n",
       "      <td>1.003060</td>\n",
       "      <td>-1.003060</td>\n",
       "      <td>-0.695389</td>\n",
       "      <td>0.695389</td>\n",
       "    </tr>\n",
       "    <tr>\n",
       "      <th>...</th>\n",
       "      <td>...</td>\n",
       "      <td>...</td>\n",
       "      <td>...</td>\n",
       "      <td>...</td>\n",
       "      <td>...</td>\n",
       "      <td>...</td>\n",
       "      <td>...</td>\n",
       "      <td>...</td>\n",
       "      <td>...</td>\n",
       "      <td>...</td>\n",
       "      <td>...</td>\n",
       "      <td>...</td>\n",
       "      <td>...</td>\n",
       "      <td>...</td>\n",
       "      <td>...</td>\n",
       "      <td>...</td>\n",
       "      <td>...</td>\n",
       "      <td>...</td>\n",
       "      <td>...</td>\n",
       "      <td>...</td>\n",
       "      <td>...</td>\n",
       "    </tr>\n",
       "    <tr>\n",
       "      <th>13435</th>\n",
       "      <td>0.575268</td>\n",
       "      <td>0.413794</td>\n",
       "      <td>-0.575693</td>\n",
       "      <td>0.241117</td>\n",
       "      <td>0.317543</td>\n",
       "      <td>-0.052392</td>\n",
       "      <td>-0.047928</td>\n",
       "      <td>-0.029867</td>\n",
       "      <td>-0.0348</td>\n",
       "      <td>-0.186684</td>\n",
       "      <td>...</td>\n",
       "      <td>-0.065449</td>\n",
       "      <td>-0.606478</td>\n",
       "      <td>-0.097527</td>\n",
       "      <td>-0.854821</td>\n",
       "      <td>-0.460576</td>\n",
       "      <td>1.217659</td>\n",
       "      <td>1.003060</td>\n",
       "      <td>-1.003060</td>\n",
       "      <td>-0.695389</td>\n",
       "      <td>0.695389</td>\n",
       "    </tr>\n",
       "    <tr>\n",
       "      <th>7763</th>\n",
       "      <td>-0.107542</td>\n",
       "      <td>0.413794</td>\n",
       "      <td>-0.575693</td>\n",
       "      <td>2.203531</td>\n",
       "      <td>1.083807</td>\n",
       "      <td>-0.052392</td>\n",
       "      <td>-0.047928</td>\n",
       "      <td>-0.029867</td>\n",
       "      <td>-0.0348</td>\n",
       "      <td>-0.186684</td>\n",
       "      <td>...</td>\n",
       "      <td>-0.065449</td>\n",
       "      <td>-0.606478</td>\n",
       "      <td>-0.097527</td>\n",
       "      <td>1.169836</td>\n",
       "      <td>-0.460576</td>\n",
       "      <td>-0.821248</td>\n",
       "      <td>1.003060</td>\n",
       "      <td>-1.003060</td>\n",
       "      <td>-0.695389</td>\n",
       "      <td>0.695389</td>\n",
       "    </tr>\n",
       "    <tr>\n",
       "      <th>15377</th>\n",
       "      <td>0.575268</td>\n",
       "      <td>0.413794</td>\n",
       "      <td>-0.575693</td>\n",
       "      <td>0.241117</td>\n",
       "      <td>-0.566044</td>\n",
       "      <td>-0.052392</td>\n",
       "      <td>-0.047928</td>\n",
       "      <td>-0.029867</td>\n",
       "      <td>-0.0348</td>\n",
       "      <td>-0.186684</td>\n",
       "      <td>...</td>\n",
       "      <td>-0.065449</td>\n",
       "      <td>-0.606478</td>\n",
       "      <td>-0.097527</td>\n",
       "      <td>-0.854821</td>\n",
       "      <td>2.171193</td>\n",
       "      <td>-0.821248</td>\n",
       "      <td>-0.996949</td>\n",
       "      <td>0.996949</td>\n",
       "      <td>1.438043</td>\n",
       "      <td>-1.438043</td>\n",
       "    </tr>\n",
       "    <tr>\n",
       "      <th>17730</th>\n",
       "      <td>0.404565</td>\n",
       "      <td>0.413794</td>\n",
       "      <td>1.413963</td>\n",
       "      <td>2.203531</td>\n",
       "      <td>0.717173</td>\n",
       "      <td>-0.052392</td>\n",
       "      <td>-0.047928</td>\n",
       "      <td>-0.029867</td>\n",
       "      <td>-0.0348</td>\n",
       "      <td>-0.186684</td>\n",
       "      <td>...</td>\n",
       "      <td>-0.065449</td>\n",
       "      <td>-0.606478</td>\n",
       "      <td>-0.097527</td>\n",
       "      <td>1.169836</td>\n",
       "      <td>-0.460576</td>\n",
       "      <td>-0.821248</td>\n",
       "      <td>1.003060</td>\n",
       "      <td>-1.003060</td>\n",
       "      <td>-0.695389</td>\n",
       "      <td>0.695389</td>\n",
       "    </tr>\n",
       "    <tr>\n",
       "      <th>15725</th>\n",
       "      <td>-3.692293</td>\n",
       "      <td>0.413794</td>\n",
       "      <td>-0.575693</td>\n",
       "      <td>0.241117</td>\n",
       "      <td>0.717173</td>\n",
       "      <td>-0.052392</td>\n",
       "      <td>-0.047928</td>\n",
       "      <td>-0.029867</td>\n",
       "      <td>-0.0348</td>\n",
       "      <td>-0.186684</td>\n",
       "      <td>...</td>\n",
       "      <td>-0.065449</td>\n",
       "      <td>-0.606478</td>\n",
       "      <td>-0.097527</td>\n",
       "      <td>-0.854821</td>\n",
       "      <td>2.171193</td>\n",
       "      <td>-0.821248</td>\n",
       "      <td>1.003060</td>\n",
       "      <td>-1.003060</td>\n",
       "      <td>-0.695389</td>\n",
       "      <td>0.695389</td>\n",
       "    </tr>\n",
       "  </tbody>\n",
       "</table>\n",
       "<p>15708 rows × 117 columns</p>\n",
       "</div>"
      ],
      "text/plain": [
       "       completion_year     rooms   parking  bathroom  size_sqft  location_360   \n",
       "11478         0.575268 -2.097264  1.413963 -1.721298  -1.607282     -0.052392  \\\n",
       "12682         0.575268 -0.841735 -0.575693 -1.721298  -0.932677     -0.052392   \n",
       "3238         -0.107542 -0.841735 -0.575693  0.241117  -0.016094     -0.052392   \n",
       "6272          0.575268  0.413794 -0.575693  0.241117  -0.016094     -0.052392   \n",
       "13753         0.575268  0.413794 -0.575693  0.241117  -0.199410     -0.052392   \n",
       "...                ...       ...       ...       ...        ...           ...   \n",
       "13435         0.575268  0.413794 -0.575693  0.241117   0.317543     -0.052392   \n",
       "7763         -0.107542  0.413794 -0.575693  2.203531   1.083807     -0.052392   \n",
       "15377         0.575268  0.413794 -0.575693  0.241117  -0.566044     -0.052392   \n",
       "17730         0.404565  0.413794  1.413963  2.203531   0.717173     -0.052392   \n",
       "15725        -3.692293  0.413794 -0.575693  0.241117   0.717173     -0.052392   \n",
       "\n",
       "       location_389  location_639  location_Alam Impian  location_Ampang  ...   \n",
       "11478     -0.047928     -0.029867               -0.0348        -0.186684  ...  \\\n",
       "12682     -0.047928     -0.029867               -0.0348        -0.186684  ...   \n",
       "3238      -0.047928     -0.029867               -0.0348        -0.186684  ...   \n",
       "6272      -0.047928     -0.029867               -0.0348        -0.186684  ...   \n",
       "13753     -0.047928     -0.029867               -0.0348        -0.186684  ...   \n",
       "...             ...           ...                   ...              ...  ...   \n",
       "13435     -0.047928     -0.029867               -0.0348        -0.186684  ...   \n",
       "7763      -0.047928     -0.029867               -0.0348        -0.186684  ...   \n",
       "15377     -0.047928     -0.029867               -0.0348        -0.186684  ...   \n",
       "17730     -0.047928     -0.029867               -0.0348        -0.186684  ...   \n",
       "15725     -0.047928     -0.029867               -0.0348        -0.186684  ...   \n",
       "\n",
       "       property_type_Others  property_type_Service Residence   \n",
       "11478             -0.065449                        -0.606478  \\\n",
       "12682             -0.065449                        -0.606478   \n",
       "3238              -0.065449                        -0.606478   \n",
       "6272              -0.065449                        -0.606478   \n",
       "13753             -0.065449                        -0.606478   \n",
       "...                     ...                              ...   \n",
       "13435             -0.065449                        -0.606478   \n",
       "7763              -0.065449                        -0.606478   \n",
       "15377             -0.065449                        -0.606478   \n",
       "17730             -0.065449                        -0.606478   \n",
       "15725             -0.065449                        -0.606478   \n",
       "\n",
       "       property_type_Studio  furnished_Fully Furnished   \n",
       "11478             -0.097527                   1.169836  \\\n",
       "12682             -0.097527                  -0.854821   \n",
       "3238              -0.097527                   1.169836   \n",
       "6272              -0.097527                  -0.854821   \n",
       "13753             -0.097527                  -0.854821   \n",
       "...                     ...                        ...   \n",
       "13435             -0.097527                  -0.854821   \n",
       "7763              -0.097527                   1.169836   \n",
       "15377             -0.097527                  -0.854821   \n",
       "17730             -0.097527                   1.169836   \n",
       "15725             -0.097527                  -0.854821   \n",
       "\n",
       "       furnished_Not Furnished  furnished_Partially Furnished   \n",
       "11478                -0.460576                      -0.821248  \\\n",
       "12682                -0.460576                       1.217659   \n",
       "3238                 -0.460576                      -0.821248   \n",
       "6272                 -0.460576                       1.217659   \n",
       "13753                -0.460576                       1.217659   \n",
       "...                        ...                            ...   \n",
       "13435                -0.460576                       1.217659   \n",
       "7763                 -0.460576                      -0.821248   \n",
       "15377                 2.171193                      -0.821248   \n",
       "17730                -0.460576                      -0.821248   \n",
       "15725                 2.171193                      -0.821248   \n",
       "\n",
       "       region_Kuala Lumpur  region_Selangor  nearby_railways_False   \n",
       "11478            -0.996949         0.996949              -0.695389  \\\n",
       "12682             1.003060        -1.003060              -0.695389   \n",
       "3238              1.003060        -1.003060              -0.695389   \n",
       "6272              1.003060        -1.003060              -0.695389   \n",
       "13753             1.003060        -1.003060              -0.695389   \n",
       "...                    ...              ...                    ...   \n",
       "13435             1.003060        -1.003060              -0.695389   \n",
       "7763              1.003060        -1.003060              -0.695389   \n",
       "15377            -0.996949         0.996949               1.438043   \n",
       "17730             1.003060        -1.003060              -0.695389   \n",
       "15725             1.003060        -1.003060              -0.695389   \n",
       "\n",
       "       nearby_railways_True  \n",
       "11478              0.695389  \n",
       "12682              0.695389  \n",
       "3238               0.695389  \n",
       "6272               0.695389  \n",
       "13753              0.695389  \n",
       "...                     ...  \n",
       "13435              0.695389  \n",
       "7763               0.695389  \n",
       "15377             -1.438043  \n",
       "17730              0.695389  \n",
       "15725              0.695389  \n",
       "\n",
       "[15708 rows x 117 columns]"
      ]
     },
     "execution_count": 77,
     "metadata": {},
     "output_type": "execute_result"
    }
   ],
   "source": [
    "X_train_clean"
   ]
  },
  {
   "cell_type": "markdown",
   "id": "2157a617-4711-4474-b89e-479b5781ab34",
   "metadata": {},
   "source": [
    "##### Training Machine Learning\n",
    "Since this is a regression model, R2 score and mean absolute error (MAE) will be used as a performance metrics.\n",
    "\n",
    "The machine learning model will use baseline from average value of the target columns (monthly rent) and also result from linear regression model. After that, author used some of the recommended model based on previous works, which are random forest and gradient boosting to better improve the performance of the model.\n",
    "\n",
    "##### Baseline-Average Value\n",
    "The concept here is to use average value of the target as the easiest way to predict the monhtly rent of a unit."
   ]
  },
  {
   "cell_type": "code",
   "execution_count": 78,
   "id": "546c0e19-e454-41c1-aeca-59c40c4d8faa",
   "metadata": {},
   "outputs": [
    {
     "data": {
      "text/plain": [
       "array([1566.81385281, 1566.81385281, 1566.81385281, ..., 1566.81385281,\n",
       "       1566.81385281, 1566.81385281])"
      ]
     },
     "execution_count": 78,
     "metadata": {},
     "output_type": "execute_result"
    }
   ],
   "source": [
    "y_baseline = np.ones(len(y_train)) * y_train.mean()\n",
    "y_baseline"
   ]
  },
  {
   "cell_type": "code",
   "execution_count": 79,
   "id": "1eb0e10a-b995-4b8f-9e6f-ba08a72bcbcc",
   "metadata": {},
   "outputs": [
    {
     "name": "stdout",
     "output_type": "stream",
     "text": [
      "R2-score: 0.0000 and MAE score: 515.1917\n"
     ]
    }
   ],
   "source": [
    "from sklearn.linear_model import LinearRegression\n",
    "from sklearn.metrics import mean_squared_error, r2_score, mean_absolute_error\n",
    "\n",
    "# Train the linear regression model\n",
    "lin_reg = LinearRegression().fit(X_train_clean, y_train)\n",
    "\n",
    "# Predict using the train data\n",
    "y_pred_train = y_baseline\n",
    "\n",
    "# Calculate R-squared\n",
    "r2_baseline = r2_score(y_train, y_pred_train)\n",
    "\n",
    "# Calculate MAE\n",
    "mae_baseline = mean_absolute_error(y_train, y_pred_train)\n",
    "\n",
    "print(f\"R2-score: {r2_baseline:.4f} and MAE score: {mae_baseline:.4f}\")"
   ]
  },
  {
   "cell_type": "code",
   "execution_count": 80,
   "id": "e7b946b1-3483-4d23-9b20-48b7ce25427f",
   "metadata": {},
   "outputs": [
    {
     "data": {
      "image/png": "[encoded data removed]",
      "text/plain": [
       "<Figure size 640x480 with 1 Axes>"
      ]
     },
     "metadata": {},
     "output_type": "display_data"
    }
   ],
   "source": [
    "plt.scatter(x=y_train, y=y_pred_train);"
   ]
  },
  {
   "cell_type": "markdown",
   "id": "bd6758e2-efc8-4e34-a0ce-68e0c98a9d06",
   "metadata": {},
   "source": [
    "##### Baseline-Linear Regression\n",
    "The second method is using linear regression, which simply put is finding the minum total error (distance) between predicted value and the target value, using linear equation."
   ]
  },
  {
   "cell_type": "code",
   "execution_count": 81,
   "id": "abf15c82-543d-47d0-a3ca-fc2299aa3b77",
   "metadata": {},
   "outputs": [
    {
     "name": "stdout",
     "output_type": "stream",
     "text": [
      "R2-score: 0.6729 and MAE score: 283.0176\n"
     ]
    }
   ],
   "source": [
    "from sklearn.linear_model import LinearRegression\n",
    "from sklearn.metrics import mean_squared_error, r2_score\n",
    "\n",
    "# Train the linear regression model\n",
    "lin_reg = LinearRegression().fit(X_train_clean, y_train)\n",
    "\n",
    "# Predict using the train data\n",
    "# y_pred = y_baseline\n",
    "y_pred_train = lin_reg.predict(X_train_clean)\n",
    "\n",
    "# Calculate mean absolute error\n",
    "mae_linreg = mean_absolute_error(y_train, y_pred_train)\n",
    "\n",
    "# Calculate R-squared\n",
    "r2_linreg = r2_score(y_train, y_pred_train)\n",
    "\n",
    "print(f\"R2-score: {r2_linreg:.4f} and MAE score: {mae_linreg:.4f}\")"
   ]
  },
  {
   "cell_type": "code",
   "execution_count": 82,
   "id": "57f7756a-9c85-4022-af21-307a499848ab",
   "metadata": {},
   "outputs": [
    {
     "data": {
      "text/plain": [
       "array([1100,  900, 2200, ...,  700, 2200, 1350])"
      ]
     },
     "execution_count": 82,
     "metadata": {},
     "output_type": "execute_result"
    }
   ],
   "source": [
    "y_train.flatten()"
   ]
  },
  {
   "cell_type": "code",
   "execution_count": 83,
   "id": "cbef17a7-3f32-42dc-ad3b-df014a68798c",
   "metadata": {},
   "outputs": [
    {
     "data": {
      "text/plain": [
       "(15708, 1)"
      ]
     },
     "execution_count": 83,
     "metadata": {},
     "output_type": "execute_result"
    }
   ],
   "source": [
    "y_pred_train.shape"
   ]
  },
  {
   "cell_type": "code",
   "execution_count": 84,
   "id": "76129032-292b-4991-8c97-d58d24c4b18d",
   "metadata": {},
   "outputs": [
    {
     "data": {
      "image/png": "[encoded data removed]",
      "text/plain": [
       "<Figure size 600x600 with 3 Axes>"
      ]
     },
     "metadata": {},
     "output_type": "display_data"
    }
   ],
   "source": [
    "sns.jointplot(x=y_train.flatten(), y=y_pred_train.flatten());"
   ]
  },
  {
   "cell_type": "markdown",
   "id": "a7cc653e-4d66-4c9a-a3ab-5730636aba13",
   "metadata": {},
   "source": [
    "##### GradientBoosting\n",
    "The gradient boosting, is one of the recommendation from previous works, is a model where each sample would be given a different weights (boosts) depending on its performance in predicting the value/ target."
   ]
  },
  {
   "cell_type": "code",
   "execution_count": 85,
   "id": "aecf1ff9-1944-41d5-a087-e4eef9bc2751",
   "metadata": {},
   "outputs": [],
   "source": [
    "from sklearn.ensemble import GradientBoostingRegressor\n",
    "# Build random forest\n",
    "grad_tree = GradientBoostingRegressor(random_state = 123)"
   ]
  },
  {
   "cell_type": "code",
   "execution_count": 86,
   "id": "34bf7cd0-6926-4fa6-a6f9-f2d0c83293a2",
   "metadata": {},
   "outputs": [
    {
     "data": {
      "text/html": [
       "<style>#sk-container-id-2 {color: black;background-color: white;}#sk-container-id-2 pre{padding: 0;}#sk-container-id-2 div.sk-toggleable {background-color: white;}#sk-container-id-2 label.sk-toggleable__label {cursor: pointer;display: block;width: 100%;margin-bottom: 0;padding: 0.3em;box-sizing: border-box;text-align: center;}#sk-container-id-2 label.sk-toggleable__label-arrow:before {content: \"▸\";float: left;margin-right: 0.25em;color: #696969;}#sk-container-id-2 label.sk-toggleable__label-arrow:hover:before {color: black;}#sk-container-id-2 div.sk-estimator:hover label.sk-toggleable__label-arrow:before {color: black;}#sk-container-id-2 div.sk-toggleable__content {max-height: 0;max-width: 0;overflow: hidden;text-align: left;background-color: #f0f8ff;}#sk-container-id-2 div.sk-toggleable__content pre {margin: 0.2em;color: black;border-radius: 0.25em;background-color: #f0f8ff;}#sk-container-id-2 input.sk-toggleable__control:checked~div.sk-toggleable__content {max-height: 200px;max-width: 100%;overflow: auto;}#sk-container-id-2 input.sk-toggleable__control:checked~label.sk-toggleable__label-arrow:before {content: \"▾\";}#sk-container-id-2 div.sk-estimator input.sk-toggleable__control:checked~label.sk-toggleable__label {background-color: #d4ebff;}#sk-container-id-2 div.sk-label input.sk-toggleable__control:checked~label.sk-toggleable__label {background-color: #d4ebff;}#sk-container-id-2 input.sk-hidden--visually {border: 0;clip: rect(1px 1px 1px 1px);clip: rect(1px, 1px, 1px, 1px);height: 1px;margin: -1px;overflow: hidden;padding: 0;position: absolute;width: 1px;}#sk-container-id-2 div.sk-estimator {font-family: monospace;background-color: #f0f8ff;border: 1px dotted black;border-radius: 0.25em;box-sizing: border-box;margin-bottom: 0.5em;}#sk-container-id-2 div.sk-estimator:hover {background-color: #d4ebff;}#sk-container-id-2 div.sk-parallel-item::after {content: \"\";width: 100%;border-bottom: 1px solid gray;flex-grow: 1;}#sk-container-id-2 div.sk-label:hover label.sk-toggleable__label {background-color: #d4ebff;}#sk-container-id-2 div.sk-serial::before {content: \"\";position: absolute;border-left: 1px solid gray;box-sizing: border-box;top: 0;bottom: 0;left: 50%;z-index: 0;}#sk-container-id-2 div.sk-serial {display: flex;flex-direction: column;align-items: center;background-color: white;padding-right: 0.2em;padding-left: 0.2em;position: relative;}#sk-container-id-2 div.sk-item {position: relative;z-index: 1;}#sk-container-id-2 div.sk-parallel {display: flex;align-items: stretch;justify-content: center;background-color: white;position: relative;}#sk-container-id-2 div.sk-item::before, #sk-container-id-2 div.sk-parallel-item::before {content: \"\";position: absolute;border-left: 1px solid gray;box-sizing: border-box;top: 0;bottom: 0;left: 50%;z-index: -1;}#sk-container-id-2 div.sk-parallel-item {display: flex;flex-direction: column;z-index: 1;position: relative;background-color: white;}#sk-container-id-2 div.sk-parallel-item:first-child::after {align-self: flex-end;width: 50%;}#sk-container-id-2 div.sk-parallel-item:last-child::after {align-self: flex-start;width: 50%;}#sk-container-id-2 div.sk-parallel-item:only-child::after {width: 0;}#sk-container-id-2 div.sk-dashed-wrapped {border: 1px dashed gray;margin: 0 0.4em 0.5em 0.4em;box-sizing: border-box;padding-bottom: 0.4em;background-color: white;}#sk-container-id-2 div.sk-label label {font-family: monospace;font-weight: bold;display: inline-block;line-height: 1.2em;}#sk-container-id-2 div.sk-label-container {text-align: center;}#sk-container-id-2 div.sk-container {/* jupyter's `normalize.less` sets `[hidden] { display: none; }` but bootstrap.min.css set `[hidden] { display: none !important; }` so we also need the `!important` here to be able to override the default hidden behavior on the sphinx rendered scikit-learn.org. See: https://github.com/scikit-learn/scikit-learn/issues/21755 */display: inline-block !important;position: relative;}#sk-container-id-2 div.sk-text-repr-fallback {display: none;}</style><div id=\"sk-container-id-2\" class=\"sk-top-container\"><div class=\"sk-text-repr-fallback\"><pre>GradientBoostingRegressor(random_state=123)</pre><b>In a Jupyter environment, please rerun this cell to show the HTML representation or trust the notebook. <br />On GitHub, the HTML representation is unable to render, please try loading this page with nbviewer.org.</b></div><div class=\"sk-container\" hidden><div class=\"sk-item\"><div class=\"sk-estimator sk-toggleable\"><input class=\"sk-toggleable__control sk-hidden--visually\" id=\"sk-estimator-id-2\" type=\"checkbox\" checked><label for=\"sk-estimator-id-2\" class=\"sk-toggleable__label sk-toggleable__label-arrow\">GradientBoostingRegressor</label><div class=\"sk-toggleable__content\"><pre>GradientBoostingRegressor(random_state=123)</pre></div></div></div></div></div>"
      ],
      "text/plain": [
       "GradientBoostingRegressor(random_state=123)"
      ]
     },
     "execution_count": 86,
     "metadata": {},
     "output_type": "execute_result"
    }
   ],
   "source": [
    "# Fit random forest\n",
    "grad_tree.fit(X_train_clean, y_train.flatten())"
   ]
  },
  {
   "cell_type": "code",
   "execution_count": 87,
   "id": "311a35ac-df6c-4191-ba1f-1d481633df1c",
   "metadata": {},
   "outputs": [
    {
     "name": "stdout",
     "output_type": "stream",
     "text": [
      "R2-score: 0.7065 and MAE score: 268.0626\n"
     ]
    }
   ],
   "source": [
    "# Predict\n",
    "y_pred_train = grad_tree.predict(X_train_clean)\n",
    "# y_pred_test = grad_tree.predict(X_test_clean)\n",
    "\n",
    "# Calculate mean absolute error\n",
    "mae_gb = mean_absolute_error(y_train, y_pred_train)\n",
    "\n",
    "# Calculate R-squared\n",
    "r2_gb = r2_score(y_train, y_pred_train)\n",
    "\n",
    "print(f\"R2-score: {r2_gb:.4f} and MAE score: {mae_gb:.4f}\")"
   ]
  },
  {
   "cell_type": "code",
   "execution_count": 88,
   "id": "78291e0d-f788-451a-b6e3-e8a6d33d1197",
   "metadata": {},
   "outputs": [
    {
     "data": {
      "image/png": "[encoded data removed]",
      "text/plain": [
       "<Figure size 600x600 with 3 Axes>"
      ]
     },
     "metadata": {},
     "output_type": "display_data"
    }
   ],
   "source": [
    "sns.jointplot(x=y_train.flatten(), y=y_pred_train.flatten());"
   ]
  },
  {
   "cell_type": "code",
   "execution_count": 89,
   "id": "a679e203-854b-4a8a-8b9b-bd8cec72da96",
   "metadata": {},
   "outputs": [],
   "source": [
    "# GridSearch\n",
    "\n",
    "from sklearn.model_selection import GridSearchCV \n",
    "\n",
    "\n",
    "params = {'n_estimators': [100, 200, 300, 400, 500],\n",
    "              'learning_rate': [0.1, 0.05, 0.01]}\n",
    "\n",
    "# Create gridsearch\n",
    "grad_tree = GradientBoostingRegressor(random_state = 123)\n",
    "\n",
    "grad_tree_cv = GridSearchCV(estimator = grad_tree,\n",
    "                           param_grid = params,\n",
    "                           cv = 5,\n",
    "                           scoring = \"neg_mean_absolute_error\")"
   ]
  },
  {
   "cell_type": "code",
   "execution_count": 90,
   "id": "60bdb4ba-2005-4803-b74a-49434794d4d4",
   "metadata": {},
   "outputs": [
    {
     "data": {
      "text/html": [
       "<style>#sk-container-id-3 {color: black;background-color: white;}#sk-container-id-3 pre{padding: 0;}#sk-container-id-3 div.sk-toggleable {background-color: white;}#sk-container-id-3 label.sk-toggleable__label {cursor: pointer;display: block;width: 100%;margin-bottom: 0;padding: 0.3em;box-sizing: border-box;text-align: center;}#sk-container-id-3 label.sk-toggleable__label-arrow:before {content: \"▸\";float: left;margin-right: 0.25em;color: #696969;}#sk-container-id-3 label.sk-toggleable__label-arrow:hover:before {color: black;}#sk-container-id-3 div.sk-estimator:hover label.sk-toggleable__label-arrow:before {color: black;}#sk-container-id-3 div.sk-toggleable__content {max-height: 0;max-width: 0;overflow: hidden;text-align: left;background-color: #f0f8ff;}#sk-container-id-3 div.sk-toggleable__content pre {margin: 0.2em;color: black;border-radius: 0.25em;background-color: #f0f8ff;}#sk-container-id-3 input.sk-toggleable__control:checked~div.sk-toggleable__content {max-height: 200px;max-width: 100%;overflow: auto;}#sk-container-id-3 input.sk-toggleable__control:checked~label.sk-toggleable__label-arrow:before {content: \"▾\";}#sk-container-id-3 div.sk-estimator input.sk-toggleable__control:checked~label.sk-toggleable__label {background-color: #d4ebff;}#sk-container-id-3 div.sk-label input.sk-toggleable__control:checked~label.sk-toggleable__label {background-color: #d4ebff;}#sk-container-id-3 input.sk-hidden--visually {border: 0;clip: rect(1px 1px 1px 1px);clip: rect(1px, 1px, 1px, 1px);height: 1px;margin: -1px;overflow: hidden;padding: 0;position: absolute;width: 1px;}#sk-container-id-3 div.sk-estimator {font-family: monospace;background-color: #f0f8ff;border: 1px dotted black;border-radius: 0.25em;box-sizing: border-box;margin-bottom: 0.5em;}#sk-container-id-3 div.sk-estimator:hover {background-color: #d4ebff;}#sk-container-id-3 div.sk-parallel-item::after {content: \"\";width: 100%;border-bottom: 1px solid gray;flex-grow: 1;}#sk-container-id-3 div.sk-label:hover label.sk-toggleable__label {background-color: #d4ebff;}#sk-container-id-3 div.sk-serial::before {content: \"\";position: absolute;border-left: 1px solid gray;box-sizing: border-box;top: 0;bottom: 0;left: 50%;z-index: 0;}#sk-container-id-3 div.sk-serial {display: flex;flex-direction: column;align-items: center;background-color: white;padding-right: 0.2em;padding-left: 0.2em;position: relative;}#sk-container-id-3 div.sk-item {position: relative;z-index: 1;}#sk-container-id-3 div.sk-parallel {display: flex;align-items: stretch;justify-content: center;background-color: white;position: relative;}#sk-container-id-3 div.sk-item::before, #sk-container-id-3 div.sk-parallel-item::before {content: \"\";position: absolute;border-left: 1px solid gray;box-sizing: border-box;top: 0;bottom: 0;left: 50%;z-index: -1;}#sk-container-id-3 div.sk-parallel-item {display: flex;flex-direction: column;z-index: 1;position: relative;background-color: white;}#sk-container-id-3 div.sk-parallel-item:first-child::after {align-self: flex-end;width: 50%;}#sk-container-id-3 div.sk-parallel-item:last-child::after {align-self: flex-start;width: 50%;}#sk-container-id-3 div.sk-parallel-item:only-child::after {width: 0;}#sk-container-id-3 div.sk-dashed-wrapped {border: 1px dashed gray;margin: 0 0.4em 0.5em 0.4em;box-sizing: border-box;padding-bottom: 0.4em;background-color: white;}#sk-container-id-3 div.sk-label label {font-family: monospace;font-weight: bold;display: inline-block;line-height: 1.2em;}#sk-container-id-3 div.sk-label-container {text-align: center;}#sk-container-id-3 div.sk-container {/* jupyter's `normalize.less` sets `[hidden] { display: none; }` but bootstrap.min.css set `[hidden] { display: none !important; }` so we also need the `!important` here to be able to override the default hidden behavior on the sphinx rendered scikit-learn.org. See: https://github.com/scikit-learn/scikit-learn/issues/21755 */display: inline-block !important;position: relative;}#sk-container-id-3 div.sk-text-repr-fallback {display: none;}</style><div id=\"sk-container-id-3\" class=\"sk-top-container\"><div class=\"sk-text-repr-fallback\"><pre>GridSearchCV(cv=5, estimator=GradientBoostingRegressor(random_state=123),\n",
       "             param_grid={&#x27;learning_rate&#x27;: [0.1, 0.05, 0.01],\n",
       "                         &#x27;n_estimators&#x27;: [100, 200, 300, 400, 500]},\n",
       "             scoring=&#x27;neg_mean_absolute_error&#x27;)</pre><b>In a Jupyter environment, please rerun this cell to show the HTML representation or trust the notebook. <br />On GitHub, the HTML representation is unable to render, please try loading this page with nbviewer.org.</b></div><div class=\"sk-container\" hidden><div class=\"sk-item sk-dashed-wrapped\"><div class=\"sk-label-container\"><div class=\"sk-label sk-toggleable\"><input class=\"sk-toggleable__control sk-hidden--visually\" id=\"sk-estimator-id-3\" type=\"checkbox\" ><label for=\"sk-estimator-id-3\" class=\"sk-toggleable__label sk-toggleable__label-arrow\">GridSearchCV</label><div class=\"sk-toggleable__content\"><pre>GridSearchCV(cv=5, estimator=GradientBoostingRegressor(random_state=123),\n",
       "             param_grid={&#x27;learning_rate&#x27;: [0.1, 0.05, 0.01],\n",
       "                         &#x27;n_estimators&#x27;: [100, 200, 300, 400, 500]},\n",
       "             scoring=&#x27;neg_mean_absolute_error&#x27;)</pre></div></div></div><div class=\"sk-parallel\"><div class=\"sk-parallel-item\"><div class=\"sk-item\"><div class=\"sk-label-container\"><div class=\"sk-label sk-toggleable\"><input class=\"sk-toggleable__control sk-hidden--visually\" id=\"sk-estimator-id-4\" type=\"checkbox\" ><label for=\"sk-estimator-id-4\" class=\"sk-toggleable__label sk-toggleable__label-arrow\">estimator: GradientBoostingRegressor</label><div class=\"sk-toggleable__content\"><pre>GradientBoostingRegressor(random_state=123)</pre></div></div></div><div class=\"sk-serial\"><div class=\"sk-item\"><div class=\"sk-estimator sk-toggleable\"><input class=\"sk-toggleable__control sk-hidden--visually\" id=\"sk-estimator-id-5\" type=\"checkbox\" ><label for=\"sk-estimator-id-5\" class=\"sk-toggleable__label sk-toggleable__label-arrow\">GradientBoostingRegressor</label><div class=\"sk-toggleable__content\"><pre>GradientBoostingRegressor(random_state=123)</pre></div></div></div></div></div></div></div></div></div></div>"
      ],
      "text/plain": [
       "GridSearchCV(cv=5, estimator=GradientBoostingRegressor(random_state=123),\n",
       "             param_grid={'learning_rate': [0.1, 0.05, 0.01],\n",
       "                         'n_estimators': [100, 200, 300, 400, 500]},\n",
       "             scoring='neg_mean_absolute_error')"
      ]
     },
     "execution_count": 90,
     "metadata": {},
     "output_type": "execute_result"
    }
   ],
   "source": [
    "# Fit GridSearchCV\n",
    "grad_tree_cv.fit(X_train_clean, y_train.flatten())"
   ]
  },
  {
   "cell_type": "code",
   "execution_count": 91,
   "id": "6ea7efc9-1c82-40b8-b303-6aa17d1815d4",
   "metadata": {},
   "outputs": [
    {
     "data": {
      "text/plain": [
       "{'learning_rate': 0.1, 'n_estimators': 500}"
      ]
     },
     "execution_count": 91,
     "metadata": {},
     "output_type": "execute_result"
    }
   ],
   "source": [
    "grad_tree_cv.best_params_"
   ]
  },
  {
   "cell_type": "code",
   "execution_count": 92,
   "id": "afeed7c4-3be7-484e-9718-b6654fe086ee",
   "metadata": {},
   "outputs": [
    {
     "data": {
      "text/html": [
       "<style>#sk-container-id-4 {color: black;background-color: white;}#sk-container-id-4 pre{padding: 0;}#sk-container-id-4 div.sk-toggleable {background-color: white;}#sk-container-id-4 label.sk-toggleable__label {cursor: pointer;display: block;width: 100%;margin-bottom: 0;padding: 0.3em;box-sizing: border-box;text-align: center;}#sk-container-id-4 label.sk-toggleable__label-arrow:before {content: \"▸\";float: left;margin-right: 0.25em;color: #696969;}#sk-container-id-4 label.sk-toggleable__label-arrow:hover:before {color: black;}#sk-container-id-4 div.sk-estimator:hover label.sk-toggleable__label-arrow:before {color: black;}#sk-container-id-4 div.sk-toggleable__content {max-height: 0;max-width: 0;overflow: hidden;text-align: left;background-color: #f0f8ff;}#sk-container-id-4 div.sk-toggleable__content pre {margin: 0.2em;color: black;border-radius: 0.25em;background-color: #f0f8ff;}#sk-container-id-4 input.sk-toggleable__control:checked~div.sk-toggleable__content {max-height: 200px;max-width: 100%;overflow: auto;}#sk-container-id-4 input.sk-toggleable__control:checked~label.sk-toggleable__label-arrow:before {content: \"▾\";}#sk-container-id-4 div.sk-estimator input.sk-toggleable__control:checked~label.sk-toggleable__label {background-color: #d4ebff;}#sk-container-id-4 div.sk-label input.sk-toggleable__control:checked~label.sk-toggleable__label {background-color: #d4ebff;}#sk-container-id-4 input.sk-hidden--visually {border: 0;clip: rect(1px 1px 1px 1px);clip: rect(1px, 1px, 1px, 1px);height: 1px;margin: -1px;overflow: hidden;padding: 0;position: absolute;width: 1px;}#sk-container-id-4 div.sk-estimator {font-family: monospace;background-color: #f0f8ff;border: 1px dotted black;border-radius: 0.25em;box-sizing: border-box;margin-bottom: 0.5em;}#sk-container-id-4 div.sk-estimator:hover {background-color: #d4ebff;}#sk-container-id-4 div.sk-parallel-item::after {content: \"\";width: 100%;border-bottom: 1px solid gray;flex-grow: 1;}#sk-container-id-4 div.sk-label:hover label.sk-toggleable__label {background-color: #d4ebff;}#sk-container-id-4 div.sk-serial::before {content: \"\";position: absolute;border-left: 1px solid gray;box-sizing: border-box;top: 0;bottom: 0;left: 50%;z-index: 0;}#sk-container-id-4 div.sk-serial {display: flex;flex-direction: column;align-items: center;background-color: white;padding-right: 0.2em;padding-left: 0.2em;position: relative;}#sk-container-id-4 div.sk-item {position: relative;z-index: 1;}#sk-container-id-4 div.sk-parallel {display: flex;align-items: stretch;justify-content: center;background-color: white;position: relative;}#sk-container-id-4 div.sk-item::before, #sk-container-id-4 div.sk-parallel-item::before {content: \"\";position: absolute;border-left: 1px solid gray;box-sizing: border-box;top: 0;bottom: 0;left: 50%;z-index: -1;}#sk-container-id-4 div.sk-parallel-item {display: flex;flex-direction: column;z-index: 1;position: relative;background-color: white;}#sk-container-id-4 div.sk-parallel-item:first-child::after {align-self: flex-end;width: 50%;}#sk-container-id-4 div.sk-parallel-item:last-child::after {align-self: flex-start;width: 50%;}#sk-container-id-4 div.sk-parallel-item:only-child::after {width: 0;}#sk-container-id-4 div.sk-dashed-wrapped {border: 1px dashed gray;margin: 0 0.4em 0.5em 0.4em;box-sizing: border-box;padding-bottom: 0.4em;background-color: white;}#sk-container-id-4 div.sk-label label {font-family: monospace;font-weight: bold;display: inline-block;line-height: 1.2em;}#sk-container-id-4 div.sk-label-container {text-align: center;}#sk-container-id-4 div.sk-container {/* jupyter's `normalize.less` sets `[hidden] { display: none; }` but bootstrap.min.css set `[hidden] { display: none !important; }` so we also need the `!important` here to be able to override the default hidden behavior on the sphinx rendered scikit-learn.org. See: https://github.com/scikit-learn/scikit-learn/issues/21755 */display: inline-block !important;position: relative;}#sk-container-id-4 div.sk-text-repr-fallback {display: none;}</style><div id=\"sk-container-id-4\" class=\"sk-top-container\"><div class=\"sk-text-repr-fallback\"><pre>GradientBoostingRegressor(n_estimators=500, random_state=123)</pre><b>In a Jupyter environment, please rerun this cell to show the HTML representation or trust the notebook. <br />On GitHub, the HTML representation is unable to render, please try loading this page with nbviewer.org.</b></div><div class=\"sk-container\" hidden><div class=\"sk-item\"><div class=\"sk-estimator sk-toggleable\"><input class=\"sk-toggleable__control sk-hidden--visually\" id=\"sk-estimator-id-6\" type=\"checkbox\" checked><label for=\"sk-estimator-id-6\" class=\"sk-toggleable__label sk-toggleable__label-arrow\">GradientBoostingRegressor</label><div class=\"sk-toggleable__content\"><pre>GradientBoostingRegressor(n_estimators=500, random_state=123)</pre></div></div></div></div></div>"
      ],
      "text/plain": [
       "GradientBoostingRegressor(n_estimators=500, random_state=123)"
      ]
     },
     "execution_count": 92,
     "metadata": {},
     "output_type": "execute_result"
    }
   ],
   "source": [
    "# Refit the Adaboost\n",
    "grad_tree = GradientBoostingRegressor(n_estimators = grad_tree_cv.best_params_[\"n_estimators\"],\n",
    "                                      random_state = 123)\n",
    "\n",
    "grad_tree.fit(X_train_clean, y_train.flatten())"
   ]
  },
  {
   "cell_type": "code",
   "execution_count": 93,
   "id": "ee4fb76c-4937-4510-8c5c-d3dbb950c507",
   "metadata": {},
   "outputs": [
    {
     "name": "stdout",
     "output_type": "stream",
     "text": [
      "R2-score: 0.7913 and MAE score: 225.1414\n"
     ]
    }
   ],
   "source": [
    "# Predict\n",
    "y_pred_train = grad_tree.predict(X_train_clean)\n",
    "\n",
    "# Calculate mean absolute error\n",
    "mae_gb_cv = mean_absolute_error(y_train, y_pred_train)\n",
    "\n",
    "# Calculate R-squared\n",
    "r2_gb_cv = r2_score(y_train, y_pred_train)\n",
    "\n",
    "print(f\"R2-score: {r2_gb_cv:.4f} and MAE score: {mae_gb_cv:.4f}\")"
   ]
  },
  {
   "cell_type": "code",
   "execution_count": 94,
   "id": "28a97503-8d01-4ff9-8875-0d61b077bccd",
   "metadata": {},
   "outputs": [
    {
     "data": {
      "text/plain": [
       "<seaborn.axisgrid.JointGrid at 0x7f0fd414e790>"
      ]
     },
     "execution_count": 94,
     "metadata": {},
     "output_type": "execute_result"
    },
    {
     "data": {
      "image/png": "[encoded data removed]",
      "text/plain": [
       "<Figure size 600x600 with 3 Axes>"
      ]
     },
     "metadata": {},
     "output_type": "display_data"
    }
   ],
   "source": [
    "sns.jointplot(x=y_train.flatten(), y=y_pred_train.flatten())"
   ]
  },
  {
   "cell_type": "markdown",
   "id": "9a04daac-a3a2-4e48-a0e0-6607d14bf462",
   "metadata": {},
   "source": [
    "##### Random Forest\n",
    "The last model, which was also recommended by previous works, is a model where not only it has weights based on its performance, but the feature selection in which the sample is measured was done at random. Therefore, reduces not only the variance, but also the bias."
   ]
  },
  {
   "cell_type": "code",
   "execution_count": 95,
   "id": "5f7d5ee5-256c-4c48-ad3d-d180f5ddde22",
   "metadata": {},
   "outputs": [],
   "source": [
    "from sklearn.ensemble import RandomForestRegressor"
   ]
  },
  {
   "cell_type": "code",
   "execution_count": 96,
   "id": "5ff9abf9-d4a7-45c8-a6e0-e40d3ebee0da",
   "metadata": {},
   "outputs": [],
   "source": [
    "# Build random forest\n",
    "rf_tree = RandomForestRegressor(n_estimators = 100,\n",
    "                                criterion = \"squared_error\",\n",
    "                                max_features = \"sqrt\",\n",
    "                                random_state = 123)"
   ]
  },
  {
   "cell_type": "code",
   "execution_count": 97,
   "id": "7ec087bd-77a6-437f-aaf4-64c8d90752e7",
   "metadata": {},
   "outputs": [
    {
     "data": {
      "text/html": [
       "<style>#sk-container-id-5 {color: black;background-color: white;}#sk-container-id-5 pre{padding: 0;}#sk-container-id-5 div.sk-toggleable {background-color: white;}#sk-container-id-5 label.sk-toggleable__label {cursor: pointer;display: block;width: 100%;margin-bottom: 0;padding: 0.3em;box-sizing: border-box;text-align: center;}#sk-container-id-5 label.sk-toggleable__label-arrow:before {content: \"▸\";float: left;margin-right: 0.25em;color: #696969;}#sk-container-id-5 label.sk-toggleable__label-arrow:hover:before {color: black;}#sk-container-id-5 div.sk-estimator:hover label.sk-toggleable__label-arrow:before {color: black;}#sk-container-id-5 div.sk-toggleable__content {max-height: 0;max-width: 0;overflow: hidden;text-align: left;background-color: #f0f8ff;}#sk-container-id-5 div.sk-toggleable__content pre {margin: 0.2em;color: black;border-radius: 0.25em;background-color: #f0f8ff;}#sk-container-id-5 input.sk-toggleable__control:checked~div.sk-toggleable__content {max-height: 200px;max-width: 100%;overflow: auto;}#sk-container-id-5 input.sk-toggleable__control:checked~label.sk-toggleable__label-arrow:before {content: \"▾\";}#sk-container-id-5 div.sk-estimator input.sk-toggleable__control:checked~label.sk-toggleable__label {background-color: #d4ebff;}#sk-container-id-5 div.sk-label input.sk-toggleable__control:checked~label.sk-toggleable__label {background-color: #d4ebff;}#sk-container-id-5 input.sk-hidden--visually {border: 0;clip: rect(1px 1px 1px 1px);clip: rect(1px, 1px, 1px, 1px);height: 1px;margin: -1px;overflow: hidden;padding: 0;position: absolute;width: 1px;}#sk-container-id-5 div.sk-estimator {font-family: monospace;background-color: #f0f8ff;border: 1px dotted black;border-radius: 0.25em;box-sizing: border-box;margin-bottom: 0.5em;}#sk-container-id-5 div.sk-estimator:hover {background-color: #d4ebff;}#sk-container-id-5 div.sk-parallel-item::after {content: \"\";width: 100%;border-bottom: 1px solid gray;flex-grow: 1;}#sk-container-id-5 div.sk-label:hover label.sk-toggleable__label {background-color: #d4ebff;}#sk-container-id-5 div.sk-serial::before {content: \"\";position: absolute;border-left: 1px solid gray;box-sizing: border-box;top: 0;bottom: 0;left: 50%;z-index: 0;}#sk-container-id-5 div.sk-serial {display: flex;flex-direction: column;align-items: center;background-color: white;padding-right: 0.2em;padding-left: 0.2em;position: relative;}#sk-container-id-5 div.sk-item {position: relative;z-index: 1;}#sk-container-id-5 div.sk-parallel {display: flex;align-items: stretch;justify-content: center;background-color: white;position: relative;}#sk-container-id-5 div.sk-item::before, #sk-container-id-5 div.sk-parallel-item::before {content: \"\";position: absolute;border-left: 1px solid gray;box-sizing: border-box;top: 0;bottom: 0;left: 50%;z-index: -1;}#sk-container-id-5 div.sk-parallel-item {display: flex;flex-direction: column;z-index: 1;position: relative;background-color: white;}#sk-container-id-5 div.sk-parallel-item:first-child::after {align-self: flex-end;width: 50%;}#sk-container-id-5 div.sk-parallel-item:last-child::after {align-self: flex-start;width: 50%;}#sk-container-id-5 div.sk-parallel-item:only-child::after {width: 0;}#sk-container-id-5 div.sk-dashed-wrapped {border: 1px dashed gray;margin: 0 0.4em 0.5em 0.4em;box-sizing: border-box;padding-bottom: 0.4em;background-color: white;}#sk-container-id-5 div.sk-label label {font-family: monospace;font-weight: bold;display: inline-block;line-height: 1.2em;}#sk-container-id-5 div.sk-label-container {text-align: center;}#sk-container-id-5 div.sk-container {/* jupyter's `normalize.less` sets `[hidden] { display: none; }` but bootstrap.min.css set `[hidden] { display: none !important; }` so we also need the `!important` here to be able to override the default hidden behavior on the sphinx rendered scikit-learn.org. See: https://github.com/scikit-learn/scikit-learn/issues/21755 */display: inline-block !important;position: relative;}#sk-container-id-5 div.sk-text-repr-fallback {display: none;}</style><div id=\"sk-container-id-5\" class=\"sk-top-container\"><div class=\"sk-text-repr-fallback\"><pre>RandomForestRegressor(max_features=&#x27;sqrt&#x27;, random_state=123)</pre><b>In a Jupyter environment, please rerun this cell to show the HTML representation or trust the notebook. <br />On GitHub, the HTML representation is unable to render, please try loading this page with nbviewer.org.</b></div><div class=\"sk-container\" hidden><div class=\"sk-item\"><div class=\"sk-estimator sk-toggleable\"><input class=\"sk-toggleable__control sk-hidden--visually\" id=\"sk-estimator-id-7\" type=\"checkbox\" checked><label for=\"sk-estimator-id-7\" class=\"sk-toggleable__label sk-toggleable__label-arrow\">RandomForestRegressor</label><div class=\"sk-toggleable__content\"><pre>RandomForestRegressor(max_features=&#x27;sqrt&#x27;, random_state=123)</pre></div></div></div></div></div>"
      ],
      "text/plain": [
       "RandomForestRegressor(max_features='sqrt', random_state=123)"
      ]
     },
     "execution_count": 97,
     "metadata": {},
     "output_type": "execute_result"
    }
   ],
   "source": [
    "# Fit random forest\n",
    "rf_tree.fit(X_train_clean, y_train.flatten())"
   ]
  },
  {
   "cell_type": "code",
   "execution_count": 98,
   "id": "56a01787-d1d1-4cc2-9c1d-5446e347dc54",
   "metadata": {},
   "outputs": [
    {
     "name": "stdout",
     "output_type": "stream",
     "text": [
      "R2-score: 0.9602 and MAE score: 88.3644\n"
     ]
    }
   ],
   "source": [
    "# Predict\n",
    "y_pred_train = rf_tree.predict(X_train_clean)\n",
    "\n",
    "# Calculate mean absolute error\n",
    "mae_rf = mean_absolute_error(y_train, y_pred_train)\n",
    "\n",
    "# Calculate R-squared\n",
    "r2_rf = r2_score(y_train, y_pred_train)\n",
    "\n",
    "print(f\"R2-score: {r2_rf:.4f} and MAE score: {mae_rf:.4f}\")"
   ]
  },
  {
   "cell_type": "code",
   "execution_count": 99,
   "id": "cd12de0d-ade3-45d8-a857-b5748b59a8e6",
   "metadata": {},
   "outputs": [
    {
     "data": {
      "text/plain": [
       "<seaborn.axisgrid.JointGrid at 0x7f0fa7433310>"
      ]
     },
     "execution_count": 99,
     "metadata": {},
     "output_type": "execute_result"
    },
    {
     "data": {
      "image/png": "[encoded data removed]",
      "text/plain": [
       "<Figure size 600x600 with 3 Axes>"
      ]
     },
     "metadata": {},
     "output_type": "display_data"
    }
   ],
   "source": [
    "sns.jointplot(x=y_train.flatten(), y=y_pred_train.flatten())"
   ]
  },
  {
   "cell_type": "code",
   "execution_count": 100,
   "id": "1e2b80c3-7de2-4f98-91de-b17315e88e66",
   "metadata": {},
   "outputs": [],
   "source": [
    "params = {\"n_estimators\": [100, 200, 300, 500 ],\n",
    "          \"max_features\": [\"sqrt\", \"log2\"]}\n",
    "\n",
    "# Create GridSearch\n",
    "rf_tree = RandomForestRegressor(criterion = \"squared_error\",\n",
    "                                random_state = 123)\n",
    "\n",
    "rf_tree_cv = GridSearchCV(estimator = rf_tree,\n",
    "                          param_grid = params,\n",
    "                          cv = 5,\n",
    "                          scoring = \"neg_mean_absolute_error\")"
   ]
  },
  {
   "cell_type": "code",
   "execution_count": null,
   "id": "e97dc0cf-67b1-4c9a-bb38-316d49996e1f",
   "metadata": {},
   "outputs": [],
   "source": [
    "# Fit grid search cv\n",
    "rf_tree_cv.fit(X_train_clean, y_train.flatten())"
   ]
  },
  {
   "cell_type": "code",
   "execution_count": null,
   "id": "9bb29e7d-3c95-477d-b493-6958e05f1c5e",
   "metadata": {},
   "outputs": [],
   "source": [
    "# Best params\n",
    "rf_tree_cv.best_params_"
   ]
  },
  {
   "cell_type": "code",
   "execution_count": null,
   "id": "2457f25a-eb16-42eb-91e2-e52c0b6f57ea",
   "metadata": {},
   "outputs": [],
   "source": [
    "# Refit the Random Forest\n",
    "rf_tree = RandomForestRegressor(criterion = \"squared_error\",\n",
    "                                max_features = rf_tree_cv.best_params_[\"max_features\"],\n",
    "                                n_estimators = rf_tree_cv.best_params_[\"n_estimators\"],\n",
    "                                random_state = 123)\n",
    "\n",
    "rf_tree.fit(X_train_clean, y_train.flatten())"
   ]
  },
  {
   "cell_type": "code",
   "execution_count": null,
   "id": "bf1d01b9-b2ed-4155-a2fa-cdfe12706af7",
   "metadata": {},
   "outputs": [],
   "source": [
    "# Predict\n",
    "y_pred_train = rf_tree.predict(X_train_clean)\n",
    "\n",
    "# Calculate mean absolute error\n",
    "mae_rf_cv = mean_absolute_error(y_train, y_pred_train)\n",
    "\n",
    "# # Calculate R-squared\n",
    "r2_rf_cv = r2_score(y_train, y_pred_train)\n",
    "\n",
    "print(f\"R2-score: {r2_rf_cv:.4f} and MAE score: {mae_rf_cv:.4f}\")"
   ]
  },
  {
   "cell_type": "code",
   "execution_count": null,
   "id": "6568ac14-e7d7-489b-b830-8e4298ea2d6d",
   "metadata": {},
   "outputs": [],
   "source": [
    "sns.jointplot(x=y_train.flatten(), y=y_pred_train.flatten())"
   ]
  },
  {
   "cell_type": "code",
   "execution_count": null,
   "id": "77fd19e6-e4bf-4b82-9562-432885270b74",
   "metadata": {},
   "outputs": [],
   "source": [
    "mae_score = [mae_baseline, mae_linreg, mae_gb, mae_gb_cv, mae_rf, mae_rf_cv]\n",
    "r2_score = [r2_baseline, r2_linreg, r2_gb, r2_gb_cv, r2_rf, r2_rf_cv]\n",
    "indexes = [\"baseline\", \"linear regression\", \"gradient boosting\", \"gradient boosting with CV\", \"random forest\",  \"random forest with CV\"]\n",
    "\n",
    "summary_df = pd.DataFrame({\n",
    "    \"MAE Train\": mae_score,\n",
    "    \"R2-Score\": r2_score,\n",
    "},index = indexes)\n",
    "\n",
    "summary_df.sort_values(by='R2-Score', ascending=False)"
   ]
  },
  {
   "cell_type": "markdown",
   "id": "39fbdcbe-7a15-467c-8100-f25feefd28b7",
   "metadata": {},
   "source": [
    "#### \n",
    "From the above table, it can be seen that Random Forest model performs the best, and Gradient Boosting at the second place. This is similar to the previous work done by others, on house pricing."
   ]
  },
  {
   "cell_type": "markdown",
   "id": "82519b1d-4225-4f18-9e14-a6be9aaed4fd",
   "metadata": {},
   "source": [
    "##### Best Model"
   ]
  },
  {
   "cell_type": "code",
   "execution_count": null,
   "id": "e568fa89-857e-4253-9242-b611bedbf9c3",
   "metadata": {},
   "outputs": [],
   "source": [
    "# Libraries\n",
    "from sklearn.ensemble import RandomForestRegressor\n",
    "from sklearn.metrics import mean_squared_error, r2_score\n",
    "\n",
    "\n",
    "# Setting up\n",
    "rf_tree = RandomForestRegressor(n_estimators = 500,\n",
    "                                criterion = \"squared_error\",\n",
    "                                max_features = \"sqrt\",\n",
    "                                random_state = 123)\n",
    "\n",
    "# Fit model train\n",
    "rf_tree.fit(X_train_clean, y_train.flatten())\n",
    "\n",
    "# Predict model train\n",
    "y_pred_train = rf_tree.predict(X_train_clean)\n",
    "\n",
    "# Calculate mean absolute error\n",
    "mae_rf_cv_train = mean_absolute_error(y_train, y_pred_train)\n",
    "\n",
    "# Calculate R-squared\n",
    "r2_rf_cv_train = r2_score(y_train, y_pred_train)\n",
    "\n",
    "print(f\"R2-score: {r2_rf_cv_train:.3f} and MAE score: +/-{mae_rf_cv_train:.2f} RM\")\n",
    "\n",
    "sns.scatterplot(x=y_train.flatten(), y=y_pred_train.flatten() )\n",
    "plt.plot([0, 5500], [0,5500], \"--r\")\n",
    "plt.xlim(0, 5500)\n",
    "plt.xlabel(\"Actual Monthly Rent\")\n",
    "plt.ylim(0,5500)\n",
    "plt.ylabel(\"Predicted Monthly Rent\")\n",
    "plt.suptitle(\"Random Forest - Best Regression Model\")\n",
    "plt.show()"
   ]
  },
  {
   "cell_type": "markdown",
   "id": "3c6f94b7-16fd-42da-b7ff-e8791d97f5c3",
   "metadata": {},
   "source": [
    "### Data Prediction"
   ]
  },
  {
   "cell_type": "markdown",
   "id": "fb34e2ce-0b19-42b0-9f2f-3ba5762e26b2",
   "metadata": {},
   "source": [
    "##### Test Data Preprocessing\n",
    "Simlar process done in train dataset need to be repeated on test dataset."
   ]
  },
  {
   "cell_type": "code",
   "execution_count": null,
   "id": "da57ffac-aa71-4ffd-bb45-3ab33208b4e1",
   "metadata": {},
   "outputs": [],
   "source": [
    "# Checking null data\n",
    "X_test.isna().sum()"
   ]
  },
  {
   "cell_type": "code",
   "execution_count": null,
   "id": "37f4c905-7144-4f8a-a7fb-46eab08554ef",
   "metadata": {},
   "outputs": [],
   "source": [
    "X_test_num =  X_test.select_dtypes(exclude='object')\n",
    "X_test_num"
   ]
  },
  {
   "cell_type": "code",
   "execution_count": null,
   "id": "2305e39a-a253-43b1-a050-edab84d195a1",
   "metadata": {},
   "outputs": [],
   "source": [
    "X_test_num.isna().sum()"
   ]
  },
  {
   "cell_type": "code",
   "execution_count": null,
   "id": "f8654e89-e924-4c4d-846e-cbb906496391",
   "metadata": {},
   "outputs": [],
   "source": [
    "X_test_num, imputer_num = numericalImputation(X_test_num, strategy='most_frequent')\n",
    "X_test_num.isna().sum()"
   ]
  },
  {
   "cell_type": "markdown",
   "id": "2515b0fd-b3a5-4691-bf50-feda2e47e71e",
   "metadata": {},
   "source": [
    "##### Categorical Data"
   ]
  },
  {
   "cell_type": "code",
   "execution_count": null,
   "id": "3e54d5e5-1b5c-45e7-9713-2eded98161f3",
   "metadata": {},
   "outputs": [],
   "source": [
    "X_test_cat = X_test.select_dtypes(include='object')\n",
    "X_test_cat"
   ]
  },
  {
   "cell_type": "code",
   "execution_count": null,
   "id": "0f7fc0bb-5cf8-4de4-aef4-117a0052ef20",
   "metadata": {},
   "outputs": [],
   "source": [
    "X_test_cat.isna().sum()"
   ]
  },
  {
   "cell_type": "code",
   "execution_count": null,
   "id": "d0c90828-d83a-48cc-bc54-a196718f6dc5",
   "metadata": {},
   "outputs": [],
   "source": [
    "X_test_cat, imputer_num = numericalImputationNone(X_test_cat, strategy='most_frequent')\n",
    "X_test_cat.isna().sum()"
   ]
  },
  {
   "cell_type": "markdown",
   "id": "38b41714-551a-42a5-bf6f-b8609802e70e",
   "metadata": {},
   "source": [
    "#### Categorical OHE"
   ]
  },
  {
   "cell_type": "code",
   "execution_count": null,
   "id": "4245c9fc-0136-4583-90de-bfa7e1a93287",
   "metadata": {},
   "outputs": [],
   "source": [
    "X_test_cat_ohe =  pd.get_dummies(X_test_cat)\n",
    "X_test_cat_ohe.head(2)"
   ]
  },
  {
   "cell_type": "code",
   "execution_count": null,
   "id": "80d67032-b76a-43b1-b04b-b4cf415920d9",
   "metadata": {},
   "outputs": [],
   "source": [
    "ohe_columns = X_test_cat_ohe.columns\n",
    "ohe_columns"
   ]
  },
  {
   "cell_type": "code",
   "execution_count": null,
   "id": "b67a744d-29e4-4c27-94c8-c62ab7791a54",
   "metadata": {},
   "outputs": [],
   "source": [
    "X_test_concat = pd.concat([X_test_num,\n",
    "                            X_test_cat_ohe],\n",
    "                           axis = 1)"
   ]
  },
  {
   "cell_type": "code",
   "execution_count": null,
   "id": "1ae67ec4-b7b7-4c7a-9e93-b590f87cca4f",
   "metadata": {},
   "outputs": [],
   "source": [
    "X_test_concat.head(2)"
   ]
  },
  {
   "cell_type": "code",
   "execution_count": null,
   "id": "092f1b38-2fae-4fae-8127-d01b0fe8ea17",
   "metadata": {},
   "outputs": [],
   "source": [
    "#sanity check\n",
    "X_test_concat.isnull().sum()"
   ]
  },
  {
   "cell_type": "markdown",
   "id": "114f9443-462f-489f-99ed-0cbfee96f11e",
   "metadata": {},
   "source": [
    "##### Standardization"
   ]
  },
  {
   "cell_type": "code",
   "execution_count": null,
   "id": "98cf5e5e-7d11-45fc-a8ba-0440c37c18ba",
   "metadata": {},
   "outputs": [],
   "source": [
    "from sklearn.preprocessing import StandardScaler\n",
    "def standardizerData(data):\n",
    "    data_columns = data.columns  # agar nama kolom tidak hilang\n",
    "    data_index = data.index  # agar index tidak hilang\n",
    "\n",
    "    # create and fit standardizer\n",
    "    standardizer = StandardScaler()\n",
    "    standardizer.fit(data)\n",
    "\n",
    "    # transform data\n",
    "    standardized_data_raw = standardizer.transform(data)\n",
    "    standardized_data = pd.DataFrame(standardized_data_raw)\n",
    "    standardized_data.columns = data_columns\n",
    "    standardized_data.index = data_index\n",
    "\n",
    "    return standardized_data, standardizer"
   ]
  },
  {
   "cell_type": "code",
   "execution_count": null,
   "id": "328a0f92-3331-4252-a83c-57efc5627ceb",
   "metadata": {},
   "outputs": [],
   "source": [
    "X_test_clean, standardizer = standardizerData(data = X_test_concat)"
   ]
  },
  {
   "cell_type": "code",
   "execution_count": null,
   "id": "c3e5cfd5-159e-4dc7-bc3b-f379c3aa8d5a",
   "metadata": {},
   "outputs": [],
   "source": [
    "X_test_clean.head()"
   ]
  },
  {
   "cell_type": "markdown",
   "id": "4cd4e048-017c-48cd-acd9-87046231d94f",
   "metadata": {},
   "source": [
    "##### Test Data Result"
   ]
  },
  {
   "cell_type": "code",
   "execution_count": null,
   "id": "1a9f1c08-3cb8-46c3-affa-9d6db3b3047a",
   "metadata": {},
   "outputs": [],
   "source": [
    "# libraries\n",
    "from sklearn.ensemble import RandomForestRegressor\n",
    "from sklearn.metrics import mean_squared_error, r2_score\n",
    "\n",
    "\n",
    "#setting up\n",
    "rf_tree = RandomForestRegressor(n_estimators = 500,\n",
    "                                criterion = \"squared_error\",\n",
    "                                max_features = \"sqrt\",\n",
    "                                random_state = 123)\n",
    "\n",
    "#fit model train\n",
    "rf_tree.fit(X_train_clean, y_train.flatten())\n",
    "\n",
    "# Predict model\n",
    "y_pred_test = rf_tree.predict(X_test_clean)\n",
    "\n",
    "# Calculate mean absolute error\n",
    "mae_rf_cv_test = mean_absolute_error(y_test, y_pred_test)\n",
    "\n",
    "# # Calculate R-squared\n",
    "r2_rf_cv_test = r2_score(y_test, y_pred_test)\n",
    "\n",
    "print(f\"R2-score: {r2_rf_cv_test:.3f} and MAE score: +/-{mae_rf_cv_test:.2f} RM\")\n",
    "\n",
    "sns.scatterplot(x=y_test.flatten(), y=y_pred_test.flatten())\n",
    "plt.plot([0, 5500], [0,5500], \"--r\")\n",
    "plt.xlim(0, 5500)\n",
    "plt.xlabel(\"Actual Monthly Rent\")\n",
    "plt.ylim(0,5500)\n",
    "plt.ylabel(\"Predicted Monthly Rent\")\n",
    "plt.suptitle(\"Random Forest - Best Regression Model\")\n",
    "plt.show()"
   ]
  },
  {
   "cell_type": "code",
   "execution_count": null,
   "id": "aeeb8444-db23-4a47-abd3-bc472583bb15",
   "metadata": {},
   "outputs": [],
   "source": [
    "mae_score = [mae_rf_cv_train, mae_rf_cv_test]\n",
    "r2_score = [r2_rf_cv_train, r2_rf_cv_test]\n",
    "indexes = [\"train\", \"test\"]\n",
    "\n",
    "summary_df_train_test = pd.DataFrame({\n",
    "    \"MAE Train\": mae_score,\n",
    "    \"R2-Score\": r2_score,\n",
    "},index = indexes)\n",
    "\n",
    "summary_df_train_test"
   ]
  },
  {
   "cell_type": "markdown",
   "id": "808e56d5-9342-4b8c-808d-49c2796dadda",
   "metadata": {},
   "source": [
    "##### Feature Importance"
   ]
  },
  {
   "cell_type": "code",
   "execution_count": null,
   "id": "663a4d65-bc9d-4a94-a32a-fc0d1b376618",
   "metadata": {},
   "outputs": [],
   "source": [
    "# calculate the feature importances\n",
    "importances = rf_tree.feature_importances_\n",
    "\n",
    "# rescale the importances back to the original scale of the features\n",
    "importances = importances * X_train_clean.std()\n",
    "\n",
    "# sort the feature importances in descending order\n",
    "sorted_index = importances.argsort()[::-1]\n",
    "\n",
    "# print the feature importances\n",
    "dict_feature_importance = {}\n",
    "for i in sorted_index:\n",
    "    # print(\"{}: {}\".format(X_train_clean.columns[i], importances[i]))\n",
    "    dict_feature_importance.update({X_train_clean.columns[i]: importances[i]})\n",
    "    \n",
    "# Create a DataFrame from the dictionary\n",
    "df = pd.DataFrame.from_dict(dict_feature_importance, orient='index', columns=['values'])\n",
    "\n",
    "# Reset the index to become a column\n",
    "df = df.reset_index()\n",
    "\n",
    "# Rename the columns\n",
    "df.columns = ['feature', 'importance_value']\n",
    "\n",
    "df.sort_values(by='importance_value', ascending=False).head(10)"
   ]
  },
  {
   "cell_type": "markdown",
   "id": "2b80709a-cbe2-4a52-a434-418a9daa8d64",
   "metadata": {},
   "source": [
    "##### Results\n",
    "Result indicates that the best model for prediction is Random Forest with hyperparameter tuning, scoring 95% on R2-score, and a shy 100 RM on MAE. This proves to be a good model since the test dataset gives a scoring of 80% on R2, and 240 RM on MAE.\n",
    "\n",
    "There are some factors that author believed to be affecting the result/ performance of the model:\n",
    "\n",
    "Dropping missing value reduces the performance! Initial model uses half of the data (4-5k rows) and gives poorer performance on R2 and MAE. Imputation and keeping the number of rows close to the original dataset (9k rows) proves to be improving the model. Especially on test dataset.\n",
    "Feature selection importance can be seen on the last table, but initially the selection was based on paper and intuition of the author (author lives and work in KL, Malaysia for 5 years). Feature such as completion_year and nearby_railways are important in improving the model.\n",
    "Last but not least is the outlier identification. The best practice for me is using jointplot to see not only the distribution of the data in 2-dimension, but also in the third dimension (the density) of the data.\n",
    "Some of the feature that were believed to be quite important even before doing the modeling is size, furnished and location. All three is available within the 10-most features affecting the modeling. As a context, location in KLCC is like Pondok Indah in South Jakarta. Location in Kiara is like BSD in South Tangerang.\n",
    "\n",
    "#### Discussions\n",
    "One of the feature that author thinks is significant but not appearing on the 10-best important feature is nearby_railways. This column is showing if a certain property has a close proximity to a railways (KTM/LRT). The issue is, half of the data is missing, hence the imputation. Author belives, the proximity to nearby railways line can be approximated using manhanttan distance of railways line to each property unit."
   ]
  },
  {
   "cell_type": "code",
   "execution_count": null,
   "id": "9c9e516d-153b-4aaf-a6f1-65b80b899561",
   "metadata": {},
   "outputs": [],
   "source": []
  }
 ],
 "metadata": {
  "kernelspec": {
   "display_name": "Python 3 (ipykernel)",
   "language": "python",
   "name": "python3"
  },
  "language_info": {
   "codemirror_mode": {
    "name": "ipython",
    "version": 3
   },
   "file_extension": ".py",
   "mimetype": "text/x-python",
   "name": "python",
   "nbconvert_exporter": "python",
   "pygments_lexer": "ipython3",
   "version": "3.11.0"
  }
 },
 "nbformat": 4,
 "nbformat_minor": 5
}

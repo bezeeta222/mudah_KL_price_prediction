{
 "cells": [
  {
   "cell_type": "markdown",
   "id": "524554c8-8c36-4912-a620-ed8ff63bab81",
   "metadata": {},
   "source": [
    "#### Introduction\n",
    "This is a machine learning project to predict unit/property monthly rent price in Kuala Lumpur region, Malaysia. The project uses a dataset from an online ads listing for property mudah.my. This project outlines the process of web-scraping/ data gathering, data cleaning-wrangling, and machine learning modeling.\n",
    "\n",
    "This project aims to answers question about how much a unit monthly rent would be if given information such as location, number of bedrooms, parking, furnished, etc? This would help potential tenant and also the owner to get the best price of their rental unit, comparable to the market value.\n",
    "\n",
    "Some previous work about house pricing was listed below, however most of them are targeting a dataset of house pricing or an Airbnb pricing. There are difference such as in Airbnb, the booking rarely took more than 2 weeks, let alone a year. Therefore the pricing may be different. Additionally, in Airbnb, there is text feature coming from the review given by the tenant and the owner.The better the review, the higher the rent prices -- which was not available in this current project dataset.\n",
    "\n",
    "Previous work by [@madhuri2019], [@xu2022], [@zhao2022] highlight the importance feature selection, and the choice of machine learning model. Based on the previous works, the most consistently performed machine learning model are Random Forest and Gradient boosting, and the MAE and R2 score usually used in evaluating the performance of the model. Although the above work are all not about apartment rent pricing, similar method can be applied to this project.\n",
    "\n",
    "The following feature is available in the dataset:\n",
    "\n",
    "ads_id: ads listing ID, unique to each ads\n",
    "prop_name: the building name of the property\n",
    "completion_year: year of the building/property completed\n",
    "monthly_rent: monthly rent price in Malaysian Ringgit (RM)\n",
    "location: the location (region) of the property\n",
    "property_type: property type, such as flat, apartment, etc\n",
    "rooms: number of rooms\n",
    "parking: number of parking spot\n",
    "bathroom: number of bathroom\n",
    "size: total area of the unit in sq.ft\n",
    "furnished: furnishin status of the unit, fully-partial-non\n",
    "facilities: main facilities within the unit\n",
    "additional_facilities: additional facilities"
   ]
  },
  {
   "cell_type": "code",
   "execution_count": 1,
   "id": "30da97f3-1cdd-4ce1-a157-0a61f082d652",
   "metadata": {
    "tags": []
   },
   "outputs": [],
   "source": [
    "import polars as pl\n",
    "import re\n",
    "import seaborn as sns\n",
    "import matplotlib.pyplot as plt\n",
    "import numpy as np\n",
    "import pandas as pd"
   ]
  },
  {
   "cell_type": "markdown",
   "id": "695316ca-20d3-41c2-9c47-8cb0e659e6d9",
   "metadata": {},
   "source": [
    "#### Data Understanding\n",
    "Reload the original dataset."
   ]
  },
  {
   "cell_type": "code",
   "execution_count": 2,
   "id": "58130aa9-23c3-4b0c-8dc2-3743427eaeec",
   "metadata": {},
   "outputs": [],
   "source": [
    "file_path = \"./mudah-apartment-kl-selangor.csv\""
   ]
  },
  {
   "cell_type": "code",
   "execution_count": 3,
   "id": "b06285e3-47bb-474f-a2fd-61e601b42008",
   "metadata": {},
   "outputs": [],
   "source": [
    "df = pl.read_csv(file_path, infer_schema_length=10000) "
   ]
  },
  {
   "cell_type": "code",
   "execution_count": 4,
   "id": "79ffe886-7711-4050-a76a-1a7453428fe0",
   "metadata": {},
   "outputs": [
    {
     "data": {
      "text/html": [
       "<div><style>\n",
       ".dataframe > thead > tr > th,\n",
       ".dataframe > tbody > tr > td {\n",
       "  text-align: right;\n",
       "}\n",
       "</style>\n",
       "<small>shape: (19991, 14)</small><table border=\"1\" class=\"dataframe\"><thead><tr><th>ads_id</th><th>prop_name</th><th>completion_year</th><th>monthly_rent</th><th>location</th><th>property_type</th><th>rooms</th><th>parking</th><th>bathroom</th><th>size</th><th>furnished</th><th>facilities</th><th>additional_facilities</th><th>region</th></tr><tr><td>i64</td><td>str</td><td>f64</td><td>str</td><td>str</td><td>str</td><td>str</td><td>f64</td><td>f64</td><td>str</td><td>str</td><td>str</td><td>str</td><td>str</td></tr></thead><tbody><tr><td>100323185</td><td>&quot;The Hipster @ …</td><td>2022.0</td><td>&quot;RM 4 200 per m…</td><td>&quot;Kuala Lumpur -…</td><td>&quot;Condominium&quot;</td><td>&quot;5&quot;</td><td>2.0</td><td>6.0</td><td>&quot;1842 sq.ft.&quot;</td><td>&quot;Fully Furnishe…</td><td>&quot;Minimart, Gymn…</td><td>&quot;Air-Cond, Cook…</td><td>&quot;Kuala Lumpur&quot;</td></tr><tr><td>100203973</td><td>&quot;Segar Courts&quot;</td><td>null</td><td>&quot;RM 2 300 per m…</td><td>&quot;Kuala Lumpur -…</td><td>&quot;Condominium&quot;</td><td>&quot;3&quot;</td><td>1.0</td><td>2.0</td><td>&quot;1170 sq.ft.&quot;</td><td>&quot;Partially Furn…</td><td>&quot;Playground, Pa…</td><td>&quot;Air-Cond, Cook…</td><td>&quot;Kuala Lumpur&quot;</td></tr><tr><td>100323128</td><td>&quot;Pangsapuri Ter…</td><td>null</td><td>&quot;RM 1 000 per m…</td><td>&quot;Kuala Lumpur -…</td><td>&quot;Apartment&quot;</td><td>&quot;3&quot;</td><td>null</td><td>2.0</td><td>&quot;650 sq.ft.&quot;</td><td>&quot;Fully Furnishe…</td><td>&quot;Minimart, Jogg…</td><td>null</td><td>&quot;Kuala Lumpur&quot;</td></tr><tr><td>100191767</td><td>&quot;Sentul Point S…</td><td>2020.0</td><td>&quot;RM 1 700 per m…</td><td>&quot;Kuala Lumpur -…</td><td>&quot;Apartment&quot;</td><td>&quot;2&quot;</td><td>1.0</td><td>2.0</td><td>&quot;743 sq.ft.&quot;</td><td>&quot;Partially Furn…</td><td>&quot;Parking, Playg…</td><td>&quot;Cooking Allowe…</td><td>&quot;Kuala Lumpur&quot;</td></tr><tr><td>97022692</td><td>&quot;Arte Mont Kiar…</td><td>null</td><td>&quot;RM 1 299 per m…</td><td>&quot;Kuala Lumpur -…</td><td>&quot;Service Reside…</td><td>&quot;1&quot;</td><td>1.0</td><td>1.0</td><td>&quot;494 sq.ft.&quot;</td><td>&quot;Not Furnished&quot;</td><td>&quot;Parking, Secur…</td><td>&quot;Air-Cond&quot;</td><td>&quot;Kuala Lumpur&quot;</td></tr><tr><td>100322897</td><td>&quot;Residensi Vist…</td><td>null</td><td>&quot;RM 1 500 per m…</td><td>&quot;Kuala Lumpur -…</td><td>&quot;Apartment&quot;</td><td>&quot;3&quot;</td><td>1.0</td><td>2.0</td><td>&quot;884 sq.ft.&quot;</td><td>&quot;Partially Furn…</td><td>&quot;Parking, Secur…</td><td>&quot;Cooking Allowe…</td><td>&quot;Kuala Lumpur&quot;</td></tr><tr><td>100322962</td><td>&quot;Sky Meridien&quot;</td><td>null</td><td>&quot;RM 2 900 per m…</td><td>&quot;Kuala Lumpur -…</td><td>&quot;Service Reside…</td><td>&quot;3&quot;</td><td>2.0</td><td>2.0</td><td>&quot;982 sq.ft.&quot;</td><td>&quot;Fully Furnishe…</td><td>&quot;Parking, Secur…</td><td>&quot;Air-Cond, Cook…</td><td>&quot;Kuala Lumpur&quot;</td></tr><tr><td>100322885</td><td>&quot;Arte Plus Jala…</td><td>2018.0</td><td>&quot;RM 1 550 per m…</td><td>&quot;Kuala Lumpur -…</td><td>&quot;Service Reside…</td><td>&quot;1&quot;</td><td>1.0</td><td>1.0</td><td>&quot;700 sq.ft.&quot;</td><td>&quot;Fully Furnishe…</td><td>&quot;Parking, Gymna…</td><td>&quot;Air-Cond, Cook…</td><td>&quot;Kuala Lumpur&quot;</td></tr><tr><td>100322866</td><td>&quot;Nova I&quot;</td><td>2014.0</td><td>&quot;RM 1 400 per m…</td><td>&quot;Kuala Lumpur -…</td><td>&quot;Apartment&quot;</td><td>&quot;2&quot;</td><td>1.0</td><td>1.0</td><td>&quot;750 sq.ft.&quot;</td><td>&quot;Fully Furnishe…</td><td>&quot;Playground, Se…</td><td>&quot;Air-Cond, Cook…</td><td>&quot;Kuala Lumpur&quot;</td></tr><tr><td>100322863</td><td>&quot;Sofiya Residen…</td><td>null</td><td>&quot;RM 1 350 per m…</td><td>&quot;Kuala Lumpur -…</td><td>&quot;Condominium&quot;</td><td>&quot;3&quot;</td><td>1.0</td><td>2.0</td><td>&quot;862 sq.ft.&quot;</td><td>&quot;Partially Furn…</td><td>&quot;Playground, Se…</td><td>&quot;Air-Cond, Cook…</td><td>&quot;Kuala Lumpur&quot;</td></tr><tr><td>100322813</td><td>&quot;The Park Sky R…</td><td>2019.0</td><td>&quot;RM 2 600 per m…</td><td>&quot;Kuala Lumpur -…</td><td>&quot;Service Reside…</td><td>&quot;2&quot;</td><td>null</td><td>2.0</td><td>&quot;868 sq.ft.&quot;</td><td>&quot;Partially Furn…</td><td>&quot;Parking, Playg…</td><td>&quot;Cooking Allowe…</td><td>&quot;Kuala Lumpur&quot;</td></tr><tr><td>100322809</td><td>&quot;PV9 Residences…</td><td>2022.0</td><td>&quot;RM 2 000 per m…</td><td>&quot;Kuala Lumpur -…</td><td>&quot;Service Reside…</td><td>&quot;4&quot;</td><td>2.0</td><td>2.0</td><td>&quot;1100 sq.ft.&quot;</td><td>&quot;Partially Furn…</td><td>&quot;Parking, Secur…</td><td>&quot;Air-Cond, Cook…</td><td>&quot;Kuala Lumpur&quot;</td></tr><tr><td>&hellip;</td><td>&hellip;</td><td>&hellip;</td><td>&hellip;</td><td>&hellip;</td><td>&hellip;</td><td>&hellip;</td><td>&hellip;</td><td>&hellip;</td><td>&hellip;</td><td>&hellip;</td><td>&hellip;</td><td>&hellip;</td><td>&hellip;</td></tr><tr><td>100047076</td><td>&quot;Cyberia SmartH…</td><td>2002.0</td><td>&quot;RM 1 400 per m…</td><td>&quot;Selangor - Cyb…</td><td>&quot;Condominium&quot;</td><td>&quot;4.0&quot;</td><td>1.0</td><td>3.0</td><td>&quot;1600 sq.ft.&quot;</td><td>&quot;Not Furnished&quot;</td><td>&quot;Parking, Secur…</td><td>&quot;Cooking Allowe…</td><td>&quot;Selangor&quot;</td></tr><tr><td>100493961</td><td>&quot;Residensi Lili…</td><td>null</td><td>&quot;RM 2 000 per m…</td><td>&quot;Selangor - Sep…</td><td>&quot;Condominium&quot;</td><td>&quot;4.0&quot;</td><td>2.0</td><td>4.0</td><td>&quot;1450 sq.ft.&quot;</td><td>&quot;Not Furnished&quot;</td><td>&quot;Parking, Secur…</td><td>&quot;Cooking Allowe…</td><td>&quot;Selangor&quot;</td></tr><tr><td>100047477</td><td>&quot;The Domain @ N…</td><td>2009.0</td><td>&quot;RM 1 200 per m…</td><td>&quot;Selangor - Cyb…</td><td>&quot;Service Reside…</td><td>&quot;2.0&quot;</td><td>1.0</td><td>2.0</td><td>&quot;780 sq.ft.&quot;</td><td>&quot;Fully Furnishe…</td><td>&quot;Parking, Secur…</td><td>&quot;Air-Cond, Cook…</td><td>&quot;Selangor&quot;</td></tr><tr><td>100493587</td><td>&quot;Permai Villa&quot;</td><td>null</td><td>&quot;RM 1 100 per m…</td><td>&quot;Selangor - Puc…</td><td>&quot;Apartment&quot;</td><td>&quot;3.0&quot;</td><td>1.0</td><td>2.0</td><td>&quot;941 sq.ft.&quot;</td><td>&quot;Partially Furn…</td><td>&quot;Parking, Minim…</td><td>null</td><td>&quot;Selangor&quot;</td></tr><tr><td>100493626</td><td>&quot;Lakefront Home…</td><td>2021.0</td><td>&quot;RM 885 per mon…</td><td>&quot;Selangor - Cyb…</td><td>&quot;Condominium&quot;</td><td>&quot;3.0&quot;</td><td>2.0</td><td>2.0</td><td>&quot;1015 sq.ft.&quot;</td><td>&quot;Partially Furn…</td><td>&quot;Parking, Secur…</td><td>&quot;Cooking Allowe…</td><td>&quot;Selangor&quot;</td></tr><tr><td>100493771</td><td>&quot;BSP Skypark Se…</td><td>null</td><td>&quot;RM 1 800 per m…</td><td>&quot;Selangor - Kua…</td><td>&quot;Service Reside…</td><td>&quot;4.0&quot;</td><td>3.0</td><td>3.0</td><td>&quot;1261 sq.ft.&quot;</td><td>&quot;Partially Furn…</td><td>&quot;Gymnasium, Min…</td><td>&quot;Air-Cond, Cook…</td><td>&quot;Selangor&quot;</td></tr><tr><td>100305654</td><td>&quot;Tiara Imperio …</td><td>2019.0</td><td>&quot;RM 1 500 per m…</td><td>&quot;Selangor - Kaj…</td><td>&quot;Service Reside…</td><td>&quot;2.0&quot;</td><td>2.0</td><td>1.0</td><td>&quot;455 sq.ft.&quot;</td><td>&quot;Fully Furnishe…</td><td>null</td><td>&quot;Air-Cond&quot;</td><td>&quot;Selangor&quot;</td></tr><tr><td>100493687</td><td>&quot;Pangsapuri Gap…</td><td>null</td><td>&quot;RM 1 200 per m…</td><td>&quot;Selangor - Kaj…</td><td>&quot;Apartment&quot;</td><td>&quot;3.0&quot;</td><td>null</td><td>2.0</td><td>&quot;1000 sq.ft.&quot;</td><td>&quot;Partially Furn…</td><td>&quot;Security, Park…</td><td>&quot;Near KTM/LRT&quot;</td><td>&quot;Selangor&quot;</td></tr><tr><td>100371347</td><td>&quot;BSP 21&quot;</td><td>2018.0</td><td>&quot;RM 1 300 per m…</td><td>&quot;Selangor - Ban…</td><td>&quot;Service Reside…</td><td>&quot;4.0&quot;</td><td>2.0</td><td>3.0</td><td>&quot;1427 sq.ft.&quot;</td><td>&quot;Partially Furn…</td><td>&quot;Jogging Track,…</td><td>&quot;Air-Cond, Cook…</td><td>&quot;Selangor&quot;</td></tr><tr><td>100493228</td><td>&quot;Ameera Residen…</td><td>null</td><td>&quot;RM 1 350 per m…</td><td>&quot;Selangor - Kaj…</td><td>&quot;Condominium&quot;</td><td>&quot;3.0&quot;</td><td>2.0</td><td>2.0</td><td>&quot;1270 sq.ft.&quot;</td><td>&quot;Partially Furn…</td><td>&quot;Parking, Secur…</td><td>&quot;Air-Cond, Cook…</td><td>&quot;Selangor&quot;</td></tr><tr><td>100235153</td><td>&quot;The Arc @ Cybe…</td><td>null</td><td>&quot;RM 1 200 per m…</td><td>&quot;Selangor - Cyb…</td><td>&quot;Service Reside…</td><td>&quot;3.0&quot;</td><td>1.0</td><td>2.0</td><td>&quot;1100 sq.ft.&quot;</td><td>&quot;Fully Furnishe…</td><td>&quot;Parking, Secur…</td><td>&quot;Cooking Allowe…</td><td>&quot;Selangor&quot;</td></tr><tr><td>100235168</td><td>&quot;Tamarind Suite…</td><td>2016.0</td><td>&quot;RM 1 000 per m…</td><td>&quot;Selangor - Cyb…</td><td>&quot;Studio&quot;</td><td>&quot;1.0&quot;</td><td>1.0</td><td>1.0</td><td>&quot;580 sq.ft.&quot;</td><td>&quot;Partially Furn…</td><td>&quot;Parking, Secur…</td><td>&quot;Air-Cond, Cook…</td><td>&quot;Selangor&quot;</td></tr></tbody></table></div>"
      ],
      "text/plain": [
       "shape: (19_991, 14)\n",
       "┌────────────┬─────────┬────────────┬────────────┬───┬─────────┬──────────┬────────────┬───────────┐\n",
       "│ ads_id     ┆ prop_na ┆ completion ┆ monthly_re ┆ … ┆ furnish ┆ faciliti ┆ additional ┆ region    │\n",
       "│ ---        ┆ me      ┆ _year      ┆ nt         ┆   ┆ ed      ┆ es       ┆ _facilitie ┆ ---       │\n",
       "│ i64        ┆ ---     ┆ ---        ┆ ---        ┆   ┆ ---     ┆ ---      ┆ s          ┆ str       │\n",
       "│            ┆ str     ┆ f64        ┆ str        ┆   ┆ str     ┆ str      ┆ ---        ┆           │\n",
       "│            ┆         ┆            ┆            ┆   ┆         ┆          ┆ str        ┆           │\n",
       "╞════════════╪═════════╪════════════╪════════════╪═══╪═════════╪══════════╪════════════╪═══════════╡\n",
       "│ 100323185  ┆ The     ┆ 2022.0     ┆ RM 4 200   ┆ … ┆ Fully   ┆ Minimart ┆ Air-Cond,  ┆ Kuala     │\n",
       "│            ┆ Hipster ┆            ┆ per month  ┆   ┆ Furnish ┆ , Gymnas ┆ Cooking    ┆ Lumpur    │\n",
       "│            ┆ @ Taman ┆            ┆            ┆   ┆ ed      ┆ ium, Sec ┆ Allowed,   ┆           │\n",
       "│            ┆ Desa    ┆            ┆            ┆   ┆         ┆ urity,   ┆ Washi…     ┆           │\n",
       "│            ┆         ┆            ┆            ┆   ┆         ┆ P…       ┆            ┆           │\n",
       "│ 100203973  ┆ Segar   ┆ null       ┆ RM 2 300   ┆ … ┆ Partial ┆ Playgrou ┆ Air-Cond,  ┆ Kuala     │\n",
       "│            ┆ Courts  ┆            ┆ per month  ┆   ┆ ly Furn ┆ nd,      ┆ Cooking    ┆ Lumpur    │\n",
       "│            ┆         ┆            ┆            ┆   ┆ ished   ┆ Parking, ┆ Allowed,   ┆           │\n",
       "│            ┆         ┆            ┆            ┆   ┆         ┆ Barbeque ┆ Near …     ┆           │\n",
       "│            ┆         ┆            ┆            ┆   ┆         ┆ ar…      ┆            ┆           │\n",
       "│ 100323128  ┆ Pangsap ┆ null       ┆ RM 1 000   ┆ … ┆ Fully   ┆ Minimart ┆ null       ┆ Kuala     │\n",
       "│            ┆ uri     ┆            ┆ per month  ┆   ┆ Furnish ┆ ,        ┆            ┆ Lumpur    │\n",
       "│            ┆ Teratak ┆            ┆            ┆   ┆ ed      ┆ Jogging  ┆            ┆           │\n",
       "│            ┆ Muhibba ┆            ┆            ┆   ┆         ┆ Track,   ┆            ┆           │\n",
       "│            ┆ h 2     ┆            ┆            ┆   ┆         ┆ Lift, S… ┆            ┆           │\n",
       "│ 100191767  ┆ Sentul  ┆ 2020.0     ┆ RM 1 700   ┆ … ┆ Partial ┆ Parking, ┆ Cooking    ┆ Kuala     │\n",
       "│            ┆ Point   ┆            ┆ per month  ┆   ┆ ly Furn ┆ Playgrou ┆ Allowed,   ┆ Lumpur    │\n",
       "│            ┆ Suite   ┆            ┆            ┆   ┆ ished   ┆ nd,      ┆ Near       ┆           │\n",
       "│            ┆ Apartme ┆            ┆            ┆   ┆         ┆ Swimming ┆ KTM/LRT,   ┆           │\n",
       "│            ┆ nt      ┆            ┆            ┆   ┆         ┆ Po…      ┆ W…         ┆           │\n",
       "│ …          ┆ …       ┆ …          ┆ …          ┆ … ┆ …       ┆ …        ┆ …          ┆ …         │\n",
       "│ 100371347  ┆ BSP 21  ┆ 2018.0     ┆ RM 1 300   ┆ … ┆ Partial ┆ Jogging  ┆ Air-Cond,  ┆ Selangor  │\n",
       "│            ┆         ┆            ┆ per month  ┆   ┆ ly Furn ┆ Track,   ┆ Cooking    ┆           │\n",
       "│            ┆         ┆            ┆            ┆   ┆ ished   ┆ Barbeque ┆ Allowed    ┆           │\n",
       "│            ┆         ┆            ┆            ┆   ┆         ┆ area,    ┆            ┆           │\n",
       "│            ┆         ┆            ┆            ┆   ┆         ┆ Pl…      ┆            ┆           │\n",
       "│ 100493228  ┆ Ameera  ┆ null       ┆ RM 1 350   ┆ … ┆ Partial ┆ Parking, ┆ Air-Cond,  ┆ Selangor  │\n",
       "│            ┆ Residen ┆            ┆ per month  ┆   ┆ ly Furn ┆ Security ┆ Cooking    ┆           │\n",
       "│            ┆ ce      ┆            ┆            ┆   ┆ ished   ┆ , Lift,  ┆ Allowed,   ┆           │\n",
       "│            ┆         ┆            ┆            ┆   ┆         ┆ Swimmin… ┆ Washi…     ┆           │\n",
       "│ 100235153  ┆ The Arc ┆ null       ┆ RM 1 200   ┆ … ┆ Fully   ┆ Parking, ┆ Cooking    ┆ Selangor  │\n",
       "│            ┆ @ Cyber ┆            ┆ per month  ┆   ┆ Furnish ┆ Security ┆ Allowed,   ┆           │\n",
       "│            ┆ jaya    ┆            ┆            ┆   ┆ ed      ┆ , Lift,  ┆ Washing    ┆           │\n",
       "│            ┆         ┆            ┆            ┆   ┆         ┆ Swimmin… ┆ Machine    ┆           │\n",
       "│ 100235168  ┆ Tamarin ┆ 2016.0     ┆ RM 1 000   ┆ … ┆ Partial ┆ Parking, ┆ Air-Cond,  ┆ Selangor  │\n",
       "│            ┆ d       ┆            ┆ per month  ┆   ┆ ly Furn ┆ Security ┆ Cooking    ┆           │\n",
       "│            ┆ Suites  ┆            ┆            ┆   ┆ ished   ┆ , Lift,  ┆ Allowed,   ┆           │\n",
       "│            ┆ @ Cyber ┆            ┆            ┆   ┆         ┆ Swimmin… ┆ Washi…     ┆           │\n",
       "│            ┆ jaya    ┆            ┆            ┆   ┆         ┆          ┆            ┆           │\n",
       "└────────────┴─────────┴────────────┴────────────┴───┴─────────┴──────────┴────────────┴───────────┘"
      ]
     },
     "execution_count": 4,
     "metadata": {},
     "output_type": "execute_result"
    }
   ],
   "source": [
    "df"
   ]
  },
  {
   "cell_type": "markdown",
   "id": "cece6837-1a45-4901-91a0-4644b7c70883",
   "metadata": {},
   "source": [
    "##### Data Description"
   ]
  },
  {
   "cell_type": "code",
   "execution_count": 5,
   "id": "328174cf-4d3e-4d4b-9e33-6bd983e10416",
   "metadata": {},
   "outputs": [
    {
     "data": {
      "text/html": [
       "<div><style>\n",
       ".dataframe > thead > tr > th,\n",
       ".dataframe > tbody > tr > td {\n",
       "  text-align: right;\n",
       "}\n",
       "</style>\n",
       "<small>shape: (7, 15)</small><table border=\"1\" class=\"dataframe\"><thead><tr><th>describe</th><th>ads_id</th><th>prop_name</th><th>completion_year</th><th>monthly_rent</th><th>location</th><th>property_type</th><th>rooms</th><th>parking</th><th>bathroom</th><th>size</th><th>furnished</th><th>facilities</th><th>additional_facilities</th><th>region</th></tr><tr><td>str</td><td>f64</td><td>str</td><td>f64</td><td>str</td><td>str</td><td>str</td><td>str</td><td>f64</td><td>f64</td><td>str</td><td>str</td><td>str</td><td>str</td><td>str</td></tr></thead><tbody><tr><td>&quot;count&quot;</td><td>19991.0</td><td>&quot;19991&quot;</td><td>19991.0</td><td>&quot;19991&quot;</td><td>&quot;19991&quot;</td><td>&quot;19991&quot;</td><td>&quot;19991&quot;</td><td>19991.0</td><td>19991.0</td><td>&quot;19991&quot;</td><td>&quot;19991&quot;</td><td>&quot;19991&quot;</td><td>&quot;19991&quot;</td><td>&quot;19991&quot;</td></tr><tr><td>&quot;null_count&quot;</td><td>0.0</td><td>&quot;948&quot;</td><td>9185.0</td><td>&quot;2&quot;</td><td>&quot;0&quot;</td><td>&quot;0&quot;</td><td>&quot;6&quot;</td><td>5702.0</td><td>6.0</td><td>&quot;0&quot;</td><td>&quot;5&quot;</td><td>&quot;2209&quot;</td><td>&quot;5948&quot;</td><td>&quot;0&quot;</td></tr><tr><td>&quot;mean&quot;</td><td>9.9707e7</td><td>null</td><td>2014.822321</td><td>null</td><td>null</td><td>null</td><td>null</td><td>1.416824</td><td>1.891719</td><td>null</td><td>null</td><td>null</td><td>null</td><td>null</td></tr><tr><td>&quot;std&quot;</td><td>3.4826e6</td><td>null</td><td>6.735355</td><td>null</td><td>null</td><td>null</td><td>null</td><td>0.567368</td><td>0.556266</td><td>null</td><td>null</td><td>null</td><td>null</td><td>null</td></tr><tr><td>&quot;min&quot;</td><td>1.6525511e7</td><td>&quot;1 Harmonis&quot;</td><td>1977.0</td><td>&quot;RM 1 000 per m…</td><td>&quot;Kuala Lumpur -…</td><td>&quot;Apartment&quot;</td><td>&quot;1&quot;</td><td>1.0</td><td>1.0</td><td>&quot;1 sq.ft.&quot;</td><td>&quot;Fully Furnishe…</td><td>&quot;Barbeque area&quot;</td><td>&quot;, Air-Cond, Co…</td><td>&quot;Kuala Lumpur&quot;</td></tr><tr><td>&quot;max&quot;</td><td>1.00854617e8</td><td>&quot;wangsa maju se…</td><td>2025.0</td><td>&quot;RM 999 per mon…</td><td>&quot;Selangor - Ulu…</td><td>&quot;Townhouse Cond…</td><td>&quot;More than 10&quot;</td><td>10.0</td><td>8.0</td><td>&quot;99999999 sq.ft…</td><td>&quot;Partially Furn…</td><td>&quot;Tennis Court, …</td><td>&quot;Washing Machin…</td><td>&quot;Selangor&quot;</td></tr><tr><td>&quot;median&quot;</td><td>1.00212678e8</td><td>null</td><td>2017.0</td><td>null</td><td>null</td><td>null</td><td>null</td><td>1.0</td><td>2.0</td><td>null</td><td>null</td><td>null</td><td>null</td><td>null</td></tr></tbody></table></div>"
      ],
      "text/plain": [
       "shape: (7, 15)\n",
       "┌───────────┬───────────┬─────────┬────────────┬───┬───────────┬──────────┬────────────┬───────────┐\n",
       "│ describe  ┆ ads_id    ┆ prop_na ┆ completion ┆ … ┆ furnished ┆ faciliti ┆ additional ┆ region    │\n",
       "│ ---       ┆ ---       ┆ me      ┆ _year      ┆   ┆ ---       ┆ es       ┆ _facilitie ┆ ---       │\n",
       "│ str       ┆ f64       ┆ ---     ┆ ---        ┆   ┆ str       ┆ ---      ┆ s          ┆ str       │\n",
       "│           ┆           ┆ str     ┆ f64        ┆   ┆           ┆ str      ┆ ---        ┆           │\n",
       "│           ┆           ┆         ┆            ┆   ┆           ┆          ┆ str        ┆           │\n",
       "╞═══════════╪═══════════╪═════════╪════════════╪═══╪═══════════╪══════════╪════════════╪═══════════╡\n",
       "│ count     ┆ 19991.0   ┆ 19991   ┆ 19991.0    ┆ … ┆ 19991     ┆ 19991    ┆ 19991      ┆ 19991     │\n",
       "│ null_coun ┆ 0.0       ┆ 948     ┆ 9185.0     ┆ … ┆ 5         ┆ 2209     ┆ 5948       ┆ 0         │\n",
       "│ t         ┆           ┆         ┆            ┆   ┆           ┆          ┆            ┆           │\n",
       "│ mean      ┆ 9.9707e7  ┆ null    ┆ 2014.82232 ┆ … ┆ null      ┆ null     ┆ null       ┆ null      │\n",
       "│           ┆           ┆         ┆ 1          ┆   ┆           ┆          ┆            ┆           │\n",
       "│ std       ┆ 3.4826e6  ┆ null    ┆ 6.735355   ┆ … ┆ null      ┆ null     ┆ null       ┆ null      │\n",
       "│ min       ┆ 1.6525511 ┆ 1 Harmo ┆ 1977.0     ┆ … ┆ Fully     ┆ Barbeque ┆ ,          ┆ Kuala     │\n",
       "│           ┆ e7        ┆ nis     ┆            ┆   ┆ Furnished ┆ area     ┆ Air-Cond,  ┆ Lumpur    │\n",
       "│           ┆           ┆         ┆            ┆   ┆           ┆          ┆ Cooking    ┆           │\n",
       "│           ┆           ┆         ┆            ┆   ┆           ┆          ┆ Allowed,   ┆           │\n",
       "│           ┆           ┆         ┆            ┆   ┆           ┆          ┆ Nea…       ┆           │\n",
       "│ max       ┆ 1.0085461 ┆ wangsa  ┆ 2025.0     ┆ … ┆ Partially ┆ Tennis   ┆ Washing    ┆ Selangor  │\n",
       "│           ┆ 7e8       ┆ maju    ┆            ┆   ┆ Furnished ┆ Court,   ┆ Machine,   ┆           │\n",
       "│           ┆           ┆ section ┆            ┆   ┆           ┆ Swimming ┆ Near       ┆           │\n",
       "│           ┆           ┆ 2       ┆            ┆   ┆           ┆ Pool,    ┆ KTM/LRT,   ┆           │\n",
       "│           ┆           ┆         ┆            ┆   ┆           ┆ Squ…     ┆ I…         ┆           │\n",
       "│ median    ┆ 1.0021267 ┆ null    ┆ 2017.0     ┆ … ┆ null      ┆ null     ┆ null       ┆ null      │\n",
       "│           ┆ 8e8       ┆         ┆            ┆   ┆           ┆          ┆            ┆           │\n",
       "└───────────┴───────────┴─────────┴────────────┴───┴───────────┴──────────┴────────────┴───────────┘"
      ]
     },
     "execution_count": 5,
     "metadata": {},
     "output_type": "execute_result"
    }
   ],
   "source": [
    "df.describe()"
   ]
  },
  {
   "cell_type": "markdown",
   "id": "c9e8bb60-c214-4616-8bbe-744a47020f51",
   "metadata": {},
   "source": [
    "##### Only select house in Kuala Lumpur Region"
   ]
  },
  {
   "cell_type": "raw",
   "id": "364fdb94-15b4-4777-af55-2cad5e1da24e",
   "metadata": {},
   "source": [
    "df = df.filter(pl.col(\"region\") == \"Kuala Lumpur\")"
   ]
  },
  {
   "cell_type": "markdown",
   "id": "215ac31c-2867-4c2b-8718-b8882e72d8e2",
   "metadata": {},
   "source": [
    "##### Drop Duplicate"
   ]
  },
  {
   "cell_type": "code",
   "execution_count": 6,
   "id": "3c9f3cf3-78ab-427f-83c5-82fd6ef99d29",
   "metadata": {},
   "outputs": [
    {
     "data": {
      "text/html": [
       "<div><style>\n",
       ".dataframe > thead > tr > th,\n",
       ".dataframe > tbody > tr > td {\n",
       "  text-align: right;\n",
       "}\n",
       "</style>\n",
       "<small>shape: (16, 14)</small><table border=\"1\" class=\"dataframe\"><thead><tr><th>ads_id</th><th>prop_name</th><th>completion_year</th><th>monthly_rent</th><th>location</th><th>property_type</th><th>rooms</th><th>parking</th><th>bathroom</th><th>size</th><th>furnished</th><th>facilities</th><th>additional_facilities</th><th>region</th></tr><tr><td>i64</td><td>str</td><td>f64</td><td>str</td><td>str</td><td>str</td><td>str</td><td>f64</td><td>f64</td><td>str</td><td>str</td><td>str</td><td>str</td><td>str</td></tr></thead><tbody><tr><td>100828884</td><td>&quot;Saville @ Cher…</td><td>2019.0</td><td>&quot;RM 1 800 per m…</td><td>&quot;Selangor - Che…</td><td>&quot;Service Reside…</td><td>&quot;2.0&quot;</td><td>1.0</td><td>1.0</td><td>&quot;1367 sq.ft.&quot;</td><td>&quot;Fully Furnishe…</td><td>&quot;Gymnasium, Squ…</td><td>&quot;Air-Cond, Cook…</td><td>&quot;Selangor&quot;</td></tr><tr><td>100828884</td><td>&quot;Saville @ Cher…</td><td>2019.0</td><td>&quot;RM 1 800 per m…</td><td>&quot;Selangor - Che…</td><td>&quot;Service Reside…</td><td>&quot;2.0&quot;</td><td>1.0</td><td>1.0</td><td>&quot;1367 sq.ft.&quot;</td><td>&quot;Fully Furnishe…</td><td>&quot;Gymnasium, Squ…</td><td>&quot;Air-Cond, Cook…</td><td>&quot;Selangor&quot;</td></tr><tr><td>100822848</td><td>&quot;Taming Mutiara…</td><td>null</td><td>&quot;RM 1 200 per m…</td><td>&quot;Selangor - Ban…</td><td>&quot;Apartment&quot;</td><td>&quot;3.0&quot;</td><td>2.0</td><td>2.0</td><td>&quot;986 sq.ft.&quot;</td><td>&quot;Fully Furnishe…</td><td>&quot;Parking, Secur…</td><td>&quot;Cooking Allowe…</td><td>&quot;Selangor&quot;</td></tr><tr><td>100822848</td><td>&quot;Taming Mutiara…</td><td>null</td><td>&quot;RM 1 200 per m…</td><td>&quot;Selangor - Ban…</td><td>&quot;Apartment&quot;</td><td>&quot;3.0&quot;</td><td>2.0</td><td>2.0</td><td>&quot;986 sq.ft.&quot;</td><td>&quot;Fully Furnishe…</td><td>&quot;Parking, Secur…</td><td>&quot;Cooking Allowe…</td><td>&quot;Selangor&quot;</td></tr><tr><td>100800319</td><td>&quot;Greenfield Res…</td><td>2021.0</td><td>&quot;RM 1 500 per m…</td><td>&quot;Selangor - Ban…</td><td>&quot;Service Reside…</td><td>&quot;2.0&quot;</td><td>1.0</td><td>1.0</td><td>&quot;581 sq.ft.&quot;</td><td>&quot;Partially Furn…</td><td>&quot;Jogging Track,…</td><td>&quot;Air-Cond, Cook…</td><td>&quot;Selangor&quot;</td></tr><tr><td>100800319</td><td>&quot;Greenfield Res…</td><td>2021.0</td><td>&quot;RM 1 500 per m…</td><td>&quot;Selangor - Ban…</td><td>&quot;Service Reside…</td><td>&quot;2.0&quot;</td><td>1.0</td><td>1.0</td><td>&quot;581 sq.ft.&quot;</td><td>&quot;Partially Furn…</td><td>&quot;Jogging Track,…</td><td>&quot;Air-Cond, Cook…</td><td>&quot;Selangor&quot;</td></tr><tr><td>100786964</td><td>&quot;Desa Saujana&quot;</td><td>null</td><td>&quot;RM 900 per mon…</td><td>&quot;Selangor - Ser…</td><td>&quot;Apartment&quot;</td><td>&quot;3.0&quot;</td><td>1.0</td><td>2.0</td><td>&quot;850 sq.ft.&quot;</td><td>&quot;Fully Furnishe…</td><td>&quot;Parking, Gymna…</td><td>&quot;Cooking Allowe…</td><td>&quot;Selangor&quot;</td></tr><tr><td>100786964</td><td>&quot;Desa Saujana&quot;</td><td>null</td><td>&quot;RM 900 per mon…</td><td>&quot;Selangor - Ser…</td><td>&quot;Apartment&quot;</td><td>&quot;3.0&quot;</td><td>1.0</td><td>2.0</td><td>&quot;850 sq.ft.&quot;</td><td>&quot;Fully Furnishe…</td><td>&quot;Parking, Gymna…</td><td>&quot;Cooking Allowe…</td><td>&quot;Selangor&quot;</td></tr><tr><td>100691270</td><td>&quot;Sri Sunway Apa…</td><td>2002.0</td><td>&quot;RM 950 per mon…</td><td>&quot;Selangor - Puc…</td><td>&quot;Apartment&quot;</td><td>&quot;3.0&quot;</td><td>1.0</td><td>2.0</td><td>&quot;823 sq.ft.&quot;</td><td>&quot;Partially Furn…</td><td>&quot;Security, Play…</td><td>&quot;Air-Cond, Cook…</td><td>&quot;Selangor&quot;</td></tr><tr><td>100691270</td><td>&quot;Sri Sunway Apa…</td><td>2002.0</td><td>&quot;RM 950 per mon…</td><td>&quot;Selangor - Puc…</td><td>&quot;Apartment&quot;</td><td>&quot;3.0&quot;</td><td>1.0</td><td>2.0</td><td>&quot;823 sq.ft.&quot;</td><td>&quot;Partially Furn…</td><td>&quot;Security, Play…</td><td>&quot;Air-Cond, Cook…</td><td>&quot;Selangor&quot;</td></tr><tr><td>100640316</td><td>&quot;Hill10 Residen…</td><td>null</td><td>&quot;RM 2 500 per m…</td><td>&quot;Selangor - Sha…</td><td>&quot;Service Reside…</td><td>&quot;2.0&quot;</td><td>null</td><td>1.0</td><td>&quot;602 sq.ft.&quot;</td><td>&quot;Fully Furnishe…</td><td>&quot;Gymnasium, Bar…</td><td>null</td><td>&quot;Selangor&quot;</td></tr><tr><td>100640316</td><td>&quot;Hill10 Residen…</td><td>null</td><td>&quot;RM 2 500 per m…</td><td>&quot;Selangor - Sha…</td><td>&quot;Service Reside…</td><td>&quot;2.0&quot;</td><td>null</td><td>1.0</td><td>&quot;602 sq.ft.&quot;</td><td>&quot;Fully Furnishe…</td><td>&quot;Gymnasium, Bar…</td><td>null</td><td>&quot;Selangor&quot;</td></tr><tr><td>100304102</td><td>&quot;Impiria Reside…</td><td>2018.0</td><td>&quot;RM 3 300 per m…</td><td>&quot;Selangor - Kla…</td><td>&quot;Service Reside…</td><td>&quot;4.0&quot;</td><td>null</td><td>3.0</td><td>&quot;1312 sq.ft.&quot;</td><td>&quot;Fully Furnishe…</td><td>&quot;Minimart, Gymn…</td><td>null</td><td>&quot;Selangor&quot;</td></tr><tr><td>100304102</td><td>&quot;Impiria Reside…</td><td>2018.0</td><td>&quot;RM 3 300 per m…</td><td>&quot;Selangor - Kla…</td><td>&quot;Service Reside…</td><td>&quot;4.0&quot;</td><td>null</td><td>3.0</td><td>&quot;1312 sq.ft.&quot;</td><td>&quot;Fully Furnishe…</td><td>&quot;Minimart, Gymn…</td><td>null</td><td>&quot;Selangor&quot;</td></tr><tr><td>100108343</td><td>&quot;The Glenz @ Gl…</td><td>null</td><td>&quot;RM 1 800 per m…</td><td>&quot;Selangor - Set…</td><td>&quot;Service Reside…</td><td>&quot;2.0&quot;</td><td>null</td><td>2.0</td><td>&quot;800 sq.ft.&quot;</td><td>&quot;Partially Furn…</td><td>null</td><td>null</td><td>&quot;Selangor&quot;</td></tr><tr><td>100108343</td><td>&quot;The Glenz @ Gl…</td><td>null</td><td>&quot;RM 1 800 per m…</td><td>&quot;Selangor - Set…</td><td>&quot;Service Reside…</td><td>&quot;2.0&quot;</td><td>null</td><td>2.0</td><td>&quot;800 sq.ft.&quot;</td><td>&quot;Partially Furn…</td><td>null</td><td>null</td><td>&quot;Selangor&quot;</td></tr></tbody></table></div>"
      ],
      "text/plain": [
       "shape: (16, 14)\n",
       "┌───────────┬───────────┬────────────┬────────────┬───┬─────────┬──────────┬────────────┬──────────┐\n",
       "│ ads_id    ┆ prop_name ┆ completion ┆ monthly_re ┆ … ┆ furnish ┆ faciliti ┆ additional ┆ region   │\n",
       "│ ---       ┆ ---       ┆ _year      ┆ nt         ┆   ┆ ed      ┆ es       ┆ _facilitie ┆ ---      │\n",
       "│ i64       ┆ str       ┆ ---        ┆ ---        ┆   ┆ ---     ┆ ---      ┆ s          ┆ str      │\n",
       "│           ┆           ┆ f64        ┆ str        ┆   ┆ str     ┆ str      ┆ ---        ┆          │\n",
       "│           ┆           ┆            ┆            ┆   ┆         ┆          ┆ str        ┆          │\n",
       "╞═══════════╪═══════════╪════════════╪════════════╪═══╪═════════╪══════════╪════════════╪══════════╡\n",
       "│ 100828884 ┆ Saville @ ┆ 2019.0     ┆ RM 1 800   ┆ … ┆ Fully   ┆ Gymnasiu ┆ Air-Cond,  ┆ Selangor │\n",
       "│           ┆ Cheras    ┆            ┆ per month  ┆   ┆ Furnish ┆ m,       ┆ Cooking    ┆          │\n",
       "│           ┆           ┆            ┆            ┆   ┆ ed      ┆ Squash   ┆ Allowed,   ┆          │\n",
       "│           ┆           ┆            ┆            ┆   ┆         ┆ Court,   ┆ Near …     ┆          │\n",
       "│           ┆           ┆            ┆            ┆   ┆         ┆ Swimmin… ┆            ┆          │\n",
       "│ 100828884 ┆ Saville @ ┆ 2019.0     ┆ RM 1 800   ┆ … ┆ Fully   ┆ Gymnasiu ┆ Air-Cond,  ┆ Selangor │\n",
       "│           ┆ Cheras    ┆            ┆ per month  ┆   ┆ Furnish ┆ m,       ┆ Cooking    ┆          │\n",
       "│           ┆           ┆            ┆            ┆   ┆ ed      ┆ Squash   ┆ Allowed,   ┆          │\n",
       "│           ┆           ┆            ┆            ┆   ┆         ┆ Court,   ┆ Near …     ┆          │\n",
       "│           ┆           ┆            ┆            ┆   ┆         ┆ Swimmin… ┆            ┆          │\n",
       "│ 100822848 ┆ Taming    ┆ null       ┆ RM 1 200   ┆ … ┆ Fully   ┆ Parking, ┆ Cooking    ┆ Selangor │\n",
       "│           ┆ Mutiara   ┆            ┆ per month  ┆   ┆ Furnish ┆ Security ┆ Allowed,   ┆          │\n",
       "│           ┆           ┆            ┆            ┆   ┆ ed      ┆ , Lift,  ┆ Washing    ┆          │\n",
       "│           ┆           ┆            ┆            ┆   ┆         ┆ Playgro… ┆ Machine    ┆          │\n",
       "│ 100822848 ┆ Taming    ┆ null       ┆ RM 1 200   ┆ … ┆ Fully   ┆ Parking, ┆ Cooking    ┆ Selangor │\n",
       "│           ┆ Mutiara   ┆            ┆ per month  ┆   ┆ Furnish ┆ Security ┆ Allowed,   ┆          │\n",
       "│           ┆           ┆            ┆            ┆   ┆ ed      ┆ , Lift,  ┆ Washing    ┆          │\n",
       "│           ┆           ┆            ┆            ┆   ┆         ┆ Playgro… ┆ Machine    ┆          │\n",
       "│ …         ┆ …         ┆ …          ┆ …          ┆ … ┆ …       ┆ …        ┆ …          ┆ …        │\n",
       "│ 100304102 ┆ Impiria   ┆ 2018.0     ┆ RM 3 300   ┆ … ┆ Fully   ┆ Minimart ┆ null       ┆ Selangor │\n",
       "│           ┆ Residensi ┆            ┆ per month  ┆   ┆ Furnish ┆ , Gymnas ┆            ┆          │\n",
       "│           ┆ Bukit     ┆            ┆            ┆   ┆ ed      ┆ ium, Sec ┆            ┆          │\n",
       "│           ┆ Tinggi K… ┆            ┆            ┆   ┆         ┆ urity,   ┆            ┆          │\n",
       "│           ┆           ┆            ┆            ┆   ┆         ┆ P…       ┆            ┆          │\n",
       "│ 100304102 ┆ Impiria   ┆ 2018.0     ┆ RM 3 300   ┆ … ┆ Fully   ┆ Minimart ┆ null       ┆ Selangor │\n",
       "│           ┆ Residensi ┆            ┆ per month  ┆   ┆ Furnish ┆ , Gymnas ┆            ┆          │\n",
       "│           ┆ Bukit     ┆            ┆            ┆   ┆ ed      ┆ ium, Sec ┆            ┆          │\n",
       "│           ┆ Tinggi K… ┆            ┆            ┆   ┆         ┆ urity,   ┆            ┆          │\n",
       "│           ┆           ┆            ┆            ┆   ┆         ┆ P…       ┆            ┆          │\n",
       "│ 100108343 ┆ The Glenz ┆ null       ┆ RM 1 800   ┆ … ┆ Partial ┆ null     ┆ null       ┆ Selangor │\n",
       "│           ┆ @         ┆            ┆ per month  ┆   ┆ ly Furn ┆          ┆            ┆          │\n",
       "│           ┆ Glenmarie ┆            ┆            ┆   ┆ ished   ┆          ┆            ┆          │\n",
       "│ 100108343 ┆ The Glenz ┆ null       ┆ RM 1 800   ┆ … ┆ Partial ┆ null     ┆ null       ┆ Selangor │\n",
       "│           ┆ @         ┆            ┆ per month  ┆   ┆ ly Furn ┆          ┆            ┆          │\n",
       "│           ┆ Glenmarie ┆            ┆            ┆   ┆ ished   ┆          ┆            ┆          │\n",
       "└───────────┴───────────┴────────────┴────────────┴───┴─────────┴──────────┴────────────┴──────────┘"
      ]
     },
     "execution_count": 6,
     "metadata": {},
     "output_type": "execute_result"
    }
   ],
   "source": [
    "df.filter(df.is_duplicated())"
   ]
  },
  {
   "cell_type": "code",
   "execution_count": 7,
   "id": "44055bad-c603-43fa-b96a-3deeff0ede4f",
   "metadata": {},
   "outputs": [],
   "source": [
    "df = df.unique()"
   ]
  },
  {
   "cell_type": "markdown",
   "id": "98061ffa-4c5f-4fd3-86d8-f5adb7ca92f8",
   "metadata": {},
   "source": [
    "##### Extracting Number and Keyword"
   ]
  },
  {
   "cell_type": "code",
   "execution_count": 8,
   "id": "e1c22859-17ce-49e3-92c3-2bb414c009c4",
   "metadata": {},
   "outputs": [],
   "source": [
    "df = df.with_columns(pl.col(\"monthly_rent\").apply(lambda x: int(re.search(r'RM (.*?) per', x).group(1).replace(' ', ''))))\n",
    "df = df.rename({\"monthly_rent\": \"monthly_rent_rm\"})"
   ]
  },
  {
   "cell_type": "code",
   "execution_count": 9,
   "id": "f435eec8-cda9-4ad8-8635-f118384c97e2",
   "metadata": {},
   "outputs": [],
   "source": [
    "df = df.with_columns(pl.col(\"size\").apply(lambda x: int(re.search(r'(.*?) sq', x).group(1).replace(' ', ''))))\n",
    "df = df.rename({'size': 'size_sqft'})"
   ]
  },
  {
   "cell_type": "code",
   "execution_count": 10,
   "id": "1a353d11-29ba-400b-9155-697025d74b74",
   "metadata": {},
   "outputs": [],
   "source": [
    "df = df.with_columns(pl.col(\"location\").apply(lambda x: re.sub(r\"Kuala Lumpur - \\s*\", \"\", x)))"
   ]
  },
  {
   "cell_type": "code",
   "execution_count": 11,
   "id": "c9bd73ef-57ab-40bd-8bfe-ce2584ea3a42",
   "metadata": {},
   "outputs": [],
   "source": [
    "df = df.with_columns(pl.col(\"location\").apply(lambda x: re.sub(r\"Selangor - \\s*\", \"\", x)))"
   ]
  },
  {
   "cell_type": "code",
   "execution_count": 12,
   "id": "28be0e20-d942-4ad0-8611-c47b60b521db",
   "metadata": {},
   "outputs": [
    {
     "data": {
      "text/html": [
       "<div><style>\n",
       ".dataframe > thead > tr > th,\n",
       ".dataframe > tbody > tr > td {\n",
       "  text-align: right;\n",
       "}\n",
       "</style>\n",
       "<small>shape: (19983, 14)</small><table border=\"1\" class=\"dataframe\"><thead><tr><th>ads_id</th><th>prop_name</th><th>completion_year</th><th>monthly_rent_rm</th><th>location</th><th>property_type</th><th>rooms</th><th>parking</th><th>bathroom</th><th>size_sqft</th><th>furnished</th><th>facilities</th><th>additional_facilities</th><th>region</th></tr><tr><td>i64</td><td>str</td><td>f64</td><td>i64</td><td>str</td><td>str</td><td>str</td><td>f64</td><td>f64</td><td>i64</td><td>str</td><td>str</td><td>str</td><td>str</td></tr></thead><tbody><tr><td>100541338</td><td>&quot;Seri Jati Apar…</td><td>null</td><td>950</td><td>&quot;Setia Alam&quot;</td><td>&quot;Apartment&quot;</td><td>&quot;3.0&quot;</td><td>null</td><td>2.0</td><td>813</td><td>&quot;Not Furnished&quot;</td><td>&quot;Parking, Secur…</td><td>null</td><td>&quot;Selangor&quot;</td></tr><tr><td>100628964</td><td>&quot;Juta Mines&quot;</td><td>2005.0</td><td>1200</td><td>&quot;Seri Kembangan…</td><td>&quot;Condominium&quot;</td><td>&quot;3.0&quot;</td><td>1.0</td><td>2.0</td><td>1207</td><td>&quot;Partially Furn…</td><td>&quot;Gymnasium, Par…</td><td>null</td><td>&quot;Selangor&quot;</td></tr><tr><td>100093714</td><td>&quot;Pantai Indah F…</td><td>null</td><td>1300</td><td>&quot;Pantai&quot;</td><td>&quot;Apartment&quot;</td><td>&quot;3&quot;</td><td>2.0</td><td>2.0</td><td>850</td><td>&quot;Fully Furnishe…</td><td>&quot;Parking, Secur…</td><td>&quot;Air-Cond, Cook…</td><td>&quot;Kuala Lumpur&quot;</td></tr><tr><td>99986698</td><td>&quot;The Hipster @ …</td><td>2022.0</td><td>1388</td><td>&quot;Taman Desa&quot;</td><td>&quot;Condominium&quot;</td><td>&quot;3&quot;</td><td>2.0</td><td>2.0</td><td>958</td><td>&quot;Partially Furn…</td><td>&quot;Minimart, Swim…</td><td>&quot;Air-Cond, Cook…</td><td>&quot;Kuala Lumpur&quot;</td></tr><tr><td>97439958</td><td>&quot;Suria Tropika …</td><td>null</td><td>950</td><td>&quot;Seri Kembangan…</td><td>&quot;Apartment&quot;</td><td>&quot;3.0&quot;</td><td>null</td><td>2.0</td><td>850</td><td>&quot;Not Furnished&quot;</td><td>null</td><td>null</td><td>&quot;Selangor&quot;</td></tr><tr><td>100159490</td><td>&quot;D&#x27;Suria Condom…</td><td>2015.0</td><td>2400</td><td>&quot;Ampang&quot;</td><td>&quot;Condominium&quot;</td><td>&quot;4&quot;</td><td>2.0</td><td>3.0</td><td>1264</td><td>&quot;Partially Furn…</td><td>&quot;Parking, Secur…</td><td>null</td><td>&quot;Kuala Lumpur&quot;</td></tr><tr><td>99934333</td><td>&quot;Suria Kipark D…</td><td>2009.0</td><td>1000</td><td>&quot;Kepong&quot;</td><td>&quot;Apartment&quot;</td><td>&quot;3&quot;</td><td>1.0</td><td>2.0</td><td>948</td><td>&quot;Not Furnished&quot;</td><td>&quot;Security, Swim…</td><td>&quot;Cooking Allowe…</td><td>&quot;Kuala Lumpur&quot;</td></tr><tr><td>100756841</td><td>&quot;City of Green …</td><td>2016.0</td><td>1300</td><td>&quot;Seri Kembangan…</td><td>&quot;Service Reside…</td><td>&quot;3.0&quot;</td><td>2.0</td><td>2.0</td><td>1065</td><td>&quot;Partially Furn…</td><td>&quot;Security, Gymn…</td><td>&quot;Air-Cond, Cook…</td><td>&quot;Selangor&quot;</td></tr><tr><td>100241670</td><td>&quot;Tasikmas&quot;</td><td>null</td><td>1000</td><td>&quot;Bandar Tasik S…</td><td>&quot;Apartment&quot;</td><td>&quot;3&quot;</td><td>1.0</td><td>2.0</td><td>805</td><td>&quot;Not Furnished&quot;</td><td>&quot;Parking, Secur…</td><td>&quot;Cooking Allowe…</td><td>&quot;Kuala Lumpur&quot;</td></tr><tr><td>100794056</td><td>&quot;Suria Jaya&quot;</td><td>null</td><td>900</td><td>&quot;Shah Alam&quot;</td><td>&quot;Apartment&quot;</td><td>&quot;1.0&quot;</td><td>null</td><td>1.0</td><td>430</td><td>&quot;Not Furnished&quot;</td><td>null</td><td>null</td><td>&quot;Selangor&quot;</td></tr><tr><td>99015454</td><td>&quot;Icon Residence…</td><td>null</td><td>2950</td><td>&quot;Solaris Dutama…</td><td>&quot;Condominium&quot;</td><td>&quot;2&quot;</td><td>2.0</td><td>2.0</td><td>1175</td><td>&quot;Fully Furnishe…</td><td>&quot;Parking, Secur…</td><td>&quot;Air-Cond, Cook…</td><td>&quot;Kuala Lumpur&quot;</td></tr><tr><td>100716999</td><td>&quot;Impian Apartme…</td><td>null</td><td>700</td><td>&quot;Damansara Dama…</td><td>&quot;Apartment&quot;</td><td>&quot;3.0&quot;</td><td>1.0</td><td>2.0</td><td>850</td><td>&quot;Not Furnished&quot;</td><td>&quot;Playground, Pa…</td><td>&quot;Cooking Allowe…</td><td>&quot;Selangor&quot;</td></tr><tr><td>&hellip;</td><td>&hellip;</td><td>&hellip;</td><td>&hellip;</td><td>&hellip;</td><td>&hellip;</td><td>&hellip;</td><td>&hellip;</td><td>&hellip;</td><td>&hellip;</td><td>&hellip;</td><td>&hellip;</td><td>&hellip;</td><td>&hellip;</td></tr><tr><td>100644225</td><td>&quot;Harmoni @ Eco …</td><td>2019.0</td><td>750</td><td>&quot;Semenyih&quot;</td><td>&quot;Apartment&quot;</td><td>&quot;3.0&quot;</td><td>2.0</td><td>2.0</td><td>800</td><td>&quot;Partially Furn…</td><td>&quot;Parking, Secur…</td><td>&quot;Cooking Allowe…</td><td>&quot;Selangor&quot;</td></tr><tr><td>99849518</td><td>&quot;The Henge Kepo…</td><td>2019.0</td><td>1400</td><td>&quot;Kepong&quot;</td><td>&quot;Condominium&quot;</td><td>&quot;3&quot;</td><td>2.0</td><td>2.0</td><td>1100</td><td>&quot;Not Furnished&quot;</td><td>&quot;Sauna, Parking…</td><td>null</td><td>&quot;Kuala Lumpur&quot;</td></tr><tr><td>100097697</td><td>&quot;Queensville&quot;</td><td>null</td><td>1700</td><td>&quot;Cheras&quot;</td><td>&quot;Condominium&quot;</td><td>&quot;1&quot;</td><td>1.0</td><td>1.0</td><td>550</td><td>&quot;Fully Furnishe…</td><td>&quot;Parking, Secur…</td><td>&quot;Air-Cond, Cook…</td><td>&quot;Kuala Lumpur&quot;</td></tr><tr><td>100199310</td><td>&quot;Pertama Reside…</td><td>2009.0</td><td>1500</td><td>&quot;Cheras&quot;</td><td>&quot;Condominium&quot;</td><td>&quot;1&quot;</td><td>null</td><td>1.0</td><td>700</td><td>&quot;Fully Furnishe…</td><td>&quot;Jogging Track,…</td><td>&quot;Air-Cond, Cook…</td><td>&quot;Kuala Lumpur&quot;</td></tr><tr><td>99936381</td><td>&quot;Bayu Andaman&quot;</td><td>null</td><td>1800</td><td>&quot;Sentul&quot;</td><td>&quot;Apartment&quot;</td><td>&quot;3&quot;</td><td>null</td><td>2.0</td><td>1000</td><td>&quot;Fully Furnishe…</td><td>&quot;Security, Swim…</td><td>&quot;Air-Cond, Cook…</td><td>&quot;Kuala Lumpur&quot;</td></tr><tr><td>100320543</td><td>&quot;PV9 Residences…</td><td>2022.0</td><td>2300</td><td>&quot;Setapak&quot;</td><td>&quot;Service Reside…</td><td>&quot;3&quot;</td><td>2.0</td><td>2.0</td><td>1000</td><td>&quot;Partially Furn…</td><td>&quot;Parking, Secur…</td><td>&quot;Cooking Allowe…</td><td>&quot;Kuala Lumpur&quot;</td></tr><tr><td>100585716</td><td>&quot;Taman Cheras I…</td><td>2010.0</td><td>1200</td><td>&quot;Cheras&quot;</td><td>&quot;Apartment&quot;</td><td>&quot;3.0&quot;</td><td>null</td><td>2.0</td><td>890</td><td>&quot;Partially Furn…</td><td>&quot;Parking, Secur…</td><td>&quot;Cooking Allowe…</td><td>&quot;Selangor&quot;</td></tr><tr><td>100840816</td><td>&quot;D&#x27;Kristal&quot;</td><td>null</td><td>950</td><td>&quot;Semenyih&quot;</td><td>&quot;Apartment&quot;</td><td>&quot;3.0&quot;</td><td>1.0</td><td>2.0</td><td>810</td><td>&quot;Fully Furnishe…</td><td>&quot;Parking, Secur…</td><td>null</td><td>&quot;Selangor&quot;</td></tr><tr><td>100797402</td><td>&quot;Landmark Resid…</td><td>2019.0</td><td>1800</td><td>&quot;Kajang&quot;</td><td>&quot;Service Reside…</td><td>&quot;3.0&quot;</td><td>2.0</td><td>2.0</td><td>1163</td><td>&quot;Fully Furnishe…</td><td>&quot;Lift, Security…</td><td>&quot;Air-Cond, Cook…</td><td>&quot;Selangor&quot;</td></tr><tr><td>100423970</td><td>&quot;Vesta View Apa…</td><td>2019.0</td><td>1100</td><td>&quot;Kajang&quot;</td><td>&quot;Apartment&quot;</td><td>&quot;3.0&quot;</td><td>2.0</td><td>3.0</td><td>1044</td><td>&quot;Not Furnished&quot;</td><td>&quot;Security, Mini…</td><td>null</td><td>&quot;Selangor&quot;</td></tr><tr><td>100176059</td><td>&quot;Majestic Maxim…</td><td>2021.0</td><td>1400</td><td>&quot;Cheras&quot;</td><td>&quot;Service Reside…</td><td>&quot;2&quot;</td><td>1.0</td><td>2.0</td><td>650</td><td>&quot;Partially Furn…</td><td>&quot;Security, Play…</td><td>&quot;Air-Cond, Cook…</td><td>&quot;Kuala Lumpur&quot;</td></tr><tr><td>100136518</td><td>&quot;Estana Court&quot;</td><td>null</td><td>1300</td><td>&quot;Ampang&quot;</td><td>&quot;Apartment&quot;</td><td>&quot;3&quot;</td><td>1.0</td><td>2.0</td><td>850</td><td>&quot;Not Furnished&quot;</td><td>&quot;Playground, Pa…</td><td>null</td><td>&quot;Kuala Lumpur&quot;</td></tr></tbody></table></div>"
      ],
      "text/plain": [
       "shape: (19_983, 14)\n",
       "┌────────────┬─────────┬────────────┬────────────┬───┬─────────┬──────────┬────────────┬───────────┐\n",
       "│ ads_id     ┆ prop_na ┆ completion ┆ monthly_re ┆ … ┆ furnish ┆ faciliti ┆ additional ┆ region    │\n",
       "│ ---        ┆ me      ┆ _year      ┆ nt_rm      ┆   ┆ ed      ┆ es       ┆ _facilitie ┆ ---       │\n",
       "│ i64        ┆ ---     ┆ ---        ┆ ---        ┆   ┆ ---     ┆ ---      ┆ s          ┆ str       │\n",
       "│            ┆ str     ┆ f64        ┆ i64        ┆   ┆ str     ┆ str      ┆ ---        ┆           │\n",
       "│            ┆         ┆            ┆            ┆   ┆         ┆          ┆ str        ┆           │\n",
       "╞════════════╪═════════╪════════════╪════════════╪═══╪═════════╪══════════╪════════════╪═══════════╡\n",
       "│ 100541338  ┆ Seri    ┆ null       ┆ 950        ┆ … ┆ Not Fur ┆ Parking, ┆ null       ┆ Selangor  │\n",
       "│            ┆ Jati    ┆            ┆            ┆   ┆ nished  ┆ Security ┆            ┆           │\n",
       "│            ┆ Apartme ┆            ┆            ┆   ┆         ┆ , Lift,  ┆            ┆           │\n",
       "│            ┆ nt      ┆            ┆            ┆   ┆         ┆ Swimmin… ┆            ┆           │\n",
       "│            ┆ Setia   ┆            ┆            ┆   ┆         ┆          ┆            ┆           │\n",
       "│            ┆ Alam    ┆            ┆            ┆   ┆         ┆          ┆            ┆           │\n",
       "│ 100628964  ┆ Juta    ┆ 2005.0     ┆ 1200       ┆ … ┆ Partial ┆ Gymnasiu ┆ null       ┆ Selangor  │\n",
       "│            ┆ Mines   ┆            ┆            ┆   ┆ ly Furn ┆ m,       ┆            ┆           │\n",
       "│            ┆         ┆            ┆            ┆   ┆ ished   ┆ Parking, ┆            ┆           │\n",
       "│            ┆         ┆            ┆            ┆   ┆         ┆ Minimart ┆            ┆           │\n",
       "│            ┆         ┆            ┆            ┆   ┆         ┆ , Pl…    ┆            ┆           │\n",
       "│ 100093714  ┆ Pantai  ┆ null       ┆ 1300       ┆ … ┆ Fully   ┆ Parking, ┆ Air-Cond,  ┆ Kuala     │\n",
       "│            ┆ Indah   ┆            ┆            ┆   ┆ Furnish ┆ Security ┆ Cooking    ┆ Lumpur    │\n",
       "│            ┆ Fasa 2  ┆            ┆            ┆   ┆ ed      ┆ , Lift,  ┆ Allowed,   ┆           │\n",
       "│            ┆         ┆            ┆            ┆   ┆         ┆ Playgro… ┆ Near …     ┆           │\n",
       "│ 99986698   ┆ The     ┆ 2022.0     ┆ 1388       ┆ … ┆ Partial ┆ Minimart ┆ Air-Cond,  ┆ Kuala     │\n",
       "│            ┆ Hipster ┆            ┆            ┆   ┆ ly Furn ┆ ,        ┆ Cooking    ┆ Lumpur    │\n",
       "│            ┆ @ Taman ┆            ┆            ┆   ┆ ished   ┆ Swimming ┆ Allowed,   ┆           │\n",
       "│            ┆ Desa    ┆            ┆            ┆   ┆         ┆ Pool,    ┆ Near …     ┆           │\n",
       "│            ┆         ┆            ┆            ┆   ┆         ┆ Squash … ┆            ┆           │\n",
       "│ …          ┆ …       ┆ …          ┆ …          ┆ … ┆ …       ┆ …        ┆ …          ┆ …         │\n",
       "│ 100797402  ┆ Landmar ┆ 2019.0     ┆ 1800       ┆ … ┆ Fully   ┆ Lift,    ┆ Air-Cond,  ┆ Selangor  │\n",
       "│            ┆ k Resid ┆            ┆            ┆   ┆ Furnish ┆ Security ┆ Cooking    ┆           │\n",
       "│            ┆ ence    ┆            ┆            ┆   ┆ ed      ┆ , Minima ┆ Allowed,   ┆           │\n",
       "│            ┆         ┆            ┆            ┆   ┆         ┆ rt,      ┆ Washi…     ┆           │\n",
       "│            ┆         ┆            ┆            ┆   ┆         ┆ Swimmi…  ┆            ┆           │\n",
       "│ 100423970  ┆ Vesta   ┆ 2019.0     ┆ 1100       ┆ … ┆ Not Fur ┆ Security ┆ null       ┆ Selangor  │\n",
       "│            ┆ View    ┆            ┆            ┆   ┆ nished  ┆ , Minima ┆            ┆           │\n",
       "│            ┆ Apartme ┆            ┆            ┆   ┆         ┆ rt,      ┆            ┆           │\n",
       "│            ┆ nt @    ┆            ┆            ┆   ┆         ┆ Swimming ┆            ┆           │\n",
       "│            ┆ Taman   ┆            ┆            ┆   ┆         ┆ Poo…     ┆            ┆           │\n",
       "│            ┆ Put…    ┆            ┆            ┆   ┆         ┆          ┆            ┆           │\n",
       "│ 100176059  ┆ Majesti ┆ 2021.0     ┆ 1400       ┆ … ┆ Partial ┆ Security ┆ Air-Cond,  ┆ Kuala     │\n",
       "│            ┆ c Maxim ┆            ┆            ┆   ┆ ly Furn ┆ , Playgr ┆ Cooking    ┆ Lumpur    │\n",
       "│            ┆         ┆            ┆            ┆   ┆ ished   ┆ ound,    ┆ Allowed,   ┆           │\n",
       "│            ┆         ┆            ┆            ┆   ┆         ┆ Gymnasiu ┆ Near …     ┆           │\n",
       "│            ┆         ┆            ┆            ┆   ┆         ┆ m,…      ┆            ┆           │\n",
       "│ 100136518  ┆ Estana  ┆ null       ┆ 1300       ┆ … ┆ Not Fur ┆ Playgrou ┆ null       ┆ Kuala     │\n",
       "│            ┆ Court   ┆            ┆            ┆   ┆ nished  ┆ nd,      ┆            ┆ Lumpur    │\n",
       "│            ┆         ┆            ┆            ┆   ┆         ┆ Parking, ┆            ┆           │\n",
       "│            ┆         ┆            ┆            ┆   ┆         ┆ Security ┆            ┆           │\n",
       "│            ┆         ┆            ┆            ┆   ┆         ┆ , L…     ┆            ┆           │\n",
       "└────────────┴─────────┴────────────┴────────────┴───┴─────────┴──────────┴────────────┴───────────┘"
      ]
     },
     "execution_count": 12,
     "metadata": {},
     "output_type": "execute_result"
    }
   ],
   "source": [
    "df"
   ]
  },
  {
   "cell_type": "code",
   "execution_count": 13,
   "id": "f8d639a3-59a4-42da-9560-48329710fdd2",
   "metadata": {},
   "outputs": [
    {
     "name": "stdout",
     "output_type": "stream",
     "text": [
      "Rows: 1\n",
      "Columns: 15\n",
      "$ ads_id                <i64> 100854617\n",
      "$ prop_name             <str> wangsa maju section 2\n",
      "$ completion_year       <f64> 2025.0\n",
      "$ monthly_rent_rm       <i64> 2400000\n",
      "$ location              <str> Wangsa Maju\n",
      "$ property_type         <str> Townhouse Condo\n",
      "$ rooms                 <str> More than 10\n",
      "$ parking               <f64> 10.0\n",
      "$ bathroom              <f64> 8.0\n",
      "$ size_sqft             <i64> 99999999\n",
      "$ furnished             <str> Partially Furnished\n",
      "$ facilities            <str> Tennis Court, Swimming Pool, Squash Court, Jogging Track, Gymnasium, Parking, Security, Minimart, Playground\n",
      "$ additional_facilities <str> Washing Machine, Near KTM/LRT, Internet, Cooking Allowed\n",
      "$ region                <str> Selangor\n",
      "$ len                   <u32> 68\n",
      "\n"
     ]
    }
   ],
   "source": [
    "df.with_columns([pl.col(\"additional_facilities\").str.lengths().alias(\"len\")]).max().glimpse()"
   ]
  },
  {
   "cell_type": "markdown",
   "id": "8529758d-19f1-4b44-bb62-1526b8743d06",
   "metadata": {},
   "source": [
    "##### Extracting Near KTM/LRT\n",
    "Hypotheses: closer access to KTM/LRT = higher monthly rent"
   ]
  },
  {
   "cell_type": "raw",
   "id": "bf88232e-0685-4fc6-a8ef-3bb095d65f3c",
   "metadata": {},
   "source": [
    "# Extracting \"near KTM/LRT\" into its own column.\n",
    "def extract_near_ktm_lrt(text):\n",
    "    pattern = re.compile(r'\\bNear KTM/LRT\\b')\n",
    "    try:\n",
    "        match = pattern.search(text)\n",
    "        if match:\n",
    "            return True\n",
    "        return False\n",
    "    except TypeError:\n",
    "        return text"
   ]
  },
  {
   "cell_type": "raw",
   "id": "3034cda1-7ef9-413b-a8d5-ef9d1393bb98",
   "metadata": {},
   "source": [
    "df[\"additional_facilities\"].apply(lambda x: extract_near_ktm_lrt(x))"
   ]
  },
  {
   "cell_type": "raw",
   "id": "72a94ab2-d464-4888-b9ed-38ff3c6de3ed",
   "metadata": {},
   "source": [
    "df = df.select([\n",
    "    pl.all(),\n",
    "    pl.col(\"additional_facilities\").apply(lambda x: extract_near_ktm_lrt(x)).alias(\"nearby_railways\")\n",
    "])"
   ]
  },
  {
   "cell_type": "raw",
   "id": "7ebfd234-c0ef-4bed-9895-010da8a8e329",
   "metadata": {},
   "source": [
    "near_ktmlrt = df.filter(pl.col(\"nearby_railways\") == True).select(pl.col(\"monthly_rent_rm\")).median().item()\n",
    "not_near_ktmlrt = df.filter(pl.col(\"nearby_railways\") == False).select(pl.col(\"monthly_rent_rm\")).median().item()"
   ]
  },
  {
   "cell_type": "code",
   "execution_count": 14,
   "id": "664b7645-720f-41eb-8103-c6001535191a",
   "metadata": {},
   "outputs": [
    {
     "data": {
      "text/html": [
       "<div><style>\n",
       ".dataframe > thead > tr > th,\n",
       ".dataframe > tbody > tr > td {\n",
       "  text-align: right;\n",
       "}\n",
       "</style>\n",
       "<small>shape: (19983,)</small><table border=\"1\" class=\"dataframe\"><thead><tr><th>additional_facilities</th></tr><tr><td>str</td></tr></thead><tbody><tr><td>null</td></tr><tr><td>null</td></tr><tr><td>&quot;Air-Cond,Cooki…</td></tr><tr><td>&quot;Air-Cond,Cooki…</td></tr><tr><td>null</td></tr><tr><td>null</td></tr><tr><td>&quot;Cooking Allowe…</td></tr><tr><td>&quot;Air-Cond,Cooki…</td></tr><tr><td>&quot;Cooking Allowe…</td></tr><tr><td>null</td></tr><tr><td>&quot;Air-Cond,Cooki…</td></tr><tr><td>&quot;Cooking Allowe…</td></tr><tr><td>&hellip;</td></tr><tr><td>&quot;Cooking Allowe…</td></tr><tr><td>null</td></tr><tr><td>&quot;Air-Cond,Cooki…</td></tr><tr><td>&quot;Air-Cond,Cooki…</td></tr><tr><td>&quot;Air-Cond,Cooki…</td></tr><tr><td>&quot;Cooking Allowe…</td></tr><tr><td>&quot;Cooking Allowe…</td></tr><tr><td>null</td></tr><tr><td>&quot;Air-Cond,Cooki…</td></tr><tr><td>null</td></tr><tr><td>&quot;Air-Cond,Cooki…</td></tr><tr><td>null</td></tr></tbody></table></div>"
      ],
      "text/plain": [
       "shape: (19_983,)\n",
       "Series: 'additional_facilities' [str]\n",
       "[\n",
       "\tnull\n",
       "\tnull\n",
       "\t\"Air-Cond,Cooki…\n",
       "\t\"Air-Cond,Cooki…\n",
       "\tnull\n",
       "\tnull\n",
       "\t\"Cooking Allowe…\n",
       "\t\"Air-Cond,Cooki…\n",
       "\t\"Cooking Allowe…\n",
       "\tnull\n",
       "\t\"Air-Cond,Cooki…\n",
       "\t\"Cooking Allowe…\n",
       "\t…\n",
       "\t\"Air-Cond,Cooki…\n",
       "\t\"Cooking Allowe…\n",
       "\tnull\n",
       "\t\"Air-Cond,Cooki…\n",
       "\t\"Air-Cond,Cooki…\n",
       "\t\"Air-Cond,Cooki…\n",
       "\t\"Cooking Allowe…\n",
       "\t\"Cooking Allowe…\n",
       "\tnull\n",
       "\t\"Air-Cond,Cooki…\n",
       "\tnull\n",
       "\t\"Air-Cond,Cooki…\n",
       "\tnull\n",
       "]"
      ]
     },
     "execution_count": 14,
     "metadata": {},
     "output_type": "execute_result"
    }
   ],
   "source": [
    "df[\"additional_facilities\"].apply(lambda x : str(x).replace(\", \", \",\"))"
   ]
  },
  {
   "cell_type": "raw",
   "id": "06e53fff-7834-480a-af5a-65a83b286cf7",
   "metadata": {},
   "source": [
    "def extract_near_ktm_lrt(text):\n",
    "    pattern = re.compile(r'\\bNear KTM/LRT\\b')\n",
    "    try:\n",
    "        match = pattern.search(text)\n",
    "        if match:\n",
    "            return True\n",
    "        return False\n",
    "    except TypeError:\n",
    "        return text"
   ]
  },
  {
   "cell_type": "raw",
   "id": "1552c367-f94a-4cad-b0b9-5eb33e7cb59b",
   "metadata": {},
   "source": [
    "df[\"additional_facilities\"].apply(lambda x: extract_near_ktm_lrt(x))"
   ]
  },
  {
   "cell_type": "code",
   "execution_count": 15,
   "id": "1c1f717e-eb0b-4a8f-9133-4fa8cef2027a",
   "metadata": {},
   "outputs": [],
   "source": [
    "df = df.select([\n",
    "    pl.all(),\n",
    "    pl.col(\"additional_facilities\").apply(lambda x : str(x).replace(\", \", \",\")).alias(\"additional_facilities_clean\")\n",
    "])"
   ]
  },
  {
   "cell_type": "code",
   "execution_count": 16,
   "id": "5b53c747-06bb-43d1-93a8-020d2a1c6733",
   "metadata": {},
   "outputs": [
    {
     "data": {
      "text/html": [
       "<div><style>\n",
       ".dataframe > thead > tr > th,\n",
       ".dataframe > tbody > tr > td {\n",
       "  text-align: right;\n",
       "}\n",
       "</style>\n",
       "<small>shape: (19983, 15)</small><table border=\"1\" class=\"dataframe\"><thead><tr><th>ads_id</th><th>prop_name</th><th>completion_year</th><th>monthly_rent_rm</th><th>location</th><th>property_type</th><th>rooms</th><th>parking</th><th>bathroom</th><th>size_sqft</th><th>furnished</th><th>facilities</th><th>additional_facilities</th><th>region</th><th>additional_facilities_clean</th></tr><tr><td>i64</td><td>str</td><td>f64</td><td>i64</td><td>str</td><td>str</td><td>str</td><td>f64</td><td>f64</td><td>i64</td><td>str</td><td>str</td><td>str</td><td>str</td><td>str</td></tr></thead><tbody><tr><td>100541338</td><td>&quot;Seri Jati Apar…</td><td>null</td><td>950</td><td>&quot;Setia Alam&quot;</td><td>&quot;Apartment&quot;</td><td>&quot;3.0&quot;</td><td>null</td><td>2.0</td><td>813</td><td>&quot;Not Furnished&quot;</td><td>&quot;Parking, Secur…</td><td>null</td><td>&quot;Selangor&quot;</td><td>null</td></tr><tr><td>100628964</td><td>&quot;Juta Mines&quot;</td><td>2005.0</td><td>1200</td><td>&quot;Seri Kembangan…</td><td>&quot;Condominium&quot;</td><td>&quot;3.0&quot;</td><td>1.0</td><td>2.0</td><td>1207</td><td>&quot;Partially Furn…</td><td>&quot;Gymnasium, Par…</td><td>null</td><td>&quot;Selangor&quot;</td><td>null</td></tr><tr><td>100093714</td><td>&quot;Pantai Indah F…</td><td>null</td><td>1300</td><td>&quot;Pantai&quot;</td><td>&quot;Apartment&quot;</td><td>&quot;3&quot;</td><td>2.0</td><td>2.0</td><td>850</td><td>&quot;Fully Furnishe…</td><td>&quot;Parking, Secur…</td><td>&quot;Air-Cond, Cook…</td><td>&quot;Kuala Lumpur&quot;</td><td>&quot;Air-Cond,Cooki…</td></tr><tr><td>99986698</td><td>&quot;The Hipster @ …</td><td>2022.0</td><td>1388</td><td>&quot;Taman Desa&quot;</td><td>&quot;Condominium&quot;</td><td>&quot;3&quot;</td><td>2.0</td><td>2.0</td><td>958</td><td>&quot;Partially Furn…</td><td>&quot;Minimart, Swim…</td><td>&quot;Air-Cond, Cook…</td><td>&quot;Kuala Lumpur&quot;</td><td>&quot;Air-Cond,Cooki…</td></tr><tr><td>97439958</td><td>&quot;Suria Tropika …</td><td>null</td><td>950</td><td>&quot;Seri Kembangan…</td><td>&quot;Apartment&quot;</td><td>&quot;3.0&quot;</td><td>null</td><td>2.0</td><td>850</td><td>&quot;Not Furnished&quot;</td><td>null</td><td>null</td><td>&quot;Selangor&quot;</td><td>null</td></tr><tr><td>100159490</td><td>&quot;D&#x27;Suria Condom…</td><td>2015.0</td><td>2400</td><td>&quot;Ampang&quot;</td><td>&quot;Condominium&quot;</td><td>&quot;4&quot;</td><td>2.0</td><td>3.0</td><td>1264</td><td>&quot;Partially Furn…</td><td>&quot;Parking, Secur…</td><td>null</td><td>&quot;Kuala Lumpur&quot;</td><td>null</td></tr><tr><td>99934333</td><td>&quot;Suria Kipark D…</td><td>2009.0</td><td>1000</td><td>&quot;Kepong&quot;</td><td>&quot;Apartment&quot;</td><td>&quot;3&quot;</td><td>1.0</td><td>2.0</td><td>948</td><td>&quot;Not Furnished&quot;</td><td>&quot;Security, Swim…</td><td>&quot;Cooking Allowe…</td><td>&quot;Kuala Lumpur&quot;</td><td>&quot;Cooking Allowe…</td></tr><tr><td>100756841</td><td>&quot;City of Green …</td><td>2016.0</td><td>1300</td><td>&quot;Seri Kembangan…</td><td>&quot;Service Reside…</td><td>&quot;3.0&quot;</td><td>2.0</td><td>2.0</td><td>1065</td><td>&quot;Partially Furn…</td><td>&quot;Security, Gymn…</td><td>&quot;Air-Cond, Cook…</td><td>&quot;Selangor&quot;</td><td>&quot;Air-Cond,Cooki…</td></tr><tr><td>100241670</td><td>&quot;Tasikmas&quot;</td><td>null</td><td>1000</td><td>&quot;Bandar Tasik S…</td><td>&quot;Apartment&quot;</td><td>&quot;3&quot;</td><td>1.0</td><td>2.0</td><td>805</td><td>&quot;Not Furnished&quot;</td><td>&quot;Parking, Secur…</td><td>&quot;Cooking Allowe…</td><td>&quot;Kuala Lumpur&quot;</td><td>&quot;Cooking Allowe…</td></tr><tr><td>100794056</td><td>&quot;Suria Jaya&quot;</td><td>null</td><td>900</td><td>&quot;Shah Alam&quot;</td><td>&quot;Apartment&quot;</td><td>&quot;1.0&quot;</td><td>null</td><td>1.0</td><td>430</td><td>&quot;Not Furnished&quot;</td><td>null</td><td>null</td><td>&quot;Selangor&quot;</td><td>null</td></tr><tr><td>99015454</td><td>&quot;Icon Residence…</td><td>null</td><td>2950</td><td>&quot;Solaris Dutama…</td><td>&quot;Condominium&quot;</td><td>&quot;2&quot;</td><td>2.0</td><td>2.0</td><td>1175</td><td>&quot;Fully Furnishe…</td><td>&quot;Parking, Secur…</td><td>&quot;Air-Cond, Cook…</td><td>&quot;Kuala Lumpur&quot;</td><td>&quot;Air-Cond,Cooki…</td></tr><tr><td>100716999</td><td>&quot;Impian Apartme…</td><td>null</td><td>700</td><td>&quot;Damansara Dama…</td><td>&quot;Apartment&quot;</td><td>&quot;3.0&quot;</td><td>1.0</td><td>2.0</td><td>850</td><td>&quot;Not Furnished&quot;</td><td>&quot;Playground, Pa…</td><td>&quot;Cooking Allowe…</td><td>&quot;Selangor&quot;</td><td>&quot;Cooking Allowe…</td></tr><tr><td>&hellip;</td><td>&hellip;</td><td>&hellip;</td><td>&hellip;</td><td>&hellip;</td><td>&hellip;</td><td>&hellip;</td><td>&hellip;</td><td>&hellip;</td><td>&hellip;</td><td>&hellip;</td><td>&hellip;</td><td>&hellip;</td><td>&hellip;</td><td>&hellip;</td></tr><tr><td>100644225</td><td>&quot;Harmoni @ Eco …</td><td>2019.0</td><td>750</td><td>&quot;Semenyih&quot;</td><td>&quot;Apartment&quot;</td><td>&quot;3.0&quot;</td><td>2.0</td><td>2.0</td><td>800</td><td>&quot;Partially Furn…</td><td>&quot;Parking, Secur…</td><td>&quot;Cooking Allowe…</td><td>&quot;Selangor&quot;</td><td>&quot;Cooking Allowe…</td></tr><tr><td>99849518</td><td>&quot;The Henge Kepo…</td><td>2019.0</td><td>1400</td><td>&quot;Kepong&quot;</td><td>&quot;Condominium&quot;</td><td>&quot;3&quot;</td><td>2.0</td><td>2.0</td><td>1100</td><td>&quot;Not Furnished&quot;</td><td>&quot;Sauna, Parking…</td><td>null</td><td>&quot;Kuala Lumpur&quot;</td><td>null</td></tr><tr><td>100097697</td><td>&quot;Queensville&quot;</td><td>null</td><td>1700</td><td>&quot;Cheras&quot;</td><td>&quot;Condominium&quot;</td><td>&quot;1&quot;</td><td>1.0</td><td>1.0</td><td>550</td><td>&quot;Fully Furnishe…</td><td>&quot;Parking, Secur…</td><td>&quot;Air-Cond, Cook…</td><td>&quot;Kuala Lumpur&quot;</td><td>&quot;Air-Cond,Cooki…</td></tr><tr><td>100199310</td><td>&quot;Pertama Reside…</td><td>2009.0</td><td>1500</td><td>&quot;Cheras&quot;</td><td>&quot;Condominium&quot;</td><td>&quot;1&quot;</td><td>null</td><td>1.0</td><td>700</td><td>&quot;Fully Furnishe…</td><td>&quot;Jogging Track,…</td><td>&quot;Air-Cond, Cook…</td><td>&quot;Kuala Lumpur&quot;</td><td>&quot;Air-Cond,Cooki…</td></tr><tr><td>99936381</td><td>&quot;Bayu Andaman&quot;</td><td>null</td><td>1800</td><td>&quot;Sentul&quot;</td><td>&quot;Apartment&quot;</td><td>&quot;3&quot;</td><td>null</td><td>2.0</td><td>1000</td><td>&quot;Fully Furnishe…</td><td>&quot;Security, Swim…</td><td>&quot;Air-Cond, Cook…</td><td>&quot;Kuala Lumpur&quot;</td><td>&quot;Air-Cond,Cooki…</td></tr><tr><td>100320543</td><td>&quot;PV9 Residences…</td><td>2022.0</td><td>2300</td><td>&quot;Setapak&quot;</td><td>&quot;Service Reside…</td><td>&quot;3&quot;</td><td>2.0</td><td>2.0</td><td>1000</td><td>&quot;Partially Furn…</td><td>&quot;Parking, Secur…</td><td>&quot;Cooking Allowe…</td><td>&quot;Kuala Lumpur&quot;</td><td>&quot;Cooking Allowe…</td></tr><tr><td>100585716</td><td>&quot;Taman Cheras I…</td><td>2010.0</td><td>1200</td><td>&quot;Cheras&quot;</td><td>&quot;Apartment&quot;</td><td>&quot;3.0&quot;</td><td>null</td><td>2.0</td><td>890</td><td>&quot;Partially Furn…</td><td>&quot;Parking, Secur…</td><td>&quot;Cooking Allowe…</td><td>&quot;Selangor&quot;</td><td>&quot;Cooking Allowe…</td></tr><tr><td>100840816</td><td>&quot;D&#x27;Kristal&quot;</td><td>null</td><td>950</td><td>&quot;Semenyih&quot;</td><td>&quot;Apartment&quot;</td><td>&quot;3.0&quot;</td><td>1.0</td><td>2.0</td><td>810</td><td>&quot;Fully Furnishe…</td><td>&quot;Parking, Secur…</td><td>null</td><td>&quot;Selangor&quot;</td><td>null</td></tr><tr><td>100797402</td><td>&quot;Landmark Resid…</td><td>2019.0</td><td>1800</td><td>&quot;Kajang&quot;</td><td>&quot;Service Reside…</td><td>&quot;3.0&quot;</td><td>2.0</td><td>2.0</td><td>1163</td><td>&quot;Fully Furnishe…</td><td>&quot;Lift, Security…</td><td>&quot;Air-Cond, Cook…</td><td>&quot;Selangor&quot;</td><td>&quot;Air-Cond,Cooki…</td></tr><tr><td>100423970</td><td>&quot;Vesta View Apa…</td><td>2019.0</td><td>1100</td><td>&quot;Kajang&quot;</td><td>&quot;Apartment&quot;</td><td>&quot;3.0&quot;</td><td>2.0</td><td>3.0</td><td>1044</td><td>&quot;Not Furnished&quot;</td><td>&quot;Security, Mini…</td><td>null</td><td>&quot;Selangor&quot;</td><td>null</td></tr><tr><td>100176059</td><td>&quot;Majestic Maxim…</td><td>2021.0</td><td>1400</td><td>&quot;Cheras&quot;</td><td>&quot;Service Reside…</td><td>&quot;2&quot;</td><td>1.0</td><td>2.0</td><td>650</td><td>&quot;Partially Furn…</td><td>&quot;Security, Play…</td><td>&quot;Air-Cond, Cook…</td><td>&quot;Kuala Lumpur&quot;</td><td>&quot;Air-Cond,Cooki…</td></tr><tr><td>100136518</td><td>&quot;Estana Court&quot;</td><td>null</td><td>1300</td><td>&quot;Ampang&quot;</td><td>&quot;Apartment&quot;</td><td>&quot;3&quot;</td><td>1.0</td><td>2.0</td><td>850</td><td>&quot;Not Furnished&quot;</td><td>&quot;Playground, Pa…</td><td>null</td><td>&quot;Kuala Lumpur&quot;</td><td>null</td></tr></tbody></table></div>"
      ],
      "text/plain": [
       "shape: (19_983, 15)\n",
       "┌──────────┬─────────┬────────────┬────────────┬───┬──────────┬────────────┬──────────┬────────────┐\n",
       "│ ads_id   ┆ prop_na ┆ completion ┆ monthly_re ┆ … ┆ faciliti ┆ additional ┆ region   ┆ additional │\n",
       "│ ---      ┆ me      ┆ _year      ┆ nt_rm      ┆   ┆ es       ┆ _facilitie ┆ ---      ┆ _facilitie │\n",
       "│ i64      ┆ ---     ┆ ---        ┆ ---        ┆   ┆ ---      ┆ s          ┆ str      ┆ s_clean    │\n",
       "│          ┆ str     ┆ f64        ┆ i64        ┆   ┆ str      ┆ ---        ┆          ┆ ---        │\n",
       "│          ┆         ┆            ┆            ┆   ┆          ┆ str        ┆          ┆ str        │\n",
       "╞══════════╪═════════╪════════════╪════════════╪═══╪══════════╪════════════╪══════════╪════════════╡\n",
       "│ 10054133 ┆ Seri    ┆ null       ┆ 950        ┆ … ┆ Parking, ┆ null       ┆ Selangor ┆ null       │\n",
       "│ 8        ┆ Jati    ┆            ┆            ┆   ┆ Security ┆            ┆          ┆            │\n",
       "│          ┆ Apartme ┆            ┆            ┆   ┆ , Lift,  ┆            ┆          ┆            │\n",
       "│          ┆ nt      ┆            ┆            ┆   ┆ Swimmin… ┆            ┆          ┆            │\n",
       "│          ┆ Setia   ┆            ┆            ┆   ┆          ┆            ┆          ┆            │\n",
       "│          ┆ Alam    ┆            ┆            ┆   ┆          ┆            ┆          ┆            │\n",
       "│ 10062896 ┆ Juta    ┆ 2005.0     ┆ 1200       ┆ … ┆ Gymnasiu ┆ null       ┆ Selangor ┆ null       │\n",
       "│ 4        ┆ Mines   ┆            ┆            ┆   ┆ m,       ┆            ┆          ┆            │\n",
       "│          ┆         ┆            ┆            ┆   ┆ Parking, ┆            ┆          ┆            │\n",
       "│          ┆         ┆            ┆            ┆   ┆ Minimart ┆            ┆          ┆            │\n",
       "│          ┆         ┆            ┆            ┆   ┆ , Pl…    ┆            ┆          ┆            │\n",
       "│ 10009371 ┆ Pantai  ┆ null       ┆ 1300       ┆ … ┆ Parking, ┆ Air-Cond,  ┆ Kuala    ┆ Air-Cond,C │\n",
       "│ 4        ┆ Indah   ┆            ┆            ┆   ┆ Security ┆ Cooking    ┆ Lumpur   ┆ ooking All │\n",
       "│          ┆ Fasa 2  ┆            ┆            ┆   ┆ , Lift,  ┆ Allowed,   ┆          ┆ owed,Near  │\n",
       "│          ┆         ┆            ┆            ┆   ┆ Playgro… ┆ Near …     ┆          ┆ KT…        │\n",
       "│ 99986698 ┆ The     ┆ 2022.0     ┆ 1388       ┆ … ┆ Minimart ┆ Air-Cond,  ┆ Kuala    ┆ Air-Cond,C │\n",
       "│          ┆ Hipster ┆            ┆            ┆   ┆ ,        ┆ Cooking    ┆ Lumpur   ┆ ooking All │\n",
       "│          ┆ @ Taman ┆            ┆            ┆   ┆ Swimming ┆ Allowed,   ┆          ┆ owed,Near  │\n",
       "│          ┆ Desa    ┆            ┆            ┆   ┆ Pool,    ┆ Near …     ┆          ┆ KT…        │\n",
       "│          ┆         ┆            ┆            ┆   ┆ Squash … ┆            ┆          ┆            │\n",
       "│ …        ┆ …       ┆ …          ┆ …          ┆ … ┆ …        ┆ …          ┆ …        ┆ …          │\n",
       "│ 10079740 ┆ Landmar ┆ 2019.0     ┆ 1800       ┆ … ┆ Lift,    ┆ Air-Cond,  ┆ Selangor ┆ Air-Cond,C │\n",
       "│ 2        ┆ k Resid ┆            ┆            ┆   ┆ Security ┆ Cooking    ┆          ┆ ooking All │\n",
       "│          ┆ ence    ┆            ┆            ┆   ┆ , Minima ┆ Allowed,   ┆          ┆ owed,Washi │\n",
       "│          ┆         ┆            ┆            ┆   ┆ rt,      ┆ Washi…     ┆          ┆ ng…        │\n",
       "│          ┆         ┆            ┆            ┆   ┆ Swimmi…  ┆            ┆          ┆            │\n",
       "│ 10042397 ┆ Vesta   ┆ 2019.0     ┆ 1100       ┆ … ┆ Security ┆ null       ┆ Selangor ┆ null       │\n",
       "│ 0        ┆ View    ┆            ┆            ┆   ┆ , Minima ┆            ┆          ┆            │\n",
       "│          ┆ Apartme ┆            ┆            ┆   ┆ rt,      ┆            ┆          ┆            │\n",
       "│          ┆ nt @    ┆            ┆            ┆   ┆ Swimming ┆            ┆          ┆            │\n",
       "│          ┆ Taman   ┆            ┆            ┆   ┆ Poo…     ┆            ┆          ┆            │\n",
       "│          ┆ Put…    ┆            ┆            ┆   ┆          ┆            ┆          ┆            │\n",
       "│ 10017605 ┆ Majesti ┆ 2021.0     ┆ 1400       ┆ … ┆ Security ┆ Air-Cond,  ┆ Kuala    ┆ Air-Cond,C │\n",
       "│ 9        ┆ c Maxim ┆            ┆            ┆   ┆ , Playgr ┆ Cooking    ┆ Lumpur   ┆ ooking All │\n",
       "│          ┆         ┆            ┆            ┆   ┆ ound,    ┆ Allowed,   ┆          ┆ owed,Near  │\n",
       "│          ┆         ┆            ┆            ┆   ┆ Gymnasiu ┆ Near …     ┆          ┆ KT…        │\n",
       "│          ┆         ┆            ┆            ┆   ┆ m,…      ┆            ┆          ┆            │\n",
       "│ 10013651 ┆ Estana  ┆ null       ┆ 1300       ┆ … ┆ Playgrou ┆ null       ┆ Kuala    ┆ null       │\n",
       "│ 8        ┆ Court   ┆            ┆            ┆   ┆ nd,      ┆            ┆ Lumpur   ┆            │\n",
       "│          ┆         ┆            ┆            ┆   ┆ Parking, ┆            ┆          ┆            │\n",
       "│          ┆         ┆            ┆            ┆   ┆ Security ┆            ┆          ┆            │\n",
       "│          ┆         ┆            ┆            ┆   ┆ , L…     ┆            ┆          ┆            │\n",
       "└──────────┴─────────┴────────────┴────────────┴───┴──────────┴────────────┴──────────┴────────────┘"
      ]
     },
     "execution_count": 16,
     "metadata": {},
     "output_type": "execute_result"
    }
   ],
   "source": [
    "df"
   ]
  },
  {
   "cell_type": "code",
   "execution_count": 17,
   "id": "55090659-41b6-4c8c-8763-a1dd385bcd4a",
   "metadata": {},
   "outputs": [],
   "source": [
    "def extract_facilities(text: str, regex: str):\n",
    "    pattern = re.compile(r'\\b{}\\b'.format(regex))\n",
    "    try:\n",
    "        match = pattern.search(text)\n",
    "        if match:\n",
    "            return True\n",
    "        return False\n",
    "    except TypeError:\n",
    "        return text"
   ]
  },
  {
   "cell_type": "code",
   "execution_count": 18,
   "id": "01cfcf7a-6582-46ea-9467-577c4bd5ecd7",
   "metadata": {},
   "outputs": [],
   "source": [
    "def pipe_extract_facilities(df: pl.DataFrame, regex: str) -> pl.DataFrame:\n",
    "    return df.select([pl.all(), pl.col(\"additional_facilities_clean\").apply(lambda x: extract_facilities(x, regex)).alias(f\"{regex}_availability\")])"
   ]
  },
  {
   "cell_type": "raw",
   "id": "b5df937a-3dcb-48a1-8fbb-c17114a36070",
   "metadata": {},
   "source": [
    "def extract_near_ktm_lrt(text):\n",
    "    pattern = re.compile(r'\\bNear KTM/LRT\\b')\n",
    "    try:\n",
    "        match = pattern.search(text)\n",
    "        if match:\n",
    "            return 'yes'\n",
    "        return 'no'\n",
    "    except TypeError:\n",
    "        return text"
   ]
  },
  {
   "cell_type": "raw",
   "id": "2af66ca9-b5b7-4bf7-aca2-b6c4656013d5",
   "metadata": {},
   "source": [
    "df_facilities = df.select(pl.col('additional_facilities_clean').str.split(',').arr.to_struct(n_field_strategy=\"max_width\")).unnest('facilities_clean')"
   ]
  },
  {
   "cell_type": "code",
   "execution_count": 19,
   "id": "f838578a-09a1-4662-bb77-50e48934e208",
   "metadata": {},
   "outputs": [],
   "source": [
    "df = df.pipe(pipe_extract_facilities, \"Air-Cond\").pipe(pipe_extract_facilities, \"Washing Machine\").pipe(pipe_extract_facilities, \"Near KTM/LRT\").pipe(pipe_extract_facilities, \"Internet\").pipe(pipe_extract_facilities, \"Cooking Allowed\")"
   ]
  },
  {
   "cell_type": "code",
   "execution_count": 20,
   "id": "41120172-58a4-4aca-ba23-7a01679ccad9",
   "metadata": {},
   "outputs": [
    {
     "data": {
      "text/html": [
       "<div><style>\n",
       ".dataframe > thead > tr > th,\n",
       ".dataframe > tbody > tr > td {\n",
       "  text-align: right;\n",
       "}\n",
       "</style>\n",
       "<small>shape: (19983, 20)</small><table border=\"1\" class=\"dataframe\"><thead><tr><th>ads_id</th><th>prop_name</th><th>completion_year</th><th>monthly_rent_rm</th><th>location</th><th>property_type</th><th>rooms</th><th>parking</th><th>bathroom</th><th>size_sqft</th><th>furnished</th><th>facilities</th><th>additional_facilities</th><th>region</th><th>additional_facilities_clean</th><th>Air-Cond_availability</th><th>Washing Machine_availability</th><th>Near KTM/LRT_availability</th><th>Internet_availability</th><th>Cooking Allowed_availability</th></tr><tr><td>i64</td><td>str</td><td>f64</td><td>i64</td><td>str</td><td>str</td><td>str</td><td>f64</td><td>f64</td><td>i64</td><td>str</td><td>str</td><td>str</td><td>str</td><td>str</td><td>bool</td><td>bool</td><td>bool</td><td>bool</td><td>bool</td></tr></thead><tbody><tr><td>100541338</td><td>&quot;Seri Jati Apar…</td><td>null</td><td>950</td><td>&quot;Setia Alam&quot;</td><td>&quot;Apartment&quot;</td><td>&quot;3.0&quot;</td><td>null</td><td>2.0</td><td>813</td><td>&quot;Not Furnished&quot;</td><td>&quot;Parking, Secur…</td><td>null</td><td>&quot;Selangor&quot;</td><td>null</td><td>null</td><td>null</td><td>null</td><td>null</td><td>null</td></tr><tr><td>100628964</td><td>&quot;Juta Mines&quot;</td><td>2005.0</td><td>1200</td><td>&quot;Seri Kembangan…</td><td>&quot;Condominium&quot;</td><td>&quot;3.0&quot;</td><td>1.0</td><td>2.0</td><td>1207</td><td>&quot;Partially Furn…</td><td>&quot;Gymnasium, Par…</td><td>null</td><td>&quot;Selangor&quot;</td><td>null</td><td>null</td><td>null</td><td>null</td><td>null</td><td>null</td></tr><tr><td>100093714</td><td>&quot;Pantai Indah F…</td><td>null</td><td>1300</td><td>&quot;Pantai&quot;</td><td>&quot;Apartment&quot;</td><td>&quot;3&quot;</td><td>2.0</td><td>2.0</td><td>850</td><td>&quot;Fully Furnishe…</td><td>&quot;Parking, Secur…</td><td>&quot;Air-Cond, Cook…</td><td>&quot;Kuala Lumpur&quot;</td><td>&quot;Air-Cond,Cooki…</td><td>true</td><td>true</td><td>true</td><td>false</td><td>true</td></tr><tr><td>99986698</td><td>&quot;The Hipster @ …</td><td>2022.0</td><td>1388</td><td>&quot;Taman Desa&quot;</td><td>&quot;Condominium&quot;</td><td>&quot;3&quot;</td><td>2.0</td><td>2.0</td><td>958</td><td>&quot;Partially Furn…</td><td>&quot;Minimart, Swim…</td><td>&quot;Air-Cond, Cook…</td><td>&quot;Kuala Lumpur&quot;</td><td>&quot;Air-Cond,Cooki…</td><td>true</td><td>true</td><td>true</td><td>true</td><td>true</td></tr><tr><td>97439958</td><td>&quot;Suria Tropika …</td><td>null</td><td>950</td><td>&quot;Seri Kembangan…</td><td>&quot;Apartment&quot;</td><td>&quot;3.0&quot;</td><td>null</td><td>2.0</td><td>850</td><td>&quot;Not Furnished&quot;</td><td>null</td><td>null</td><td>&quot;Selangor&quot;</td><td>null</td><td>null</td><td>null</td><td>null</td><td>null</td><td>null</td></tr><tr><td>100159490</td><td>&quot;D&#x27;Suria Condom…</td><td>2015.0</td><td>2400</td><td>&quot;Ampang&quot;</td><td>&quot;Condominium&quot;</td><td>&quot;4&quot;</td><td>2.0</td><td>3.0</td><td>1264</td><td>&quot;Partially Furn…</td><td>&quot;Parking, Secur…</td><td>null</td><td>&quot;Kuala Lumpur&quot;</td><td>null</td><td>null</td><td>null</td><td>null</td><td>null</td><td>null</td></tr><tr><td>99934333</td><td>&quot;Suria Kipark D…</td><td>2009.0</td><td>1000</td><td>&quot;Kepong&quot;</td><td>&quot;Apartment&quot;</td><td>&quot;3&quot;</td><td>1.0</td><td>2.0</td><td>948</td><td>&quot;Not Furnished&quot;</td><td>&quot;Security, Swim…</td><td>&quot;Cooking Allowe…</td><td>&quot;Kuala Lumpur&quot;</td><td>&quot;Cooking Allowe…</td><td>false</td><td>false</td><td>true</td><td>false</td><td>true</td></tr><tr><td>100756841</td><td>&quot;City of Green …</td><td>2016.0</td><td>1300</td><td>&quot;Seri Kembangan…</td><td>&quot;Service Reside…</td><td>&quot;3.0&quot;</td><td>2.0</td><td>2.0</td><td>1065</td><td>&quot;Partially Furn…</td><td>&quot;Security, Gymn…</td><td>&quot;Air-Cond, Cook…</td><td>&quot;Selangor&quot;</td><td>&quot;Air-Cond,Cooki…</td><td>true</td><td>false</td><td>false</td><td>false</td><td>true</td></tr><tr><td>100241670</td><td>&quot;Tasikmas&quot;</td><td>null</td><td>1000</td><td>&quot;Bandar Tasik S…</td><td>&quot;Apartment&quot;</td><td>&quot;3&quot;</td><td>1.0</td><td>2.0</td><td>805</td><td>&quot;Not Furnished&quot;</td><td>&quot;Parking, Secur…</td><td>&quot;Cooking Allowe…</td><td>&quot;Kuala Lumpur&quot;</td><td>&quot;Cooking Allowe…</td><td>false</td><td>false</td><td>true</td><td>false</td><td>true</td></tr><tr><td>100794056</td><td>&quot;Suria Jaya&quot;</td><td>null</td><td>900</td><td>&quot;Shah Alam&quot;</td><td>&quot;Apartment&quot;</td><td>&quot;1.0&quot;</td><td>null</td><td>1.0</td><td>430</td><td>&quot;Not Furnished&quot;</td><td>null</td><td>null</td><td>&quot;Selangor&quot;</td><td>null</td><td>null</td><td>null</td><td>null</td><td>null</td><td>null</td></tr><tr><td>99015454</td><td>&quot;Icon Residence…</td><td>null</td><td>2950</td><td>&quot;Solaris Dutama…</td><td>&quot;Condominium&quot;</td><td>&quot;2&quot;</td><td>2.0</td><td>2.0</td><td>1175</td><td>&quot;Fully Furnishe…</td><td>&quot;Parking, Secur…</td><td>&quot;Air-Cond, Cook…</td><td>&quot;Kuala Lumpur&quot;</td><td>&quot;Air-Cond,Cooki…</td><td>true</td><td>true</td><td>true</td><td>false</td><td>true</td></tr><tr><td>100716999</td><td>&quot;Impian Apartme…</td><td>null</td><td>700</td><td>&quot;Damansara Dama…</td><td>&quot;Apartment&quot;</td><td>&quot;3.0&quot;</td><td>1.0</td><td>2.0</td><td>850</td><td>&quot;Not Furnished&quot;</td><td>&quot;Playground, Pa…</td><td>&quot;Cooking Allowe…</td><td>&quot;Selangor&quot;</td><td>&quot;Cooking Allowe…</td><td>false</td><td>false</td><td>true</td><td>false</td><td>true</td></tr><tr><td>&hellip;</td><td>&hellip;</td><td>&hellip;</td><td>&hellip;</td><td>&hellip;</td><td>&hellip;</td><td>&hellip;</td><td>&hellip;</td><td>&hellip;</td><td>&hellip;</td><td>&hellip;</td><td>&hellip;</td><td>&hellip;</td><td>&hellip;</td><td>&hellip;</td><td>&hellip;</td><td>&hellip;</td><td>&hellip;</td><td>&hellip;</td><td>&hellip;</td></tr><tr><td>100644225</td><td>&quot;Harmoni @ Eco …</td><td>2019.0</td><td>750</td><td>&quot;Semenyih&quot;</td><td>&quot;Apartment&quot;</td><td>&quot;3.0&quot;</td><td>2.0</td><td>2.0</td><td>800</td><td>&quot;Partially Furn…</td><td>&quot;Parking, Secur…</td><td>&quot;Cooking Allowe…</td><td>&quot;Selangor&quot;</td><td>&quot;Cooking Allowe…</td><td>false</td><td>false</td><td>false</td><td>false</td><td>true</td></tr><tr><td>99849518</td><td>&quot;The Henge Kepo…</td><td>2019.0</td><td>1400</td><td>&quot;Kepong&quot;</td><td>&quot;Condominium&quot;</td><td>&quot;3&quot;</td><td>2.0</td><td>2.0</td><td>1100</td><td>&quot;Not Furnished&quot;</td><td>&quot;Sauna, Parking…</td><td>null</td><td>&quot;Kuala Lumpur&quot;</td><td>null</td><td>null</td><td>null</td><td>null</td><td>null</td><td>null</td></tr><tr><td>100097697</td><td>&quot;Queensville&quot;</td><td>null</td><td>1700</td><td>&quot;Cheras&quot;</td><td>&quot;Condominium&quot;</td><td>&quot;1&quot;</td><td>1.0</td><td>1.0</td><td>550</td><td>&quot;Fully Furnishe…</td><td>&quot;Parking, Secur…</td><td>&quot;Air-Cond, Cook…</td><td>&quot;Kuala Lumpur&quot;</td><td>&quot;Air-Cond,Cooki…</td><td>true</td><td>true</td><td>false</td><td>false</td><td>true</td></tr><tr><td>100199310</td><td>&quot;Pertama Reside…</td><td>2009.0</td><td>1500</td><td>&quot;Cheras&quot;</td><td>&quot;Condominium&quot;</td><td>&quot;1&quot;</td><td>null</td><td>1.0</td><td>700</td><td>&quot;Fully Furnishe…</td><td>&quot;Jogging Track,…</td><td>&quot;Air-Cond, Cook…</td><td>&quot;Kuala Lumpur&quot;</td><td>&quot;Air-Cond,Cooki…</td><td>true</td><td>true</td><td>true</td><td>true</td><td>true</td></tr><tr><td>99936381</td><td>&quot;Bayu Andaman&quot;</td><td>null</td><td>1800</td><td>&quot;Sentul&quot;</td><td>&quot;Apartment&quot;</td><td>&quot;3&quot;</td><td>null</td><td>2.0</td><td>1000</td><td>&quot;Fully Furnishe…</td><td>&quot;Security, Swim…</td><td>&quot;Air-Cond, Cook…</td><td>&quot;Kuala Lumpur&quot;</td><td>&quot;Air-Cond,Cooki…</td><td>true</td><td>true</td><td>true</td><td>true</td><td>true</td></tr><tr><td>100320543</td><td>&quot;PV9 Residences…</td><td>2022.0</td><td>2300</td><td>&quot;Setapak&quot;</td><td>&quot;Service Reside…</td><td>&quot;3&quot;</td><td>2.0</td><td>2.0</td><td>1000</td><td>&quot;Partially Furn…</td><td>&quot;Parking, Secur…</td><td>&quot;Cooking Allowe…</td><td>&quot;Kuala Lumpur&quot;</td><td>&quot;Cooking Allowe…</td><td>false</td><td>true</td><td>true</td><td>false</td><td>true</td></tr><tr><td>100585716</td><td>&quot;Taman Cheras I…</td><td>2010.0</td><td>1200</td><td>&quot;Cheras&quot;</td><td>&quot;Apartment&quot;</td><td>&quot;3.0&quot;</td><td>null</td><td>2.0</td><td>890</td><td>&quot;Partially Furn…</td><td>&quot;Parking, Secur…</td><td>&quot;Cooking Allowe…</td><td>&quot;Selangor&quot;</td><td>&quot;Cooking Allowe…</td><td>false</td><td>false</td><td>true</td><td>false</td><td>true</td></tr><tr><td>100840816</td><td>&quot;D&#x27;Kristal&quot;</td><td>null</td><td>950</td><td>&quot;Semenyih&quot;</td><td>&quot;Apartment&quot;</td><td>&quot;3.0&quot;</td><td>1.0</td><td>2.0</td><td>810</td><td>&quot;Fully Furnishe…</td><td>&quot;Parking, Secur…</td><td>null</td><td>&quot;Selangor&quot;</td><td>null</td><td>null</td><td>null</td><td>null</td><td>null</td><td>null</td></tr><tr><td>100797402</td><td>&quot;Landmark Resid…</td><td>2019.0</td><td>1800</td><td>&quot;Kajang&quot;</td><td>&quot;Service Reside…</td><td>&quot;3.0&quot;</td><td>2.0</td><td>2.0</td><td>1163</td><td>&quot;Fully Furnishe…</td><td>&quot;Lift, Security…</td><td>&quot;Air-Cond, Cook…</td><td>&quot;Selangor&quot;</td><td>&quot;Air-Cond,Cooki…</td><td>true</td><td>true</td><td>false</td><td>false</td><td>true</td></tr><tr><td>100423970</td><td>&quot;Vesta View Apa…</td><td>2019.0</td><td>1100</td><td>&quot;Kajang&quot;</td><td>&quot;Apartment&quot;</td><td>&quot;3.0&quot;</td><td>2.0</td><td>3.0</td><td>1044</td><td>&quot;Not Furnished&quot;</td><td>&quot;Security, Mini…</td><td>null</td><td>&quot;Selangor&quot;</td><td>null</td><td>null</td><td>null</td><td>null</td><td>null</td><td>null</td></tr><tr><td>100176059</td><td>&quot;Majestic Maxim…</td><td>2021.0</td><td>1400</td><td>&quot;Cheras&quot;</td><td>&quot;Service Reside…</td><td>&quot;2&quot;</td><td>1.0</td><td>2.0</td><td>650</td><td>&quot;Partially Furn…</td><td>&quot;Security, Play…</td><td>&quot;Air-Cond, Cook…</td><td>&quot;Kuala Lumpur&quot;</td><td>&quot;Air-Cond,Cooki…</td><td>true</td><td>true</td><td>true</td><td>false</td><td>true</td></tr><tr><td>100136518</td><td>&quot;Estana Court&quot;</td><td>null</td><td>1300</td><td>&quot;Ampang&quot;</td><td>&quot;Apartment&quot;</td><td>&quot;3&quot;</td><td>1.0</td><td>2.0</td><td>850</td><td>&quot;Not Furnished&quot;</td><td>&quot;Playground, Pa…</td><td>null</td><td>&quot;Kuala Lumpur&quot;</td><td>null</td><td>null</td><td>null</td><td>null</td><td>null</td><td>null</td></tr></tbody></table></div>"
      ],
      "text/plain": [
       "shape: (19_983, 20)\n",
       "┌──────┬─────────┬────────────┬────────────┬───┬────────────┬────────────┬────────────┬────────────┐\n",
       "│ ads_ ┆ prop_na ┆ completion ┆ monthly_re ┆ … ┆ Washing    ┆ Near KTM/L ┆ Internet_a ┆ Cooking    │\n",
       "│ id   ┆ me      ┆ _year      ┆ nt_rm      ┆   ┆ Machine_av ┆ RT_availab ┆ vailabilit ┆ Allowed_av │\n",
       "│ ---  ┆ ---     ┆ ---        ┆ ---        ┆   ┆ ailability ┆ ility      ┆ y          ┆ ailability │\n",
       "│ i64  ┆ str     ┆ f64        ┆ i64        ┆   ┆ ---        ┆ ---        ┆ ---        ┆ ---        │\n",
       "│      ┆         ┆            ┆            ┆   ┆ bool       ┆ bool       ┆ bool       ┆ bool       │\n",
       "╞══════╪═════════╪════════════╪════════════╪═══╪════════════╪════════════╪════════════╪════════════╡\n",
       "│ 1005 ┆ Seri    ┆ null       ┆ 950        ┆ … ┆ null       ┆ null       ┆ null       ┆ null       │\n",
       "│ 4133 ┆ Jati    ┆            ┆            ┆   ┆            ┆            ┆            ┆            │\n",
       "│ 8    ┆ Apartme ┆            ┆            ┆   ┆            ┆            ┆            ┆            │\n",
       "│      ┆ nt      ┆            ┆            ┆   ┆            ┆            ┆            ┆            │\n",
       "│      ┆ Setia   ┆            ┆            ┆   ┆            ┆            ┆            ┆            │\n",
       "│      ┆ Alam    ┆            ┆            ┆   ┆            ┆            ┆            ┆            │\n",
       "│ 1006 ┆ Juta    ┆ 2005.0     ┆ 1200       ┆ … ┆ null       ┆ null       ┆ null       ┆ null       │\n",
       "│ 2896 ┆ Mines   ┆            ┆            ┆   ┆            ┆            ┆            ┆            │\n",
       "│ 4    ┆         ┆            ┆            ┆   ┆            ┆            ┆            ┆            │\n",
       "│ 1000 ┆ Pantai  ┆ null       ┆ 1300       ┆ … ┆ true       ┆ true       ┆ false      ┆ true       │\n",
       "│ 9371 ┆ Indah   ┆            ┆            ┆   ┆            ┆            ┆            ┆            │\n",
       "│ 4    ┆ Fasa 2  ┆            ┆            ┆   ┆            ┆            ┆            ┆            │\n",
       "│ 9998 ┆ The     ┆ 2022.0     ┆ 1388       ┆ … ┆ true       ┆ true       ┆ true       ┆ true       │\n",
       "│ 6698 ┆ Hipster ┆            ┆            ┆   ┆            ┆            ┆            ┆            │\n",
       "│      ┆ @ Taman ┆            ┆            ┆   ┆            ┆            ┆            ┆            │\n",
       "│      ┆ Desa    ┆            ┆            ┆   ┆            ┆            ┆            ┆            │\n",
       "│ …    ┆ …       ┆ …          ┆ …          ┆ … ┆ …          ┆ …          ┆ …          ┆ …          │\n",
       "│ 1007 ┆ Landmar ┆ 2019.0     ┆ 1800       ┆ … ┆ true       ┆ false      ┆ false      ┆ true       │\n",
       "│ 9740 ┆ k Resid ┆            ┆            ┆   ┆            ┆            ┆            ┆            │\n",
       "│ 2    ┆ ence    ┆            ┆            ┆   ┆            ┆            ┆            ┆            │\n",
       "│ 1004 ┆ Vesta   ┆ 2019.0     ┆ 1100       ┆ … ┆ null       ┆ null       ┆ null       ┆ null       │\n",
       "│ 2397 ┆ View    ┆            ┆            ┆   ┆            ┆            ┆            ┆            │\n",
       "│ 0    ┆ Apartme ┆            ┆            ┆   ┆            ┆            ┆            ┆            │\n",
       "│      ┆ nt @    ┆            ┆            ┆   ┆            ┆            ┆            ┆            │\n",
       "│      ┆ Taman   ┆            ┆            ┆   ┆            ┆            ┆            ┆            │\n",
       "│      ┆ Put…    ┆            ┆            ┆   ┆            ┆            ┆            ┆            │\n",
       "│ 1001 ┆ Majesti ┆ 2021.0     ┆ 1400       ┆ … ┆ true       ┆ true       ┆ false      ┆ true       │\n",
       "│ 7605 ┆ c Maxim ┆            ┆            ┆   ┆            ┆            ┆            ┆            │\n",
       "│ 9    ┆         ┆            ┆            ┆   ┆            ┆            ┆            ┆            │\n",
       "│ 1001 ┆ Estana  ┆ null       ┆ 1300       ┆ … ┆ null       ┆ null       ┆ null       ┆ null       │\n",
       "│ 3651 ┆ Court   ┆            ┆            ┆   ┆            ┆            ┆            ┆            │\n",
       "│ 8    ┆         ┆            ┆            ┆   ┆            ┆            ┆            ┆            │\n",
       "└──────┴─────────┴────────────┴────────────┴───┴────────────┴────────────┴────────────┴────────────┘"
      ]
     },
     "execution_count": 20,
     "metadata": {},
     "output_type": "execute_result"
    }
   ],
   "source": [
    "df"
   ]
  },
  {
   "cell_type": "code",
   "execution_count": 21,
   "id": "36bbb724-5dcc-4e29-824e-80425ebcf60d",
   "metadata": {},
   "outputs": [],
   "source": [
    "#Air-Cond_availability\tWashing Machine_availability\tNear KTM/LRT_availability\tInternet_availability\tCooking Allowed_availability\n",
    "\n",
    "aircond_available = df.filter(pl.col(\"Air-Cond_availability\") == True).select(pl.col(\"monthly_rent_rm\")).median().item()\n",
    "no_aircond_available = df.filter(pl.col(\"Air-Cond_availability\") == False).select(pl.col(\"monthly_rent_rm\")).median().item()\n",
    "washing_machine_available = df.filter(pl.col(\"Washing Machine_availability\") == True).select(pl.col(\"monthly_rent_rm\")).median().item()\n",
    "no_washing_machine_available = df.filter(pl.col(\"Washing Machine_availability\") == False).select(pl.col(\"monthly_rent_rm\")).median().item()\n",
    "near_ktmlrt = df.filter(pl.col(\"Near KTM/LRT_availability\") == True).select(pl.col(\"monthly_rent_rm\")).median().item()\n",
    "not_near_ktmlrt = df.filter(pl.col(\"Near KTM/LRT_availability\") == False).select(pl.col(\"monthly_rent_rm\")).median().item()\n",
    "internet_available = df.filter(pl.col(\"Internet_availability\") == True).select(pl.col(\"monthly_rent_rm\")).median().item()\n",
    "no_internet_available = df.filter(pl.col(\"Internet_availability\") == False).select(pl.col(\"monthly_rent_rm\")).median().item()\n",
    "cooking_allowed = df.filter(pl.col(\"Cooking Allowed_availability\") == True).select(pl.col(\"monthly_rent_rm\")).median().item()\n",
    "no_cooking_allowed = df.filter(pl.col(\"Cooking Allowed_availability\") == False).select(pl.col(\"monthly_rent_rm\")).median().item()"
   ]
  },
  {
   "cell_type": "code",
   "execution_count": 22,
   "id": "3b29cb2d-6bb3-48a8-b90c-dc858b1bcf62",
   "metadata": {},
   "outputs": [
    {
     "data": {
      "text/plain": [
       "'\\nMedian:\\nAircond Available: 1600 RM\\nNo Aircond Available: 1000 RM\\nWashing Machine Available: 1693 RM\\nNo Washing Machine Available: 1250 RM\\nNearby KTM/LRT: 1500 RM\\nNot nearby KTM/LRT: 1400 RM\\nInternet Available: 1500 RM\\nNo Internet Available: 1400 RM\\nCooking Allowed: 1500 RM\\nNo Cooking Allowed: 1300 RM\\n'"
      ]
     },
     "execution_count": 22,
     "metadata": {},
     "output_type": "execute_result"
    }
   ],
   "source": [
    "f\"\"\"\n",
    "Median:\n",
    "Aircond Available: {aircond_available:.0f} RM\n",
    "No Aircond Available: {no_aircond_available:.0f} RM\n",
    "Washing Machine Available: {washing_machine_available:.0f} RM\n",
    "No Washing Machine Available: {no_washing_machine_available:.0f} RM\n",
    "Nearby KTM/LRT: {near_ktmlrt:.0f} RM\n",
    "Not nearby KTM/LRT: {not_near_ktmlrt:.0f} RM\n",
    "Internet Available: {internet_available:.0f} RM\n",
    "No Internet Available: {no_internet_available:.0f} RM\n",
    "Cooking Allowed: {cooking_allowed:.0f} RM\n",
    "No Cooking Allowed: {no_cooking_allowed:.0f} RM\n",
    "\"\"\""
   ]
  },
  {
   "cell_type": "markdown",
   "id": "68643972-52e9-4417-b5ea-edda34e4bcbc",
   "metadata": {},
   "source": [
    "#### \n",
    "Plotting the difference between nearby KTM/LRT or not:"
   ]
  },
  {
   "cell_type": "code",
   "execution_count": 23,
   "id": "694c369b-1fd4-4d64-a9de-bd4c3b2eca29",
   "metadata": {},
   "outputs": [
    {
     "data": {
      "text/plain": [
       "(0.0, 4000.0)"
      ]
     },
     "execution_count": 23,
     "metadata": {},
     "output_type": "execute_result"
    },
    {
     "data": {
      "image/png": "[encoded data removed]",
      "text/plain": [
       "<Figure size 640x480 with 1 Axes>"
      ]
     },
     "metadata": {},
     "output_type": "display_data"
    }
   ],
   "source": [
    "#| label: fig-nearbyktm\n",
    "#| fig-cap: Boxplot between Nearby KTM/LRT or Not\n",
    "\n",
    "sns.boxplot(data=df.to_pandas(), x='monthly_rent_rm', y='Near KTM/LRT_availability')\n",
    "plt.xlim(0,4000)"
   ]
  },
  {
   "cell_type": "code",
   "execution_count": 24,
   "id": "aba8aace-3b41-4b53-9f20-be6b0b7c8a41",
   "metadata": {},
   "outputs": [
    {
     "data": {
      "text/html": [
       "<div><style>\n",
       ".dataframe > thead > tr > th,\n",
       ".dataframe > tbody > tr > td {\n",
       "  text-align: right;\n",
       "}\n",
       "</style>\n",
       "<small>shape: (19983, 20)</small><table border=\"1\" class=\"dataframe\"><thead><tr><th>ads_id</th><th>prop_name</th><th>completion_year</th><th>monthly_rent_rm</th><th>location</th><th>property_type</th><th>rooms</th><th>parking</th><th>bathroom</th><th>size_sqft</th><th>furnished</th><th>facilities</th><th>additional_facilities</th><th>region</th><th>additional_facilities_clean</th><th>Air-Cond_availability</th><th>Washing Machine_availability</th><th>Near KTM/LRT_availability</th><th>Internet_availability</th><th>Cooking Allowed_availability</th></tr><tr><td>i64</td><td>str</td><td>f64</td><td>i64</td><td>str</td><td>str</td><td>str</td><td>f64</td><td>f64</td><td>i64</td><td>str</td><td>str</td><td>str</td><td>str</td><td>str</td><td>bool</td><td>bool</td><td>bool</td><td>bool</td><td>bool</td></tr></thead><tbody><tr><td>100541338</td><td>&quot;Seri Jati Apar…</td><td>null</td><td>950</td><td>&quot;Setia Alam&quot;</td><td>&quot;Apartment&quot;</td><td>&quot;3.0&quot;</td><td>null</td><td>2.0</td><td>813</td><td>&quot;Not Furnished&quot;</td><td>&quot;Parking, Secur…</td><td>null</td><td>&quot;Selangor&quot;</td><td>null</td><td>null</td><td>null</td><td>null</td><td>null</td><td>null</td></tr><tr><td>100628964</td><td>&quot;Juta Mines&quot;</td><td>2005.0</td><td>1200</td><td>&quot;Seri Kembangan…</td><td>&quot;Condominium&quot;</td><td>&quot;3.0&quot;</td><td>1.0</td><td>2.0</td><td>1207</td><td>&quot;Partially Furn…</td><td>&quot;Gymnasium, Par…</td><td>null</td><td>&quot;Selangor&quot;</td><td>null</td><td>null</td><td>null</td><td>null</td><td>null</td><td>null</td></tr><tr><td>100093714</td><td>&quot;Pantai Indah F…</td><td>null</td><td>1300</td><td>&quot;Pantai&quot;</td><td>&quot;Apartment&quot;</td><td>&quot;3&quot;</td><td>2.0</td><td>2.0</td><td>850</td><td>&quot;Fully Furnishe…</td><td>&quot;Parking, Secur…</td><td>&quot;Air-Cond, Cook…</td><td>&quot;Kuala Lumpur&quot;</td><td>&quot;Air-Cond,Cooki…</td><td>true</td><td>true</td><td>true</td><td>false</td><td>true</td></tr><tr><td>99986698</td><td>&quot;The Hipster @ …</td><td>2022.0</td><td>1388</td><td>&quot;Taman Desa&quot;</td><td>&quot;Condominium&quot;</td><td>&quot;3&quot;</td><td>2.0</td><td>2.0</td><td>958</td><td>&quot;Partially Furn…</td><td>&quot;Minimart, Swim…</td><td>&quot;Air-Cond, Cook…</td><td>&quot;Kuala Lumpur&quot;</td><td>&quot;Air-Cond,Cooki…</td><td>true</td><td>true</td><td>true</td><td>true</td><td>true</td></tr><tr><td>97439958</td><td>&quot;Suria Tropika …</td><td>null</td><td>950</td><td>&quot;Seri Kembangan…</td><td>&quot;Apartment&quot;</td><td>&quot;3.0&quot;</td><td>null</td><td>2.0</td><td>850</td><td>&quot;Not Furnished&quot;</td><td>null</td><td>null</td><td>&quot;Selangor&quot;</td><td>null</td><td>null</td><td>null</td><td>null</td><td>null</td><td>null</td></tr><tr><td>100159490</td><td>&quot;D&#x27;Suria Condom…</td><td>2015.0</td><td>2400</td><td>&quot;Ampang&quot;</td><td>&quot;Condominium&quot;</td><td>&quot;4&quot;</td><td>2.0</td><td>3.0</td><td>1264</td><td>&quot;Partially Furn…</td><td>&quot;Parking, Secur…</td><td>null</td><td>&quot;Kuala Lumpur&quot;</td><td>null</td><td>null</td><td>null</td><td>null</td><td>null</td><td>null</td></tr><tr><td>99934333</td><td>&quot;Suria Kipark D…</td><td>2009.0</td><td>1000</td><td>&quot;Kepong&quot;</td><td>&quot;Apartment&quot;</td><td>&quot;3&quot;</td><td>1.0</td><td>2.0</td><td>948</td><td>&quot;Not Furnished&quot;</td><td>&quot;Security, Swim…</td><td>&quot;Cooking Allowe…</td><td>&quot;Kuala Lumpur&quot;</td><td>&quot;Cooking Allowe…</td><td>false</td><td>false</td><td>true</td><td>false</td><td>true</td></tr><tr><td>100756841</td><td>&quot;City of Green …</td><td>2016.0</td><td>1300</td><td>&quot;Seri Kembangan…</td><td>&quot;Service Reside…</td><td>&quot;3.0&quot;</td><td>2.0</td><td>2.0</td><td>1065</td><td>&quot;Partially Furn…</td><td>&quot;Security, Gymn…</td><td>&quot;Air-Cond, Cook…</td><td>&quot;Selangor&quot;</td><td>&quot;Air-Cond,Cooki…</td><td>true</td><td>false</td><td>false</td><td>false</td><td>true</td></tr><tr><td>100241670</td><td>&quot;Tasikmas&quot;</td><td>null</td><td>1000</td><td>&quot;Bandar Tasik S…</td><td>&quot;Apartment&quot;</td><td>&quot;3&quot;</td><td>1.0</td><td>2.0</td><td>805</td><td>&quot;Not Furnished&quot;</td><td>&quot;Parking, Secur…</td><td>&quot;Cooking Allowe…</td><td>&quot;Kuala Lumpur&quot;</td><td>&quot;Cooking Allowe…</td><td>false</td><td>false</td><td>true</td><td>false</td><td>true</td></tr><tr><td>100794056</td><td>&quot;Suria Jaya&quot;</td><td>null</td><td>900</td><td>&quot;Shah Alam&quot;</td><td>&quot;Apartment&quot;</td><td>&quot;1.0&quot;</td><td>null</td><td>1.0</td><td>430</td><td>&quot;Not Furnished&quot;</td><td>null</td><td>null</td><td>&quot;Selangor&quot;</td><td>null</td><td>null</td><td>null</td><td>null</td><td>null</td><td>null</td></tr><tr><td>99015454</td><td>&quot;Icon Residence…</td><td>null</td><td>2950</td><td>&quot;Solaris Dutama…</td><td>&quot;Condominium&quot;</td><td>&quot;2&quot;</td><td>2.0</td><td>2.0</td><td>1175</td><td>&quot;Fully Furnishe…</td><td>&quot;Parking, Secur…</td><td>&quot;Air-Cond, Cook…</td><td>&quot;Kuala Lumpur&quot;</td><td>&quot;Air-Cond,Cooki…</td><td>true</td><td>true</td><td>true</td><td>false</td><td>true</td></tr><tr><td>100716999</td><td>&quot;Impian Apartme…</td><td>null</td><td>700</td><td>&quot;Damansara Dama…</td><td>&quot;Apartment&quot;</td><td>&quot;3.0&quot;</td><td>1.0</td><td>2.0</td><td>850</td><td>&quot;Not Furnished&quot;</td><td>&quot;Playground, Pa…</td><td>&quot;Cooking Allowe…</td><td>&quot;Selangor&quot;</td><td>&quot;Cooking Allowe…</td><td>false</td><td>false</td><td>true</td><td>false</td><td>true</td></tr><tr><td>&hellip;</td><td>&hellip;</td><td>&hellip;</td><td>&hellip;</td><td>&hellip;</td><td>&hellip;</td><td>&hellip;</td><td>&hellip;</td><td>&hellip;</td><td>&hellip;</td><td>&hellip;</td><td>&hellip;</td><td>&hellip;</td><td>&hellip;</td><td>&hellip;</td><td>&hellip;</td><td>&hellip;</td><td>&hellip;</td><td>&hellip;</td><td>&hellip;</td></tr><tr><td>100644225</td><td>&quot;Harmoni @ Eco …</td><td>2019.0</td><td>750</td><td>&quot;Semenyih&quot;</td><td>&quot;Apartment&quot;</td><td>&quot;3.0&quot;</td><td>2.0</td><td>2.0</td><td>800</td><td>&quot;Partially Furn…</td><td>&quot;Parking, Secur…</td><td>&quot;Cooking Allowe…</td><td>&quot;Selangor&quot;</td><td>&quot;Cooking Allowe…</td><td>false</td><td>false</td><td>false</td><td>false</td><td>true</td></tr><tr><td>99849518</td><td>&quot;The Henge Kepo…</td><td>2019.0</td><td>1400</td><td>&quot;Kepong&quot;</td><td>&quot;Condominium&quot;</td><td>&quot;3&quot;</td><td>2.0</td><td>2.0</td><td>1100</td><td>&quot;Not Furnished&quot;</td><td>&quot;Sauna, Parking…</td><td>null</td><td>&quot;Kuala Lumpur&quot;</td><td>null</td><td>null</td><td>null</td><td>null</td><td>null</td><td>null</td></tr><tr><td>100097697</td><td>&quot;Queensville&quot;</td><td>null</td><td>1700</td><td>&quot;Cheras&quot;</td><td>&quot;Condominium&quot;</td><td>&quot;1&quot;</td><td>1.0</td><td>1.0</td><td>550</td><td>&quot;Fully Furnishe…</td><td>&quot;Parking, Secur…</td><td>&quot;Air-Cond, Cook…</td><td>&quot;Kuala Lumpur&quot;</td><td>&quot;Air-Cond,Cooki…</td><td>true</td><td>true</td><td>false</td><td>false</td><td>true</td></tr><tr><td>100199310</td><td>&quot;Pertama Reside…</td><td>2009.0</td><td>1500</td><td>&quot;Cheras&quot;</td><td>&quot;Condominium&quot;</td><td>&quot;1&quot;</td><td>null</td><td>1.0</td><td>700</td><td>&quot;Fully Furnishe…</td><td>&quot;Jogging Track,…</td><td>&quot;Air-Cond, Cook…</td><td>&quot;Kuala Lumpur&quot;</td><td>&quot;Air-Cond,Cooki…</td><td>true</td><td>true</td><td>true</td><td>true</td><td>true</td></tr><tr><td>99936381</td><td>&quot;Bayu Andaman&quot;</td><td>null</td><td>1800</td><td>&quot;Sentul&quot;</td><td>&quot;Apartment&quot;</td><td>&quot;3&quot;</td><td>null</td><td>2.0</td><td>1000</td><td>&quot;Fully Furnishe…</td><td>&quot;Security, Swim…</td><td>&quot;Air-Cond, Cook…</td><td>&quot;Kuala Lumpur&quot;</td><td>&quot;Air-Cond,Cooki…</td><td>true</td><td>true</td><td>true</td><td>true</td><td>true</td></tr><tr><td>100320543</td><td>&quot;PV9 Residences…</td><td>2022.0</td><td>2300</td><td>&quot;Setapak&quot;</td><td>&quot;Service Reside…</td><td>&quot;3&quot;</td><td>2.0</td><td>2.0</td><td>1000</td><td>&quot;Partially Furn…</td><td>&quot;Parking, Secur…</td><td>&quot;Cooking Allowe…</td><td>&quot;Kuala Lumpur&quot;</td><td>&quot;Cooking Allowe…</td><td>false</td><td>true</td><td>true</td><td>false</td><td>true</td></tr><tr><td>100585716</td><td>&quot;Taman Cheras I…</td><td>2010.0</td><td>1200</td><td>&quot;Cheras&quot;</td><td>&quot;Apartment&quot;</td><td>&quot;3.0&quot;</td><td>null</td><td>2.0</td><td>890</td><td>&quot;Partially Furn…</td><td>&quot;Parking, Secur…</td><td>&quot;Cooking Allowe…</td><td>&quot;Selangor&quot;</td><td>&quot;Cooking Allowe…</td><td>false</td><td>false</td><td>true</td><td>false</td><td>true</td></tr><tr><td>100840816</td><td>&quot;D&#x27;Kristal&quot;</td><td>null</td><td>950</td><td>&quot;Semenyih&quot;</td><td>&quot;Apartment&quot;</td><td>&quot;3.0&quot;</td><td>1.0</td><td>2.0</td><td>810</td><td>&quot;Fully Furnishe…</td><td>&quot;Parking, Secur…</td><td>null</td><td>&quot;Selangor&quot;</td><td>null</td><td>null</td><td>null</td><td>null</td><td>null</td><td>null</td></tr><tr><td>100797402</td><td>&quot;Landmark Resid…</td><td>2019.0</td><td>1800</td><td>&quot;Kajang&quot;</td><td>&quot;Service Reside…</td><td>&quot;3.0&quot;</td><td>2.0</td><td>2.0</td><td>1163</td><td>&quot;Fully Furnishe…</td><td>&quot;Lift, Security…</td><td>&quot;Air-Cond, Cook…</td><td>&quot;Selangor&quot;</td><td>&quot;Air-Cond,Cooki…</td><td>true</td><td>true</td><td>false</td><td>false</td><td>true</td></tr><tr><td>100423970</td><td>&quot;Vesta View Apa…</td><td>2019.0</td><td>1100</td><td>&quot;Kajang&quot;</td><td>&quot;Apartment&quot;</td><td>&quot;3.0&quot;</td><td>2.0</td><td>3.0</td><td>1044</td><td>&quot;Not Furnished&quot;</td><td>&quot;Security, Mini…</td><td>null</td><td>&quot;Selangor&quot;</td><td>null</td><td>null</td><td>null</td><td>null</td><td>null</td><td>null</td></tr><tr><td>100176059</td><td>&quot;Majestic Maxim…</td><td>2021.0</td><td>1400</td><td>&quot;Cheras&quot;</td><td>&quot;Service Reside…</td><td>&quot;2&quot;</td><td>1.0</td><td>2.0</td><td>650</td><td>&quot;Partially Furn…</td><td>&quot;Security, Play…</td><td>&quot;Air-Cond, Cook…</td><td>&quot;Kuala Lumpur&quot;</td><td>&quot;Air-Cond,Cooki…</td><td>true</td><td>true</td><td>true</td><td>false</td><td>true</td></tr><tr><td>100136518</td><td>&quot;Estana Court&quot;</td><td>null</td><td>1300</td><td>&quot;Ampang&quot;</td><td>&quot;Apartment&quot;</td><td>&quot;3&quot;</td><td>1.0</td><td>2.0</td><td>850</td><td>&quot;Not Furnished&quot;</td><td>&quot;Playground, Pa…</td><td>null</td><td>&quot;Kuala Lumpur&quot;</td><td>null</td><td>null</td><td>null</td><td>null</td><td>null</td><td>null</td></tr></tbody></table></div>"
      ],
      "text/plain": [
       "shape: (19_983, 20)\n",
       "┌──────┬─────────┬────────────┬────────────┬───┬────────────┬────────────┬────────────┬────────────┐\n",
       "│ ads_ ┆ prop_na ┆ completion ┆ monthly_re ┆ … ┆ Washing    ┆ Near KTM/L ┆ Internet_a ┆ Cooking    │\n",
       "│ id   ┆ me      ┆ _year      ┆ nt_rm      ┆   ┆ Machine_av ┆ RT_availab ┆ vailabilit ┆ Allowed_av │\n",
       "│ ---  ┆ ---     ┆ ---        ┆ ---        ┆   ┆ ailability ┆ ility      ┆ y          ┆ ailability │\n",
       "│ i64  ┆ str     ┆ f64        ┆ i64        ┆   ┆ ---        ┆ ---        ┆ ---        ┆ ---        │\n",
       "│      ┆         ┆            ┆            ┆   ┆ bool       ┆ bool       ┆ bool       ┆ bool       │\n",
       "╞══════╪═════════╪════════════╪════════════╪═══╪════════════╪════════════╪════════════╪════════════╡\n",
       "│ 1005 ┆ Seri    ┆ null       ┆ 950        ┆ … ┆ null       ┆ null       ┆ null       ┆ null       │\n",
       "│ 4133 ┆ Jati    ┆            ┆            ┆   ┆            ┆            ┆            ┆            │\n",
       "│ 8    ┆ Apartme ┆            ┆            ┆   ┆            ┆            ┆            ┆            │\n",
       "│      ┆ nt      ┆            ┆            ┆   ┆            ┆            ┆            ┆            │\n",
       "│      ┆ Setia   ┆            ┆            ┆   ┆            ┆            ┆            ┆            │\n",
       "│      ┆ Alam    ┆            ┆            ┆   ┆            ┆            ┆            ┆            │\n",
       "│ 1006 ┆ Juta    ┆ 2005.0     ┆ 1200       ┆ … ┆ null       ┆ null       ┆ null       ┆ null       │\n",
       "│ 2896 ┆ Mines   ┆            ┆            ┆   ┆            ┆            ┆            ┆            │\n",
       "│ 4    ┆         ┆            ┆            ┆   ┆            ┆            ┆            ┆            │\n",
       "│ 1000 ┆ Pantai  ┆ null       ┆ 1300       ┆ … ┆ true       ┆ true       ┆ false      ┆ true       │\n",
       "│ 9371 ┆ Indah   ┆            ┆            ┆   ┆            ┆            ┆            ┆            │\n",
       "│ 4    ┆ Fasa 2  ┆            ┆            ┆   ┆            ┆            ┆            ┆            │\n",
       "│ 9998 ┆ The     ┆ 2022.0     ┆ 1388       ┆ … ┆ true       ┆ true       ┆ true       ┆ true       │\n",
       "│ 6698 ┆ Hipster ┆            ┆            ┆   ┆            ┆            ┆            ┆            │\n",
       "│      ┆ @ Taman ┆            ┆            ┆   ┆            ┆            ┆            ┆            │\n",
       "│      ┆ Desa    ┆            ┆            ┆   ┆            ┆            ┆            ┆            │\n",
       "│ …    ┆ …       ┆ …          ┆ …          ┆ … ┆ …          ┆ …          ┆ …          ┆ …          │\n",
       "│ 1007 ┆ Landmar ┆ 2019.0     ┆ 1800       ┆ … ┆ true       ┆ false      ┆ false      ┆ true       │\n",
       "│ 9740 ┆ k Resid ┆            ┆            ┆   ┆            ┆            ┆            ┆            │\n",
       "│ 2    ┆ ence    ┆            ┆            ┆   ┆            ┆            ┆            ┆            │\n",
       "│ 1004 ┆ Vesta   ┆ 2019.0     ┆ 1100       ┆ … ┆ null       ┆ null       ┆ null       ┆ null       │\n",
       "│ 2397 ┆ View    ┆            ┆            ┆   ┆            ┆            ┆            ┆            │\n",
       "│ 0    ┆ Apartme ┆            ┆            ┆   ┆            ┆            ┆            ┆            │\n",
       "│      ┆ nt @    ┆            ┆            ┆   ┆            ┆            ┆            ┆            │\n",
       "│      ┆ Taman   ┆            ┆            ┆   ┆            ┆            ┆            ┆            │\n",
       "│      ┆ Put…    ┆            ┆            ┆   ┆            ┆            ┆            ┆            │\n",
       "│ 1001 ┆ Majesti ┆ 2021.0     ┆ 1400       ┆ … ┆ true       ┆ true       ┆ false      ┆ true       │\n",
       "│ 7605 ┆ c Maxim ┆            ┆            ┆   ┆            ┆            ┆            ┆            │\n",
       "│ 9    ┆         ┆            ┆            ┆   ┆            ┆            ┆            ┆            │\n",
       "│ 1001 ┆ Estana  ┆ null       ┆ 1300       ┆ … ┆ null       ┆ null       ┆ null       ┆ null       │\n",
       "│ 3651 ┆ Court   ┆            ┆            ┆   ┆            ┆            ┆            ┆            │\n",
       "│ 8    ┆         ┆            ┆            ┆   ┆            ┆            ┆            ┆            │\n",
       "└──────┴─────────┴────────────┴────────────┴───┴────────────┴────────────┴────────────┴────────────┘"
      ]
     },
     "execution_count": 24,
     "metadata": {},
     "output_type": "execute_result"
    }
   ],
   "source": [
    "df"
   ]
  },
  {
   "cell_type": "code",
   "execution_count": 25,
   "id": "3d38c17a-ced4-4fe4-82ba-6d6da0f083ab",
   "metadata": {},
   "outputs": [
    {
     "data": {
      "text/html": [
       "<div><style>\n",
       ".dataframe > thead > tr > th,\n",
       ".dataframe > tbody > tr > td {\n",
       "  text-align: right;\n",
       "}\n",
       "</style>\n",
       "<small>shape: (3, 2)</small><table border=\"1\" class=\"dataframe\"><thead><tr><th>Near KTM/LRT_availability</th><th>counts</th></tr><tr><td>bool</td><td>u32</td></tr></thead><tbody><tr><td>true</td><td>166</td></tr><tr><td>false</td><td>24</td></tr><tr><td>null</td><td>32</td></tr></tbody></table></div>"
      ],
      "text/plain": [
       "shape: (3, 2)\n",
       "┌───────────────────────────┬────────┐\n",
       "│ Near KTM/LRT_availability ┆ counts │\n",
       "│ ---                       ┆ ---    │\n",
       "│ bool                      ┆ u32    │\n",
       "╞═══════════════════════════╪════════╡\n",
       "│ true                      ┆ 166    │\n",
       "│ false                     ┆ 24     │\n",
       "│ null                      ┆ 32     │\n",
       "└───────────────────────────┴────────┘"
      ]
     },
     "execution_count": 25,
     "metadata": {},
     "output_type": "execute_result"
    }
   ],
   "source": [
    "df.filter(pl.col('prop_name') == 'Majestic Maxim')[\"Near KTM/LRT_availability\"].value_counts()"
   ]
  },
  {
   "cell_type": "markdown",
   "id": "e5b011b6-4c58-474c-b400-b33e011cdbf4",
   "metadata": {},
   "source": [
    "####\n",
    "As seen above, @fig-nearbyktm shows that it sligthly increases the median monthly rent by 50RM. However, near KTM/LRT is not appearing in all row even though the property is the same\n",
    "\n",
    "Conclusion: Near KTM/LRT may be used, but it can be improved as the listing is inconsistent"
   ]
  },
  {
   "cell_type": "markdown",
   "id": "7852c6e7-e026-4564-b633-ed098a71e7e1",
   "metadata": {},
   "source": [
    "##### Drop Missing Values in Facilities and Additional Facilities"
   ]
  },
  {
   "cell_type": "code",
   "execution_count": 26,
   "id": "a4519e93-f3f7-4488-8796-ee306d906c71",
   "metadata": {},
   "outputs": [
    {
     "data": {
      "text/html": [
       "<div><style>\n",
       ".dataframe > thead > tr > th,\n",
       ".dataframe > tbody > tr > td {\n",
       "  text-align: right;\n",
       "}\n",
       "</style>\n",
       "<small>shape: (1, 20)</small><table border=\"1\" class=\"dataframe\"><thead><tr><th>ads_id</th><th>prop_name</th><th>completion_year</th><th>monthly_rent_rm</th><th>location</th><th>property_type</th><th>rooms</th><th>parking</th><th>bathroom</th><th>size_sqft</th><th>furnished</th><th>facilities</th><th>additional_facilities</th><th>region</th><th>additional_facilities_clean</th><th>Air-Cond_availability</th><th>Washing Machine_availability</th><th>Near KTM/LRT_availability</th><th>Internet_availability</th><th>Cooking Allowed_availability</th></tr><tr><td>u32</td><td>u32</td><td>u32</td><td>u32</td><td>u32</td><td>u32</td><td>u32</td><td>u32</td><td>u32</td><td>u32</td><td>u32</td><td>u32</td><td>u32</td><td>u32</td><td>u32</td><td>u32</td><td>u32</td><td>u32</td><td>u32</td><td>u32</td></tr></thead><tbody><tr><td>0</td><td>948</td><td>9181</td><td>2</td><td>0</td><td>0</td><td>6</td><td>5699</td><td>6</td><td>0</td><td>5</td><td>2208</td><td>5945</td><td>0</td><td>5945</td><td>5945</td><td>5945</td><td>5945</td><td>5945</td><td>5945</td></tr></tbody></table></div>"
      ],
      "text/plain": [
       "shape: (1, 20)\n",
       "┌────────┬───────────┬────────────┬────────────┬───┬────────────┬────────────┬────────────┬────────────┐\n",
       "│ ads_id ┆ prop_name ┆ completion ┆ monthly_re ┆ … ┆ Washing    ┆ Near KTM/L ┆ Internet_a ┆ Cooking    │\n",
       "│ ---    ┆ ---       ┆ _year      ┆ nt_rm      ┆   ┆ Machine_av ┆ RT_availab ┆ vailabilit ┆ Allowed_av │\n",
       "│ u32    ┆ u32       ┆ ---        ┆ ---        ┆   ┆ ailability ┆ ility      ┆ y          ┆ ailability │\n",
       "│        ┆           ┆ u32        ┆ u32        ┆   ┆ ---        ┆ ---        ┆ ---        ┆ ---        │\n",
       "│        ┆           ┆            ┆            ┆   ┆ u32        ┆ u32        ┆ u32        ┆ u32        │\n",
       "╞════════╪═══════════╪════════════╪════════════╪═══╪════════════╪════════════╪════════════╪════════════╡\n",
       "│ 0      ┆ 948       ┆ 9181       ┆ 2          ┆ … ┆ 5945       ┆ 5945       ┆ 5945       ┆ 5945       │\n",
       "└────────┴───────────┴────────────┴────────────┴───┴────────────┴────────────┴────────────┴────────────┘"
      ]
     },
     "execution_count": 26,
     "metadata": {},
     "output_type": "execute_result"
    }
   ],
   "source": [
    "df.select(pl.all().is_null()).sum()"
   ]
  },
  {
   "cell_type": "code",
   "execution_count": 27,
   "id": "6a697776-912e-4c00-82f0-53370768a7be",
   "metadata": {},
   "outputs": [],
   "source": [
    "# #dropping some columns\n",
    "df = df.drop(['ads_id', \n",
    "    'prop_name', \n",
    "    'facilities', \n",
    "    'additional_facilities',\n",
    "    'additional_facilities_clean'])"
   ]
  },
  {
   "cell_type": "raw",
   "id": "207096bd-1afd-4a86-b5c8-c214a0ab19e4",
   "metadata": {},
   "source": [
    "df.with_columns(pl.col(\"rooms\").cast(pl.Int64))"
   ]
  },
  {
   "cell_type": "code",
   "execution_count": 28,
   "id": "6e39ed0a-de44-4999-9989-c662b319e08e",
   "metadata": {
    "tags": []
   },
   "outputs": [
    {
     "data": {
      "text/html": [
       "<div><style>\n",
       ".dataframe > thead > tr > th,\n",
       ".dataframe > tbody > tr > td {\n",
       "  text-align: right;\n",
       "}\n",
       "</style>\n",
       "<small>shape: (19, 1)</small><table border=\"1\" class=\"dataframe\"><thead><tr><th>rooms</th></tr><tr><td>str</td></tr></thead><tbody><tr><td>&quot;6.0&quot;</td></tr><tr><td>&quot;3.0&quot;</td></tr><tr><td>&quot;1.0&quot;</td></tr><tr><td>&quot;10.0&quot;</td></tr><tr><td>&quot;9.0&quot;</td></tr><tr><td>null</td></tr><tr><td>&quot;5&quot;</td></tr><tr><td>&quot;More than 10&quot;</td></tr><tr><td>&quot;1&quot;</td></tr><tr><td>&quot;4.0&quot;</td></tr><tr><td>&quot;3&quot;</td></tr><tr><td>&quot;7&quot;</td></tr><tr><td>&quot;2.0&quot;</td></tr><tr><td>&quot;4&quot;</td></tr><tr><td>&quot;5.0&quot;</td></tr><tr><td>&quot;9&quot;</td></tr><tr><td>&quot;7.0&quot;</td></tr><tr><td>&quot;2&quot;</td></tr><tr><td>&quot;6&quot;</td></tr></tbody></table></div>"
      ],
      "text/plain": [
       "shape: (19, 1)\n",
       "┌───────┐\n",
       "│ rooms │\n",
       "│ ---   │\n",
       "│ str   │\n",
       "╞═══════╡\n",
       "│ 6.0   │\n",
       "│ 3.0   │\n",
       "│ 1.0   │\n",
       "│ 10.0  │\n",
       "│ …     │\n",
       "│ 9     │\n",
       "│ 7.0   │\n",
       "│ 2     │\n",
       "│ 6     │\n",
       "└───────┘"
      ]
     },
     "execution_count": 28,
     "metadata": {},
     "output_type": "execute_result"
    }
   ],
   "source": [
    "df.select(pl.col(\"rooms\")).unique()"
   ]
  },
  {
   "cell_type": "markdown",
   "id": "1fe2606c-24c1-4a6c-8537-21f22fe618b4",
   "metadata": {},
   "source": [
    "####\n",
    "Converting rooms from object to int64"
   ]
  },
  {
   "cell_type": "code",
   "execution_count": 29,
   "id": "49986752-6b7d-4a50-b543-a40b467d3d43",
   "metadata": {},
   "outputs": [],
   "source": [
    "df = df.with_columns(pl.col(\"rooms\").apply(lambda x: 10 if x == \"More than 10\" else x))"
   ]
  },
  {
   "cell_type": "code",
   "execution_count": 30,
   "id": "d7a33d82-96aa-4f49-a7d1-b28224317726",
   "metadata": {},
   "outputs": [],
   "source": [
    "df = df.with_columns(pl.col(\"rooms\").cast(pl.Float64))"
   ]
  },
  {
   "cell_type": "code",
   "execution_count": 31,
   "id": "80f26c79-0039-4a7f-8d1c-52ed240fa2d1",
   "metadata": {},
   "outputs": [],
   "source": [
    "df = df.with_columns(pl.col(\"rooms\").cast(pl.Int64))"
   ]
  },
  {
   "cell_type": "markdown",
   "id": "f31c8be9-2713-4d67-9486-1cc1f95e8c67",
   "metadata": {},
   "source": [
    "##### Outlier Removal\n",
    "To remove some unexplainable data such as 0 monthly rent, 0 size, the rent that is way too old (1970), including the monthly rent that is way too high and/or size too big."
   ]
  },
  {
   "cell_type": "code",
   "execution_count": 32,
   "id": "5e50f3cc-7bfe-46ae-a749-055796802a04",
   "metadata": {},
   "outputs": [
    {
     "data": {
      "image/png": "[encoded data removed]",
      "text/plain": [
       "<Figure size 640x480 with 1 Axes>"
      ]
     },
     "metadata": {},
     "output_type": "display_data"
    }
   ],
   "source": [
    "#| label: fig-size-rent\n",
    "#| fig-cap: \"Monthly Rent\"\n",
    "df.to_pandas()[['size_sqft', 'monthly_rent_rm']].plot(kind='scatter', x='size_sqft', y='monthly_rent_rm');\n",
    "plt.ylim(100,5500)\n",
    "plt.xlim(50,3000)\n",
    "plt.show()"
   ]
  },
  {
   "cell_type": "code",
   "execution_count": 33,
   "id": "eb190672-9a4b-4bc0-8a47-321271f37253",
   "metadata": {},
   "outputs": [
    {
     "data": {
      "image/png": "[encoded data removed]",
      "text/plain": [
       "<Figure size 640x480 with 2 Axes>"
      ]
     },
     "metadata": {},
     "output_type": "display_data"
    }
   ],
   "source": [
    "#| label: fig-compare-rent\n",
    "#| fig-cap: \"Comparison between Different Scale\"\n",
    "fig, axs = plt.subplots(1,2)\n",
    "axs[0].boxplot(data=df.to_pandas(), x='monthly_rent_rm')\n",
    "axs[0].set_ylim(0,20000)\n",
    "axs[0].set_title('all data')\n",
    "\n",
    "axs[1].boxplot(data=df.to_pandas(), x='monthly_rent_rm')\n",
    "axs[1].set_ylim(0,5000)\n",
    "axs[1].set_title('croped at 5,000 RM')\n",
    "\n",
    "plt.tight_layout()\n",
    "plt.show()"
   ]
  },
  {
   "cell_type": "code",
   "execution_count": 34,
   "id": "e9787ad5-d91f-49d8-914d-66b5f28901db",
   "metadata": {
    "tags": []
   },
   "outputs": [
    {
     "data": {
      "text/plain": [
       "<Axes: title={'center': 'all data'}>"
      ]
     },
     "execution_count": 34,
     "metadata": {},
     "output_type": "execute_result"
    },
    {
     "data": {
      "image/png": "[encoded data removed]",
      "text/plain": [
       "<Figure size 640x480 with 1 Axes>"
      ]
     },
     "metadata": {},
     "output_type": "display_data"
    }
   ],
   "source": [
    "df.to_pandas()[\"monthly_rent_rm\"].plot(kind=\"box\", ylim = (0,20000), title='all data')"
   ]
  },
  {
   "cell_type": "code",
   "execution_count": 35,
   "id": "606365b4-96ad-413b-8420-e754aad5b4a5",
   "metadata": {},
   "outputs": [
    {
     "data": {
      "text/plain": [
       "<Axes: title={'center': 'croped at 5,000 RM'}>"
      ]
     },
     "execution_count": 35,
     "metadata": {},
     "output_type": "execute_result"
    },
    {
     "data": {
      "image/png": "[encoded data removed]",
      "text/plain": [
       "<Figure size 640x480 with 1 Axes>"
      ]
     },
     "metadata": {},
     "output_type": "display_data"
    }
   ],
   "source": [
    "df.to_pandas()[\"monthly_rent_rm\"].plot(kind=\"box\", ylim = (0,5000), title='croped at 5,000 RM')"
   ]
  },
  {
   "cell_type": "markdown",
   "id": "2975e313-87aa-4729-bc53-2516a5ff72ec",
   "metadata": {},
   "source": [
    "#### \n",
    "Based on EDA on @fig-size-rent and @fig-compare-rent, author decided to filter the data between 100-5500 RM as follows:"
   ]
  },
  {
   "cell_type": "code",
   "execution_count": 36,
   "id": "92174608-2a84-4fd0-adf8-c002a61b1923",
   "metadata": {},
   "outputs": [
    {
     "data": {
      "text/plain": [
       "['completion_year',\n",
       " 'monthly_rent_rm',\n",
       " 'location',\n",
       " 'property_type',\n",
       " 'rooms',\n",
       " 'parking',\n",
       " 'bathroom',\n",
       " 'size_sqft',\n",
       " 'furnished',\n",
       " 'region',\n",
       " 'Air-Cond_availability',\n",
       " 'Washing Machine_availability',\n",
       " 'Near KTM/LRT_availability',\n",
       " 'Internet_availability',\n",
       " 'Cooking Allowed_availability']"
      ]
     },
     "execution_count": 36,
     "metadata": {},
     "output_type": "execute_result"
    }
   ],
   "source": [
    "df.columns"
   ]
  },
  {
   "cell_type": "code",
   "execution_count": 37,
   "id": "2dd07177-5dfc-49d4-bd83-1b0b5110ad4e",
   "metadata": {},
   "outputs": [],
   "source": [
    "# removing all rows with monthly rent above 5500 RM and below 100RM\n",
    "dfx = df.filter((pl.col(\"monthly_rent_rm\") > 100) & (pl.col(\"monthly_rent_rm\") < 5500))"
   ]
  },
  {
   "cell_type": "code",
   "execution_count": 38,
   "id": "6a7d6b6e-1d80-4477-8ea8-668be9b8c336",
   "metadata": {},
   "outputs": [
    {
     "data": {
      "text/html": [
       "<div><style>\n",
       ".dataframe > thead > tr > th,\n",
       ".dataframe > tbody > tr > td {\n",
       "  text-align: right;\n",
       "}\n",
       "</style>\n",
       "<small>shape: (7, 16)</small><table border=\"1\" class=\"dataframe\"><thead><tr><th>describe</th><th>completion_year</th><th>monthly_rent_rm</th><th>location</th><th>property_type</th><th>rooms</th><th>parking</th><th>bathroom</th><th>size_sqft</th><th>furnished</th><th>region</th><th>Air-Cond_availability</th><th>Washing Machine_availability</th><th>Near KTM/LRT_availability</th><th>Internet_availability</th><th>Cooking Allowed_availability</th></tr><tr><td>str</td><td>f64</td><td>f64</td><td>str</td><td>str</td><td>f64</td><td>f64</td><td>f64</td><td>f64</td><td>str</td><td>str</td><td>f64</td><td>f64</td><td>f64</td><td>f64</td><td>f64</td></tr></thead><tbody><tr><td>&quot;count&quot;</td><td>19800.0</td><td>19800.0</td><td>&quot;19800&quot;</td><td>&quot;19800&quot;</td><td>19800.0</td><td>19800.0</td><td>19800.0</td><td>19800.0</td><td>&quot;19800&quot;</td><td>&quot;19800&quot;</td><td>19800.0</td><td>19800.0</td><td>19800.0</td><td>19800.0</td><td>19800.0</td></tr><tr><td>&quot;null_count&quot;</td><td>9101.0</td><td>0.0</td><td>&quot;0&quot;</td><td>&quot;0&quot;</td><td>6.0</td><td>5655.0</td><td>4.0</td><td>0.0</td><td>&quot;1&quot;</td><td>&quot;0&quot;</td><td>5879.0</td><td>5879.0</td><td>5879.0</td><td>5879.0</td><td>5879.0</td></tr><tr><td>&quot;mean&quot;</td><td>2014.851388</td><td>1564.744545</td><td>null</td><td>null</td><td>2.672375</td><td>1.411241</td><td>1.87841</td><td>5960.486768</td><td>null</td><td>null</td><td>0.767761</td><td>0.532936</td><td>0.534444</td><td>0.176927</td><td>0.914518</td></tr><tr><td>&quot;std&quot;</td><td>6.742338</td><td>710.937121</td><td>null</td><td>null</td><td>0.797813</td><td>0.561088</td><td>0.518821</td><td>710662.728891</td><td>null</td><td>null</td><td>0.422276</td><td>0.498934</td><td>0.498829</td><td>0.381621</td><td>0.27961</td></tr><tr><td>&quot;min&quot;</td><td>1977.0</td><td>110.0</td><td>&quot;360&quot;</td><td>&quot;Apartment&quot;</td><td>1.0</td><td>1.0</td><td>1.0</td><td>1.0</td><td>&quot;Fully Furnishe…</td><td>&quot;Kuala Lumpur&quot;</td><td>0.0</td><td>0.0</td><td>0.0</td><td>0.0</td><td>0.0</td></tr><tr><td>&quot;max&quot;</td><td>2025.0</td><td>5499.0</td><td>&quot;Wangsa Maju&quot;</td><td>&quot;Townhouse Cond…</td><td>10.0</td><td>10.0</td><td>8.0</td><td>9.9999999e7</td><td>&quot;Partially Furn…</td><td>&quot;Selangor&quot;</td><td>1.0</td><td>1.0</td><td>1.0</td><td>1.0</td><td>1.0</td></tr><tr><td>&quot;median&quot;</td><td>2017.0</td><td>1400.0</td><td>null</td><td>null</td><td>3.0</td><td>1.0</td><td>2.0</td><td>883.0</td><td>null</td><td>null</td><td>1.0</td><td>1.0</td><td>1.0</td><td>0.0</td><td>1.0</td></tr></tbody></table></div>"
      ],
      "text/plain": [
       "shape: (7, 16)\n",
       "┌────────┬────────────┬────────────┬───────┬───┬────────────┬────────────┬────────────┬────────────┐\n",
       "│ descri ┆ completion ┆ monthly_re ┆ locat ┆ … ┆ Washing    ┆ Near KTM/L ┆ Internet_a ┆ Cooking    │\n",
       "│ be     ┆ _year      ┆ nt_rm      ┆ ion   ┆   ┆ Machine_av ┆ RT_availab ┆ vailabilit ┆ Allowed_av │\n",
       "│ ---    ┆ ---        ┆ ---        ┆ ---   ┆   ┆ ailability ┆ ility      ┆ y          ┆ ailability │\n",
       "│ str    ┆ f64        ┆ f64        ┆ str   ┆   ┆ ---        ┆ ---        ┆ ---        ┆ ---        │\n",
       "│        ┆            ┆            ┆       ┆   ┆ f64        ┆ f64        ┆ f64        ┆ f64        │\n",
       "╞════════╪════════════╪════════════╪═══════╪═══╪════════════╪════════════╪════════════╪════════════╡\n",
       "│ count  ┆ 19800.0    ┆ 19800.0    ┆ 19800 ┆ … ┆ 19800.0    ┆ 19800.0    ┆ 19800.0    ┆ 19800.0    │\n",
       "│ null_c ┆ 9101.0     ┆ 0.0        ┆ 0     ┆ … ┆ 5879.0     ┆ 5879.0     ┆ 5879.0     ┆ 5879.0     │\n",
       "│ ount   ┆            ┆            ┆       ┆   ┆            ┆            ┆            ┆            │\n",
       "│ mean   ┆ 2014.85138 ┆ 1564.74454 ┆ null  ┆ … ┆ 0.532936   ┆ 0.534444   ┆ 0.176927   ┆ 0.914518   │\n",
       "│        ┆ 8          ┆ 5          ┆       ┆   ┆            ┆            ┆            ┆            │\n",
       "│ std    ┆ 6.742338   ┆ 710.937121 ┆ null  ┆ … ┆ 0.498934   ┆ 0.498829   ┆ 0.381621   ┆ 0.27961    │\n",
       "│ min    ┆ 1977.0     ┆ 110.0      ┆ 360   ┆ … ┆ 0.0        ┆ 0.0        ┆ 0.0        ┆ 0.0        │\n",
       "│ max    ┆ 2025.0     ┆ 5499.0     ┆ Wangs ┆ … ┆ 1.0        ┆ 1.0        ┆ 1.0        ┆ 1.0        │\n",
       "│        ┆            ┆            ┆ a     ┆   ┆            ┆            ┆            ┆            │\n",
       "│        ┆            ┆            ┆ Maju  ┆   ┆            ┆            ┆            ┆            │\n",
       "│ median ┆ 2017.0     ┆ 1400.0     ┆ null  ┆ … ┆ 1.0        ┆ 1.0        ┆ 0.0        ┆ 1.0        │\n",
       "└────────┴────────────┴────────────┴───────┴───┴────────────┴────────────┴────────────┴────────────┘"
      ]
     },
     "execution_count": 38,
     "metadata": {},
     "output_type": "execute_result"
    }
   ],
   "source": [
    "dfx.describe()"
   ]
  },
  {
   "cell_type": "code",
   "execution_count": 39,
   "id": "6c87ee5a-38da-4190-99aa-c47c28770c1a",
   "metadata": {
    "tags": []
   },
   "outputs": [
    {
     "data": {
      "text/plain": [
       "<Axes: >"
      ]
     },
     "execution_count": 39,
     "metadata": {},
     "output_type": "execute_result"
    },
    {
     "data": {
      "image/png": "[encoded data removed]",
      "text/plain": [
       "<Figure size 640x480 with 1 Axes>"
      ]
     },
     "metadata": {},
     "output_type": "display_data"
    }
   ],
   "source": [
    "#| label: fig-rent-final\n",
    "#| fig-cap: \"Data after Outlier Removal\"\n",
    "dfx.to_pandas().monthly_rent_rm.plot(kind='box', x='monthly_rent_rm')"
   ]
  },
  {
   "cell_type": "code",
   "execution_count": 40,
   "id": "0a47326e-cf5d-4367-a1a2-317fda7bfc8f",
   "metadata": {},
   "outputs": [
    {
     "data": {
      "image/png": "[encoded data removed]",
      "text/plain": [
       "<Figure size 640x480 with 2 Axes>"
      ]
     },
     "metadata": {},
     "output_type": "display_data"
    }
   ],
   "source": [
    "#| label: fig-size-comparison\n",
    "#| fig-cap: \"Raw Data Size sq.ft\"\n",
    "fig, axs = plt.subplots(1,2)\n",
    "axs[0].boxplot(data=dfx.to_pandas(), x='size_sqft')\n",
    "axs[0].set_ylim(0,20000)\n",
    "axs[0].set_title('all data')\n",
    "\n",
    "axs[1].boxplot(data=dfx.to_pandas(), x='size_sqft')\n",
    "axs[1].set_ylim(0,2000)\n",
    "axs[1].set_title('croped at 0-2,000 square feet')\n",
    "\n",
    "plt.tight_layout()\n",
    "plt.show()"
   ]
  },
  {
   "cell_type": "raw",
   "id": "254eef45-1219-4cdb-bb2f-791c67983d58",
   "metadata": {
    "tags": []
   },
   "source": [
    "dfx.to_pandas()[\"size_sqft\"].plot(kind=\"box\", ylim = (0,20000), title='all data')"
   ]
  },
  {
   "cell_type": "raw",
   "id": "dcd95fd9-49a0-4322-bc47-0346355075ba",
   "metadata": {},
   "source": [
    "dfx.to_pandas()[\"size_sqft\"].plot(kind=\"box\", ylim = (0,2000), title='croped at 2,000 RM')"
   ]
  },
  {
   "cell_type": "code",
   "execution_count": 41,
   "id": "dabfb4b3-d7a3-43e8-9bfd-b40acead8208",
   "metadata": {},
   "outputs": [],
   "source": [
    "#removing outliers below 500, and higher than 3000 sqft and below 50 sqft\n",
    "dfx = dfx.filter((pl.col(\"size_sqft\") > 50) & (pl.col(\"size_sqft\") < 3000))"
   ]
  },
  {
   "cell_type": "code",
   "execution_count": 42,
   "id": "2efbcb16-8a8b-4f9a-ba91-6845ba4b9d88",
   "metadata": {},
   "outputs": [
    {
     "data": {
      "text/plain": [
       "<Axes: >"
      ]
     },
     "execution_count": 42,
     "metadata": {},
     "output_type": "execute_result"
    },
    {
     "data": {
      "image/png": "[encoded data removed]",
      "text/plain": [
       "<Figure size 640x480 with 1 Axes>"
      ]
     },
     "metadata": {},
     "output_type": "display_data"
    }
   ],
   "source": [
    "dfx.to_pandas()[\"size_sqft\"].plot(kind='box')"
   ]
  },
  {
   "cell_type": "raw",
   "id": "524fcc88-039d-400f-8362-1d98909dab2d",
   "metadata": {},
   "source": [
    "dfx.drop(\"monthly_rent_rm\").to_pandas()"
   ]
  },
  {
   "cell_type": "raw",
   "id": "7db72683-844a-4ff0-9e69-0d27e3d11938",
   "metadata": {},
   "source": [
    "dfx.select(pl.col(\"monthly_rent_rm\")).to_numpy()"
   ]
  },
  {
   "cell_type": "code",
   "execution_count": 43,
   "id": "4e8e8c45-642c-4020-a625-2e7874592ecf",
   "metadata": {
    "tags": []
   },
   "outputs": [
    {
     "data": {
      "image/png": "[encoded data removed]",
      "text/plain": [
       "<Figure size 1200x400 with 5 Axes>"
      ]
     },
     "metadata": {},
     "output_type": "display_data"
    }
   ],
   "source": [
    "#| label: fig-complete-outliers\n",
    "#| fig-cap: \"Final Data after Outlier Removal\"\n",
    "fig, axs = plt.subplots(1,5, figsize=(12,4))\n",
    "axs[0].boxplot(data=dfx.to_pandas().dropna(), x='size_sqft')\n",
    "axs[1].boxplot(data=dfx.to_pandas().dropna(), x='rooms')\n",
    "axs[2].boxplot(data=dfx.to_pandas().dropna(), x='parking')\n",
    "axs[3].boxplot(data=dfx.to_pandas().dropna(), x='bathroom')\n",
    "# axs[4].boxplot(data=dfx.dropna(), x='completion_year')\n",
    "\n",
    "axs[0].set_title('Size')\n",
    "axs[1].set_title('Rooms')\n",
    "axs[2].set_title('Parking')\n",
    "axs[3].set_title('Bathrooms')\n",
    "# axs[4].set_title('Completion Year')\n",
    "\n",
    "plt.tight_layout()\n",
    "plt.show()"
   ]
  },
  {
   "cell_type": "code",
   "execution_count": 44,
   "id": "89b38b77-b05d-4f64-b94b-deab024d41b8",
   "metadata": {},
   "outputs": [
    {
     "data": {
      "text/plain": [
       "(19761, 15)"
      ]
     },
     "execution_count": 44,
     "metadata": {},
     "output_type": "execute_result"
    }
   ],
   "source": [
    "dfx.shape"
   ]
  },
  {
   "cell_type": "markdown",
   "id": "df7b2066-4ff9-48ee-9046-4846895c04db",
   "metadata": {
    "tags": []
   },
   "source": [
    "#### Data Preprocessing\n",
    "##### Input-Output"
   ]
  },
  {
   "cell_type": "markdown",
   "id": "fbf06844-2109-4d21-b86e-52c747860342",
   "metadata": {},
   "source": [
    "##### Train-Test Split Data"
   ]
  },
  {
   "cell_type": "code",
   "execution_count": 45,
   "id": "0ecf1f7d-5eaa-4715-ac5f-4556059ae30b",
   "metadata": {},
   "outputs": [],
   "source": [
    "from sklearn.model_selection import train_test_split"
   ]
  },
  {
   "cell_type": "code",
   "execution_count": 46,
   "id": "c666a01b-a02f-4132-869a-ccb0b8f10d06",
   "metadata": {},
   "outputs": [],
   "source": [
    "X_train, X_test, y_train, y_test = train_test_split(dfx.drop(\"monthly_rent_rm\").to_pandas(),\n",
    "                                                    dfx.select(pl.col(\"monthly_rent_rm\")).to_numpy(),\n",
    "                                                    test_size = 0.2,\n",
    "                                                    random_state = 123)"
   ]
  },
  {
   "cell_type": "code",
   "execution_count": 47,
   "id": "2b08dd8f-8d9e-4c11-a9f4-d4f430e13b5f",
   "metadata": {},
   "outputs": [
    {
     "data": {
      "text/plain": [
       "0.20004048378118516"
      ]
     },
     "execution_count": 47,
     "metadata": {},
     "output_type": "execute_result"
    }
   ],
   "source": [
    "len(X_test)/len(dfx.drop(\"monthly_rent_rm\").to_pandas())"
   ]
  },
  {
   "cell_type": "code",
   "execution_count": 48,
   "id": "34853951-c3e9-4b10-b32b-ca0fceabc883",
   "metadata": {},
   "outputs": [
    {
     "data": {
      "text/html": [
       "<div>\n",
       "<style scoped>\n",
       "    .dataframe tbody tr th:only-of-type {\n",
       "        vertical-align: middle;\n",
       "    }\n",
       "\n",
       "    .dataframe tbody tr th {\n",
       "        vertical-align: top;\n",
       "    }\n",
       "\n",
       "    .dataframe thead th {\n",
       "        text-align: right;\n",
       "    }\n",
       "</style>\n",
       "<table border=\"1\" class=\"dataframe\">\n",
       "  <thead>\n",
       "    <tr style=\"text-align: right;\">\n",
       "      <th></th>\n",
       "      <th>completion_year</th>\n",
       "      <th>location</th>\n",
       "      <th>property_type</th>\n",
       "      <th>rooms</th>\n",
       "      <th>parking</th>\n",
       "      <th>bathroom</th>\n",
       "      <th>size_sqft</th>\n",
       "      <th>furnished</th>\n",
       "      <th>region</th>\n",
       "      <th>Air-Cond_availability</th>\n",
       "      <th>Washing Machine_availability</th>\n",
       "      <th>Near KTM/LRT_availability</th>\n",
       "      <th>Internet_availability</th>\n",
       "      <th>Cooking Allowed_availability</th>\n",
       "    </tr>\n",
       "  </thead>\n",
       "  <tbody>\n",
       "    <tr>\n",
       "      <th>3850</th>\n",
       "      <td>NaN</td>\n",
       "      <td>Petaling Jaya</td>\n",
       "      <td>Condominium</td>\n",
       "      <td>3.0</td>\n",
       "      <td>1.0</td>\n",
       "      <td>2.0</td>\n",
       "      <td>1200</td>\n",
       "      <td>Fully Furnished</td>\n",
       "      <td>Selangor</td>\n",
       "      <td>None</td>\n",
       "      <td>None</td>\n",
       "      <td>None</td>\n",
       "      <td>None</td>\n",
       "      <td>None</td>\n",
       "    </tr>\n",
       "    <tr>\n",
       "      <th>16305</th>\n",
       "      <td>2021.0</td>\n",
       "      <td>Puchong</td>\n",
       "      <td>Service Residence</td>\n",
       "      <td>3.0</td>\n",
       "      <td>1.0</td>\n",
       "      <td>2.0</td>\n",
       "      <td>1050</td>\n",
       "      <td>Partially Furnished</td>\n",
       "      <td>Selangor</td>\n",
       "      <td>False</td>\n",
       "      <td>True</td>\n",
       "      <td>False</td>\n",
       "      <td>False</td>\n",
       "      <td>True</td>\n",
       "    </tr>\n",
       "    <tr>\n",
       "      <th>9873</th>\n",
       "      <td>2015.0</td>\n",
       "      <td>Sentul</td>\n",
       "      <td>Condominium</td>\n",
       "      <td>3.0</td>\n",
       "      <td>NaN</td>\n",
       "      <td>2.0</td>\n",
       "      <td>500</td>\n",
       "      <td>Partially Furnished</td>\n",
       "      <td>Kuala Lumpur</td>\n",
       "      <td>True</td>\n",
       "      <td>False</td>\n",
       "      <td>False</td>\n",
       "      <td>False</td>\n",
       "      <td>True</td>\n",
       "    </tr>\n",
       "    <tr>\n",
       "      <th>4734</th>\n",
       "      <td>NaN</td>\n",
       "      <td>Damansara Perdana</td>\n",
       "      <td>Flat</td>\n",
       "      <td>3.0</td>\n",
       "      <td>NaN</td>\n",
       "      <td>2.0</td>\n",
       "      <td>650</td>\n",
       "      <td>Not Furnished</td>\n",
       "      <td>Selangor</td>\n",
       "      <td>False</td>\n",
       "      <td>False</td>\n",
       "      <td>True</td>\n",
       "      <td>False</td>\n",
       "      <td>True</td>\n",
       "    </tr>\n",
       "    <tr>\n",
       "      <th>10718</th>\n",
       "      <td>2021.0</td>\n",
       "      <td>Bukit Jalil</td>\n",
       "      <td>Apartment</td>\n",
       "      <td>3.0</td>\n",
       "      <td>NaN</td>\n",
       "      <td>2.0</td>\n",
       "      <td>850</td>\n",
       "      <td>Not Furnished</td>\n",
       "      <td>Kuala Lumpur</td>\n",
       "      <td>None</td>\n",
       "      <td>None</td>\n",
       "      <td>None</td>\n",
       "      <td>None</td>\n",
       "      <td>None</td>\n",
       "    </tr>\n",
       "    <tr>\n",
       "      <th>...</th>\n",
       "      <td>...</td>\n",
       "      <td>...</td>\n",
       "      <td>...</td>\n",
       "      <td>...</td>\n",
       "      <td>...</td>\n",
       "      <td>...</td>\n",
       "      <td>...</td>\n",
       "      <td>...</td>\n",
       "      <td>...</td>\n",
       "      <td>...</td>\n",
       "      <td>...</td>\n",
       "      <td>...</td>\n",
       "      <td>...</td>\n",
       "      <td>...</td>\n",
       "    </tr>\n",
       "    <tr>\n",
       "      <th>13435</th>\n",
       "      <td>2021.0</td>\n",
       "      <td>Petaling Jaya</td>\n",
       "      <td>Service Residence</td>\n",
       "      <td>3.0</td>\n",
       "      <td>2.0</td>\n",
       "      <td>2.0</td>\n",
       "      <td>818</td>\n",
       "      <td>Fully Furnished</td>\n",
       "      <td>Selangor</td>\n",
       "      <td>True</td>\n",
       "      <td>True</td>\n",
       "      <td>True</td>\n",
       "      <td>True</td>\n",
       "      <td>True</td>\n",
       "    </tr>\n",
       "    <tr>\n",
       "      <th>7763</th>\n",
       "      <td>2009.0</td>\n",
       "      <td>Kepong</td>\n",
       "      <td>Apartment</td>\n",
       "      <td>3.0</td>\n",
       "      <td>1.0</td>\n",
       "      <td>2.0</td>\n",
       "      <td>958</td>\n",
       "      <td>Not Furnished</td>\n",
       "      <td>Kuala Lumpur</td>\n",
       "      <td>False</td>\n",
       "      <td>False</td>\n",
       "      <td>True</td>\n",
       "      <td>False</td>\n",
       "      <td>True</td>\n",
       "    </tr>\n",
       "    <tr>\n",
       "      <th>15377</th>\n",
       "      <td>2022.0</td>\n",
       "      <td>Setapak</td>\n",
       "      <td>Condominium</td>\n",
       "      <td>3.0</td>\n",
       "      <td>1.0</td>\n",
       "      <td>2.0</td>\n",
       "      <td>850</td>\n",
       "      <td>Fully Furnished</td>\n",
       "      <td>Kuala Lumpur</td>\n",
       "      <td>True</td>\n",
       "      <td>True</td>\n",
       "      <td>True</td>\n",
       "      <td>True</td>\n",
       "      <td>True</td>\n",
       "    </tr>\n",
       "    <tr>\n",
       "      <th>17730</th>\n",
       "      <td>2017.0</td>\n",
       "      <td>Semenyih</td>\n",
       "      <td>Service Residence</td>\n",
       "      <td>3.0</td>\n",
       "      <td>2.0</td>\n",
       "      <td>2.0</td>\n",
       "      <td>900</td>\n",
       "      <td>Partially Furnished</td>\n",
       "      <td>Selangor</td>\n",
       "      <td>False</td>\n",
       "      <td>False</td>\n",
       "      <td>False</td>\n",
       "      <td>False</td>\n",
       "      <td>True</td>\n",
       "    </tr>\n",
       "    <tr>\n",
       "      <th>15725</th>\n",
       "      <td>2014.0</td>\n",
       "      <td>Cheras</td>\n",
       "      <td>Service Residence</td>\n",
       "      <td>1.0</td>\n",
       "      <td>NaN</td>\n",
       "      <td>1.0</td>\n",
       "      <td>551</td>\n",
       "      <td>Partially Furnished</td>\n",
       "      <td>Selangor</td>\n",
       "      <td>None</td>\n",
       "      <td>None</td>\n",
       "      <td>None</td>\n",
       "      <td>None</td>\n",
       "      <td>None</td>\n",
       "    </tr>\n",
       "  </tbody>\n",
       "</table>\n",
       "<p>15808 rows × 14 columns</p>\n",
       "</div>"
      ],
      "text/plain": [
       "       completion_year           location      property_type  rooms  parking   \n",
       "3850               NaN      Petaling Jaya        Condominium    3.0      1.0  \\\n",
       "16305           2021.0            Puchong  Service Residence    3.0      1.0   \n",
       "9873            2015.0             Sentul        Condominium    3.0      NaN   \n",
       "4734               NaN  Damansara Perdana               Flat    3.0      NaN   \n",
       "10718           2021.0        Bukit Jalil          Apartment    3.0      NaN   \n",
       "...                ...                ...                ...    ...      ...   \n",
       "13435           2021.0      Petaling Jaya  Service Residence    3.0      2.0   \n",
       "7763            2009.0             Kepong          Apartment    3.0      1.0   \n",
       "15377           2022.0            Setapak        Condominium    3.0      1.0   \n",
       "17730           2017.0           Semenyih  Service Residence    3.0      2.0   \n",
       "15725           2014.0             Cheras  Service Residence    1.0      NaN   \n",
       "\n",
       "       bathroom  size_sqft            furnished        region   \n",
       "3850        2.0       1200      Fully Furnished      Selangor  \\\n",
       "16305       2.0       1050  Partially Furnished      Selangor   \n",
       "9873        2.0        500  Partially Furnished  Kuala Lumpur   \n",
       "4734        2.0        650        Not Furnished      Selangor   \n",
       "10718       2.0        850        Not Furnished  Kuala Lumpur   \n",
       "...         ...        ...                  ...           ...   \n",
       "13435       2.0        818      Fully Furnished      Selangor   \n",
       "7763        2.0        958        Not Furnished  Kuala Lumpur   \n",
       "15377       2.0        850      Fully Furnished  Kuala Lumpur   \n",
       "17730       2.0        900  Partially Furnished      Selangor   \n",
       "15725       1.0        551  Partially Furnished      Selangor   \n",
       "\n",
       "      Air-Cond_availability Washing Machine_availability   \n",
       "3850                   None                         None  \\\n",
       "16305                 False                         True   \n",
       "9873                   True                        False   \n",
       "4734                  False                        False   \n",
       "10718                  None                         None   \n",
       "...                     ...                          ...   \n",
       "13435                  True                         True   \n",
       "7763                  False                        False   \n",
       "15377                  True                         True   \n",
       "17730                 False                        False   \n",
       "15725                  None                         None   \n",
       "\n",
       "      Near KTM/LRT_availability Internet_availability   \n",
       "3850                       None                  None  \\\n",
       "16305                     False                 False   \n",
       "9873                      False                 False   \n",
       "4734                       True                 False   \n",
       "10718                      None                  None   \n",
       "...                         ...                   ...   \n",
       "13435                      True                  True   \n",
       "7763                       True                 False   \n",
       "15377                      True                  True   \n",
       "17730                     False                 False   \n",
       "15725                      None                  None   \n",
       "\n",
       "      Cooking Allowed_availability  \n",
       "3850                          None  \n",
       "16305                         True  \n",
       "9873                          True  \n",
       "4734                          True  \n",
       "10718                         None  \n",
       "...                            ...  \n",
       "13435                         True  \n",
       "7763                          True  \n",
       "15377                         True  \n",
       "17730                         True  \n",
       "15725                         None  \n",
       "\n",
       "[15808 rows x 14 columns]"
      ]
     },
     "execution_count": 48,
     "metadata": {},
     "output_type": "execute_result"
    }
   ],
   "source": [
    "X_train"
   ]
  },
  {
   "cell_type": "markdown",
   "id": "6a383496-f43e-4b37-bf42-9bf1947ef7a9",
   "metadata": {},
   "source": [
    "##### Preprocessing Original Data for Categorical Dtypes\n",
    "\n",
    "One must paying attention to the number of categorical observation in the original data, with respect to the sampling train-test value. If, the test_size = 0.3, that means any categorical observation with a total of 3 and less, would not be distributed evenly among train and test data."
   ]
  },
  {
   "cell_type": "code",
   "execution_count": 49,
   "id": "0a47e132-e2c0-4bc6-9699-ec4fa9d4b474",
   "metadata": {},
   "outputs": [
    {
     "name": "stdout",
     "output_type": "stream",
     "text": [
      "127\n",
      "126\n",
      "111\n"
     ]
    }
   ],
   "source": [
    "print(dfx[\"location\"].n_unique())\n",
    "print(X_train.location.nunique())\n",
    "print(X_test.location.nunique())"
   ]
  },
  {
   "cell_type": "code",
   "execution_count": 50,
   "id": "6380b4a4-1e07-4912-9bb3-e1d1c209b8d2",
   "metadata": {},
   "outputs": [
    {
     "name": "stdout",
     "output_type": "stream",
     "text": [
      "10\n",
      "10\n",
      "8\n"
     ]
    }
   ],
   "source": [
    "print(dfx[\"property_type\"].n_unique())\n",
    "print(X_train.property_type.nunique())\n",
    "print(X_test.property_type.nunique())"
   ]
  },
  {
   "cell_type": "code",
   "execution_count": 51,
   "id": "b531a303-01a6-4865-b992-1976468d58b8",
   "metadata": {},
   "outputs": [
    {
     "name": "stdout",
     "output_type": "stream",
     "text": [
      "{None}\n",
      "{'Banting', 'Puncak Jalil', 'Bukit Beruntung', 'Pulau Indah (Pulau Lumut)', 'Bukit Tunku', 'Damansara', 'Damansara Jaya', 'Telok Panglima Garang', 'Bandar Tasik Selatan', '369', 'Sungai Penchala', '43', 'Chan Sow Lin', '517', 'KL Sentral', 'Mid Valley City'}\n",
      "{'Condo / Services residence / Penthouse / Townhouse', 'Houses'}\n",
      "set()\n",
      "set()\n",
      "set()\n",
      "set()\n",
      "set()\n"
     ]
    }
   ],
   "source": [
    "print(set(X_train.furnished.to_list()) - set(X_test.furnished.to_list()))\n",
    "print(set(X_train.location.to_list()) - set(X_test.location.to_list()))\n",
    "print(set(X_train.property_type.to_list()) - set(X_test.property_type.to_list()))\n",
    "print(set(X_train['Air-Cond_availability'].to_list()) - set(X_test['Air-Cond_availability'].to_list()))\n",
    "print(set(X_train['Washing Machine_availability'].to_list()) - set(X_test['Washing Machine_availability'].to_list()))\n",
    "print(set(X_train['Internet_availability'].to_list()) - set(X_test['Internet_availability'].to_list()))\n",
    "print(set(X_train['Cooking Allowed_availability'].to_list()) - set(X_test['Cooking Allowed_availability'].to_list()))\n",
    "print(set(X_train['Near KTM/LRT_availability'].to_list()) - set(X_test['Near KTM/LRT_availability'].to_list()))"
   ]
  },
  {
   "cell_type": "markdown",
   "id": "207247ee-2f66-4d95-b3a1-5c1e7c553b58",
   "metadata": {},
   "source": [
    "#### \n",
    "Dropping Data"
   ]
  },
  {
   "cell_type": "code",
   "execution_count": 52,
   "id": "4dcffdbb-12fa-48ba-84b3-5ed8d2a3086d",
   "metadata": {},
   "outputs": [
    {
     "data": {
      "text/html": [
       "<div><style>\n",
       ".dataframe > thead > tr > th,\n",
       ".dataframe > tbody > tr > td {\n",
       "  text-align: right;\n",
       "}\n",
       "</style>\n",
       "<small>shape: (29, 2)</small><table border=\"1\" class=\"dataframe\"><thead><tr><th>location</th><th>counts</th></tr><tr><td>str</td><td>u32</td></tr></thead><tbody><tr><td>&quot;Pulau Indah (P…</td><td>1</td></tr><tr><td>&quot;Telok Panglima…</td><td>1</td></tr><tr><td>&quot;Puncak Jalil&quot;</td><td>1</td></tr><tr><td>&quot;Chan Sow Lin&quot;</td><td>1</td></tr><tr><td>&quot;43&quot;</td><td>1</td></tr><tr><td>&quot;Damansara Jaya…</td><td>1</td></tr><tr><td>&quot;Bandar Botanic…</td><td>1</td></tr><tr><td>&quot;369&quot;</td><td>1</td></tr><tr><td>&quot;Sungai Penchal…</td><td>1</td></tr><tr><td>&quot;Damansara&quot;</td><td>2</td></tr><tr><td>&quot;KL Eco City&quot;</td><td>2</td></tr><tr><td>&quot;Mutiara Damans…</td><td>2</td></tr><tr><td>&hellip;</td><td>&hellip;</td></tr><tr><td>&quot;Saujana Utama&quot;</td><td>3</td></tr><tr><td>&quot;Serendah&quot;</td><td>3</td></tr><tr><td>&quot;Bukit Subang&quot;</td><td>3</td></tr><tr><td>&quot;Salak Tinggi&quot;</td><td>4</td></tr><tr><td>&quot;KL Sentral&quot;</td><td>5</td></tr><tr><td>&quot;Others&quot;</td><td>5</td></tr><tr><td>&quot;Bandar Bukit T…</td><td>5</td></tr><tr><td>&quot;Banting&quot;</td><td>6</td></tr><tr><td>&quot;Salak Selatan&quot;</td><td>6</td></tr><tr><td>&quot;Beranang&quot;</td><td>7</td></tr><tr><td>&quot;Jinjang&quot;</td><td>9</td></tr><tr><td>&quot;Bandar Damai P…</td><td>9</td></tr></tbody></table></div>"
      ],
      "text/plain": [
       "shape: (29, 2)\n",
       "┌───────────────────────────┬────────┐\n",
       "│ location                  ┆ counts │\n",
       "│ ---                       ┆ ---    │\n",
       "│ str                       ┆ u32    │\n",
       "╞═══════════════════════════╪════════╡\n",
       "│ Pulau Indah (Pulau Lumut) ┆ 1      │\n",
       "│ Telok Panglima Garang     ┆ 1      │\n",
       "│ Puncak Jalil              ┆ 1      │\n",
       "│ Chan Sow Lin              ┆ 1      │\n",
       "│ …                         ┆ …      │\n",
       "│ Salak Selatan             ┆ 6      │\n",
       "│ Beranang                  ┆ 7      │\n",
       "│ Jinjang                   ┆ 9      │\n",
       "│ Bandar Damai Perdana      ┆ 9      │\n",
       "└───────────────────────────┴────────┘"
      ]
     },
     "execution_count": 52,
     "metadata": {},
     "output_type": "execute_result"
    }
   ],
   "source": [
    "dfx[\"location\"].value_counts().sort(\"counts\").head(29)"
   ]
  },
  {
   "cell_type": "code",
   "execution_count": 53,
   "id": "3c10b80e-a6b3-4815-819b-b3123f747eb0",
   "metadata": {},
   "outputs": [],
   "source": [
    "exclude_location = dfx[\"location\"].value_counts().sort(\"counts\").head(29)[\"location\"].to_numpy()"
   ]
  },
  {
   "cell_type": "code",
   "execution_count": 54,
   "id": "5d2d7fe9-5a96-47a3-b82d-269b13dec721",
   "metadata": {},
   "outputs": [
    {
     "data": {
      "text/plain": [
       "array(['Damansara Jaya', '43', 'Pulau Indah (Pulau Lumut)',\n",
       "       'Sungai Penchala', '369', 'Chan Sow Lin', 'Bandar Botanic',\n",
       "       'Telok Panglima Garang', 'Puncak Jalil', 'Damansara',\n",
       "       'Bukit Tunku', 'Bukit Beruntung', 'Mutiara Damansara',\n",
       "       'KL Eco City', 'Bukit Subang', 'Saujana Utama', 'Kuala Selangor',\n",
       "       'Hulu Langat', 'Serendah', '517', 'Salak Tinggi', 'KL Sentral',\n",
       "       'Others', 'Bandar Bukit Tinggi', 'Banting', 'Salak Selatan',\n",
       "       'Beranang', 'Bandar Damai Perdana', 'Jinjang'], dtype=object)"
      ]
     },
     "execution_count": 54,
     "metadata": {},
     "output_type": "execute_result"
    }
   ],
   "source": [
    "exclude_location"
   ]
  },
  {
   "cell_type": "code",
   "execution_count": 55,
   "id": "d6a9e454-e9c7-436a-b89d-0e0bbf5e98ea",
   "metadata": {},
   "outputs": [
    {
     "data": {
      "text/html": [
       "<div><style>\n",
       ".dataframe > thead > tr > th,\n",
       ".dataframe > tbody > tr > td {\n",
       "  text-align: right;\n",
       "}\n",
       "</style>\n",
       "<small>shape: (10, 2)</small><table border=\"1\" class=\"dataframe\"><thead><tr><th>property_type</th><th>counts</th></tr><tr><td>str</td><td>u32</td></tr></thead><tbody><tr><td>&quot;Apartment&quot;</td><td>5232</td></tr><tr><td>&quot;Condo / Servic…</td><td>1</td></tr><tr><td>&quot;Condominium&quot;</td><td>8305</td></tr><tr><td>&quot;Duplex&quot;</td><td>72</td></tr><tr><td>&quot;Flat&quot;</td><td>577</td></tr><tr><td>&quot;Houses&quot;</td><td>1</td></tr><tr><td>&quot;Others&quot;</td><td>87</td></tr><tr><td>&quot;Service Reside…</td><td>5264</td></tr><tr><td>&quot;Studio&quot;</td><td>189</td></tr><tr><td>&quot;Townhouse Cond…</td><td>33</td></tr></tbody></table></div>"
      ],
      "text/plain": [
       "shape: (10, 2)\n",
       "┌───────────────────────────────────┬────────┐\n",
       "│ property_type                     ┆ counts │\n",
       "│ ---                               ┆ ---    │\n",
       "│ str                               ┆ u32    │\n",
       "╞═══════════════════════════════════╪════════╡\n",
       "│ Apartment                         ┆ 5232   │\n",
       "│ Condo / Services residence / Pen… ┆ 1      │\n",
       "│ Condominium                       ┆ 8305   │\n",
       "│ Duplex                            ┆ 72     │\n",
       "│ …                                 ┆ …      │\n",
       "│ Others                            ┆ 87     │\n",
       "│ Service Residence                 ┆ 5264   │\n",
       "│ Studio                            ┆ 189    │\n",
       "│ Townhouse Condo                   ┆ 33     │\n",
       "└───────────────────────────────────┴────────┘"
      ]
     },
     "execution_count": 55,
     "metadata": {},
     "output_type": "execute_result"
    }
   ],
   "source": [
    "dfx[\"property_type\"].value_counts().sort(\"property_type\")"
   ]
  },
  {
   "cell_type": "raw",
   "id": "34ac1c85-739c-4c98-acc1-564434814977",
   "metadata": {},
   "source": [
    "dfx_new = dfx.filter(\n",
    "    (pl.col(\"location\") != 'Jinjang') & (pl.col(\"location\") != 'Serdang') & \n",
    "    (pl.col(\"location\") != 'Sentral') & (pl.col(\"location\") != 'Others') & \n",
    "    (pl.col(\"location\") != 'Tunku') & (pl.col(\"location\") != 'Penchala') & \n",
    "    (pl.col(\"location\") != 'Lin') &\n",
    "    # (pl.col(\"property_type != 'Others') &\n",
    "    (pl.col(\"property_type\") != 'Condo / Services residence / Penthouse / Townhouse') &\n",
    "    (pl.col(\"property_type\") != 'Townhouse Condo'))"
   ]
  },
  {
   "cell_type": "code",
   "execution_count": 56,
   "id": "4aea2a66-78ec-4a89-82ad-01ff9857213a",
   "metadata": {},
   "outputs": [],
   "source": [
    "dfx_new = dfx.filter((~pl.col(\"location\").is_in(exclude_location.tolist())))\n",
    "dfx_new = dfx_new.filter((~pl.col(\"property_type\").is_in([\"Condo / Services residence / Penthouse / Townhouse\", \"Townhouse Condo\"])))"
   ]
  },
  {
   "cell_type": "raw",
   "id": "96844ce2-46f5-4db3-bad6-1fff9c14e4f9",
   "metadata": {},
   "source": [
    "dfx_new = dfx.filter(\n",
    "    (pl.col(\"location\") != 'Chan Sow Lin') & (pl.col(\"location\") != 'Sungai Penchala') &\n",
    "    (pl.col(\"location\") != 'Damansara') & (pl.col(\"location\") != 'KL Eco City') & \n",
    "    (pl.col(\"location\") != 'Bukit Tunku') & (pl.col(\"location\") != 'Others') &\n",
    "    (pl.col(\"location\") != 'KL Sentral') & (pl.col(\"location\") != 'Salak Selatan') &\n",
    "    (pl.col(\"location\") != 'Serdang') &  (pl.col(\"location\") != 'Bandar Damai Perdana') &\n",
    "    (pl.col(\"location\") != 'Jinjang') &\n",
    "    # (pl.col(\"property_type != 'Others') &\n",
    "    (pl.col(\"property_type\") != 'Condo / Services residence / Penthouse / Townhouse') &\n",
    "    (pl.col(\"property_type\") != 'Townhouse Condo'))"
   ]
  },
  {
   "cell_type": "code",
   "execution_count": 57,
   "id": "a0c7806f-50a9-47bd-8224-368e52be3c65",
   "metadata": {},
   "outputs": [
    {
     "data": {
      "text/html": [
       "<div><style>\n",
       ".dataframe > thead > tr > th,\n",
       ".dataframe > tbody > tr > td {\n",
       "  text-align: right;\n",
       "}\n",
       "</style>\n",
       "<small>shape: (7, 2)</small><table border=\"1\" class=\"dataframe\"><thead><tr><th>property_type</th><th>counts</th></tr><tr><td>str</td><td>u32</td></tr></thead><tbody><tr><td>&quot;Others&quot;</td><td>86</td></tr><tr><td>&quot;Studio&quot;</td><td>187</td></tr><tr><td>&quot;Flat&quot;</td><td>567</td></tr><tr><td>&quot;Service Reside…</td><td>5246</td></tr><tr><td>&quot;Condominium&quot;</td><td>8282</td></tr><tr><td>&quot;Duplex&quot;</td><td>72</td></tr><tr><td>&quot;Apartment&quot;</td><td>5196</td></tr></tbody></table></div>"
      ],
      "text/plain": [
       "shape: (7, 2)\n",
       "┌───────────────────┬────────┐\n",
       "│ property_type     ┆ counts │\n",
       "│ ---               ┆ ---    │\n",
       "│ str               ┆ u32    │\n",
       "╞═══════════════════╪════════╡\n",
       "│ Others            ┆ 86     │\n",
       "│ Studio            ┆ 187    │\n",
       "│ Flat              ┆ 567    │\n",
       "│ Service Residence ┆ 5246   │\n",
       "│ Condominium       ┆ 8282   │\n",
       "│ Duplex            ┆ 72     │\n",
       "│ Apartment         ┆ 5196   │\n",
       "└───────────────────┴────────┘"
      ]
     },
     "execution_count": 57,
     "metadata": {},
     "output_type": "execute_result"
    }
   ],
   "source": [
    "dfx_new[\"property_type\"].value_counts()"
   ]
  },
  {
   "cell_type": "code",
   "execution_count": 58,
   "id": "9173f04b-41ce-429e-bbfa-6f09fb8c63b2",
   "metadata": {},
   "outputs": [
    {
     "data": {
      "text/html": [
       "<div><style>\n",
       ".dataframe > thead > tr > th,\n",
       ".dataframe > tbody > tr > td {\n",
       "  text-align: right;\n",
       "}\n",
       "</style>\n",
       "<small>shape: (19636, 15)</small><table border=\"1\" class=\"dataframe\"><thead><tr><th>completion_year</th><th>monthly_rent_rm</th><th>location</th><th>property_type</th><th>rooms</th><th>parking</th><th>bathroom</th><th>size_sqft</th><th>furnished</th><th>region</th><th>Air-Cond_availability</th><th>Washing Machine_availability</th><th>Near KTM/LRT_availability</th><th>Internet_availability</th><th>Cooking Allowed_availability</th></tr><tr><td>f64</td><td>i64</td><td>str</td><td>str</td><td>i64</td><td>f64</td><td>f64</td><td>i64</td><td>str</td><td>str</td><td>bool</td><td>bool</td><td>bool</td><td>bool</td><td>bool</td></tr></thead><tbody><tr><td>null</td><td>950</td><td>&quot;Setia Alam&quot;</td><td>&quot;Apartment&quot;</td><td>3</td><td>null</td><td>2.0</td><td>813</td><td>&quot;Not Furnished&quot;</td><td>&quot;Selangor&quot;</td><td>null</td><td>null</td><td>null</td><td>null</td><td>null</td></tr><tr><td>2005.0</td><td>1200</td><td>&quot;Seri Kembangan…</td><td>&quot;Condominium&quot;</td><td>3</td><td>1.0</td><td>2.0</td><td>1207</td><td>&quot;Partially Furn…</td><td>&quot;Selangor&quot;</td><td>null</td><td>null</td><td>null</td><td>null</td><td>null</td></tr><tr><td>null</td><td>1300</td><td>&quot;Pantai&quot;</td><td>&quot;Apartment&quot;</td><td>3</td><td>2.0</td><td>2.0</td><td>850</td><td>&quot;Fully Furnishe…</td><td>&quot;Kuala Lumpur&quot;</td><td>true</td><td>true</td><td>true</td><td>false</td><td>true</td></tr><tr><td>2022.0</td><td>1388</td><td>&quot;Taman Desa&quot;</td><td>&quot;Condominium&quot;</td><td>3</td><td>2.0</td><td>2.0</td><td>958</td><td>&quot;Partially Furn…</td><td>&quot;Kuala Lumpur&quot;</td><td>true</td><td>true</td><td>true</td><td>true</td><td>true</td></tr><tr><td>null</td><td>950</td><td>&quot;Seri Kembangan…</td><td>&quot;Apartment&quot;</td><td>3</td><td>null</td><td>2.0</td><td>850</td><td>&quot;Not Furnished&quot;</td><td>&quot;Selangor&quot;</td><td>null</td><td>null</td><td>null</td><td>null</td><td>null</td></tr><tr><td>2015.0</td><td>2400</td><td>&quot;Ampang&quot;</td><td>&quot;Condominium&quot;</td><td>4</td><td>2.0</td><td>3.0</td><td>1264</td><td>&quot;Partially Furn…</td><td>&quot;Kuala Lumpur&quot;</td><td>null</td><td>null</td><td>null</td><td>null</td><td>null</td></tr><tr><td>2009.0</td><td>1000</td><td>&quot;Kepong&quot;</td><td>&quot;Apartment&quot;</td><td>3</td><td>1.0</td><td>2.0</td><td>948</td><td>&quot;Not Furnished&quot;</td><td>&quot;Kuala Lumpur&quot;</td><td>false</td><td>false</td><td>true</td><td>false</td><td>true</td></tr><tr><td>2016.0</td><td>1300</td><td>&quot;Seri Kembangan…</td><td>&quot;Service Reside…</td><td>3</td><td>2.0</td><td>2.0</td><td>1065</td><td>&quot;Partially Furn…</td><td>&quot;Selangor&quot;</td><td>true</td><td>false</td><td>false</td><td>false</td><td>true</td></tr><tr><td>null</td><td>1000</td><td>&quot;Bandar Tasik S…</td><td>&quot;Apartment&quot;</td><td>3</td><td>1.0</td><td>2.0</td><td>805</td><td>&quot;Not Furnished&quot;</td><td>&quot;Kuala Lumpur&quot;</td><td>false</td><td>false</td><td>true</td><td>false</td><td>true</td></tr><tr><td>null</td><td>900</td><td>&quot;Shah Alam&quot;</td><td>&quot;Apartment&quot;</td><td>1</td><td>null</td><td>1.0</td><td>430</td><td>&quot;Not Furnished&quot;</td><td>&quot;Selangor&quot;</td><td>null</td><td>null</td><td>null</td><td>null</td><td>null</td></tr><tr><td>null</td><td>2950</td><td>&quot;Solaris Dutama…</td><td>&quot;Condominium&quot;</td><td>2</td><td>2.0</td><td>2.0</td><td>1175</td><td>&quot;Fully Furnishe…</td><td>&quot;Kuala Lumpur&quot;</td><td>true</td><td>true</td><td>true</td><td>false</td><td>true</td></tr><tr><td>null</td><td>700</td><td>&quot;Damansara Dama…</td><td>&quot;Apartment&quot;</td><td>3</td><td>1.0</td><td>2.0</td><td>850</td><td>&quot;Not Furnished&quot;</td><td>&quot;Selangor&quot;</td><td>false</td><td>false</td><td>true</td><td>false</td><td>true</td></tr><tr><td>&hellip;</td><td>&hellip;</td><td>&hellip;</td><td>&hellip;</td><td>&hellip;</td><td>&hellip;</td><td>&hellip;</td><td>&hellip;</td><td>&hellip;</td><td>&hellip;</td><td>&hellip;</td><td>&hellip;</td><td>&hellip;</td><td>&hellip;</td><td>&hellip;</td></tr><tr><td>2019.0</td><td>750</td><td>&quot;Semenyih&quot;</td><td>&quot;Apartment&quot;</td><td>3</td><td>2.0</td><td>2.0</td><td>800</td><td>&quot;Partially Furn…</td><td>&quot;Selangor&quot;</td><td>false</td><td>false</td><td>false</td><td>false</td><td>true</td></tr><tr><td>2019.0</td><td>1400</td><td>&quot;Kepong&quot;</td><td>&quot;Condominium&quot;</td><td>3</td><td>2.0</td><td>2.0</td><td>1100</td><td>&quot;Not Furnished&quot;</td><td>&quot;Kuala Lumpur&quot;</td><td>null</td><td>null</td><td>null</td><td>null</td><td>null</td></tr><tr><td>null</td><td>1700</td><td>&quot;Cheras&quot;</td><td>&quot;Condominium&quot;</td><td>1</td><td>1.0</td><td>1.0</td><td>550</td><td>&quot;Fully Furnishe…</td><td>&quot;Kuala Lumpur&quot;</td><td>true</td><td>true</td><td>false</td><td>false</td><td>true</td></tr><tr><td>2009.0</td><td>1500</td><td>&quot;Cheras&quot;</td><td>&quot;Condominium&quot;</td><td>1</td><td>null</td><td>1.0</td><td>700</td><td>&quot;Fully Furnishe…</td><td>&quot;Kuala Lumpur&quot;</td><td>true</td><td>true</td><td>true</td><td>true</td><td>true</td></tr><tr><td>null</td><td>1800</td><td>&quot;Sentul&quot;</td><td>&quot;Apartment&quot;</td><td>3</td><td>null</td><td>2.0</td><td>1000</td><td>&quot;Fully Furnishe…</td><td>&quot;Kuala Lumpur&quot;</td><td>true</td><td>true</td><td>true</td><td>true</td><td>true</td></tr><tr><td>2022.0</td><td>2300</td><td>&quot;Setapak&quot;</td><td>&quot;Service Reside…</td><td>3</td><td>2.0</td><td>2.0</td><td>1000</td><td>&quot;Partially Furn…</td><td>&quot;Kuala Lumpur&quot;</td><td>false</td><td>true</td><td>true</td><td>false</td><td>true</td></tr><tr><td>2010.0</td><td>1200</td><td>&quot;Cheras&quot;</td><td>&quot;Apartment&quot;</td><td>3</td><td>null</td><td>2.0</td><td>890</td><td>&quot;Partially Furn…</td><td>&quot;Selangor&quot;</td><td>false</td><td>false</td><td>true</td><td>false</td><td>true</td></tr><tr><td>null</td><td>950</td><td>&quot;Semenyih&quot;</td><td>&quot;Apartment&quot;</td><td>3</td><td>1.0</td><td>2.0</td><td>810</td><td>&quot;Fully Furnishe…</td><td>&quot;Selangor&quot;</td><td>null</td><td>null</td><td>null</td><td>null</td><td>null</td></tr><tr><td>2019.0</td><td>1800</td><td>&quot;Kajang&quot;</td><td>&quot;Service Reside…</td><td>3</td><td>2.0</td><td>2.0</td><td>1163</td><td>&quot;Fully Furnishe…</td><td>&quot;Selangor&quot;</td><td>true</td><td>true</td><td>false</td><td>false</td><td>true</td></tr><tr><td>2019.0</td><td>1100</td><td>&quot;Kajang&quot;</td><td>&quot;Apartment&quot;</td><td>3</td><td>2.0</td><td>3.0</td><td>1044</td><td>&quot;Not Furnished&quot;</td><td>&quot;Selangor&quot;</td><td>null</td><td>null</td><td>null</td><td>null</td><td>null</td></tr><tr><td>2021.0</td><td>1400</td><td>&quot;Cheras&quot;</td><td>&quot;Service Reside…</td><td>2</td><td>1.0</td><td>2.0</td><td>650</td><td>&quot;Partially Furn…</td><td>&quot;Kuala Lumpur&quot;</td><td>true</td><td>true</td><td>true</td><td>false</td><td>true</td></tr><tr><td>null</td><td>1300</td><td>&quot;Ampang&quot;</td><td>&quot;Apartment&quot;</td><td>3</td><td>1.0</td><td>2.0</td><td>850</td><td>&quot;Not Furnished&quot;</td><td>&quot;Kuala Lumpur&quot;</td><td>null</td><td>null</td><td>null</td><td>null</td><td>null</td></tr></tbody></table></div>"
      ],
      "text/plain": [
       "shape: (19_636, 15)\n",
       "┌────────────┬────────────┬───┬────────────┬───┬────────────┬────────────┬────────────┬────────────┐\n",
       "│ completion ┆ monthly_re ┆ l ┆ property_t ┆ … ┆ Washing    ┆ Near KTM/L ┆ Internet_a ┆ Cooking    │\n",
       "│ _year      ┆ nt_rm      ┆ o ┆ ype        ┆   ┆ Machine_av ┆ RT_availab ┆ vailabilit ┆ Allowed_av │\n",
       "│ ---        ┆ ---        ┆ c ┆ ---        ┆   ┆ ailability ┆ ility      ┆ y          ┆ ailability │\n",
       "│ f64        ┆ i64        ┆ a ┆ str        ┆   ┆ ---        ┆ ---        ┆ ---        ┆ ---        │\n",
       "│            ┆            ┆ t ┆            ┆   ┆ bool       ┆ bool       ┆ bool       ┆ bool       │\n",
       "│            ┆            ┆ i ┆            ┆   ┆            ┆            ┆            ┆            │\n",
       "│            ┆            ┆ o ┆            ┆   ┆            ┆            ┆            ┆            │\n",
       "│            ┆            ┆ n ┆            ┆   ┆            ┆            ┆            ┆            │\n",
       "│            ┆            ┆ - ┆            ┆   ┆            ┆            ┆            ┆            │\n",
       "│            ┆            ┆ - ┆            ┆   ┆            ┆            ┆            ┆            │\n",
       "│            ┆            ┆ - ┆            ┆   ┆            ┆            ┆            ┆            │\n",
       "│            ┆            ┆ s ┆            ┆   ┆            ┆            ┆            ┆            │\n",
       "│            ┆            ┆ t ┆            ┆   ┆            ┆            ┆            ┆            │\n",
       "│            ┆            ┆ r ┆            ┆   ┆            ┆            ┆            ┆            │\n",
       "╞════════════╪════════════╪═══╪════════════╪═══╪════════════╪════════════╪════════════╪════════════╡\n",
       "│ null       ┆ 950        ┆ S ┆ Apartment  ┆ … ┆ null       ┆ null       ┆ null       ┆ null       │\n",
       "│            ┆            ┆ e ┆            ┆   ┆            ┆            ┆            ┆            │\n",
       "│            ┆            ┆ t ┆            ┆   ┆            ┆            ┆            ┆            │\n",
       "│            ┆            ┆ i ┆            ┆   ┆            ┆            ┆            ┆            │\n",
       "│            ┆            ┆ a ┆            ┆   ┆            ┆            ┆            ┆            │\n",
       "│            ┆            ┆ A ┆            ┆   ┆            ┆            ┆            ┆            │\n",
       "│            ┆            ┆ l ┆            ┆   ┆            ┆            ┆            ┆            │\n",
       "│            ┆            ┆ a ┆            ┆   ┆            ┆            ┆            ┆            │\n",
       "│            ┆            ┆ m ┆            ┆   ┆            ┆            ┆            ┆            │\n",
       "│ 2005.0     ┆ 1200       ┆ S ┆ Condominiu ┆ … ┆ null       ┆ null       ┆ null       ┆ null       │\n",
       "│            ┆            ┆ e ┆ m          ┆   ┆            ┆            ┆            ┆            │\n",
       "│            ┆            ┆ r ┆            ┆   ┆            ┆            ┆            ┆            │\n",
       "│            ┆            ┆ i ┆            ┆   ┆            ┆            ┆            ┆            │\n",
       "│            ┆            ┆ K ┆            ┆   ┆            ┆            ┆            ┆            │\n",
       "│            ┆            ┆ e ┆            ┆   ┆            ┆            ┆            ┆            │\n",
       "│            ┆            ┆ m ┆            ┆   ┆            ┆            ┆            ┆            │\n",
       "│            ┆            ┆ b ┆            ┆   ┆            ┆            ┆            ┆            │\n",
       "│            ┆            ┆ a ┆            ┆   ┆            ┆            ┆            ┆            │\n",
       "│            ┆            ┆ n ┆            ┆   ┆            ┆            ┆            ┆            │\n",
       "│            ┆            ┆ g ┆            ┆   ┆            ┆            ┆            ┆            │\n",
       "│            ┆            ┆ a ┆            ┆   ┆            ┆            ┆            ┆            │\n",
       "│            ┆            ┆ n ┆            ┆   ┆            ┆            ┆            ┆            │\n",
       "│ null       ┆ 1300       ┆ P ┆ Apartment  ┆ … ┆ true       ┆ true       ┆ false      ┆ true       │\n",
       "│            ┆            ┆ a ┆            ┆   ┆            ┆            ┆            ┆            │\n",
       "│            ┆            ┆ n ┆            ┆   ┆            ┆            ┆            ┆            │\n",
       "│            ┆            ┆ t ┆            ┆   ┆            ┆            ┆            ┆            │\n",
       "│            ┆            ┆ a ┆            ┆   ┆            ┆            ┆            ┆            │\n",
       "│            ┆            ┆ i ┆            ┆   ┆            ┆            ┆            ┆            │\n",
       "│ 2022.0     ┆ 1388       ┆ T ┆ Condominiu ┆ … ┆ true       ┆ true       ┆ true       ┆ true       │\n",
       "│            ┆            ┆ a ┆ m          ┆   ┆            ┆            ┆            ┆            │\n",
       "│            ┆            ┆ m ┆            ┆   ┆            ┆            ┆            ┆            │\n",
       "│            ┆            ┆ a ┆            ┆   ┆            ┆            ┆            ┆            │\n",
       "│            ┆            ┆ n ┆            ┆   ┆            ┆            ┆            ┆            │\n",
       "│            ┆            ┆ D ┆            ┆   ┆            ┆            ┆            ┆            │\n",
       "│            ┆            ┆ e ┆            ┆   ┆            ┆            ┆            ┆            │\n",
       "│            ┆            ┆ s ┆            ┆   ┆            ┆            ┆            ┆            │\n",
       "│            ┆            ┆ a ┆            ┆   ┆            ┆            ┆            ┆            │\n",
       "│ …          ┆ …          ┆ … ┆ …          ┆ … ┆ …          ┆ …          ┆ …          ┆ …          │\n",
       "│ 2019.0     ┆ 1800       ┆ K ┆ Service    ┆ … ┆ true       ┆ false      ┆ false      ┆ true       │\n",
       "│            ┆            ┆ a ┆ Residence  ┆   ┆            ┆            ┆            ┆            │\n",
       "│            ┆            ┆ j ┆            ┆   ┆            ┆            ┆            ┆            │\n",
       "│            ┆            ┆ a ┆            ┆   ┆            ┆            ┆            ┆            │\n",
       "│            ┆            ┆ n ┆            ┆   ┆            ┆            ┆            ┆            │\n",
       "│            ┆            ┆ g ┆            ┆   ┆            ┆            ┆            ┆            │\n",
       "│ 2019.0     ┆ 1100       ┆ K ┆ Apartment  ┆ … ┆ null       ┆ null       ┆ null       ┆ null       │\n",
       "│            ┆            ┆ a ┆            ┆   ┆            ┆            ┆            ┆            │\n",
       "│            ┆            ┆ j ┆            ┆   ┆            ┆            ┆            ┆            │\n",
       "│            ┆            ┆ a ┆            ┆   ┆            ┆            ┆            ┆            │\n",
       "│            ┆            ┆ n ┆            ┆   ┆            ┆            ┆            ┆            │\n",
       "│            ┆            ┆ g ┆            ┆   ┆            ┆            ┆            ┆            │\n",
       "│ 2021.0     ┆ 1400       ┆ C ┆ Service    ┆ … ┆ true       ┆ true       ┆ false      ┆ true       │\n",
       "│            ┆            ┆ h ┆ Residence  ┆   ┆            ┆            ┆            ┆            │\n",
       "│            ┆            ┆ e ┆            ┆   ┆            ┆            ┆            ┆            │\n",
       "│            ┆            ┆ r ┆            ┆   ┆            ┆            ┆            ┆            │\n",
       "│            ┆            ┆ a ┆            ┆   ┆            ┆            ┆            ┆            │\n",
       "│            ┆            ┆ s ┆            ┆   ┆            ┆            ┆            ┆            │\n",
       "│ null       ┆ 1300       ┆ A ┆ Apartment  ┆ … ┆ null       ┆ null       ┆ null       ┆ null       │\n",
       "│            ┆            ┆ m ┆            ┆   ┆            ┆            ┆            ┆            │\n",
       "│            ┆            ┆ p ┆            ┆   ┆            ┆            ┆            ┆            │\n",
       "│            ┆            ┆ a ┆            ┆   ┆            ┆            ┆            ┆            │\n",
       "│            ┆            ┆ n ┆            ┆   ┆            ┆            ┆            ┆            │\n",
       "│            ┆            ┆ g ┆            ┆   ┆            ┆            ┆            ┆            │\n",
       "└────────────┴────────────┴───┴────────────┴───┴────────────┴────────────┴────────────┴────────────┘"
      ]
     },
     "execution_count": 58,
     "metadata": {},
     "output_type": "execute_result"
    }
   ],
   "source": [
    "dfx_new"
   ]
  },
  {
   "cell_type": "code",
   "execution_count": 59,
   "id": "bcefa192-9ed7-48fb-a048-fb1e8a541498",
   "metadata": {},
   "outputs": [],
   "source": [
    "X_train, X_test, y_train, y_test = train_test_split(dfx_new.drop(\"monthly_rent_rm\").to_pandas(),\n",
    "                                                    dfx_new.select(pl.col(\"monthly_rent_rm\")).to_numpy(),\n",
    "                                                    test_size = 0.2,\n",
    "                                                    random_state = 123)"
   ]
  },
  {
   "cell_type": "code",
   "execution_count": 60,
   "id": "4545ed13-ff9e-40eb-a534-a82dbfd61e99",
   "metadata": {},
   "outputs": [
    {
     "name": "stdout",
     "output_type": "stream",
     "text": [
      "{None}\n",
      "set()\n",
      "set()\n"
     ]
    }
   ],
   "source": [
    "print(set(X_train.furnished.to_list()) - set(X_test.furnished.to_list()))\n",
    "print(set(X_train.location.to_list()) - set(X_test.location.to_list()))\n",
    "print(set(X_train.property_type.to_list()) - set(X_test.property_type.to_list()))"
   ]
  },
  {
   "cell_type": "code",
   "execution_count": 61,
   "id": "34687dc3-776b-4c43-bdde-d9fe8aa12232",
   "metadata": {},
   "outputs": [
    {
     "name": "stdout",
     "output_type": "stream",
     "text": [
      "98\n",
      "98\n",
      "98\n"
     ]
    }
   ],
   "source": [
    "print(dfx_new[\"location\"].n_unique())\n",
    "print(X_train.location.nunique())\n",
    "print(X_test.location.nunique())"
   ]
  },
  {
   "cell_type": "markdown",
   "id": "8db25d47-624d-46df-bc44-b87da4fd4bca",
   "metadata": {},
   "source": [
    "##### Training Data Imputation"
   ]
  },
  {
   "cell_type": "code",
   "execution_count": 62,
   "id": "83675221-1733-4bc9-afbf-2c0a9636a515",
   "metadata": {},
   "outputs": [
    {
     "data": {
      "text/plain": [
       "completion_year                 7184\n",
       "location                           0\n",
       "property_type                      0\n",
       "rooms                              3\n",
       "parking                         4471\n",
       "bathroom                           1\n",
       "size_sqft                          0\n",
       "furnished                          1\n",
       "region                             0\n",
       "Air-Cond_availability           4600\n",
       "Washing Machine_availability    4600\n",
       "Near KTM/LRT_availability       4600\n",
       "Internet_availability           4600\n",
       "Cooking Allowed_availability    4600\n",
       "dtype: int64"
      ]
     },
     "execution_count": 62,
     "metadata": {},
     "output_type": "execute_result"
    }
   ],
   "source": [
    "X_train.isna().sum()"
   ]
  },
  {
   "cell_type": "code",
   "execution_count": 63,
   "id": "652d8750-d48e-4d67-8aa2-73ad87da22e2",
   "metadata": {},
   "outputs": [],
   "source": [
    "X_train_num = X_train.select_dtypes(exclude='object')"
   ]
  },
  {
   "cell_type": "code",
   "execution_count": 64,
   "id": "fe51180d-0edc-40cd-a15b-3435643d7626",
   "metadata": {},
   "outputs": [
    {
     "data": {
      "text/plain": [
       "completion_year    7184\n",
       "rooms                 3\n",
       "parking            4471\n",
       "bathroom              1\n",
       "size_sqft             0\n",
       "dtype: int64"
      ]
     },
     "execution_count": 64,
     "metadata": {},
     "output_type": "execute_result"
    }
   ],
   "source": [
    "X_train_num.isna().sum()"
   ]
  },
  {
   "cell_type": "markdown",
   "id": "9357302e-e5e2-40a3-b6e8-845dad1e6169",
   "metadata": {},
   "source": [
    "##### \n",
    "We can fill completion year, rooms, parking and bathroom with mode"
   ]
  },
  {
   "cell_type": "code",
   "execution_count": 65,
   "id": "ddbf2705-e3d6-4acf-a862-b2a18d149e47",
   "metadata": {},
   "outputs": [],
   "source": [
    "from sklearn.impute import SimpleImputer\n",
    "def numericalImputation(X_train_num, strategy = 'most_frequent'):\n",
    "    # create imputer\n",
    "    imputer_num = SimpleImputer(missing_values = np.nan, strategy = strategy)\n",
    "    \n",
    "    # fitting\n",
    "    imputer_num.fit(X_train_num)\n",
    "\n",
    "    # transform\n",
    "    imputed_data = imputer_num.transform(X_train_num)\n",
    "    X_train_num_imputed = pd.DataFrame(imputed_data)\n",
    "\n",
    "    # making imputated and non-imputated columns are the same\n",
    "    X_train_num_imputed.columns = X_train_num.columns\n",
    "    X_train_num_imputed.index = X_train_num.index\n",
    "\n",
    "    return X_train_num_imputed, imputer_num"
   ]
  },
  {
   "cell_type": "code",
   "execution_count": 66,
   "id": "493eaf98-5bad-4974-9a4a-babcff8914fa",
   "metadata": {},
   "outputs": [],
   "source": [
    "def numericalImputationNone(X_train_num, strategy = 'most_frequent'):\n",
    "    # create imputer\n",
    "    imputer_num = SimpleImputer(missing_values = None, strategy = strategy)\n",
    "    \n",
    "    # fitting\n",
    "    imputer_num.fit(X_train_num)\n",
    "\n",
    "    # transform\n",
    "    imputed_data = imputer_num.transform(X_train_num)\n",
    "    X_train_num_imputed = pd.DataFrame(imputed_data)\n",
    "\n",
    "    # making imputated and non-imputated columns are the same\n",
    "    X_train_num_imputed.columns = X_train_num.columns\n",
    "    X_train_num_imputed.index = X_train_num.index\n",
    "\n",
    "    return X_train_num_imputed, imputer_num"
   ]
  },
  {
   "cell_type": "code",
   "execution_count": 67,
   "id": "94150007-0bac-4752-a13f-1ed867ffd30f",
   "metadata": {},
   "outputs": [
    {
     "data": {
      "text/plain": [
       "completion_year    0\n",
       "rooms              0\n",
       "parking            0\n",
       "bathroom           0\n",
       "size_sqft          0\n",
       "dtype: int64"
      ]
     },
     "execution_count": 67,
     "metadata": {},
     "output_type": "execute_result"
    }
   ],
   "source": [
    "X_train_num, imputer_num = numericalImputation(X_train_num, strategy='most_frequent')\n",
    "X_train_num.isna().sum()"
   ]
  },
  {
   "cell_type": "markdown",
   "id": "0a4ae7a3-c902-44bd-b815-7f047bee6f43",
   "metadata": {},
   "source": [
    "##### Categorical Data"
   ]
  },
  {
   "cell_type": "code",
   "execution_count": 68,
   "id": "291bc050-4a43-4f13-b220-6955e0b01e49",
   "metadata": {},
   "outputs": [],
   "source": [
    "X_train_cat = X_train.select_dtypes(include='object')"
   ]
  },
  {
   "cell_type": "code",
   "execution_count": 69,
   "id": "60529093-6663-45ec-9ad5-2ceae7259747",
   "metadata": {},
   "outputs": [
    {
     "data": {
      "text/html": [
       "<div>\n",
       "<style scoped>\n",
       "    .dataframe tbody tr th:only-of-type {\n",
       "        vertical-align: middle;\n",
       "    }\n",
       "\n",
       "    .dataframe tbody tr th {\n",
       "        vertical-align: top;\n",
       "    }\n",
       "\n",
       "    .dataframe thead th {\n",
       "        text-align: right;\n",
       "    }\n",
       "</style>\n",
       "<table border=\"1\" class=\"dataframe\">\n",
       "  <thead>\n",
       "    <tr style=\"text-align: right;\">\n",
       "      <th></th>\n",
       "      <th>location</th>\n",
       "      <th>property_type</th>\n",
       "      <th>furnished</th>\n",
       "      <th>region</th>\n",
       "      <th>Air-Cond_availability</th>\n",
       "      <th>Washing Machine_availability</th>\n",
       "      <th>Near KTM/LRT_availability</th>\n",
       "      <th>Internet_availability</th>\n",
       "      <th>Cooking Allowed_availability</th>\n",
       "    </tr>\n",
       "  </thead>\n",
       "  <tbody>\n",
       "    <tr>\n",
       "      <th>11478</th>\n",
       "      <td>Bukit Jalil</td>\n",
       "      <td>Condominium</td>\n",
       "      <td>Not Furnished</td>\n",
       "      <td>Kuala Lumpur</td>\n",
       "      <td>True</td>\n",
       "      <td>False</td>\n",
       "      <td>True</td>\n",
       "      <td>False</td>\n",
       "      <td>False</td>\n",
       "    </tr>\n",
       "    <tr>\n",
       "      <th>12682</th>\n",
       "      <td>Setia Alam</td>\n",
       "      <td>Service Residence</td>\n",
       "      <td>Partially Furnished</td>\n",
       "      <td>Selangor</td>\n",
       "      <td>None</td>\n",
       "      <td>None</td>\n",
       "      <td>None</td>\n",
       "      <td>None</td>\n",
       "      <td>None</td>\n",
       "    </tr>\n",
       "    <tr>\n",
       "      <th>3238</th>\n",
       "      <td>Keramat</td>\n",
       "      <td>Condominium</td>\n",
       "      <td>Partially Furnished</td>\n",
       "      <td>Kuala Lumpur</td>\n",
       "      <td>None</td>\n",
       "      <td>None</td>\n",
       "      <td>None</td>\n",
       "      <td>None</td>\n",
       "      <td>None</td>\n",
       "    </tr>\n",
       "    <tr>\n",
       "      <th>6272</th>\n",
       "      <td>Bandar Sunway</td>\n",
       "      <td>Apartment</td>\n",
       "      <td>Partially Furnished</td>\n",
       "      <td>Selangor</td>\n",
       "      <td>None</td>\n",
       "      <td>None</td>\n",
       "      <td>None</td>\n",
       "      <td>None</td>\n",
       "      <td>None</td>\n",
       "    </tr>\n",
       "    <tr>\n",
       "      <th>13753</th>\n",
       "      <td>Cheras</td>\n",
       "      <td>Service Residence</td>\n",
       "      <td>Partially Furnished</td>\n",
       "      <td>Kuala Lumpur</td>\n",
       "      <td>True</td>\n",
       "      <td>False</td>\n",
       "      <td>True</td>\n",
       "      <td>False</td>\n",
       "      <td>True</td>\n",
       "    </tr>\n",
       "    <tr>\n",
       "      <th>...</th>\n",
       "      <td>...</td>\n",
       "      <td>...</td>\n",
       "      <td>...</td>\n",
       "      <td>...</td>\n",
       "      <td>...</td>\n",
       "      <td>...</td>\n",
       "      <td>...</td>\n",
       "      <td>...</td>\n",
       "      <td>...</td>\n",
       "    </tr>\n",
       "    <tr>\n",
       "      <th>13435</th>\n",
       "      <td>Setapak</td>\n",
       "      <td>Apartment</td>\n",
       "      <td>Partially Furnished</td>\n",
       "      <td>Kuala Lumpur</td>\n",
       "      <td>True</td>\n",
       "      <td>False</td>\n",
       "      <td>True</td>\n",
       "      <td>False</td>\n",
       "      <td>True</td>\n",
       "    </tr>\n",
       "    <tr>\n",
       "      <th>7763</th>\n",
       "      <td>Ara Damansara</td>\n",
       "      <td>Service Residence</td>\n",
       "      <td>Fully Furnished</td>\n",
       "      <td>Selangor</td>\n",
       "      <td>True</td>\n",
       "      <td>True</td>\n",
       "      <td>True</td>\n",
       "      <td>False</td>\n",
       "      <td>True</td>\n",
       "    </tr>\n",
       "    <tr>\n",
       "      <th>15377</th>\n",
       "      <td>Rawang</td>\n",
       "      <td>Apartment</td>\n",
       "      <td>Fully Furnished</td>\n",
       "      <td>Selangor</td>\n",
       "      <td>True</td>\n",
       "      <td>True</td>\n",
       "      <td>False</td>\n",
       "      <td>False</td>\n",
       "      <td>True</td>\n",
       "    </tr>\n",
       "    <tr>\n",
       "      <th>17730</th>\n",
       "      <td>Segambut</td>\n",
       "      <td>Service Residence</td>\n",
       "      <td>Fully Furnished</td>\n",
       "      <td>Kuala Lumpur</td>\n",
       "      <td>True</td>\n",
       "      <td>True</td>\n",
       "      <td>True</td>\n",
       "      <td>False</td>\n",
       "      <td>True</td>\n",
       "    </tr>\n",
       "    <tr>\n",
       "      <th>15725</th>\n",
       "      <td>Setia Alam</td>\n",
       "      <td>Apartment</td>\n",
       "      <td>Fully Furnished</td>\n",
       "      <td>Selangor</td>\n",
       "      <td>True</td>\n",
       "      <td>True</td>\n",
       "      <td>False</td>\n",
       "      <td>False</td>\n",
       "      <td>True</td>\n",
       "    </tr>\n",
       "  </tbody>\n",
       "</table>\n",
       "<p>15708 rows × 9 columns</p>\n",
       "</div>"
      ],
      "text/plain": [
       "            location      property_type            furnished        region   \n",
       "11478    Bukit Jalil        Condominium        Not Furnished  Kuala Lumpur  \\\n",
       "12682     Setia Alam  Service Residence  Partially Furnished      Selangor   \n",
       "3238         Keramat        Condominium  Partially Furnished  Kuala Lumpur   \n",
       "6272   Bandar Sunway          Apartment  Partially Furnished      Selangor   \n",
       "13753         Cheras  Service Residence  Partially Furnished  Kuala Lumpur   \n",
       "...              ...                ...                  ...           ...   \n",
       "13435        Setapak          Apartment  Partially Furnished  Kuala Lumpur   \n",
       "7763   Ara Damansara  Service Residence      Fully Furnished      Selangor   \n",
       "15377         Rawang          Apartment      Fully Furnished      Selangor   \n",
       "17730       Segambut  Service Residence      Fully Furnished  Kuala Lumpur   \n",
       "15725     Setia Alam          Apartment      Fully Furnished      Selangor   \n",
       "\n",
       "      Air-Cond_availability Washing Machine_availability   \n",
       "11478                  True                        False  \\\n",
       "12682                  None                         None   \n",
       "3238                   None                         None   \n",
       "6272                   None                         None   \n",
       "13753                  True                        False   \n",
       "...                     ...                          ...   \n",
       "13435                  True                        False   \n",
       "7763                   True                         True   \n",
       "15377                  True                         True   \n",
       "17730                  True                         True   \n",
       "15725                  True                         True   \n",
       "\n",
       "      Near KTM/LRT_availability Internet_availability   \n",
       "11478                      True                 False  \\\n",
       "12682                      None                  None   \n",
       "3238                       None                  None   \n",
       "6272                       None                  None   \n",
       "13753                      True                 False   \n",
       "...                         ...                   ...   \n",
       "13435                      True                 False   \n",
       "7763                       True                 False   \n",
       "15377                     False                 False   \n",
       "17730                      True                 False   \n",
       "15725                     False                 False   \n",
       "\n",
       "      Cooking Allowed_availability  \n",
       "11478                        False  \n",
       "12682                         None  \n",
       "3238                          None  \n",
       "6272                          None  \n",
       "13753                         True  \n",
       "...                            ...  \n",
       "13435                         True  \n",
       "7763                          True  \n",
       "15377                         True  \n",
       "17730                         True  \n",
       "15725                         True  \n",
       "\n",
       "[15708 rows x 9 columns]"
      ]
     },
     "execution_count": 69,
     "metadata": {},
     "output_type": "execute_result"
    }
   ],
   "source": [
    "X_train_cat"
   ]
  },
  {
   "cell_type": "code",
   "execution_count": 70,
   "id": "6ab448bb-a6b5-4191-a59e-9214776dda12",
   "metadata": {},
   "outputs": [
    {
     "data": {
      "text/plain": [
       "location                           0\n",
       "property_type                      0\n",
       "furnished                          1\n",
       "region                             0\n",
       "Air-Cond_availability           4600\n",
       "Washing Machine_availability    4600\n",
       "Near KTM/LRT_availability       4600\n",
       "Internet_availability           4600\n",
       "Cooking Allowed_availability    4600\n",
       "dtype: int64"
      ]
     },
     "execution_count": 70,
     "metadata": {},
     "output_type": "execute_result"
    }
   ],
   "source": [
    "X_train_cat.isna().sum()"
   ]
  },
  {
   "cell_type": "markdown",
   "id": "049443b4-82d8-4826-8363-6e1b4dda730c",
   "metadata": {},
   "source": [
    "#### \n",
    "Impute with mode"
   ]
  },
  {
   "cell_type": "code",
   "execution_count": 71,
   "id": "eea8865b-c90e-46f2-8c8e-87950054d006",
   "metadata": {},
   "outputs": [
    {
     "data": {
      "text/plain": [
       "location                        0\n",
       "property_type                   0\n",
       "furnished                       0\n",
       "region                          0\n",
       "Air-Cond_availability           0\n",
       "Washing Machine_availability    0\n",
       "Near KTM/LRT_availability       0\n",
       "Internet_availability           0\n",
       "Cooking Allowed_availability    0\n",
       "dtype: int64"
      ]
     },
     "execution_count": 71,
     "metadata": {},
     "output_type": "execute_result"
    }
   ],
   "source": [
    "X_train_cat, imputer_num = numericalImputationNone(X_train_cat, strategy='most_frequent')\n",
    "X_train_cat.isna().sum()"
   ]
  },
  {
   "cell_type": "code",
   "execution_count": 72,
   "id": "3f6885e8-ee63-4210-b904-693d1920357f",
   "metadata": {},
   "outputs": [
    {
     "data": {
      "text/html": [
       "<style>#sk-container-id-1 {color: black;background-color: white;}#sk-container-id-1 pre{padding: 0;}#sk-container-id-1 div.sk-toggleable {background-color: white;}#sk-container-id-1 label.sk-toggleable__label {cursor: pointer;display: block;width: 100%;margin-bottom: 0;padding: 0.3em;box-sizing: border-box;text-align: center;}#sk-container-id-1 label.sk-toggleable__label-arrow:before {content: \"▸\";float: left;margin-right: 0.25em;color: #696969;}#sk-container-id-1 label.sk-toggleable__label-arrow:hover:before {color: black;}#sk-container-id-1 div.sk-estimator:hover label.sk-toggleable__label-arrow:before {color: black;}#sk-container-id-1 div.sk-toggleable__content {max-height: 0;max-width: 0;overflow: hidden;text-align: left;background-color: #f0f8ff;}#sk-container-id-1 div.sk-toggleable__content pre {margin: 0.2em;color: black;border-radius: 0.25em;background-color: #f0f8ff;}#sk-container-id-1 input.sk-toggleable__control:checked~div.sk-toggleable__content {max-height: 200px;max-width: 100%;overflow: auto;}#sk-container-id-1 input.sk-toggleable__control:checked~label.sk-toggleable__label-arrow:before {content: \"▾\";}#sk-container-id-1 div.sk-estimator input.sk-toggleable__control:checked~label.sk-toggleable__label {background-color: #d4ebff;}#sk-container-id-1 div.sk-label input.sk-toggleable__control:checked~label.sk-toggleable__label {background-color: #d4ebff;}#sk-container-id-1 input.sk-hidden--visually {border: 0;clip: rect(1px 1px 1px 1px);clip: rect(1px, 1px, 1px, 1px);height: 1px;margin: -1px;overflow: hidden;padding: 0;position: absolute;width: 1px;}#sk-container-id-1 div.sk-estimator {font-family: monospace;background-color: #f0f8ff;border: 1px dotted black;border-radius: 0.25em;box-sizing: border-box;margin-bottom: 0.5em;}#sk-container-id-1 div.sk-estimator:hover {background-color: #d4ebff;}#sk-container-id-1 div.sk-parallel-item::after {content: \"\";width: 100%;border-bottom: 1px solid gray;flex-grow: 1;}#sk-container-id-1 div.sk-label:hover label.sk-toggleable__label {background-color: #d4ebff;}#sk-container-id-1 div.sk-serial::before {content: \"\";position: absolute;border-left: 1px solid gray;box-sizing: border-box;top: 0;bottom: 0;left: 50%;z-index: 0;}#sk-container-id-1 div.sk-serial {display: flex;flex-direction: column;align-items: center;background-color: white;padding-right: 0.2em;padding-left: 0.2em;position: relative;}#sk-container-id-1 div.sk-item {position: relative;z-index: 1;}#sk-container-id-1 div.sk-parallel {display: flex;align-items: stretch;justify-content: center;background-color: white;position: relative;}#sk-container-id-1 div.sk-item::before, #sk-container-id-1 div.sk-parallel-item::before {content: \"\";position: absolute;border-left: 1px solid gray;box-sizing: border-box;top: 0;bottom: 0;left: 50%;z-index: -1;}#sk-container-id-1 div.sk-parallel-item {display: flex;flex-direction: column;z-index: 1;position: relative;background-color: white;}#sk-container-id-1 div.sk-parallel-item:first-child::after {align-self: flex-end;width: 50%;}#sk-container-id-1 div.sk-parallel-item:last-child::after {align-self: flex-start;width: 50%;}#sk-container-id-1 div.sk-parallel-item:only-child::after {width: 0;}#sk-container-id-1 div.sk-dashed-wrapped {border: 1px dashed gray;margin: 0 0.4em 0.5em 0.4em;box-sizing: border-box;padding-bottom: 0.4em;background-color: white;}#sk-container-id-1 div.sk-label label {font-family: monospace;font-weight: bold;display: inline-block;line-height: 1.2em;}#sk-container-id-1 div.sk-label-container {text-align: center;}#sk-container-id-1 div.sk-container {/* jupyter's `normalize.less` sets `[hidden] { display: none; }` but bootstrap.min.css set `[hidden] { display: none !important; }` so we also need the `!important` here to be able to override the default hidden behavior on the sphinx rendered scikit-learn.org. See: https://github.com/scikit-learn/scikit-learn/issues/21755 */display: inline-block !important;position: relative;}#sk-container-id-1 div.sk-text-repr-fallback {display: none;}</style><div id=\"sk-container-id-1\" class=\"sk-top-container\"><div class=\"sk-text-repr-fallback\"><pre>SimpleImputer(missing_values=None, strategy=&#x27;most_frequent&#x27;)</pre><b>In a Jupyter environment, please rerun this cell to show the HTML representation or trust the notebook. <br />On GitHub, the HTML representation is unable to render, please try loading this page with nbviewer.org.</b></div><div class=\"sk-container\" hidden><div class=\"sk-item\"><div class=\"sk-estimator sk-toggleable\"><input class=\"sk-toggleable__control sk-hidden--visually\" id=\"sk-estimator-id-1\" type=\"checkbox\" checked><label for=\"sk-estimator-id-1\" class=\"sk-toggleable__label sk-toggleable__label-arrow\">SimpleImputer</label><div class=\"sk-toggleable__content\"><pre>SimpleImputer(missing_values=None, strategy=&#x27;most_frequent&#x27;)</pre></div></div></div></div></div>"
      ],
      "text/plain": [
       "SimpleImputer(missing_values=None, strategy='most_frequent')"
      ]
     },
     "execution_count": 72,
     "metadata": {},
     "output_type": "execute_result"
    }
   ],
   "source": [
    "imputer_num"
   ]
  },
  {
   "cell_type": "markdown",
   "id": "dae65815-2e71-4769-b847-69d4941141f3",
   "metadata": {},
   "source": [
    "##### Preprocessing Categorical Variable"
   ]
  },
  {
   "cell_type": "code",
   "execution_count": 73,
   "id": "b1b35ae6-59b9-458e-8d37-ebcdadb65269",
   "metadata": {},
   "outputs": [],
   "source": [
    "X_train_cat_ohe =  pd.get_dummies(X_train_cat)"
   ]
  },
  {
   "cell_type": "code",
   "execution_count": 74,
   "id": "76896f1f-c892-482a-b3a0-ef85a1c3cb11",
   "metadata": {},
   "outputs": [
    {
     "data": {
      "text/html": [
       "<div>\n",
       "<style scoped>\n",
       "    .dataframe tbody tr th:only-of-type {\n",
       "        vertical-align: middle;\n",
       "    }\n",
       "\n",
       "    .dataframe tbody tr th {\n",
       "        vertical-align: top;\n",
       "    }\n",
       "\n",
       "    .dataframe thead th {\n",
       "        text-align: right;\n",
       "    }\n",
       "</style>\n",
       "<table border=\"1\" class=\"dataframe\">\n",
       "  <thead>\n",
       "    <tr style=\"text-align: right;\">\n",
       "      <th></th>\n",
       "      <th>location_360</th>\n",
       "      <th>location_389</th>\n",
       "      <th>location_639</th>\n",
       "      <th>location_Alam Impian</th>\n",
       "      <th>location_Ampang</th>\n",
       "      <th>location_Ampang Hilir</th>\n",
       "      <th>location_Ara Damansara</th>\n",
       "      <th>location_Balakong</th>\n",
       "      <th>location_Bandar Bukit Raja</th>\n",
       "      <th>location_Bandar Kinrara</th>\n",
       "      <th>...</th>\n",
       "      <th>Air-Cond_availability_False</th>\n",
       "      <th>Air-Cond_availability_True</th>\n",
       "      <th>Washing Machine_availability_False</th>\n",
       "      <th>Washing Machine_availability_True</th>\n",
       "      <th>Near KTM/LRT_availability_False</th>\n",
       "      <th>Near KTM/LRT_availability_True</th>\n",
       "      <th>Internet_availability_False</th>\n",
       "      <th>Internet_availability_True</th>\n",
       "      <th>Cooking Allowed_availability_False</th>\n",
       "      <th>Cooking Allowed_availability_True</th>\n",
       "    </tr>\n",
       "  </thead>\n",
       "  <tbody>\n",
       "    <tr>\n",
       "      <th>11478</th>\n",
       "      <td>False</td>\n",
       "      <td>False</td>\n",
       "      <td>False</td>\n",
       "      <td>False</td>\n",
       "      <td>False</td>\n",
       "      <td>False</td>\n",
       "      <td>False</td>\n",
       "      <td>False</td>\n",
       "      <td>False</td>\n",
       "      <td>False</td>\n",
       "      <td>...</td>\n",
       "      <td>False</td>\n",
       "      <td>True</td>\n",
       "      <td>True</td>\n",
       "      <td>False</td>\n",
       "      <td>False</td>\n",
       "      <td>True</td>\n",
       "      <td>True</td>\n",
       "      <td>False</td>\n",
       "      <td>True</td>\n",
       "      <td>False</td>\n",
       "    </tr>\n",
       "    <tr>\n",
       "      <th>12682</th>\n",
       "      <td>False</td>\n",
       "      <td>False</td>\n",
       "      <td>False</td>\n",
       "      <td>False</td>\n",
       "      <td>False</td>\n",
       "      <td>False</td>\n",
       "      <td>False</td>\n",
       "      <td>False</td>\n",
       "      <td>False</td>\n",
       "      <td>False</td>\n",
       "      <td>...</td>\n",
       "      <td>False</td>\n",
       "      <td>True</td>\n",
       "      <td>False</td>\n",
       "      <td>True</td>\n",
       "      <td>False</td>\n",
       "      <td>True</td>\n",
       "      <td>True</td>\n",
       "      <td>False</td>\n",
       "      <td>False</td>\n",
       "      <td>True</td>\n",
       "    </tr>\n",
       "    <tr>\n",
       "      <th>3238</th>\n",
       "      <td>False</td>\n",
       "      <td>False</td>\n",
       "      <td>False</td>\n",
       "      <td>False</td>\n",
       "      <td>False</td>\n",
       "      <td>False</td>\n",
       "      <td>False</td>\n",
       "      <td>False</td>\n",
       "      <td>False</td>\n",
       "      <td>False</td>\n",
       "      <td>...</td>\n",
       "      <td>False</td>\n",
       "      <td>True</td>\n",
       "      <td>False</td>\n",
       "      <td>True</td>\n",
       "      <td>False</td>\n",
       "      <td>True</td>\n",
       "      <td>True</td>\n",
       "      <td>False</td>\n",
       "      <td>False</td>\n",
       "      <td>True</td>\n",
       "    </tr>\n",
       "    <tr>\n",
       "      <th>6272</th>\n",
       "      <td>False</td>\n",
       "      <td>False</td>\n",
       "      <td>False</td>\n",
       "      <td>False</td>\n",
       "      <td>False</td>\n",
       "      <td>False</td>\n",
       "      <td>False</td>\n",
       "      <td>False</td>\n",
       "      <td>False</td>\n",
       "      <td>False</td>\n",
       "      <td>...</td>\n",
       "      <td>False</td>\n",
       "      <td>True</td>\n",
       "      <td>False</td>\n",
       "      <td>True</td>\n",
       "      <td>False</td>\n",
       "      <td>True</td>\n",
       "      <td>True</td>\n",
       "      <td>False</td>\n",
       "      <td>False</td>\n",
       "      <td>True</td>\n",
       "    </tr>\n",
       "    <tr>\n",
       "      <th>13753</th>\n",
       "      <td>False</td>\n",
       "      <td>False</td>\n",
       "      <td>False</td>\n",
       "      <td>False</td>\n",
       "      <td>False</td>\n",
       "      <td>False</td>\n",
       "      <td>False</td>\n",
       "      <td>False</td>\n",
       "      <td>False</td>\n",
       "      <td>False</td>\n",
       "      <td>...</td>\n",
       "      <td>False</td>\n",
       "      <td>True</td>\n",
       "      <td>True</td>\n",
       "      <td>False</td>\n",
       "      <td>False</td>\n",
       "      <td>True</td>\n",
       "      <td>True</td>\n",
       "      <td>False</td>\n",
       "      <td>False</td>\n",
       "      <td>True</td>\n",
       "    </tr>\n",
       "    <tr>\n",
       "      <th>...</th>\n",
       "      <td>...</td>\n",
       "      <td>...</td>\n",
       "      <td>...</td>\n",
       "      <td>...</td>\n",
       "      <td>...</td>\n",
       "      <td>...</td>\n",
       "      <td>...</td>\n",
       "      <td>...</td>\n",
       "      <td>...</td>\n",
       "      <td>...</td>\n",
       "      <td>...</td>\n",
       "      <td>...</td>\n",
       "      <td>...</td>\n",
       "      <td>...</td>\n",
       "      <td>...</td>\n",
       "      <td>...</td>\n",
       "      <td>...</td>\n",
       "      <td>...</td>\n",
       "      <td>...</td>\n",
       "      <td>...</td>\n",
       "      <td>...</td>\n",
       "    </tr>\n",
       "    <tr>\n",
       "      <th>13435</th>\n",
       "      <td>False</td>\n",
       "      <td>False</td>\n",
       "      <td>False</td>\n",
       "      <td>False</td>\n",
       "      <td>False</td>\n",
       "      <td>False</td>\n",
       "      <td>False</td>\n",
       "      <td>False</td>\n",
       "      <td>False</td>\n",
       "      <td>False</td>\n",
       "      <td>...</td>\n",
       "      <td>False</td>\n",
       "      <td>True</td>\n",
       "      <td>True</td>\n",
       "      <td>False</td>\n",
       "      <td>False</td>\n",
       "      <td>True</td>\n",
       "      <td>True</td>\n",
       "      <td>False</td>\n",
       "      <td>False</td>\n",
       "      <td>True</td>\n",
       "    </tr>\n",
       "    <tr>\n",
       "      <th>7763</th>\n",
       "      <td>False</td>\n",
       "      <td>False</td>\n",
       "      <td>False</td>\n",
       "      <td>False</td>\n",
       "      <td>False</td>\n",
       "      <td>False</td>\n",
       "      <td>True</td>\n",
       "      <td>False</td>\n",
       "      <td>False</td>\n",
       "      <td>False</td>\n",
       "      <td>...</td>\n",
       "      <td>False</td>\n",
       "      <td>True</td>\n",
       "      <td>False</td>\n",
       "      <td>True</td>\n",
       "      <td>False</td>\n",
       "      <td>True</td>\n",
       "      <td>True</td>\n",
       "      <td>False</td>\n",
       "      <td>False</td>\n",
       "      <td>True</td>\n",
       "    </tr>\n",
       "    <tr>\n",
       "      <th>15377</th>\n",
       "      <td>False</td>\n",
       "      <td>False</td>\n",
       "      <td>False</td>\n",
       "      <td>False</td>\n",
       "      <td>False</td>\n",
       "      <td>False</td>\n",
       "      <td>False</td>\n",
       "      <td>False</td>\n",
       "      <td>False</td>\n",
       "      <td>False</td>\n",
       "      <td>...</td>\n",
       "      <td>False</td>\n",
       "      <td>True</td>\n",
       "      <td>False</td>\n",
       "      <td>True</td>\n",
       "      <td>True</td>\n",
       "      <td>False</td>\n",
       "      <td>True</td>\n",
       "      <td>False</td>\n",
       "      <td>False</td>\n",
       "      <td>True</td>\n",
       "    </tr>\n",
       "    <tr>\n",
       "      <th>17730</th>\n",
       "      <td>False</td>\n",
       "      <td>False</td>\n",
       "      <td>False</td>\n",
       "      <td>False</td>\n",
       "      <td>False</td>\n",
       "      <td>False</td>\n",
       "      <td>False</td>\n",
       "      <td>False</td>\n",
       "      <td>False</td>\n",
       "      <td>False</td>\n",
       "      <td>...</td>\n",
       "      <td>False</td>\n",
       "      <td>True</td>\n",
       "      <td>False</td>\n",
       "      <td>True</td>\n",
       "      <td>False</td>\n",
       "      <td>True</td>\n",
       "      <td>True</td>\n",
       "      <td>False</td>\n",
       "      <td>False</td>\n",
       "      <td>True</td>\n",
       "    </tr>\n",
       "    <tr>\n",
       "      <th>15725</th>\n",
       "      <td>False</td>\n",
       "      <td>False</td>\n",
       "      <td>False</td>\n",
       "      <td>False</td>\n",
       "      <td>False</td>\n",
       "      <td>False</td>\n",
       "      <td>False</td>\n",
       "      <td>False</td>\n",
       "      <td>False</td>\n",
       "      <td>False</td>\n",
       "      <td>...</td>\n",
       "      <td>False</td>\n",
       "      <td>True</td>\n",
       "      <td>False</td>\n",
       "      <td>True</td>\n",
       "      <td>True</td>\n",
       "      <td>False</td>\n",
       "      <td>True</td>\n",
       "      <td>False</td>\n",
       "      <td>False</td>\n",
       "      <td>True</td>\n",
       "    </tr>\n",
       "  </tbody>\n",
       "</table>\n",
       "<p>15708 rows × 120 columns</p>\n",
       "</div>"
      ],
      "text/plain": [
       "       location_360  location_389  location_639  location_Alam Impian   \n",
       "11478         False         False         False                 False  \\\n",
       "12682         False         False         False                 False   \n",
       "3238          False         False         False                 False   \n",
       "6272          False         False         False                 False   \n",
       "13753         False         False         False                 False   \n",
       "...             ...           ...           ...                   ...   \n",
       "13435         False         False         False                 False   \n",
       "7763          False         False         False                 False   \n",
       "15377         False         False         False                 False   \n",
       "17730         False         False         False                 False   \n",
       "15725         False         False         False                 False   \n",
       "\n",
       "       location_Ampang  location_Ampang Hilir  location_Ara Damansara   \n",
       "11478            False                  False                   False  \\\n",
       "12682            False                  False                   False   \n",
       "3238             False                  False                   False   \n",
       "6272             False                  False                   False   \n",
       "13753            False                  False                   False   \n",
       "...                ...                    ...                     ...   \n",
       "13435            False                  False                   False   \n",
       "7763             False                  False                    True   \n",
       "15377            False                  False                   False   \n",
       "17730            False                  False                   False   \n",
       "15725            False                  False                   False   \n",
       "\n",
       "       location_Balakong  location_Bandar Bukit Raja  location_Bandar Kinrara   \n",
       "11478              False                       False                    False  \\\n",
       "12682              False                       False                    False   \n",
       "3238               False                       False                    False   \n",
       "6272               False                       False                    False   \n",
       "13753              False                       False                    False   \n",
       "...                  ...                         ...                      ...   \n",
       "13435              False                       False                    False   \n",
       "7763               False                       False                    False   \n",
       "15377              False                       False                    False   \n",
       "17730              False                       False                    False   \n",
       "15725              False                       False                    False   \n",
       "\n",
       "       ...  Air-Cond_availability_False  Air-Cond_availability_True   \n",
       "11478  ...                        False                        True  \\\n",
       "12682  ...                        False                        True   \n",
       "3238   ...                        False                        True   \n",
       "6272   ...                        False                        True   \n",
       "13753  ...                        False                        True   \n",
       "...    ...                          ...                         ...   \n",
       "13435  ...                        False                        True   \n",
       "7763   ...                        False                        True   \n",
       "15377  ...                        False                        True   \n",
       "17730  ...                        False                        True   \n",
       "15725  ...                        False                        True   \n",
       "\n",
       "       Washing Machine_availability_False  Washing Machine_availability_True   \n",
       "11478                                True                              False  \\\n",
       "12682                               False                               True   \n",
       "3238                                False                               True   \n",
       "6272                                False                               True   \n",
       "13753                                True                              False   \n",
       "...                                   ...                                ...   \n",
       "13435                                True                              False   \n",
       "7763                                False                               True   \n",
       "15377                               False                               True   \n",
       "17730                               False                               True   \n",
       "15725                               False                               True   \n",
       "\n",
       "       Near KTM/LRT_availability_False  Near KTM/LRT_availability_True   \n",
       "11478                            False                            True  \\\n",
       "12682                            False                            True   \n",
       "3238                             False                            True   \n",
       "6272                             False                            True   \n",
       "13753                            False                            True   \n",
       "...                                ...                             ...   \n",
       "13435                            False                            True   \n",
       "7763                             False                            True   \n",
       "15377                             True                           False   \n",
       "17730                            False                            True   \n",
       "15725                             True                           False   \n",
       "\n",
       "       Internet_availability_False  Internet_availability_True   \n",
       "11478                         True                       False  \\\n",
       "12682                         True                       False   \n",
       "3238                          True                       False   \n",
       "6272                          True                       False   \n",
       "13753                         True                       False   \n",
       "...                            ...                         ...   \n",
       "13435                         True                       False   \n",
       "7763                          True                       False   \n",
       "15377                         True                       False   \n",
       "17730                         True                       False   \n",
       "15725                         True                       False   \n",
       "\n",
       "       Cooking Allowed_availability_False  Cooking Allowed_availability_True  \n",
       "11478                                True                              False  \n",
       "12682                               False                               True  \n",
       "3238                                False                               True  \n",
       "6272                                False                               True  \n",
       "13753                               False                               True  \n",
       "...                                   ...                                ...  \n",
       "13435                               False                               True  \n",
       "7763                                False                               True  \n",
       "15377                               False                               True  \n",
       "17730                               False                               True  \n",
       "15725                               False                               True  \n",
       "\n",
       "[15708 rows x 120 columns]"
      ]
     },
     "execution_count": 74,
     "metadata": {},
     "output_type": "execute_result"
    }
   ],
   "source": [
    "X_train_cat_ohe"
   ]
  },
  {
   "cell_type": "code",
   "execution_count": 75,
   "id": "9a0e4205-a200-42d1-8ec1-1df445a6423e",
   "metadata": {},
   "outputs": [],
   "source": [
    "ohe_columns = X_train_cat_ohe.columns"
   ]
  },
  {
   "cell_type": "code",
   "execution_count": 76,
   "id": "b7142c4f-5394-4995-b6a8-daadea3a975a",
   "metadata": {},
   "outputs": [
    {
     "data": {
      "text/plain": [
       "location_360                          0\n",
       "location_389                          0\n",
       "location_639                          0\n",
       "location_Alam Impian                  0\n",
       "location_Ampang                       0\n",
       "                                     ..\n",
       "Near KTM/LRT_availability_True        0\n",
       "Internet_availability_False           0\n",
       "Internet_availability_True            0\n",
       "Cooking Allowed_availability_False    0\n",
       "Cooking Allowed_availability_True     0\n",
       "Length: 120, dtype: int64"
      ]
     },
     "execution_count": 76,
     "metadata": {},
     "output_type": "execute_result"
    }
   ],
   "source": [
    "X_train_cat_ohe.isna().sum()"
   ]
  },
  {
   "cell_type": "code",
   "execution_count": 77,
   "id": "a41d8683-5196-461a-bc0b-51c9079065cc",
   "metadata": {},
   "outputs": [
    {
     "data": {
      "text/plain": [
       "completion_year    0\n",
       "rooms              0\n",
       "parking            0\n",
       "bathroom           0\n",
       "size_sqft          0\n",
       "dtype: int64"
      ]
     },
     "execution_count": 77,
     "metadata": {},
     "output_type": "execute_result"
    }
   ],
   "source": [
    "X_train_num.isna().sum()"
   ]
  },
  {
   "cell_type": "markdown",
   "id": "6e23bf9c-b5f5-4b4f-98ab-8bb3746f057c",
   "metadata": {},
   "source": [
    "##### Combine Numerical dan Categorical data"
   ]
  },
  {
   "cell_type": "code",
   "execution_count": 78,
   "id": "4d527ec5-8d4f-4c6f-abf3-6e87c8028eba",
   "metadata": {},
   "outputs": [],
   "source": [
    "X_train_concat = pd.concat([X_train_num, X_train_cat_ohe], axis = 1)"
   ]
  },
  {
   "cell_type": "code",
   "execution_count": 79,
   "id": "4d4dde24-387c-41d3-b48f-dda8355462b7",
   "metadata": {},
   "outputs": [
    {
     "data": {
      "text/html": [
       "<div>\n",
       "<style scoped>\n",
       "    .dataframe tbody tr th:only-of-type {\n",
       "        vertical-align: middle;\n",
       "    }\n",
       "\n",
       "    .dataframe tbody tr th {\n",
       "        vertical-align: top;\n",
       "    }\n",
       "\n",
       "    .dataframe thead th {\n",
       "        text-align: right;\n",
       "    }\n",
       "</style>\n",
       "<table border=\"1\" class=\"dataframe\">\n",
       "  <thead>\n",
       "    <tr style=\"text-align: right;\">\n",
       "      <th></th>\n",
       "      <th>completion_year</th>\n",
       "      <th>rooms</th>\n",
       "      <th>parking</th>\n",
       "      <th>bathroom</th>\n",
       "      <th>size_sqft</th>\n",
       "      <th>location_360</th>\n",
       "      <th>location_389</th>\n",
       "      <th>location_639</th>\n",
       "      <th>location_Alam Impian</th>\n",
       "      <th>location_Ampang</th>\n",
       "      <th>...</th>\n",
       "      <th>Air-Cond_availability_False</th>\n",
       "      <th>Air-Cond_availability_True</th>\n",
       "      <th>Washing Machine_availability_False</th>\n",
       "      <th>Washing Machine_availability_True</th>\n",
       "      <th>Near KTM/LRT_availability_False</th>\n",
       "      <th>Near KTM/LRT_availability_True</th>\n",
       "      <th>Internet_availability_False</th>\n",
       "      <th>Internet_availability_True</th>\n",
       "      <th>Cooking Allowed_availability_False</th>\n",
       "      <th>Cooking Allowed_availability_True</th>\n",
       "    </tr>\n",
       "  </thead>\n",
       "  <tbody>\n",
       "    <tr>\n",
       "      <th>11478</th>\n",
       "      <td>2021.0</td>\n",
       "      <td>4.0</td>\n",
       "      <td>2.0</td>\n",
       "      <td>3.0</td>\n",
       "      <td>1424.0</td>\n",
       "      <td>False</td>\n",
       "      <td>False</td>\n",
       "      <td>False</td>\n",
       "      <td>False</td>\n",
       "      <td>False</td>\n",
       "      <td>...</td>\n",
       "      <td>False</td>\n",
       "      <td>True</td>\n",
       "      <td>True</td>\n",
       "      <td>False</td>\n",
       "      <td>False</td>\n",
       "      <td>True</td>\n",
       "      <td>True</td>\n",
       "      <td>False</td>\n",
       "      <td>True</td>\n",
       "      <td>False</td>\n",
       "    </tr>\n",
       "    <tr>\n",
       "      <th>12682</th>\n",
       "      <td>2020.0</td>\n",
       "      <td>3.0</td>\n",
       "      <td>1.0</td>\n",
       "      <td>2.0</td>\n",
       "      <td>985.0</td>\n",
       "      <td>False</td>\n",
       "      <td>False</td>\n",
       "      <td>False</td>\n",
       "      <td>False</td>\n",
       "      <td>False</td>\n",
       "      <td>...</td>\n",
       "      <td>False</td>\n",
       "      <td>True</td>\n",
       "      <td>False</td>\n",
       "      <td>True</td>\n",
       "      <td>False</td>\n",
       "      <td>True</td>\n",
       "      <td>True</td>\n",
       "      <td>False</td>\n",
       "      <td>False</td>\n",
       "      <td>True</td>\n",
       "    </tr>\n",
       "    <tr>\n",
       "      <th>3238</th>\n",
       "      <td>2019.0</td>\n",
       "      <td>3.0</td>\n",
       "      <td>1.0</td>\n",
       "      <td>2.0</td>\n",
       "      <td>1100.0</td>\n",
       "      <td>False</td>\n",
       "      <td>False</td>\n",
       "      <td>False</td>\n",
       "      <td>False</td>\n",
       "      <td>False</td>\n",
       "      <td>...</td>\n",
       "      <td>False</td>\n",
       "      <td>True</td>\n",
       "      <td>False</td>\n",
       "      <td>True</td>\n",
       "      <td>False</td>\n",
       "      <td>True</td>\n",
       "      <td>True</td>\n",
       "      <td>False</td>\n",
       "      <td>False</td>\n",
       "      <td>True</td>\n",
       "    </tr>\n",
       "    <tr>\n",
       "      <th>6272</th>\n",
       "      <td>2021.0</td>\n",
       "      <td>3.0</td>\n",
       "      <td>1.0</td>\n",
       "      <td>2.0</td>\n",
       "      <td>986.0</td>\n",
       "      <td>False</td>\n",
       "      <td>False</td>\n",
       "      <td>False</td>\n",
       "      <td>False</td>\n",
       "      <td>False</td>\n",
       "      <td>...</td>\n",
       "      <td>False</td>\n",
       "      <td>True</td>\n",
       "      <td>False</td>\n",
       "      <td>True</td>\n",
       "      <td>False</td>\n",
       "      <td>True</td>\n",
       "      <td>True</td>\n",
       "      <td>False</td>\n",
       "      <td>False</td>\n",
       "      <td>True</td>\n",
       "    </tr>\n",
       "    <tr>\n",
       "      <th>13753</th>\n",
       "      <td>2021.0</td>\n",
       "      <td>3.0</td>\n",
       "      <td>1.0</td>\n",
       "      <td>2.0</td>\n",
       "      <td>820.0</td>\n",
       "      <td>False</td>\n",
       "      <td>False</td>\n",
       "      <td>False</td>\n",
       "      <td>False</td>\n",
       "      <td>False</td>\n",
       "      <td>...</td>\n",
       "      <td>False</td>\n",
       "      <td>True</td>\n",
       "      <td>True</td>\n",
       "      <td>False</td>\n",
       "      <td>False</td>\n",
       "      <td>True</td>\n",
       "      <td>True</td>\n",
       "      <td>False</td>\n",
       "      <td>False</td>\n",
       "      <td>True</td>\n",
       "    </tr>\n",
       "    <tr>\n",
       "      <th>...</th>\n",
       "      <td>...</td>\n",
       "      <td>...</td>\n",
       "      <td>...</td>\n",
       "      <td>...</td>\n",
       "      <td>...</td>\n",
       "      <td>...</td>\n",
       "      <td>...</td>\n",
       "      <td>...</td>\n",
       "      <td>...</td>\n",
       "      <td>...</td>\n",
       "      <td>...</td>\n",
       "      <td>...</td>\n",
       "      <td>...</td>\n",
       "      <td>...</td>\n",
       "      <td>...</td>\n",
       "      <td>...</td>\n",
       "      <td>...</td>\n",
       "      <td>...</td>\n",
       "      <td>...</td>\n",
       "      <td>...</td>\n",
       "      <td>...</td>\n",
       "    </tr>\n",
       "    <tr>\n",
       "      <th>13435</th>\n",
       "      <td>2021.0</td>\n",
       "      <td>3.0</td>\n",
       "      <td>1.0</td>\n",
       "      <td>2.0</td>\n",
       "      <td>850.0</td>\n",
       "      <td>False</td>\n",
       "      <td>False</td>\n",
       "      <td>False</td>\n",
       "      <td>False</td>\n",
       "      <td>False</td>\n",
       "      <td>...</td>\n",
       "      <td>False</td>\n",
       "      <td>True</td>\n",
       "      <td>True</td>\n",
       "      <td>False</td>\n",
       "      <td>False</td>\n",
       "      <td>True</td>\n",
       "      <td>True</td>\n",
       "      <td>False</td>\n",
       "      <td>False</td>\n",
       "      <td>True</td>\n",
       "    </tr>\n",
       "    <tr>\n",
       "      <th>7763</th>\n",
       "      <td>2021.0</td>\n",
       "      <td>3.0</td>\n",
       "      <td>1.0</td>\n",
       "      <td>2.0</td>\n",
       "      <td>1078.0</td>\n",
       "      <td>False</td>\n",
       "      <td>False</td>\n",
       "      <td>False</td>\n",
       "      <td>False</td>\n",
       "      <td>False</td>\n",
       "      <td>...</td>\n",
       "      <td>False</td>\n",
       "      <td>True</td>\n",
       "      <td>False</td>\n",
       "      <td>True</td>\n",
       "      <td>False</td>\n",
       "      <td>True</td>\n",
       "      <td>True</td>\n",
       "      <td>False</td>\n",
       "      <td>False</td>\n",
       "      <td>True</td>\n",
       "    </tr>\n",
       "    <tr>\n",
       "      <th>15377</th>\n",
       "      <td>2021.0</td>\n",
       "      <td>3.0</td>\n",
       "      <td>1.0</td>\n",
       "      <td>2.0</td>\n",
       "      <td>650.0</td>\n",
       "      <td>False</td>\n",
       "      <td>False</td>\n",
       "      <td>False</td>\n",
       "      <td>False</td>\n",
       "      <td>False</td>\n",
       "      <td>...</td>\n",
       "      <td>False</td>\n",
       "      <td>True</td>\n",
       "      <td>False</td>\n",
       "      <td>True</td>\n",
       "      <td>True</td>\n",
       "      <td>False</td>\n",
       "      <td>True</td>\n",
       "      <td>False</td>\n",
       "      <td>False</td>\n",
       "      <td>True</td>\n",
       "    </tr>\n",
       "    <tr>\n",
       "      <th>17730</th>\n",
       "      <td>2021.0</td>\n",
       "      <td>2.0</td>\n",
       "      <td>2.0</td>\n",
       "      <td>2.0</td>\n",
       "      <td>893.0</td>\n",
       "      <td>False</td>\n",
       "      <td>False</td>\n",
       "      <td>False</td>\n",
       "      <td>False</td>\n",
       "      <td>False</td>\n",
       "      <td>...</td>\n",
       "      <td>False</td>\n",
       "      <td>True</td>\n",
       "      <td>False</td>\n",
       "      <td>True</td>\n",
       "      <td>False</td>\n",
       "      <td>True</td>\n",
       "      <td>True</td>\n",
       "      <td>False</td>\n",
       "      <td>False</td>\n",
       "      <td>True</td>\n",
       "    </tr>\n",
       "    <tr>\n",
       "      <th>15725</th>\n",
       "      <td>2015.0</td>\n",
       "      <td>3.0</td>\n",
       "      <td>2.0</td>\n",
       "      <td>2.0</td>\n",
       "      <td>939.0</td>\n",
       "      <td>False</td>\n",
       "      <td>False</td>\n",
       "      <td>False</td>\n",
       "      <td>False</td>\n",
       "      <td>False</td>\n",
       "      <td>...</td>\n",
       "      <td>False</td>\n",
       "      <td>True</td>\n",
       "      <td>False</td>\n",
       "      <td>True</td>\n",
       "      <td>True</td>\n",
       "      <td>False</td>\n",
       "      <td>True</td>\n",
       "      <td>False</td>\n",
       "      <td>False</td>\n",
       "      <td>True</td>\n",
       "    </tr>\n",
       "  </tbody>\n",
       "</table>\n",
       "<p>15708 rows × 125 columns</p>\n",
       "</div>"
      ],
      "text/plain": [
       "       completion_year  rooms  parking  bathroom  size_sqft  location_360   \n",
       "11478           2021.0    4.0      2.0       3.0     1424.0         False  \\\n",
       "12682           2020.0    3.0      1.0       2.0      985.0         False   \n",
       "3238            2019.0    3.0      1.0       2.0     1100.0         False   \n",
       "6272            2021.0    3.0      1.0       2.0      986.0         False   \n",
       "13753           2021.0    3.0      1.0       2.0      820.0         False   \n",
       "...                ...    ...      ...       ...        ...           ...   \n",
       "13435           2021.0    3.0      1.0       2.0      850.0         False   \n",
       "7763            2021.0    3.0      1.0       2.0     1078.0         False   \n",
       "15377           2021.0    3.0      1.0       2.0      650.0         False   \n",
       "17730           2021.0    2.0      2.0       2.0      893.0         False   \n",
       "15725           2015.0    3.0      2.0       2.0      939.0         False   \n",
       "\n",
       "       location_389  location_639  location_Alam Impian  location_Ampang  ...   \n",
       "11478         False         False                 False            False  ...  \\\n",
       "12682         False         False                 False            False  ...   \n",
       "3238          False         False                 False            False  ...   \n",
       "6272          False         False                 False            False  ...   \n",
       "13753         False         False                 False            False  ...   \n",
       "...             ...           ...                   ...              ...  ...   \n",
       "13435         False         False                 False            False  ...   \n",
       "7763          False         False                 False            False  ...   \n",
       "15377         False         False                 False            False  ...   \n",
       "17730         False         False                 False            False  ...   \n",
       "15725         False         False                 False            False  ...   \n",
       "\n",
       "       Air-Cond_availability_False  Air-Cond_availability_True   \n",
       "11478                        False                        True  \\\n",
       "12682                        False                        True   \n",
       "3238                         False                        True   \n",
       "6272                         False                        True   \n",
       "13753                        False                        True   \n",
       "...                            ...                         ...   \n",
       "13435                        False                        True   \n",
       "7763                         False                        True   \n",
       "15377                        False                        True   \n",
       "17730                        False                        True   \n",
       "15725                        False                        True   \n",
       "\n",
       "       Washing Machine_availability_False  Washing Machine_availability_True   \n",
       "11478                                True                              False  \\\n",
       "12682                               False                               True   \n",
       "3238                                False                               True   \n",
       "6272                                False                               True   \n",
       "13753                                True                              False   \n",
       "...                                   ...                                ...   \n",
       "13435                                True                              False   \n",
       "7763                                False                               True   \n",
       "15377                               False                               True   \n",
       "17730                               False                               True   \n",
       "15725                               False                               True   \n",
       "\n",
       "       Near KTM/LRT_availability_False  Near KTM/LRT_availability_True   \n",
       "11478                            False                            True  \\\n",
       "12682                            False                            True   \n",
       "3238                             False                            True   \n",
       "6272                             False                            True   \n",
       "13753                            False                            True   \n",
       "...                                ...                             ...   \n",
       "13435                            False                            True   \n",
       "7763                             False                            True   \n",
       "15377                             True                           False   \n",
       "17730                            False                            True   \n",
       "15725                             True                           False   \n",
       "\n",
       "       Internet_availability_False  Internet_availability_True   \n",
       "11478                         True                       False  \\\n",
       "12682                         True                       False   \n",
       "3238                          True                       False   \n",
       "6272                          True                       False   \n",
       "13753                         True                       False   \n",
       "...                            ...                         ...   \n",
       "13435                         True                       False   \n",
       "7763                          True                       False   \n",
       "15377                         True                       False   \n",
       "17730                         True                       False   \n",
       "15725                         True                       False   \n",
       "\n",
       "       Cooking Allowed_availability_False  Cooking Allowed_availability_True  \n",
       "11478                                True                              False  \n",
       "12682                               False                               True  \n",
       "3238                                False                               True  \n",
       "6272                                False                               True  \n",
       "13753                               False                               True  \n",
       "...                                   ...                                ...  \n",
       "13435                               False                               True  \n",
       "7763                                False                               True  \n",
       "15377                               False                               True  \n",
       "17730                               False                               True  \n",
       "15725                               False                               True  \n",
       "\n",
       "[15708 rows x 125 columns]"
      ]
     },
     "execution_count": 79,
     "metadata": {},
     "output_type": "execute_result"
    }
   ],
   "source": [
    "X_train_concat"
   ]
  },
  {
   "cell_type": "code",
   "execution_count": 80,
   "id": "0e9add74-e863-405c-a30b-357cb9e17cbb",
   "metadata": {},
   "outputs": [
    {
     "data": {
      "text/plain": [
       "completion_year                       0\n",
       "rooms                                 0\n",
       "parking                               0\n",
       "bathroom                              0\n",
       "size_sqft                             0\n",
       "                                     ..\n",
       "Near KTM/LRT_availability_True        0\n",
       "Internet_availability_False           0\n",
       "Internet_availability_True            0\n",
       "Cooking Allowed_availability_False    0\n",
       "Cooking Allowed_availability_True     0\n",
       "Length: 125, dtype: int64"
      ]
     },
     "execution_count": 80,
     "metadata": {},
     "output_type": "execute_result"
    }
   ],
   "source": [
    "X_train_concat.isnull().sum()"
   ]
  },
  {
   "cell_type": "markdown",
   "id": "3547016f-11d7-4ab7-9f04-c8dd1250f2b7",
   "metadata": {},
   "source": [
    "#### Standardization"
   ]
  },
  {
   "cell_type": "code",
   "execution_count": 81,
   "id": "7d627b97-1236-403a-8861-85336aaa1373",
   "metadata": {},
   "outputs": [],
   "source": [
    "from sklearn.preprocessing import StandardScaler\n",
    "def standardizerData(data):\n",
    "    data_columns = data.columns  #preserve columns\n",
    "    data_index = data.index  #preserve index\n",
    "\n",
    "    # create and fit standardizer\n",
    "    standardizer = StandardScaler()\n",
    "    standardizer.fit(data)\n",
    "\n",
    "    # transform data\n",
    "    standardized_data_raw = standardizer.transform(data)\n",
    "    standardized_data = pd.DataFrame(standardized_data_raw)\n",
    "    standardized_data.columns = data_columns\n",
    "    standardized_data.index = data_index\n",
    "\n",
    "    return standardized_data, standardizer"
   ]
  },
  {
   "cell_type": "code",
   "execution_count": 82,
   "id": "f036210d-1f45-4585-8926-19ced0347547",
   "metadata": {},
   "outputs": [],
   "source": [
    "X_train_clean, standardizer = standardizerData(data = X_train_concat)"
   ]
  },
  {
   "cell_type": "code",
   "execution_count": 83,
   "id": "f77c7bd2-e13c-4f7b-89a4-ee8eb5f8c661",
   "metadata": {},
   "outputs": [
    {
     "data": {
      "text/html": [
       "<div>\n",
       "<style scoped>\n",
       "    .dataframe tbody tr th:only-of-type {\n",
       "        vertical-align: middle;\n",
       "    }\n",
       "\n",
       "    .dataframe tbody tr th {\n",
       "        vertical-align: top;\n",
       "    }\n",
       "\n",
       "    .dataframe thead th {\n",
       "        text-align: right;\n",
       "    }\n",
       "</style>\n",
       "<table border=\"1\" class=\"dataframe\">\n",
       "  <thead>\n",
       "    <tr style=\"text-align: right;\">\n",
       "      <th></th>\n",
       "      <th>completion_year</th>\n",
       "      <th>rooms</th>\n",
       "      <th>parking</th>\n",
       "      <th>bathroom</th>\n",
       "      <th>size_sqft</th>\n",
       "      <th>location_360</th>\n",
       "      <th>location_389</th>\n",
       "      <th>location_639</th>\n",
       "      <th>location_Alam Impian</th>\n",
       "      <th>location_Ampang</th>\n",
       "      <th>...</th>\n",
       "      <th>Air-Cond_availability_False</th>\n",
       "      <th>Air-Cond_availability_True</th>\n",
       "      <th>Washing Machine_availability_False</th>\n",
       "      <th>Washing Machine_availability_True</th>\n",
       "      <th>Near KTM/LRT_availability_False</th>\n",
       "      <th>Near KTM/LRT_availability_True</th>\n",
       "      <th>Internet_availability_False</th>\n",
       "      <th>Internet_availability_True</th>\n",
       "      <th>Cooking Allowed_availability_False</th>\n",
       "      <th>Cooking Allowed_availability_True</th>\n",
       "    </tr>\n",
       "  </thead>\n",
       "  <tbody>\n",
       "    <tr>\n",
       "      <th>11478</th>\n",
       "      <td>0.571261</td>\n",
       "      <td>1.664905</td>\n",
       "      <td>1.420742</td>\n",
       "      <td>2.196619</td>\n",
       "      <td>1.886710</td>\n",
       "      <td>-0.049244</td>\n",
       "      <td>-0.045883</td>\n",
       "      <td>-0.02765</td>\n",
       "      <td>-0.031932</td>\n",
       "      <td>-0.188321</td>\n",
       "      <td>...</td>\n",
       "      <td>-0.44177</td>\n",
       "      <td>0.44177</td>\n",
       "      <td>1.423788</td>\n",
       "      <td>-1.423788</td>\n",
       "      <td>-0.697405</td>\n",
       "      <td>0.697405</td>\n",
       "      <td>0.377909</td>\n",
       "      <td>-0.377909</td>\n",
       "      <td>3.915161</td>\n",
       "      <td>-3.915161</td>\n",
       "    </tr>\n",
       "    <tr>\n",
       "      <th>12682</th>\n",
       "      <td>0.401530</td>\n",
       "      <td>0.411438</td>\n",
       "      <td>-0.581682</td>\n",
       "      <td>0.240249</td>\n",
       "      <td>0.292127</td>\n",
       "      <td>-0.049244</td>\n",
       "      <td>-0.045883</td>\n",
       "      <td>-0.02765</td>\n",
       "      <td>-0.031932</td>\n",
       "      <td>-0.188321</td>\n",
       "      <td>...</td>\n",
       "      <td>-0.44177</td>\n",
       "      <td>0.44177</td>\n",
       "      <td>-0.702352</td>\n",
       "      <td>0.702352</td>\n",
       "      <td>-0.697405</td>\n",
       "      <td>0.697405</td>\n",
       "      <td>0.377909</td>\n",
       "      <td>-0.377909</td>\n",
       "      <td>-0.255417</td>\n",
       "      <td>0.255417</td>\n",
       "    </tr>\n",
       "    <tr>\n",
       "      <th>3238</th>\n",
       "      <td>0.231798</td>\n",
       "      <td>0.411438</td>\n",
       "      <td>-0.581682</td>\n",
       "      <td>0.240249</td>\n",
       "      <td>0.709843</td>\n",
       "      <td>-0.049244</td>\n",
       "      <td>-0.045883</td>\n",
       "      <td>-0.02765</td>\n",
       "      <td>-0.031932</td>\n",
       "      <td>-0.188321</td>\n",
       "      <td>...</td>\n",
       "      <td>-0.44177</td>\n",
       "      <td>0.44177</td>\n",
       "      <td>-0.702352</td>\n",
       "      <td>0.702352</td>\n",
       "      <td>-0.697405</td>\n",
       "      <td>0.697405</td>\n",
       "      <td>0.377909</td>\n",
       "      <td>-0.377909</td>\n",
       "      <td>-0.255417</td>\n",
       "      <td>0.255417</td>\n",
       "    </tr>\n",
       "    <tr>\n",
       "      <th>6272</th>\n",
       "      <td>0.571261</td>\n",
       "      <td>0.411438</td>\n",
       "      <td>-0.581682</td>\n",
       "      <td>0.240249</td>\n",
       "      <td>0.295760</td>\n",
       "      <td>-0.049244</td>\n",
       "      <td>-0.045883</td>\n",
       "      <td>-0.02765</td>\n",
       "      <td>-0.031932</td>\n",
       "      <td>-0.188321</td>\n",
       "      <td>...</td>\n",
       "      <td>-0.44177</td>\n",
       "      <td>0.44177</td>\n",
       "      <td>-0.702352</td>\n",
       "      <td>0.702352</td>\n",
       "      <td>-0.697405</td>\n",
       "      <td>0.697405</td>\n",
       "      <td>0.377909</td>\n",
       "      <td>-0.377909</td>\n",
       "      <td>-0.255417</td>\n",
       "      <td>0.255417</td>\n",
       "    </tr>\n",
       "    <tr>\n",
       "      <th>13753</th>\n",
       "      <td>0.571261</td>\n",
       "      <td>0.411438</td>\n",
       "      <td>-0.581682</td>\n",
       "      <td>0.240249</td>\n",
       "      <td>-0.307203</td>\n",
       "      <td>-0.049244</td>\n",
       "      <td>-0.045883</td>\n",
       "      <td>-0.02765</td>\n",
       "      <td>-0.031932</td>\n",
       "      <td>-0.188321</td>\n",
       "      <td>...</td>\n",
       "      <td>-0.44177</td>\n",
       "      <td>0.44177</td>\n",
       "      <td>1.423788</td>\n",
       "      <td>-1.423788</td>\n",
       "      <td>-0.697405</td>\n",
       "      <td>0.697405</td>\n",
       "      <td>0.377909</td>\n",
       "      <td>-0.377909</td>\n",
       "      <td>-0.255417</td>\n",
       "      <td>0.255417</td>\n",
       "    </tr>\n",
       "    <tr>\n",
       "      <th>...</th>\n",
       "      <td>...</td>\n",
       "      <td>...</td>\n",
       "      <td>...</td>\n",
       "      <td>...</td>\n",
       "      <td>...</td>\n",
       "      <td>...</td>\n",
       "      <td>...</td>\n",
       "      <td>...</td>\n",
       "      <td>...</td>\n",
       "      <td>...</td>\n",
       "      <td>...</td>\n",
       "      <td>...</td>\n",
       "      <td>...</td>\n",
       "      <td>...</td>\n",
       "      <td>...</td>\n",
       "      <td>...</td>\n",
       "      <td>...</td>\n",
       "      <td>...</td>\n",
       "      <td>...</td>\n",
       "      <td>...</td>\n",
       "      <td>...</td>\n",
       "    </tr>\n",
       "    <tr>\n",
       "      <th>13435</th>\n",
       "      <td>0.571261</td>\n",
       "      <td>0.411438</td>\n",
       "      <td>-0.581682</td>\n",
       "      <td>0.240249</td>\n",
       "      <td>-0.198234</td>\n",
       "      <td>-0.049244</td>\n",
       "      <td>-0.045883</td>\n",
       "      <td>-0.02765</td>\n",
       "      <td>-0.031932</td>\n",
       "      <td>-0.188321</td>\n",
       "      <td>...</td>\n",
       "      <td>-0.44177</td>\n",
       "      <td>0.44177</td>\n",
       "      <td>1.423788</td>\n",
       "      <td>-1.423788</td>\n",
       "      <td>-0.697405</td>\n",
       "      <td>0.697405</td>\n",
       "      <td>0.377909</td>\n",
       "      <td>-0.377909</td>\n",
       "      <td>-0.255417</td>\n",
       "      <td>0.255417</td>\n",
       "    </tr>\n",
       "    <tr>\n",
       "      <th>7763</th>\n",
       "      <td>0.571261</td>\n",
       "      <td>0.411438</td>\n",
       "      <td>-0.581682</td>\n",
       "      <td>0.240249</td>\n",
       "      <td>0.629932</td>\n",
       "      <td>-0.049244</td>\n",
       "      <td>-0.045883</td>\n",
       "      <td>-0.02765</td>\n",
       "      <td>-0.031932</td>\n",
       "      <td>-0.188321</td>\n",
       "      <td>...</td>\n",
       "      <td>-0.44177</td>\n",
       "      <td>0.44177</td>\n",
       "      <td>-0.702352</td>\n",
       "      <td>0.702352</td>\n",
       "      <td>-0.697405</td>\n",
       "      <td>0.697405</td>\n",
       "      <td>0.377909</td>\n",
       "      <td>-0.377909</td>\n",
       "      <td>-0.255417</td>\n",
       "      <td>0.255417</td>\n",
       "    </tr>\n",
       "    <tr>\n",
       "      <th>15377</th>\n",
       "      <td>0.571261</td>\n",
       "      <td>0.411438</td>\n",
       "      <td>-0.581682</td>\n",
       "      <td>0.240249</td>\n",
       "      <td>-0.924695</td>\n",
       "      <td>-0.049244</td>\n",
       "      <td>-0.045883</td>\n",
       "      <td>-0.02765</td>\n",
       "      <td>-0.031932</td>\n",
       "      <td>-0.188321</td>\n",
       "      <td>...</td>\n",
       "      <td>-0.44177</td>\n",
       "      <td>0.44177</td>\n",
       "      <td>-0.702352</td>\n",
       "      <td>0.702352</td>\n",
       "      <td>1.433887</td>\n",
       "      <td>-1.433887</td>\n",
       "      <td>0.377909</td>\n",
       "      <td>-0.377909</td>\n",
       "      <td>-0.255417</td>\n",
       "      <td>0.255417</td>\n",
       "    </tr>\n",
       "    <tr>\n",
       "      <th>17730</th>\n",
       "      <td>0.571261</td>\n",
       "      <td>-0.842028</td>\n",
       "      <td>1.420742</td>\n",
       "      <td>0.240249</td>\n",
       "      <td>-0.042045</td>\n",
       "      <td>-0.049244</td>\n",
       "      <td>-0.045883</td>\n",
       "      <td>-0.02765</td>\n",
       "      <td>-0.031932</td>\n",
       "      <td>-0.188321</td>\n",
       "      <td>...</td>\n",
       "      <td>-0.44177</td>\n",
       "      <td>0.44177</td>\n",
       "      <td>-0.702352</td>\n",
       "      <td>0.702352</td>\n",
       "      <td>-0.697405</td>\n",
       "      <td>0.697405</td>\n",
       "      <td>0.377909</td>\n",
       "      <td>-0.377909</td>\n",
       "      <td>-0.255417</td>\n",
       "      <td>0.255417</td>\n",
       "    </tr>\n",
       "    <tr>\n",
       "      <th>15725</th>\n",
       "      <td>-0.447129</td>\n",
       "      <td>0.411438</td>\n",
       "      <td>1.420742</td>\n",
       "      <td>0.240249</td>\n",
       "      <td>0.125041</td>\n",
       "      <td>-0.049244</td>\n",
       "      <td>-0.045883</td>\n",
       "      <td>-0.02765</td>\n",
       "      <td>-0.031932</td>\n",
       "      <td>-0.188321</td>\n",
       "      <td>...</td>\n",
       "      <td>-0.44177</td>\n",
       "      <td>0.44177</td>\n",
       "      <td>-0.702352</td>\n",
       "      <td>0.702352</td>\n",
       "      <td>1.433887</td>\n",
       "      <td>-1.433887</td>\n",
       "      <td>0.377909</td>\n",
       "      <td>-0.377909</td>\n",
       "      <td>-0.255417</td>\n",
       "      <td>0.255417</td>\n",
       "    </tr>\n",
       "  </tbody>\n",
       "</table>\n",
       "<p>15708 rows × 125 columns</p>\n",
       "</div>"
      ],
      "text/plain": [
       "       completion_year     rooms   parking  bathroom  size_sqft  location_360   \n",
       "11478         0.571261  1.664905  1.420742  2.196619   1.886710     -0.049244  \\\n",
       "12682         0.401530  0.411438 -0.581682  0.240249   0.292127     -0.049244   \n",
       "3238          0.231798  0.411438 -0.581682  0.240249   0.709843     -0.049244   \n",
       "6272          0.571261  0.411438 -0.581682  0.240249   0.295760     -0.049244   \n",
       "13753         0.571261  0.411438 -0.581682  0.240249  -0.307203     -0.049244   \n",
       "...                ...       ...       ...       ...        ...           ...   \n",
       "13435         0.571261  0.411438 -0.581682  0.240249  -0.198234     -0.049244   \n",
       "7763          0.571261  0.411438 -0.581682  0.240249   0.629932     -0.049244   \n",
       "15377         0.571261  0.411438 -0.581682  0.240249  -0.924695     -0.049244   \n",
       "17730         0.571261 -0.842028  1.420742  0.240249  -0.042045     -0.049244   \n",
       "15725        -0.447129  0.411438  1.420742  0.240249   0.125041     -0.049244   \n",
       "\n",
       "       location_389  location_639  location_Alam Impian  location_Ampang  ...   \n",
       "11478     -0.045883      -0.02765             -0.031932        -0.188321  ...  \\\n",
       "12682     -0.045883      -0.02765             -0.031932        -0.188321  ...   \n",
       "3238      -0.045883      -0.02765             -0.031932        -0.188321  ...   \n",
       "6272      -0.045883      -0.02765             -0.031932        -0.188321  ...   \n",
       "13753     -0.045883      -0.02765             -0.031932        -0.188321  ...   \n",
       "...             ...           ...                   ...              ...  ...   \n",
       "13435     -0.045883      -0.02765             -0.031932        -0.188321  ...   \n",
       "7763      -0.045883      -0.02765             -0.031932        -0.188321  ...   \n",
       "15377     -0.045883      -0.02765             -0.031932        -0.188321  ...   \n",
       "17730     -0.045883      -0.02765             -0.031932        -0.188321  ...   \n",
       "15725     -0.045883      -0.02765             -0.031932        -0.188321  ...   \n",
       "\n",
       "       Air-Cond_availability_False  Air-Cond_availability_True   \n",
       "11478                     -0.44177                     0.44177  \\\n",
       "12682                     -0.44177                     0.44177   \n",
       "3238                      -0.44177                     0.44177   \n",
       "6272                      -0.44177                     0.44177   \n",
       "13753                     -0.44177                     0.44177   \n",
       "...                            ...                         ...   \n",
       "13435                     -0.44177                     0.44177   \n",
       "7763                      -0.44177                     0.44177   \n",
       "15377                     -0.44177                     0.44177   \n",
       "17730                     -0.44177                     0.44177   \n",
       "15725                     -0.44177                     0.44177   \n",
       "\n",
       "       Washing Machine_availability_False  Washing Machine_availability_True   \n",
       "11478                            1.423788                          -1.423788  \\\n",
       "12682                           -0.702352                           0.702352   \n",
       "3238                            -0.702352                           0.702352   \n",
       "6272                            -0.702352                           0.702352   \n",
       "13753                            1.423788                          -1.423788   \n",
       "...                                   ...                                ...   \n",
       "13435                            1.423788                          -1.423788   \n",
       "7763                            -0.702352                           0.702352   \n",
       "15377                           -0.702352                           0.702352   \n",
       "17730                           -0.702352                           0.702352   \n",
       "15725                           -0.702352                           0.702352   \n",
       "\n",
       "       Near KTM/LRT_availability_False  Near KTM/LRT_availability_True   \n",
       "11478                        -0.697405                        0.697405  \\\n",
       "12682                        -0.697405                        0.697405   \n",
       "3238                         -0.697405                        0.697405   \n",
       "6272                         -0.697405                        0.697405   \n",
       "13753                        -0.697405                        0.697405   \n",
       "...                                ...                             ...   \n",
       "13435                        -0.697405                        0.697405   \n",
       "7763                         -0.697405                        0.697405   \n",
       "15377                         1.433887                       -1.433887   \n",
       "17730                        -0.697405                        0.697405   \n",
       "15725                         1.433887                       -1.433887   \n",
       "\n",
       "       Internet_availability_False  Internet_availability_True   \n",
       "11478                     0.377909                   -0.377909  \\\n",
       "12682                     0.377909                   -0.377909   \n",
       "3238                      0.377909                   -0.377909   \n",
       "6272                      0.377909                   -0.377909   \n",
       "13753                     0.377909                   -0.377909   \n",
       "...                            ...                         ...   \n",
       "13435                     0.377909                   -0.377909   \n",
       "7763                      0.377909                   -0.377909   \n",
       "15377                     0.377909                   -0.377909   \n",
       "17730                     0.377909                   -0.377909   \n",
       "15725                     0.377909                   -0.377909   \n",
       "\n",
       "       Cooking Allowed_availability_False  Cooking Allowed_availability_True  \n",
       "11478                            3.915161                          -3.915161  \n",
       "12682                           -0.255417                           0.255417  \n",
       "3238                            -0.255417                           0.255417  \n",
       "6272                            -0.255417                           0.255417  \n",
       "13753                           -0.255417                           0.255417  \n",
       "...                                   ...                                ...  \n",
       "13435                           -0.255417                           0.255417  \n",
       "7763                            -0.255417                           0.255417  \n",
       "15377                           -0.255417                           0.255417  \n",
       "17730                           -0.255417                           0.255417  \n",
       "15725                           -0.255417                           0.255417  \n",
       "\n",
       "[15708 rows x 125 columns]"
      ]
     },
     "execution_count": 83,
     "metadata": {},
     "output_type": "execute_result"
    }
   ],
   "source": [
    "X_train_clean"
   ]
  },
  {
   "cell_type": "markdown",
   "id": "2157a617-4711-4474-b89e-479b5781ab34",
   "metadata": {},
   "source": [
    "##### Training Machine Learning\n",
    "Since this is a regression model, R2 score and mean absolute error (MAE) will be used as a performance metrics.\n",
    "\n",
    "The machine learning model will use baseline from average value of the target columns (monthly rent) and also result from linear regression model. After that, author used some of the recommended model based on previous works, which are random forest and gradient boosting to better improve the performance of the model.\n",
    "\n",
    "##### Baseline-Average Value\n",
    "The concept here is to use average value of the target as the easiest way to predict the monhtly rent of a unit."
   ]
  },
  {
   "cell_type": "code",
   "execution_count": 84,
   "id": "546c0e19-e454-41c1-aeca-59c40c4d8faa",
   "metadata": {},
   "outputs": [
    {
     "data": {
      "text/plain": [
       "array([1564.78806977, 1564.78806977, 1564.78806977, ..., 1564.78806977,\n",
       "       1564.78806977, 1564.78806977])"
      ]
     },
     "execution_count": 84,
     "metadata": {},
     "output_type": "execute_result"
    }
   ],
   "source": [
    "y_baseline = np.ones(len(y_train)) * y_train.mean()\n",
    "y_baseline"
   ]
  },
  {
   "cell_type": "code",
   "execution_count": 85,
   "id": "1eb0e10a-b995-4b8f-9e6f-ba08a72bcbcc",
   "metadata": {},
   "outputs": [
    {
     "name": "stdout",
     "output_type": "stream",
     "text": [
      "R2-score: 0.0000 and MAE score: 516.9591\n"
     ]
    }
   ],
   "source": [
    "from sklearn.linear_model import LinearRegression\n",
    "from sklearn.metrics import mean_squared_error, r2_score, mean_absolute_error\n",
    "\n",
    "# Train the linear regression model\n",
    "lin_reg = LinearRegression().fit(X_train_clean, y_train)\n",
    "\n",
    "# Predict using the train data\n",
    "y_pred_train = y_baseline\n",
    "\n",
    "# Calculate R-squared\n",
    "r2_baseline = r2_score(y_train, y_pred_train)\n",
    "\n",
    "# Calculate MAE\n",
    "mae_baseline = mean_absolute_error(y_train, y_pred_train)\n",
    "\n",
    "print(f\"R2-score: {r2_baseline:.4f} and MAE score: {mae_baseline:.4f}\")"
   ]
  },
  {
   "cell_type": "code",
   "execution_count": 86,
   "id": "e7b946b1-3483-4d23-9b20-48b7ce25427f",
   "metadata": {},
   "outputs": [
    {
     "data": {
      "image/png": "[encoded data removed]",
      "text/plain": [
       "<Figure size 640x480 with 1 Axes>"
      ]
     },
     "metadata": {},
     "output_type": "display_data"
    }
   ],
   "source": [
    "plt.scatter(x=y_train, y=y_pred_train);"
   ]
  },
  {
   "cell_type": "markdown",
   "id": "bd6758e2-efc8-4e34-a0ce-68e0c98a9d06",
   "metadata": {},
   "source": [
    "##### Baseline-Linear Regression\n",
    "The second method is using linear regression, which simply put is finding the minum total error (distance) between predicted value and the target value, using linear equation."
   ]
  },
  {
   "cell_type": "code",
   "execution_count": 87,
   "id": "abf15c82-543d-47d0-a3ca-fc2299aa3b77",
   "metadata": {},
   "outputs": [
    {
     "name": "stdout",
     "output_type": "stream",
     "text": [
      "R2-score: 0.6745 and MAE score: 282.4128\n"
     ]
    }
   ],
   "source": [
    "from sklearn.linear_model import LinearRegression\n",
    "from sklearn.metrics import mean_squared_error, r2_score\n",
    "\n",
    "# Train the linear regression model\n",
    "lin_reg = LinearRegression().fit(X_train_clean, y_train)\n",
    "\n",
    "# Predict using the train data\n",
    "# y_pred = y_baseline\n",
    "y_pred_train = lin_reg.predict(X_train_clean)\n",
    "\n",
    "# Calculate mean absolute error\n",
    "mae_linreg = mean_absolute_error(y_train, y_pred_train)\n",
    "\n",
    "# Calculate R-squared\n",
    "r2_linreg = r2_score(y_train, y_pred_train)\n",
    "\n",
    "print(f\"R2-score: {r2_linreg:.4f} and MAE score: {mae_linreg:.4f}\")"
   ]
  },
  {
   "cell_type": "code",
   "execution_count": 88,
   "id": "57f7756a-9c85-4022-af21-307a499848ab",
   "metadata": {},
   "outputs": [
    {
     "data": {
      "text/plain": [
       "array([1300, 2600, 1500, ...,  750, 2900, 1580])"
      ]
     },
     "execution_count": 88,
     "metadata": {},
     "output_type": "execute_result"
    }
   ],
   "source": [
    "y_train.flatten()"
   ]
  },
  {
   "cell_type": "code",
   "execution_count": 89,
   "id": "cbef17a7-3f32-42dc-ad3b-df014a68798c",
   "metadata": {},
   "outputs": [
    {
     "data": {
      "text/plain": [
       "(15708, 1)"
      ]
     },
     "execution_count": 89,
     "metadata": {},
     "output_type": "execute_result"
    }
   ],
   "source": [
    "y_pred_train.shape"
   ]
  },
  {
   "cell_type": "code",
   "execution_count": 90,
   "id": "76129032-292b-4991-8c97-d58d24c4b18d",
   "metadata": {},
   "outputs": [
    {
     "data": {
      "image/png": "[encoded data removed]",
      "text/plain": [
       "<Figure size 600x600 with 3 Axes>"
      ]
     },
     "metadata": {},
     "output_type": "display_data"
    }
   ],
   "source": [
    "sns.jointplot(x=y_train.flatten(), y=y_pred_train.flatten());"
   ]
  },
  {
   "cell_type": "code",
   "execution_count": 91,
   "id": "e75428e9-07e6-496a-bdd6-ac9193a5259f",
   "metadata": {
    "tags": []
   },
   "outputs": [
    {
     "name": "stdout",
     "output_type": "stream",
     "text": [
      "R2-score: 0.6518 and MAE score: 273.3500\n"
     ]
    }
   ],
   "source": [
    "from sklearn.svm import SVR\n",
    "#from sklearn.metrics import mean_squared_error, r2_score, mean_absolute_error\n",
    "\n",
    "# Train the support vector machine model\n",
    "svr_reg = SVR(kernel=\"linear\")\n",
    "svr_reg.fit(X_train_clean, y_train.flatten())\n",
    "\n",
    "# Predict using the train data\n",
    "y_pred_train = svr_reg.predict(X_train_clean)\n",
    "\n",
    "# Calculate R-squared\n",
    "r2_svr = r2_score(y_train, y_pred_train)\n",
    "\n",
    "# Calculate MAE\n",
    "mae_svr = mean_absolute_error(y_train, y_pred_train)\n",
    "\n",
    "print(f\"R2-score: {r2_svr:.4f} and MAE score: {mae_svr:.4f}\")"
   ]
  },
  {
   "cell_type": "code",
   "execution_count": 92,
   "id": "80eee92c-ab35-490b-852e-8e7d4a558542",
   "metadata": {},
   "outputs": [
    {
     "data": {
      "image/png": "[encoded data removed]",
      "text/plain": [
       "<Figure size 600x600 with 3 Axes>"
      ]
     },
     "metadata": {},
     "output_type": "display_data"
    }
   ],
   "source": [
    "sns.jointplot(x=y_train.flatten(), y=y_pred_train.flatten());"
   ]
  },
  {
   "cell_type": "code",
   "execution_count": 93,
   "id": "410a9a26-98a8-47ff-ae89-559a0c406867",
   "metadata": {},
   "outputs": [],
   "source": [
    "# GridSearch\n",
    "\n",
    "from sklearn.model_selection import GridSearchCV \n",
    "\n",
    "params = {'C': [1, 10, 100, 1000], \n",
    "              'gamma': [0.01, 0.001, 0.0001],\n",
    "              'kernel': ['linear', 'poly', 'rbf']} \n",
    "\n",
    "# Create gridsearch\n",
    "svr_reg_cv = GridSearchCV(estimator = SVR(), param_grid = params, refit = True, verbose = 3)"
   ]
  },
  {
   "cell_type": "code",
   "execution_count": null,
   "id": "80ffcf42-cb79-465c-ab9d-9b4a6f3433f1",
   "metadata": {},
   "outputs": [
    {
     "name": "stdout",
     "output_type": "stream",
     "text": [
      "Fitting 5 folds for each of 36 candidates, totalling 180 fits\n",
      "[CV 1/5] END ....C=1, gamma=0.01, kernel=linear;, score=0.654 total time=  13.7s\n",
      "[CV 2/5] END ....C=1, gamma=0.01, kernel=linear;, score=0.635 total time=  13.0s\n",
      "[CV 3/5] END ....C=1, gamma=0.01, kernel=linear;, score=0.646 total time=  12.1s\n",
      "[CV 4/5] END ....C=1, gamma=0.01, kernel=linear;, score=0.651 total time=  13.2s\n",
      "[CV 5/5] END ....C=1, gamma=0.01, kernel=linear;, score=0.646 total time=  13.1s\n",
      "[CV 1/5] END ......C=1, gamma=0.01, kernel=poly;, score=0.078 total time=  15.1s\n",
      "[CV 2/5] END ......C=1, gamma=0.01, kernel=poly;, score=0.044 total time=  13.9s\n",
      "[CV 3/5] END ......C=1, gamma=0.01, kernel=poly;, score=0.087 total time=  15.8s\n",
      "[CV 4/5] END ......C=1, gamma=0.01, kernel=poly;, score=0.089 total time=  15.6s\n",
      "[CV 5/5] END ......C=1, gamma=0.01, kernel=poly;, score=0.072 total time=  13.3s\n",
      "[CV 1/5] END .......C=1, gamma=0.01, kernel=rbf;, score=0.154 total time=  15.9s\n",
      "[CV 2/5] END .......C=1, gamma=0.01, kernel=rbf;, score=0.105 total time=  15.7s\n",
      "[CV 3/5] END .......C=1, gamma=0.01, kernel=rbf;, score=0.150 total time=  16.1s\n",
      "[CV 4/5] END .......C=1, gamma=0.01, kernel=rbf;, score=0.145 total time=  15.4s\n",
      "[CV 5/5] END .......C=1, gamma=0.01, kernel=rbf;, score=0.144 total time=  16.7s\n",
      "[CV 1/5] END ...C=1, gamma=0.001, kernel=linear;, score=0.654 total time=  13.5s\n",
      "[CV 2/5] END ...C=1, gamma=0.001, kernel=linear;, score=0.635 total time=  13.5s\n",
      "[CV 3/5] END ...C=1, gamma=0.001, kernel=linear;, score=0.646 total time=  15.3s\n",
      "[CV 4/5] END ...C=1, gamma=0.001, kernel=linear;, score=0.651 total time=  15.9s\n",
      "[CV 5/5] END ...C=1, gamma=0.001, kernel=linear;, score=0.646 total time=  15.2s\n",
      "[CV 1/5] END ....C=1, gamma=0.001, kernel=poly;, score=-0.043 total time=  16.4s\n",
      "[CV 2/5] END ....C=1, gamma=0.001, kernel=poly;, score=-0.079 total time=  13.7s\n",
      "[CV 3/5] END ....C=1, gamma=0.001, kernel=poly;, score=-0.045 total time=  15.0s\n",
      "[CV 4/5] END ....C=1, gamma=0.001, kernel=poly;, score=-0.050 total time=  13.2s\n",
      "[CV 5/5] END ....C=1, gamma=0.001, kernel=poly;, score=-0.053 total time=  13.7s\n",
      "[CV 1/5] END ......C=1, gamma=0.001, kernel=rbf;, score=0.059 total time=  15.8s\n",
      "[CV 2/5] END ......C=1, gamma=0.001, kernel=rbf;, score=0.015 total time=  16.6s\n",
      "[CV 3/5] END ......C=1, gamma=0.001, kernel=rbf;, score=0.056 total time=  16.6s\n",
      "[CV 4/5] END ......C=1, gamma=0.001, kernel=rbf;, score=0.053 total time=  16.0s\n",
      "[CV 5/5] END ......C=1, gamma=0.001, kernel=rbf;, score=0.046 total time=  18.2s\n",
      "[CV 1/5] END ..C=1, gamma=0.0001, kernel=linear;, score=0.654 total time=  13.1s\n",
      "[CV 2/5] END ..C=1, gamma=0.0001, kernel=linear;, score=0.635 total time=  13.2s\n",
      "[CV 3/5] END ..C=1, gamma=0.0001, kernel=linear;, score=0.646 total time=  13.5s\n",
      "[CV 4/5] END ..C=1, gamma=0.0001, kernel=linear;, score=0.651 total time=  13.6s\n",
      "[CV 5/5] END ..C=1, gamma=0.0001, kernel=linear;, score=0.646 total time=  16.7s\n",
      "[CV 1/5] END ...C=1, gamma=0.0001, kernel=poly;, score=-0.043 total time=  15.4s\n",
      "[CV 2/5] END ...C=1, gamma=0.0001, kernel=poly;, score=-0.080 total time=  15.6s\n",
      "[CV 3/5] END ...C=1, gamma=0.0001, kernel=poly;, score=-0.046 total time=  14.0s\n",
      "[CV 4/5] END ...C=1, gamma=0.0001, kernel=poly;, score=-0.051 total time=  14.8s\n",
      "[CV 5/5] END ...C=1, gamma=0.0001, kernel=poly;, score=-0.054 total time=  14.1s\n",
      "[CV 1/5] END ....C=1, gamma=0.0001, kernel=rbf;, score=-0.030 total time=  16.1s\n",
      "[CV 2/5] END ....C=1, gamma=0.0001, kernel=rbf;, score=-0.068 total time=  16.2s\n",
      "[CV 3/5] END ....C=1, gamma=0.0001, kernel=rbf;, score=-0.032 total time=  17.0s\n",
      "[CV 4/5] END ....C=1, gamma=0.0001, kernel=rbf;, score=-0.037 total time=  16.4s\n",
      "[CV 5/5] END ....C=1, gamma=0.0001, kernel=rbf;, score=-0.041 total time=  17.5s\n",
      "[CV 1/5] END ...C=10, gamma=0.01, kernel=linear;, score=0.657 total time=  13.4s\n",
      "[CV 2/5] END ...C=10, gamma=0.01, kernel=linear;, score=0.639 total time=  13.6s\n",
      "[CV 3/5] END ...C=10, gamma=0.01, kernel=linear;, score=0.649 total time=  13.4s\n",
      "[CV 4/5] END ...C=10, gamma=0.01, kernel=linear;, score=0.656 total time=  14.3s\n",
      "[CV 5/5] END ...C=10, gamma=0.01, kernel=linear;, score=0.651 total time=  14.7s\n",
      "[CV 1/5] END .....C=10, gamma=0.01, kernel=poly;, score=0.336 total time=  12.6s\n",
      "[CV 2/5] END .....C=10, gamma=0.01, kernel=poly;, score=0.294 total time=  13.0s\n",
      "[CV 3/5] END .....C=10, gamma=0.01, kernel=poly;, score=0.350 total time=  12.6s\n",
      "[CV 4/5] END .....C=10, gamma=0.01, kernel=poly;, score=0.336 total time=  13.0s\n",
      "[CV 5/5] END .....C=10, gamma=0.01, kernel=poly;, score=0.325 total time=  12.6s\n",
      "[CV 1/5] END ......C=10, gamma=0.01, kernel=rbf;, score=0.480 total time=  15.6s\n",
      "[CV 2/5] END ......C=10, gamma=0.01, kernel=rbf;, score=0.422 total time=  16.2s\n",
      "[CV 3/5] END ......C=10, gamma=0.01, kernel=rbf;, score=0.466 total time=  15.3s\n",
      "[CV 4/5] END ......C=10, gamma=0.01, kernel=rbf;, score=0.468 total time=  15.5s\n",
      "[CV 5/5] END ......C=10, gamma=0.01, kernel=rbf;, score=0.472 total time=  16.3s\n",
      "[CV 1/5] END ..C=10, gamma=0.001, kernel=linear;, score=0.657 total time=  13.5s\n",
      "[CV 2/5] END ..C=10, gamma=0.001, kernel=linear;, score=0.639 total time=  14.4s\n",
      "[CV 3/5] END ..C=10, gamma=0.001, kernel=linear;, score=0.649 total time=  13.9s\n",
      "[CV 4/5] END ..C=10, gamma=0.001, kernel=linear;, score=0.656 total time=  14.6s\n",
      "[CV 5/5] END ..C=10, gamma=0.001, kernel=linear;, score=0.651 total time=  14.4s\n",
      "[CV 1/5] END ...C=10, gamma=0.001, kernel=poly;, score=-0.037 total time=  12.0s\n"
     ]
    }
   ],
   "source": [
    "# Fit GridSearchCV\n",
    "svr_reg_cv.fit(X_train_clean, y_train.flatten())"
   ]
  },
  {
   "cell_type": "code",
   "execution_count": null,
   "id": "9efacc75-0649-47bd-9de9-85c03e429e93",
   "metadata": {},
   "outputs": [],
   "source": [
    "svr_reg_cv.best_params_"
   ]
  },
  {
   "cell_type": "code",
   "execution_count": null,
   "id": "ed8c41a9-082f-431e-a06d-194a5837a21f",
   "metadata": {},
   "outputs": [],
   "source": [
    "svr_reg_cv.best_estimator_"
   ]
  },
  {
   "cell_type": "code",
   "execution_count": null,
   "id": "423dd784-4591-45c1-b5b2-c313c9c9e738",
   "metadata": {},
   "outputs": [],
   "source": [
    "svr_reg = SVR(C = svr_reg_cv.best_params_['C'],\n",
    "              gamma = svr_reg_cv.best_params_['gamma'],\n",
    "              kernel = svr_reg_cv.best_params_['kernel']) "
   ]
  },
  {
   "cell_type": "code",
   "execution_count": null,
   "id": "227a2631-2420-455f-ac97-dc3071f4b257",
   "metadata": {},
   "outputs": [],
   "source": [
    "# Refit the Support Vector Regression\n",
    "svr_reg.fit(X_train_clean, y_train.flatten())\n",
    "\n",
    "# Predict using the train data\n",
    "y_pred_train = svr_reg.predict(X_train_clean)\n",
    "\n",
    "# Calculate R-squared\n",
    "r2_svr_cv = r2_score(y_train, y_pred_train)\n",
    "\n",
    "# Calculate MAE\n",
    "mae_svr_cv = mean_absolute_error(y_train, y_pred_train)\n",
    "\n",
    "print(f\"R2-score: {r2_svr_cv:.4f} and MAE score: {mae_svr_cv:.4f}\")"
   ]
  },
  {
   "cell_type": "code",
   "execution_count": null,
   "id": "67b0932d-a10d-4256-b0e8-411dc8d079f8",
   "metadata": {},
   "outputs": [],
   "source": [
    "sns.jointplot(x=y_train.flatten(), y=y_pred_train.flatten());"
   ]
  },
  {
   "cell_type": "markdown",
   "id": "a7cc653e-4d66-4c9a-a3ab-5730636aba13",
   "metadata": {},
   "source": [
    "##### GradientBoosting\n",
    "The gradient boosting, is one of the recommendation from previous works, is a model where each sample would be given a different weights (boosts) depending on its performance in predicting the value/ target."
   ]
  },
  {
   "cell_type": "code",
   "execution_count": null,
   "id": "aecf1ff9-1944-41d5-a087-e4eef9bc2751",
   "metadata": {},
   "outputs": [],
   "source": [
    "from sklearn.ensemble import GradientBoostingRegressor\n",
    "# Build random forest\n",
    "grad_tree = GradientBoostingRegressor(random_state = 123)"
   ]
  },
  {
   "cell_type": "code",
   "execution_count": null,
   "id": "34bf7cd0-6926-4fa6-a6f9-f2d0c83293a2",
   "metadata": {},
   "outputs": [],
   "source": [
    "# Fit random forest\n",
    "grad_tree.fit(X_train_clean, y_train.flatten())"
   ]
  },
  {
   "cell_type": "code",
   "execution_count": null,
   "id": "311a35ac-df6c-4191-ba1f-1d481633df1c",
   "metadata": {},
   "outputs": [],
   "source": [
    "# Predict\n",
    "y_pred_train = grad_tree.predict(X_train_clean)\n",
    "# y_pred_test = grad_tree.predict(X_test_clean)\n",
    "\n",
    "# Calculate mean absolute error\n",
    "mae_gb = mean_absolute_error(y_train, y_pred_train)\n",
    "\n",
    "# Calculate R-squared\n",
    "r2_gb = r2_score(y_train, y_pred_train)\n",
    "\n",
    "print(f\"R2-score: {r2_gb:.4f} and MAE score: {mae_gb:.4f}\")"
   ]
  },
  {
   "cell_type": "code",
   "execution_count": null,
   "id": "78291e0d-f788-451a-b6e3-e8a6d33d1197",
   "metadata": {},
   "outputs": [],
   "source": [
    "sns.jointplot(x=y_train.flatten(), y=y_pred_train.flatten());"
   ]
  },
  {
   "cell_type": "code",
   "execution_count": null,
   "id": "a679e203-854b-4a8a-8b9b-bd8cec72da96",
   "metadata": {},
   "outputs": [],
   "source": [
    "# GridSearch\n",
    "\n",
    "#from sklearn.model_selection import GridSearchCV \n",
    "\n",
    "\n",
    "params = {'n_estimators': [100, 200, 300, 400, 500],\n",
    "              'learning_rate': [0.1, 0.05, 0.01]}\n",
    "\n",
    "# Create gridsearch\n",
    "grad_tree = GradientBoostingRegressor(random_state = 123)\n",
    "\n",
    "grad_tree_cv = GridSearchCV(estimator = grad_tree,\n",
    "                           param_grid = params,\n",
    "                           cv = 5,\n",
    "                           scoring = \"neg_mean_absolute_error\")"
   ]
  },
  {
   "cell_type": "code",
   "execution_count": null,
   "id": "60bdb4ba-2005-4803-b74a-49434794d4d4",
   "metadata": {},
   "outputs": [],
   "source": [
    "# Fit GridSearchCV\n",
    "grad_tree_cv.fit(X_train_clean, y_train.flatten())"
   ]
  },
  {
   "cell_type": "code",
   "execution_count": null,
   "id": "6ea7efc9-1c82-40b8-b303-6aa17d1815d4",
   "metadata": {},
   "outputs": [],
   "source": [
    "grad_tree_cv.best_params_"
   ]
  },
  {
   "cell_type": "code",
   "execution_count": null,
   "id": "afeed7c4-3be7-484e-9718-b6654fe086ee",
   "metadata": {},
   "outputs": [],
   "source": [
    "# Refit the Adaboost\n",
    "grad_tree = GradientBoostingRegressor(n_estimators = grad_tree_cv.best_params_[\"n_estimators\"],\n",
    "                                      random_state = 123)\n",
    "\n",
    "grad_tree.fit(X_train_clean, y_train.flatten())"
   ]
  },
  {
   "cell_type": "code",
   "execution_count": null,
   "id": "ee4fb76c-4937-4510-8c5c-d3dbb950c507",
   "metadata": {},
   "outputs": [],
   "source": [
    "# Predict\n",
    "y_pred_train = grad_tree.predict(X_train_clean)\n",
    "\n",
    "# Calculate mean absolute error\n",
    "mae_gb_cv = mean_absolute_error(y_train, y_pred_train)\n",
    "\n",
    "# Calculate R-squared\n",
    "r2_gb_cv = r2_score(y_train, y_pred_train)\n",
    "\n",
    "print(f\"R2-score: {r2_gb_cv:.4f} and MAE score: {mae_gb_cv:.4f}\")"
   ]
  },
  {
   "cell_type": "code",
   "execution_count": null,
   "id": "28a97503-8d01-4ff9-8875-0d61b077bccd",
   "metadata": {},
   "outputs": [],
   "source": [
    "sns.jointplot(x=y_train.flatten(), y=y_pred_train.flatten())"
   ]
  },
  {
   "cell_type": "markdown",
   "id": "9a04daac-a3a2-4e48-a0e0-6607d14bf462",
   "metadata": {},
   "source": [
    "##### Random Forest\n",
    "The last model, which was also recommended by previous works, is a model where not only it has weights based on its performance, but the feature selection in which the sample is measured was done at random. Therefore, reduces not only the variance, but also the bias."
   ]
  },
  {
   "cell_type": "code",
   "execution_count": null,
   "id": "5f7d5ee5-256c-4c48-ad3d-d180f5ddde22",
   "metadata": {},
   "outputs": [],
   "source": [
    "from sklearn.ensemble import RandomForestRegressor"
   ]
  },
  {
   "cell_type": "code",
   "execution_count": null,
   "id": "5ff9abf9-d4a7-45c8-a6e0-e40d3ebee0da",
   "metadata": {},
   "outputs": [],
   "source": [
    "# Build random forest\n",
    "rf_tree = RandomForestRegressor(n_estimators = 100,\n",
    "                                criterion = \"squared_error\",\n",
    "                                max_features = \"sqrt\",\n",
    "                                random_state = 123)"
   ]
  },
  {
   "cell_type": "code",
   "execution_count": null,
   "id": "7ec087bd-77a6-437f-aaf4-64c8d90752e7",
   "metadata": {},
   "outputs": [],
   "source": [
    "# Fit random forest\n",
    "rf_tree.fit(X_train_clean, y_train.flatten())"
   ]
  },
  {
   "cell_type": "code",
   "execution_count": null,
   "id": "56a01787-d1d1-4cc2-9c1d-5446e347dc54",
   "metadata": {},
   "outputs": [],
   "source": [
    "# Predict\n",
    "y_pred_train = rf_tree.predict(X_train_clean)\n",
    "\n",
    "# Calculate mean absolute error\n",
    "mae_rf = mean_absolute_error(y_train, y_pred_train)\n",
    "\n",
    "# Calculate R-squared\n",
    "r2_rf = r2_score(y_train, y_pred_train)\n",
    "\n",
    "print(f\"R2-score: {r2_rf:.4f} and MAE score: {mae_rf:.4f}\")"
   ]
  },
  {
   "cell_type": "code",
   "execution_count": null,
   "id": "cd12de0d-ade3-45d8-a857-b5748b59a8e6",
   "metadata": {},
   "outputs": [],
   "source": [
    "sns.jointplot(x=y_train.flatten(), y=y_pred_train.flatten())"
   ]
  },
  {
   "cell_type": "code",
   "execution_count": null,
   "id": "1e2b80c3-7de2-4f98-91de-b17315e88e66",
   "metadata": {},
   "outputs": [],
   "source": [
    "params = {\"n_estimators\": [100, 200, 300, 500 ],\n",
    "          \"max_features\": [\"sqrt\", \"log2\"]}\n",
    "\n",
    "# Create GridSearch\n",
    "rf_tree = RandomForestRegressor(criterion = \"squared_error\",\n",
    "                                random_state = 123)\n",
    "\n",
    "rf_tree_cv = GridSearchCV(estimator = rf_tree,\n",
    "                          param_grid = params,\n",
    "                          cv = 5,\n",
    "                          scoring = \"neg_mean_absolute_error\")"
   ]
  },
  {
   "cell_type": "code",
   "execution_count": null,
   "id": "e97dc0cf-67b1-4c9a-bb38-316d49996e1f",
   "metadata": {},
   "outputs": [],
   "source": [
    "# Fit grid search cv\n",
    "rf_tree_cv.fit(X_train_clean, y_train.flatten())"
   ]
  },
  {
   "cell_type": "code",
   "execution_count": null,
   "id": "9bb29e7d-3c95-477d-b493-6958e05f1c5e",
   "metadata": {},
   "outputs": [],
   "source": [
    "# Best params\n",
    "rf_tree_cv.best_params_"
   ]
  },
  {
   "cell_type": "code",
   "execution_count": null,
   "id": "2457f25a-eb16-42eb-91e2-e52c0b6f57ea",
   "metadata": {},
   "outputs": [],
   "source": [
    "# Refit the Random Forest\n",
    "rf_tree = RandomForestRegressor(criterion = \"squared_error\",\n",
    "                                max_features = rf_tree_cv.best_params_[\"max_features\"],\n",
    "                                n_estimators = rf_tree_cv.best_params_[\"n_estimators\"],\n",
    "                                random_state = 123)\n",
    "\n",
    "rf_tree.fit(X_train_clean, y_train.flatten())"
   ]
  },
  {
   "cell_type": "code",
   "execution_count": null,
   "id": "bf1d01b9-b2ed-4155-a2fa-cdfe12706af7",
   "metadata": {},
   "outputs": [],
   "source": [
    "# Predict\n",
    "y_pred_train = rf_tree.predict(X_train_clean)\n",
    "\n",
    "# Calculate mean absolute error\n",
    "mae_rf_cv = mean_absolute_error(y_train, y_pred_train)\n",
    "\n",
    "# # Calculate R-squared\n",
    "r2_rf_cv = r2_score(y_train, y_pred_train)\n",
    "\n",
    "print(f\"R2-score: {r2_rf_cv:.4f} and MAE score: {mae_rf_cv:.4f}\")"
   ]
  },
  {
   "cell_type": "code",
   "execution_count": null,
   "id": "6568ac14-e7d7-489b-b830-8e4298ea2d6d",
   "metadata": {},
   "outputs": [],
   "source": [
    "sns.jointplot(x=y_train.flatten(), y=y_pred_train.flatten())"
   ]
  },
  {
   "cell_type": "code",
   "execution_count": null,
   "id": "77fd19e6-e4bf-4b82-9562-432885270b74",
   "metadata": {},
   "outputs": [],
   "source": [
    "mae_score = [mae_baseline, mae_linreg, mae_svr, mae_svr_cv, mae_gb, mae_gb_cv, mae_rf, mae_rf_cv]\n",
    "r2_score = [r2_baseline, r2_linreg, r2_svr, r2_svr_cv, r2_gb, r2_gb_cv, r2_rf, r2_rf_cv]\n",
    "indexes = [\"baseline\", \"linear regression\", \"support vector regreession\", \"support vector regreession with CV\", \"gradient boosting\", \"gradient boosting with CV\", \"random forest\",  \"random forest with CV\"]\n",
    "\n",
    "summary_df = pd.DataFrame({\n",
    "    \"MAE Train\": mae_score,\n",
    "    \"R2-Score\": r2_score,\n",
    "},index = indexes)\n",
    "\n",
    "summary_df.sort_values(by='R2-Score', ascending=False)"
   ]
  },
  {
   "cell_type": "markdown",
   "id": "39fbdcbe-7a15-467c-8100-f25feefd28b7",
   "metadata": {},
   "source": [
    "#### \n",
    "From the above table, it can be seen that Random Forest model performs the best, and Gradient Boosting at the second place. This is similar to the previous work done by others, on house pricing."
   ]
  },
  {
   "cell_type": "markdown",
   "id": "82519b1d-4225-4f18-9e14-a6be9aaed4fd",
   "metadata": {},
   "source": [
    "##### Best Model"
   ]
  },
  {
   "cell_type": "code",
   "execution_count": null,
   "id": "e568fa89-857e-4253-9242-b611bedbf9c3",
   "metadata": {},
   "outputs": [],
   "source": [
    "# Libraries\n",
    "from sklearn.ensemble import RandomForestRegressor\n",
    "from sklearn.metrics import mean_squared_error, r2_score\n",
    "\n",
    "\n",
    "# Setting up\n",
    "rf_tree = RandomForestRegressor(n_estimators = 500,\n",
    "                                criterion = \"squared_error\",\n",
    "                                max_features = \"sqrt\",\n",
    "                                random_state = 123)\n",
    "\n",
    "# Fit model train\n",
    "rf_tree.fit(X_train_clean, y_train.flatten())\n",
    "\n",
    "# Predict model train\n",
    "y_pred_train = rf_tree.predict(X_train_clean)\n",
    "\n",
    "# Calculate mean absolute error\n",
    "mae_rf_cv_train = mean_absolute_error(y_train, y_pred_train)\n",
    "\n",
    "# Calculate R-squared\n",
    "r2_rf_cv_train = r2_score(y_train, y_pred_train)\n",
    "\n",
    "print(f\"R2-score: {r2_rf_cv_train:.3f} and MAE score: +/-{mae_rf_cv_train:.2f} RM\")\n",
    "\n",
    "sns.scatterplot(x=y_train.flatten(), y=y_pred_train.flatten() )\n",
    "plt.plot([0, 5500], [0,5500], \"--r\")\n",
    "plt.xlim(0, 5500)\n",
    "plt.xlabel(\"Actual Monthly Rent\")\n",
    "plt.ylim(0,5500)\n",
    "plt.ylabel(\"Predicted Monthly Rent\")\n",
    "plt.suptitle(\"Random Forest - Best Regression Model\")\n",
    "plt.show()"
   ]
  },
  {
   "cell_type": "markdown",
   "id": "3c6f94b7-16fd-42da-b7ff-e8791d97f5c3",
   "metadata": {},
   "source": [
    "### Data Prediction"
   ]
  },
  {
   "cell_type": "markdown",
   "id": "fb34e2ce-0b19-42b0-9f2f-3ba5762e26b2",
   "metadata": {},
   "source": [
    "##### Test Data Preprocessing\n",
    "Simlar process done in train dataset need to be repeated on test dataset."
   ]
  },
  {
   "cell_type": "code",
   "execution_count": null,
   "id": "da57ffac-aa71-4ffd-bb45-3ab33208b4e1",
   "metadata": {},
   "outputs": [],
   "source": [
    "# Checking null data\n",
    "X_test.isna().sum()"
   ]
  },
  {
   "cell_type": "code",
   "execution_count": null,
   "id": "37f4c905-7144-4f8a-a7fb-46eab08554ef",
   "metadata": {},
   "outputs": [],
   "source": [
    "X_test_num =  X_test.select_dtypes(exclude='object')\n",
    "X_test_num"
   ]
  },
  {
   "cell_type": "code",
   "execution_count": null,
   "id": "2305e39a-a253-43b1-a050-edab84d195a1",
   "metadata": {},
   "outputs": [],
   "source": [
    "X_test_num.isna().sum()"
   ]
  },
  {
   "cell_type": "code",
   "execution_count": null,
   "id": "f8654e89-e924-4c4d-846e-cbb906496391",
   "metadata": {},
   "outputs": [],
   "source": [
    "X_test_num, imputer_num = numericalImputation(X_test_num, strategy='most_frequent')\n",
    "X_test_num.isna().sum()"
   ]
  },
  {
   "cell_type": "markdown",
   "id": "2515b0fd-b3a5-4691-bf50-feda2e47e71e",
   "metadata": {},
   "source": [
    "##### Categorical Data"
   ]
  },
  {
   "cell_type": "code",
   "execution_count": null,
   "id": "3e54d5e5-1b5c-45e7-9713-2eded98161f3",
   "metadata": {},
   "outputs": [],
   "source": [
    "X_test_cat = X_test.select_dtypes(include='object')\n",
    "X_test_cat"
   ]
  },
  {
   "cell_type": "code",
   "execution_count": null,
   "id": "0f7fc0bb-5cf8-4de4-aef4-117a0052ef20",
   "metadata": {},
   "outputs": [],
   "source": [
    "X_test_cat.isna().sum()"
   ]
  },
  {
   "cell_type": "code",
   "execution_count": null,
   "id": "d0c90828-d83a-48cc-bc54-a196718f6dc5",
   "metadata": {},
   "outputs": [],
   "source": [
    "X_test_cat, imputer_num = numericalImputationNone(X_test_cat, strategy='most_frequent')\n",
    "X_test_cat.isna().sum()"
   ]
  },
  {
   "cell_type": "markdown",
   "id": "38b41714-551a-42a5-bf6f-b8609802e70e",
   "metadata": {},
   "source": [
    "#### Categorical OHE"
   ]
  },
  {
   "cell_type": "code",
   "execution_count": null,
   "id": "4245c9fc-0136-4583-90de-bfa7e1a93287",
   "metadata": {},
   "outputs": [],
   "source": [
    "X_test_cat_ohe =  pd.get_dummies(X_test_cat)\n",
    "X_test_cat_ohe.head(2)"
   ]
  },
  {
   "cell_type": "code",
   "execution_count": null,
   "id": "80d67032-b76a-43b1-b04b-b4cf415920d9",
   "metadata": {},
   "outputs": [],
   "source": [
    "ohe_columns = X_test_cat_ohe.columns\n",
    "ohe_columns"
   ]
  },
  {
   "cell_type": "code",
   "execution_count": null,
   "id": "b67a744d-29e4-4c27-94c8-c62ab7791a54",
   "metadata": {},
   "outputs": [],
   "source": [
    "X_test_concat = pd.concat([X_test_num,\n",
    "                            X_test_cat_ohe],\n",
    "                           axis = 1)"
   ]
  },
  {
   "cell_type": "code",
   "execution_count": null,
   "id": "1ae67ec4-b7b7-4c7a-9e93-b590f87cca4f",
   "metadata": {},
   "outputs": [],
   "source": [
    "X_test_concat.head(2)"
   ]
  },
  {
   "cell_type": "code",
   "execution_count": null,
   "id": "092f1b38-2fae-4fae-8127-d01b0fe8ea17",
   "metadata": {},
   "outputs": [],
   "source": [
    "#sanity check\n",
    "X_test_concat.isnull().sum()"
   ]
  },
  {
   "cell_type": "markdown",
   "id": "114f9443-462f-489f-99ed-0cbfee96f11e",
   "metadata": {},
   "source": [
    "##### Standardization"
   ]
  },
  {
   "cell_type": "code",
   "execution_count": null,
   "id": "98cf5e5e-7d11-45fc-a8ba-0440c37c18ba",
   "metadata": {},
   "outputs": [],
   "source": [
    "from sklearn.preprocessing import StandardScaler\n",
    "def standardizerData(data):\n",
    "    data_columns = data.columns  # agar nama kolom tidak hilang\n",
    "    data_index = data.index  # agar index tidak hilang\n",
    "\n",
    "    # create and fit standardizer\n",
    "    standardizer = StandardScaler()\n",
    "    standardizer.fit(data)\n",
    "\n",
    "    # transform data\n",
    "    standardized_data_raw = standardizer.transform(data)\n",
    "    standardized_data = pd.DataFrame(standardized_data_raw)\n",
    "    standardized_data.columns = data_columns\n",
    "    standardized_data.index = data_index\n",
    "\n",
    "    return standardized_data, standardizer"
   ]
  },
  {
   "cell_type": "code",
   "execution_count": null,
   "id": "328a0f92-3331-4252-a83c-57efc5627ceb",
   "metadata": {},
   "outputs": [],
   "source": [
    "X_test_clean, standardizer = standardizerData(data = X_test_concat)"
   ]
  },
  {
   "cell_type": "code",
   "execution_count": null,
   "id": "c3e5cfd5-159e-4dc7-bc3b-f379c3aa8d5a",
   "metadata": {},
   "outputs": [],
   "source": [
    "X_test_clean.head()"
   ]
  },
  {
   "cell_type": "markdown",
   "id": "4cd4e048-017c-48cd-acd9-87046231d94f",
   "metadata": {},
   "source": [
    "##### Test Data Result"
   ]
  },
  {
   "cell_type": "code",
   "execution_count": null,
   "id": "1a9f1c08-3cb8-46c3-affa-9d6db3b3047a",
   "metadata": {},
   "outputs": [],
   "source": [
    "# libraries\n",
    "from sklearn.ensemble import RandomForestRegressor\n",
    "from sklearn.metrics import mean_squared_error, r2_score\n",
    "\n",
    "\n",
    "#setting up\n",
    "rf_tree = RandomForestRegressor(n_estimators = 500,\n",
    "                                criterion = \"squared_error\",\n",
    "                                max_features = \"sqrt\",\n",
    "                                random_state = 123)\n",
    "\n",
    "#fit model train\n",
    "rf_tree.fit(X_train_clean, y_train.flatten())\n",
    "\n",
    "# Predict model\n",
    "y_pred_test = rf_tree.predict(X_test_clean)\n",
    "\n",
    "# Calculate mean absolute error\n",
    "mae_rf_cv_test = mean_absolute_error(y_test, y_pred_test)\n",
    "\n",
    "# # Calculate R-squared\n",
    "r2_rf_cv_test = r2_score(y_test, y_pred_test)\n",
    "\n",
    "print(f\"R2-score: {r2_rf_cv_test:.3f} and MAE score: +/-{mae_rf_cv_test:.2f} RM\")\n",
    "\n",
    "sns.scatterplot(x=y_test.flatten(), y=y_pred_test.flatten())\n",
    "plt.plot([0, 5500], [0,5500], \"--r\")\n",
    "plt.xlim(0, 5500)\n",
    "plt.xlabel(\"Actual Monthly Rent\")\n",
    "plt.ylim(0,5500)\n",
    "plt.ylabel(\"Predicted Monthly Rent\")\n",
    "plt.suptitle(\"Random Forest - Best Regression Model\")\n",
    "plt.show()"
   ]
  },
  {
   "cell_type": "code",
   "execution_count": null,
   "id": "aeeb8444-db23-4a47-abd3-bc472583bb15",
   "metadata": {},
   "outputs": [],
   "source": [
    "mae_score = [mae_rf_cv_train, mae_rf_cv_test]\n",
    "r2_score = [r2_rf_cv_train, r2_rf_cv_test]\n",
    "indexes = [\"train\", \"test\"]\n",
    "\n",
    "summary_df_train_test = pd.DataFrame({\n",
    "    \"MAE Train\": mae_score,\n",
    "    \"R2-Score\": r2_score,\n",
    "},index = indexes)\n",
    "\n",
    "summary_df_train_test"
   ]
  },
  {
   "cell_type": "markdown",
   "id": "808e56d5-9342-4b8c-808d-49c2796dadda",
   "metadata": {},
   "source": [
    "##### Feature Importance"
   ]
  },
  {
   "cell_type": "code",
   "execution_count": null,
   "id": "663a4d65-bc9d-4a94-a32a-fc0d1b376618",
   "metadata": {},
   "outputs": [],
   "source": [
    "# calculate the feature importances\n",
    "importances = rf_tree.feature_importances_\n",
    "\n",
    "# rescale the importances back to the original scale of the features\n",
    "importances = importances * X_train_clean.std()\n",
    "\n",
    "# sort the feature importances in descending order\n",
    "sorted_index = importances.argsort()[::-1]\n",
    "\n",
    "# print the feature importances\n",
    "dict_feature_importance = {}\n",
    "for i in sorted_index:\n",
    "    # print(\"{}: {}\".format(X_train_clean.columns[i], importances[i]))\n",
    "    dict_feature_importance.update({X_train_clean.columns[i]: importances[i]})\n",
    "    \n",
    "# Create a DataFrame from the dictionary\n",
    "df = pd.DataFrame.from_dict(dict_feature_importance, orient='index', columns=['values'])\n",
    "\n",
    "# Reset the index to become a column\n",
    "df = df.reset_index()\n",
    "\n",
    "# Rename the columns\n",
    "df.columns = ['feature', 'importance_value']\n",
    "\n",
    "df.sort_values(by='importance_value', ascending=False).head(10)"
   ]
  },
  {
   "cell_type": "markdown",
   "id": "2b80709a-cbe2-4a52-a434-418a9daa8d64",
   "metadata": {},
   "source": [
    "##### Results\n",
    "Result indicates that the best model for prediction is Random Forest with hyperparameter tuning, scoring 95% on R2-score, and a shy 100 RM on MAE. This proves to be a good model since the test dataset gives a scoring of 80% on R2, and 240 RM on MAE.\n",
    "\n",
    "There are some factors that author believed to be affecting the result/ performance of the model:\n",
    "\n",
    "Dropping missing value reduces the performance! Initial model uses half of the data (4-5k rows) and gives poorer performance on R2 and MAE. Imputation and keeping the number of rows close to the original dataset (9k rows) proves to be improving the model. Especially on test dataset.\n",
    "Feature selection importance can be seen on the last table, but initially the selection was based on paper and intuition of the author (author lives and work in KL, Malaysia for 5 years). Feature such as completion_year and nearby_railways are important in improving the model.\n",
    "Last but not least is the outlier identification. The best practice for me is using jointplot to see not only the distribution of the data in 2-dimension, but also in the third dimension (the density) of the data.\n",
    "Some of the feature that were believed to be quite important even before doing the modeling is size, furnished and location. All three is available within the 10-most features affecting the modeling. As a context, location in KLCC is like Pondok Indah in South Jakarta. Location in Kiara is like BSD in South Tangerang.\n",
    "\n",
    "#### Discussions\n",
    "One of the feature that author thinks is significant but not appearing on the 10-best important feature is nearby_railways. This column is showing if a certain property has a close proximity to a railways (KTM/LRT). The issue is, half of the data is missing, hence the imputation. Author belives, the proximity to nearby railways line can be approximated using manhanttan distance of railways line to each property unit."
   ]
  },
  {
   "cell_type": "code",
   "execution_count": null,
   "id": "9c9e516d-153b-4aaf-a6f1-65b80b899561",
   "metadata": {},
   "outputs": [],
   "source": []
  }
 ],
 "metadata": {
  "kernelspec": {
   "display_name": "Python 3 (ipykernel)",
   "language": "python",
   "name": "python3"
  },
  "language_info": {
   "codemirror_mode": {
    "name": "ipython",
    "version": 3
   },
   "file_extension": ".py",
   "mimetype": "text/x-python",
   "name": "python",
   "nbconvert_exporter": "python",
   "pygments_lexer": "ipython3",
   "version": "3.11.0"
  }
 },
 "nbformat": 4,
 "nbformat_minor": 5
}

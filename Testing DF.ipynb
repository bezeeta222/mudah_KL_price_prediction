{
 "cells": [
  {
   "cell_type": "code",
   "execution_count": 1,
   "id": "b9cc95f7-34dc-4e5e-9bfd-d40ea7deb389",
   "metadata": {
    "tags": []
   },
   "outputs": [],
   "source": [
    "import sys\n",
    "import polars as pl\n",
    "import re\n",
    "import seaborn as sns\n",
    "import matplotlib.pyplot as plt\n",
    "import numpy as np\n",
    "import pandas as pd"
   ]
  },
  {
   "cell_type": "code",
   "execution_count": 2,
   "id": "742e1a6e-0bc6-440e-ba2c-726c808c2876",
   "metadata": {},
   "outputs": [],
   "source": [
    "file_path = sys.path[0]+\"/mudah-apartment-kl-selangor.csv\""
   ]
  },
  {
   "cell_type": "code",
   "execution_count": 3,
   "id": "e59012be-5e0e-40f5-968e-4b497c9dce91",
   "metadata": {},
   "outputs": [],
   "source": [
    "df = pl.read_csv(file_path, infer_schema_length=10000) "
   ]
  },
  {
   "cell_type": "code",
   "execution_count": 4,
   "id": "a4e68172-932e-4013-9e5e-ecbaf044d34a",
   "metadata": {},
   "outputs": [
    {
     "data": {
      "text/html": [
       "<div><style>\n",
       ".dataframe > thead > tr > th,\n",
       ".dataframe > tbody > tr > td {\n",
       "  text-align: right;\n",
       "}\n",
       "</style>\n",
       "<small>shape: (19991, 14)</small><table border=\"1\" class=\"dataframe\"><thead><tr><th>ads_id</th><th>prop_name</th><th>completion_year</th><th>monthly_rent</th><th>location</th><th>property_type</th><th>rooms</th><th>parking</th><th>bathroom</th><th>size</th><th>furnished</th><th>facilities</th><th>additional_facilities</th><th>region</th></tr><tr><td>i64</td><td>str</td><td>f64</td><td>str</td><td>str</td><td>str</td><td>str</td><td>f64</td><td>f64</td><td>str</td><td>str</td><td>str</td><td>str</td><td>str</td></tr></thead><tbody><tr><td>100323185</td><td>&quot;The Hipster @ …</td><td>2022.0</td><td>&quot;RM 4 200 per m…</td><td>&quot;Kuala Lumpur -…</td><td>&quot;Condominium&quot;</td><td>&quot;5&quot;</td><td>2.0</td><td>6.0</td><td>&quot;1842 sq.ft.&quot;</td><td>&quot;Fully Furnishe…</td><td>&quot;Minimart, Gymn…</td><td>&quot;Air-Cond, Cook…</td><td>&quot;Kuala Lumpur&quot;</td></tr><tr><td>100203973</td><td>&quot;Segar Courts&quot;</td><td>null</td><td>&quot;RM 2 300 per m…</td><td>&quot;Kuala Lumpur -…</td><td>&quot;Condominium&quot;</td><td>&quot;3&quot;</td><td>1.0</td><td>2.0</td><td>&quot;1170 sq.ft.&quot;</td><td>&quot;Partially Furn…</td><td>&quot;Playground, Pa…</td><td>&quot;Air-Cond, Cook…</td><td>&quot;Kuala Lumpur&quot;</td></tr><tr><td>100323128</td><td>&quot;Pangsapuri Ter…</td><td>null</td><td>&quot;RM 1 000 per m…</td><td>&quot;Kuala Lumpur -…</td><td>&quot;Apartment&quot;</td><td>&quot;3&quot;</td><td>null</td><td>2.0</td><td>&quot;650 sq.ft.&quot;</td><td>&quot;Fully Furnishe…</td><td>&quot;Minimart, Jogg…</td><td>null</td><td>&quot;Kuala Lumpur&quot;</td></tr><tr><td>100191767</td><td>&quot;Sentul Point S…</td><td>2020.0</td><td>&quot;RM 1 700 per m…</td><td>&quot;Kuala Lumpur -…</td><td>&quot;Apartment&quot;</td><td>&quot;2&quot;</td><td>1.0</td><td>2.0</td><td>&quot;743 sq.ft.&quot;</td><td>&quot;Partially Furn…</td><td>&quot;Parking, Playg…</td><td>&quot;Cooking Allowe…</td><td>&quot;Kuala Lumpur&quot;</td></tr><tr><td>97022692</td><td>&quot;Arte Mont Kiar…</td><td>null</td><td>&quot;RM 1 299 per m…</td><td>&quot;Kuala Lumpur -…</td><td>&quot;Service Reside…</td><td>&quot;1&quot;</td><td>1.0</td><td>1.0</td><td>&quot;494 sq.ft.&quot;</td><td>&quot;Not Furnished&quot;</td><td>&quot;Parking, Secur…</td><td>&quot;Air-Cond&quot;</td><td>&quot;Kuala Lumpur&quot;</td></tr><tr><td>100322897</td><td>&quot;Residensi Vist…</td><td>null</td><td>&quot;RM 1 500 per m…</td><td>&quot;Kuala Lumpur -…</td><td>&quot;Apartment&quot;</td><td>&quot;3&quot;</td><td>1.0</td><td>2.0</td><td>&quot;884 sq.ft.&quot;</td><td>&quot;Partially Furn…</td><td>&quot;Parking, Secur…</td><td>&quot;Cooking Allowe…</td><td>&quot;Kuala Lumpur&quot;</td></tr><tr><td>100322962</td><td>&quot;Sky Meridien&quot;</td><td>null</td><td>&quot;RM 2 900 per m…</td><td>&quot;Kuala Lumpur -…</td><td>&quot;Service Reside…</td><td>&quot;3&quot;</td><td>2.0</td><td>2.0</td><td>&quot;982 sq.ft.&quot;</td><td>&quot;Fully Furnishe…</td><td>&quot;Parking, Secur…</td><td>&quot;Air-Cond, Cook…</td><td>&quot;Kuala Lumpur&quot;</td></tr><tr><td>100322885</td><td>&quot;Arte Plus Jala…</td><td>2018.0</td><td>&quot;RM 1 550 per m…</td><td>&quot;Kuala Lumpur -…</td><td>&quot;Service Reside…</td><td>&quot;1&quot;</td><td>1.0</td><td>1.0</td><td>&quot;700 sq.ft.&quot;</td><td>&quot;Fully Furnishe…</td><td>&quot;Parking, Gymna…</td><td>&quot;Air-Cond, Cook…</td><td>&quot;Kuala Lumpur&quot;</td></tr><tr><td>100322866</td><td>&quot;Nova I&quot;</td><td>2014.0</td><td>&quot;RM 1 400 per m…</td><td>&quot;Kuala Lumpur -…</td><td>&quot;Apartment&quot;</td><td>&quot;2&quot;</td><td>1.0</td><td>1.0</td><td>&quot;750 sq.ft.&quot;</td><td>&quot;Fully Furnishe…</td><td>&quot;Playground, Se…</td><td>&quot;Air-Cond, Cook…</td><td>&quot;Kuala Lumpur&quot;</td></tr><tr><td>100322863</td><td>&quot;Sofiya Residen…</td><td>null</td><td>&quot;RM 1 350 per m…</td><td>&quot;Kuala Lumpur -…</td><td>&quot;Condominium&quot;</td><td>&quot;3&quot;</td><td>1.0</td><td>2.0</td><td>&quot;862 sq.ft.&quot;</td><td>&quot;Partially Furn…</td><td>&quot;Playground, Se…</td><td>&quot;Air-Cond, Cook…</td><td>&quot;Kuala Lumpur&quot;</td></tr><tr><td>100322813</td><td>&quot;The Park Sky R…</td><td>2019.0</td><td>&quot;RM 2 600 per m…</td><td>&quot;Kuala Lumpur -…</td><td>&quot;Service Reside…</td><td>&quot;2&quot;</td><td>null</td><td>2.0</td><td>&quot;868 sq.ft.&quot;</td><td>&quot;Partially Furn…</td><td>&quot;Parking, Playg…</td><td>&quot;Cooking Allowe…</td><td>&quot;Kuala Lumpur&quot;</td></tr><tr><td>100322809</td><td>&quot;PV9 Residences…</td><td>2022.0</td><td>&quot;RM 2 000 per m…</td><td>&quot;Kuala Lumpur -…</td><td>&quot;Service Reside…</td><td>&quot;4&quot;</td><td>2.0</td><td>2.0</td><td>&quot;1100 sq.ft.&quot;</td><td>&quot;Partially Furn…</td><td>&quot;Parking, Secur…</td><td>&quot;Air-Cond, Cook…</td><td>&quot;Kuala Lumpur&quot;</td></tr><tr><td>&hellip;</td><td>&hellip;</td><td>&hellip;</td><td>&hellip;</td><td>&hellip;</td><td>&hellip;</td><td>&hellip;</td><td>&hellip;</td><td>&hellip;</td><td>&hellip;</td><td>&hellip;</td><td>&hellip;</td><td>&hellip;</td><td>&hellip;</td></tr><tr><td>100047076</td><td>&quot;Cyberia SmartH…</td><td>2002.0</td><td>&quot;RM 1 400 per m…</td><td>&quot;Selangor - Cyb…</td><td>&quot;Condominium&quot;</td><td>&quot;4.0&quot;</td><td>1.0</td><td>3.0</td><td>&quot;1600 sq.ft.&quot;</td><td>&quot;Not Furnished&quot;</td><td>&quot;Parking, Secur…</td><td>&quot;Cooking Allowe…</td><td>&quot;Selangor&quot;</td></tr><tr><td>100493961</td><td>&quot;Residensi Lili…</td><td>null</td><td>&quot;RM 2 000 per m…</td><td>&quot;Selangor - Sep…</td><td>&quot;Condominium&quot;</td><td>&quot;4.0&quot;</td><td>2.0</td><td>4.0</td><td>&quot;1450 sq.ft.&quot;</td><td>&quot;Not Furnished&quot;</td><td>&quot;Parking, Secur…</td><td>&quot;Cooking Allowe…</td><td>&quot;Selangor&quot;</td></tr><tr><td>100047477</td><td>&quot;The Domain @ N…</td><td>2009.0</td><td>&quot;RM 1 200 per m…</td><td>&quot;Selangor - Cyb…</td><td>&quot;Service Reside…</td><td>&quot;2.0&quot;</td><td>1.0</td><td>2.0</td><td>&quot;780 sq.ft.&quot;</td><td>&quot;Fully Furnishe…</td><td>&quot;Parking, Secur…</td><td>&quot;Air-Cond, Cook…</td><td>&quot;Selangor&quot;</td></tr><tr><td>100493587</td><td>&quot;Permai Villa&quot;</td><td>null</td><td>&quot;RM 1 100 per m…</td><td>&quot;Selangor - Puc…</td><td>&quot;Apartment&quot;</td><td>&quot;3.0&quot;</td><td>1.0</td><td>2.0</td><td>&quot;941 sq.ft.&quot;</td><td>&quot;Partially Furn…</td><td>&quot;Parking, Minim…</td><td>null</td><td>&quot;Selangor&quot;</td></tr><tr><td>100493626</td><td>&quot;Lakefront Home…</td><td>2021.0</td><td>&quot;RM 885 per mon…</td><td>&quot;Selangor - Cyb…</td><td>&quot;Condominium&quot;</td><td>&quot;3.0&quot;</td><td>2.0</td><td>2.0</td><td>&quot;1015 sq.ft.&quot;</td><td>&quot;Partially Furn…</td><td>&quot;Parking, Secur…</td><td>&quot;Cooking Allowe…</td><td>&quot;Selangor&quot;</td></tr><tr><td>100493771</td><td>&quot;BSP Skypark Se…</td><td>null</td><td>&quot;RM 1 800 per m…</td><td>&quot;Selangor - Kua…</td><td>&quot;Service Reside…</td><td>&quot;4.0&quot;</td><td>3.0</td><td>3.0</td><td>&quot;1261 sq.ft.&quot;</td><td>&quot;Partially Furn…</td><td>&quot;Gymnasium, Min…</td><td>&quot;Air-Cond, Cook…</td><td>&quot;Selangor&quot;</td></tr><tr><td>100305654</td><td>&quot;Tiara Imperio …</td><td>2019.0</td><td>&quot;RM 1 500 per m…</td><td>&quot;Selangor - Kaj…</td><td>&quot;Service Reside…</td><td>&quot;2.0&quot;</td><td>2.0</td><td>1.0</td><td>&quot;455 sq.ft.&quot;</td><td>&quot;Fully Furnishe…</td><td>null</td><td>&quot;Air-Cond&quot;</td><td>&quot;Selangor&quot;</td></tr><tr><td>100493687</td><td>&quot;Pangsapuri Gap…</td><td>null</td><td>&quot;RM 1 200 per m…</td><td>&quot;Selangor - Kaj…</td><td>&quot;Apartment&quot;</td><td>&quot;3.0&quot;</td><td>null</td><td>2.0</td><td>&quot;1000 sq.ft.&quot;</td><td>&quot;Partially Furn…</td><td>&quot;Security, Park…</td><td>&quot;Near KTM/LRT&quot;</td><td>&quot;Selangor&quot;</td></tr><tr><td>100371347</td><td>&quot;BSP 21&quot;</td><td>2018.0</td><td>&quot;RM 1 300 per m…</td><td>&quot;Selangor - Ban…</td><td>&quot;Service Reside…</td><td>&quot;4.0&quot;</td><td>2.0</td><td>3.0</td><td>&quot;1427 sq.ft.&quot;</td><td>&quot;Partially Furn…</td><td>&quot;Jogging Track,…</td><td>&quot;Air-Cond, Cook…</td><td>&quot;Selangor&quot;</td></tr><tr><td>100493228</td><td>&quot;Ameera Residen…</td><td>null</td><td>&quot;RM 1 350 per m…</td><td>&quot;Selangor - Kaj…</td><td>&quot;Condominium&quot;</td><td>&quot;3.0&quot;</td><td>2.0</td><td>2.0</td><td>&quot;1270 sq.ft.&quot;</td><td>&quot;Partially Furn…</td><td>&quot;Parking, Secur…</td><td>&quot;Air-Cond, Cook…</td><td>&quot;Selangor&quot;</td></tr><tr><td>100235153</td><td>&quot;The Arc @ Cybe…</td><td>null</td><td>&quot;RM 1 200 per m…</td><td>&quot;Selangor - Cyb…</td><td>&quot;Service Reside…</td><td>&quot;3.0&quot;</td><td>1.0</td><td>2.0</td><td>&quot;1100 sq.ft.&quot;</td><td>&quot;Fully Furnishe…</td><td>&quot;Parking, Secur…</td><td>&quot;Cooking Allowe…</td><td>&quot;Selangor&quot;</td></tr><tr><td>100235168</td><td>&quot;Tamarind Suite…</td><td>2016.0</td><td>&quot;RM 1 000 per m…</td><td>&quot;Selangor - Cyb…</td><td>&quot;Studio&quot;</td><td>&quot;1.0&quot;</td><td>1.0</td><td>1.0</td><td>&quot;580 sq.ft.&quot;</td><td>&quot;Partially Furn…</td><td>&quot;Parking, Secur…</td><td>&quot;Air-Cond, Cook…</td><td>&quot;Selangor&quot;</td></tr></tbody></table></div>"
      ],
      "text/plain": [
       "shape: (19_991, 14)\n",
       "┌────────────┬─────────┬────────────┬────────────┬───┬─────────┬──────────┬────────────┬───────────┐\n",
       "│ ads_id     ┆ prop_na ┆ completion ┆ monthly_re ┆ … ┆ furnish ┆ faciliti ┆ additional ┆ region    │\n",
       "│ ---        ┆ me      ┆ _year      ┆ nt         ┆   ┆ ed      ┆ es       ┆ _facilitie ┆ ---       │\n",
       "│ i64        ┆ ---     ┆ ---        ┆ ---        ┆   ┆ ---     ┆ ---      ┆ s          ┆ str       │\n",
       "│            ┆ str     ┆ f64        ┆ str        ┆   ┆ str     ┆ str      ┆ ---        ┆           │\n",
       "│            ┆         ┆            ┆            ┆   ┆         ┆          ┆ str        ┆           │\n",
       "╞════════════╪═════════╪════════════╪════════════╪═══╪═════════╪══════════╪════════════╪═══════════╡\n",
       "│ 100323185  ┆ The     ┆ 2022.0     ┆ RM 4 200   ┆ … ┆ Fully   ┆ Minimart ┆ Air-Cond,  ┆ Kuala     │\n",
       "│            ┆ Hipster ┆            ┆ per month  ┆   ┆ Furnish ┆ , Gymnas ┆ Cooking    ┆ Lumpur    │\n",
       "│            ┆ @ Taman ┆            ┆            ┆   ┆ ed      ┆ ium, Sec ┆ Allowed,   ┆           │\n",
       "│            ┆ Desa    ┆            ┆            ┆   ┆         ┆ urity,   ┆ Washi…     ┆           │\n",
       "│            ┆         ┆            ┆            ┆   ┆         ┆ P…       ┆            ┆           │\n",
       "│ 100203973  ┆ Segar   ┆ null       ┆ RM 2 300   ┆ … ┆ Partial ┆ Playgrou ┆ Air-Cond,  ┆ Kuala     │\n",
       "│            ┆ Courts  ┆            ┆ per month  ┆   ┆ ly Furn ┆ nd,      ┆ Cooking    ┆ Lumpur    │\n",
       "│            ┆         ┆            ┆            ┆   ┆ ished   ┆ Parking, ┆ Allowed,   ┆           │\n",
       "│            ┆         ┆            ┆            ┆   ┆         ┆ Barbeque ┆ Near …     ┆           │\n",
       "│            ┆         ┆            ┆            ┆   ┆         ┆ ar…      ┆            ┆           │\n",
       "│ 100323128  ┆ Pangsap ┆ null       ┆ RM 1 000   ┆ … ┆ Fully   ┆ Minimart ┆ null       ┆ Kuala     │\n",
       "│            ┆ uri     ┆            ┆ per month  ┆   ┆ Furnish ┆ ,        ┆            ┆ Lumpur    │\n",
       "│            ┆ Teratak ┆            ┆            ┆   ┆ ed      ┆ Jogging  ┆            ┆           │\n",
       "│            ┆ Muhibba ┆            ┆            ┆   ┆         ┆ Track,   ┆            ┆           │\n",
       "│            ┆ h 2     ┆            ┆            ┆   ┆         ┆ Lift, S… ┆            ┆           │\n",
       "│ 100191767  ┆ Sentul  ┆ 2020.0     ┆ RM 1 700   ┆ … ┆ Partial ┆ Parking, ┆ Cooking    ┆ Kuala     │\n",
       "│            ┆ Point   ┆            ┆ per month  ┆   ┆ ly Furn ┆ Playgrou ┆ Allowed,   ┆ Lumpur    │\n",
       "│            ┆ Suite   ┆            ┆            ┆   ┆ ished   ┆ nd,      ┆ Near       ┆           │\n",
       "│            ┆ Apartme ┆            ┆            ┆   ┆         ┆ Swimming ┆ KTM/LRT,   ┆           │\n",
       "│            ┆ nt      ┆            ┆            ┆   ┆         ┆ Po…      ┆ W…         ┆           │\n",
       "│ …          ┆ …       ┆ …          ┆ …          ┆ … ┆ …       ┆ …        ┆ …          ┆ …         │\n",
       "│ 100371347  ┆ BSP 21  ┆ 2018.0     ┆ RM 1 300   ┆ … ┆ Partial ┆ Jogging  ┆ Air-Cond,  ┆ Selangor  │\n",
       "│            ┆         ┆            ┆ per month  ┆   ┆ ly Furn ┆ Track,   ┆ Cooking    ┆           │\n",
       "│            ┆         ┆            ┆            ┆   ┆ ished   ┆ Barbeque ┆ Allowed    ┆           │\n",
       "│            ┆         ┆            ┆            ┆   ┆         ┆ area,    ┆            ┆           │\n",
       "│            ┆         ┆            ┆            ┆   ┆         ┆ Pl…      ┆            ┆           │\n",
       "│ 100493228  ┆ Ameera  ┆ null       ┆ RM 1 350   ┆ … ┆ Partial ┆ Parking, ┆ Air-Cond,  ┆ Selangor  │\n",
       "│            ┆ Residen ┆            ┆ per month  ┆   ┆ ly Furn ┆ Security ┆ Cooking    ┆           │\n",
       "│            ┆ ce      ┆            ┆            ┆   ┆ ished   ┆ , Lift,  ┆ Allowed,   ┆           │\n",
       "│            ┆         ┆            ┆            ┆   ┆         ┆ Swimmin… ┆ Washi…     ┆           │\n",
       "│ 100235153  ┆ The Arc ┆ null       ┆ RM 1 200   ┆ … ┆ Fully   ┆ Parking, ┆ Cooking    ┆ Selangor  │\n",
       "│            ┆ @ Cyber ┆            ┆ per month  ┆   ┆ Furnish ┆ Security ┆ Allowed,   ┆           │\n",
       "│            ┆ jaya    ┆            ┆            ┆   ┆ ed      ┆ , Lift,  ┆ Washing    ┆           │\n",
       "│            ┆         ┆            ┆            ┆   ┆         ┆ Swimmin… ┆ Machine    ┆           │\n",
       "│ 100235168  ┆ Tamarin ┆ 2016.0     ┆ RM 1 000   ┆ … ┆ Partial ┆ Parking, ┆ Air-Cond,  ┆ Selangor  │\n",
       "│            ┆ d       ┆            ┆ per month  ┆   ┆ ly Furn ┆ Security ┆ Cooking    ┆           │\n",
       "│            ┆ Suites  ┆            ┆            ┆   ┆ ished   ┆ , Lift,  ┆ Allowed,   ┆           │\n",
       "│            ┆ @ Cyber ┆            ┆            ┆   ┆         ┆ Swimmin… ┆ Washi…     ┆           │\n",
       "│            ┆ jaya    ┆            ┆            ┆   ┆         ┆          ┆            ┆           │\n",
       "└────────────┴─────────┴────────────┴────────────┴───┴─────────┴──────────┴────────────┴───────────┘"
      ]
     },
     "execution_count": 4,
     "metadata": {},
     "output_type": "execute_result"
    }
   ],
   "source": [
    "df"
   ]
  },
  {
   "cell_type": "code",
   "execution_count": 5,
   "id": "12f12abe-1017-4294-93fd-4aa9782075e0",
   "metadata": {},
   "outputs": [
    {
     "data": {
      "text/html": [
       "<div><style>\n",
       ".dataframe > thead > tr > th,\n",
       ".dataframe > tbody > tr > td {\n",
       "  text-align: right;\n",
       "}\n",
       "</style>\n",
       "<small>shape: (7, 15)</small><table border=\"1\" class=\"dataframe\"><thead><tr><th>describe</th><th>ads_id</th><th>prop_name</th><th>completion_year</th><th>monthly_rent</th><th>location</th><th>property_type</th><th>rooms</th><th>parking</th><th>bathroom</th><th>size</th><th>furnished</th><th>facilities</th><th>additional_facilities</th><th>region</th></tr><tr><td>str</td><td>f64</td><td>str</td><td>f64</td><td>str</td><td>str</td><td>str</td><td>str</td><td>f64</td><td>f64</td><td>str</td><td>str</td><td>str</td><td>str</td><td>str</td></tr></thead><tbody><tr><td>&quot;count&quot;</td><td>19991.0</td><td>&quot;19991&quot;</td><td>19991.0</td><td>&quot;19991&quot;</td><td>&quot;19991&quot;</td><td>&quot;19991&quot;</td><td>&quot;19991&quot;</td><td>19991.0</td><td>19991.0</td><td>&quot;19991&quot;</td><td>&quot;19991&quot;</td><td>&quot;19991&quot;</td><td>&quot;19991&quot;</td><td>&quot;19991&quot;</td></tr><tr><td>&quot;null_count&quot;</td><td>0.0</td><td>&quot;948&quot;</td><td>9185.0</td><td>&quot;2&quot;</td><td>&quot;0&quot;</td><td>&quot;0&quot;</td><td>&quot;6&quot;</td><td>5702.0</td><td>6.0</td><td>&quot;0&quot;</td><td>&quot;5&quot;</td><td>&quot;2209&quot;</td><td>&quot;5948&quot;</td><td>&quot;0&quot;</td></tr><tr><td>&quot;mean&quot;</td><td>9.9707e7</td><td>null</td><td>2014.822321</td><td>null</td><td>null</td><td>null</td><td>null</td><td>1.416824</td><td>1.891719</td><td>null</td><td>null</td><td>null</td><td>null</td><td>null</td></tr><tr><td>&quot;std&quot;</td><td>3.4826e6</td><td>null</td><td>6.735355</td><td>null</td><td>null</td><td>null</td><td>null</td><td>0.567368</td><td>0.556266</td><td>null</td><td>null</td><td>null</td><td>null</td><td>null</td></tr><tr><td>&quot;min&quot;</td><td>1.6525511e7</td><td>&quot;1 Harmonis&quot;</td><td>1977.0</td><td>&quot;RM 1 000 per m…</td><td>&quot;Kuala Lumpur -…</td><td>&quot;Apartment&quot;</td><td>&quot;1&quot;</td><td>1.0</td><td>1.0</td><td>&quot;1 sq.ft.&quot;</td><td>&quot;Fully Furnishe…</td><td>&quot;Barbeque area&quot;</td><td>&quot;, Air-Cond, Co…</td><td>&quot;Kuala Lumpur&quot;</td></tr><tr><td>&quot;max&quot;</td><td>1.00854617e8</td><td>&quot;wangsa maju se…</td><td>2025.0</td><td>&quot;RM 999 per mon…</td><td>&quot;Selangor - Ulu…</td><td>&quot;Townhouse Cond…</td><td>&quot;More than 10&quot;</td><td>10.0</td><td>8.0</td><td>&quot;99999999 sq.ft…</td><td>&quot;Partially Furn…</td><td>&quot;Tennis Court, …</td><td>&quot;Washing Machin…</td><td>&quot;Selangor&quot;</td></tr><tr><td>&quot;median&quot;</td><td>1.00212678e8</td><td>null</td><td>2017.0</td><td>null</td><td>null</td><td>null</td><td>null</td><td>1.0</td><td>2.0</td><td>null</td><td>null</td><td>null</td><td>null</td><td>null</td></tr></tbody></table></div>"
      ],
      "text/plain": [
       "shape: (7, 15)\n",
       "┌───────────┬───────────┬─────────┬────────────┬───┬───────────┬──────────┬────────────┬───────────┐\n",
       "│ describe  ┆ ads_id    ┆ prop_na ┆ completion ┆ … ┆ furnished ┆ faciliti ┆ additional ┆ region    │\n",
       "│ ---       ┆ ---       ┆ me      ┆ _year      ┆   ┆ ---       ┆ es       ┆ _facilitie ┆ ---       │\n",
       "│ str       ┆ f64       ┆ ---     ┆ ---        ┆   ┆ str       ┆ ---      ┆ s          ┆ str       │\n",
       "│           ┆           ┆ str     ┆ f64        ┆   ┆           ┆ str      ┆ ---        ┆           │\n",
       "│           ┆           ┆         ┆            ┆   ┆           ┆          ┆ str        ┆           │\n",
       "╞═══════════╪═══════════╪═════════╪════════════╪═══╪═══════════╪══════════╪════════════╪═══════════╡\n",
       "│ count     ┆ 19991.0   ┆ 19991   ┆ 19991.0    ┆ … ┆ 19991     ┆ 19991    ┆ 19991      ┆ 19991     │\n",
       "│ null_coun ┆ 0.0       ┆ 948     ┆ 9185.0     ┆ … ┆ 5         ┆ 2209     ┆ 5948       ┆ 0         │\n",
       "│ t         ┆           ┆         ┆            ┆   ┆           ┆          ┆            ┆           │\n",
       "│ mean      ┆ 9.9707e7  ┆ null    ┆ 2014.82232 ┆ … ┆ null      ┆ null     ┆ null       ┆ null      │\n",
       "│           ┆           ┆         ┆ 1          ┆   ┆           ┆          ┆            ┆           │\n",
       "│ std       ┆ 3.4826e6  ┆ null    ┆ 6.735355   ┆ … ┆ null      ┆ null     ┆ null       ┆ null      │\n",
       "│ min       ┆ 1.6525511 ┆ 1 Harmo ┆ 1977.0     ┆ … ┆ Fully     ┆ Barbeque ┆ ,          ┆ Kuala     │\n",
       "│           ┆ e7        ┆ nis     ┆            ┆   ┆ Furnished ┆ area     ┆ Air-Cond,  ┆ Lumpur    │\n",
       "│           ┆           ┆         ┆            ┆   ┆           ┆          ┆ Cooking    ┆           │\n",
       "│           ┆           ┆         ┆            ┆   ┆           ┆          ┆ Allowed,   ┆           │\n",
       "│           ┆           ┆         ┆            ┆   ┆           ┆          ┆ Nea…       ┆           │\n",
       "│ max       ┆ 1.0085461 ┆ wangsa  ┆ 2025.0     ┆ … ┆ Partially ┆ Tennis   ┆ Washing    ┆ Selangor  │\n",
       "│           ┆ 7e8       ┆ maju    ┆            ┆   ┆ Furnished ┆ Court,   ┆ Machine,   ┆           │\n",
       "│           ┆           ┆ section ┆            ┆   ┆           ┆ Swimming ┆ Near       ┆           │\n",
       "│           ┆           ┆ 2       ┆            ┆   ┆           ┆ Pool,    ┆ KTM/LRT,   ┆           │\n",
       "│           ┆           ┆         ┆            ┆   ┆           ┆ Squ…     ┆ I…         ┆           │\n",
       "│ median    ┆ 1.0021267 ┆ null    ┆ 2017.0     ┆ … ┆ null      ┆ null     ┆ null       ┆ null      │\n",
       "│           ┆ 8e8       ┆         ┆            ┆   ┆           ┆          ┆            ┆           │\n",
       "└───────────┴───────────┴─────────┴────────────┴───┴───────────┴──────────┴────────────┴───────────┘"
      ]
     },
     "execution_count": 5,
     "metadata": {},
     "output_type": "execute_result"
    }
   ],
   "source": [
    "df.describe()"
   ]
  },
  {
   "cell_type": "code",
   "execution_count": 6,
   "id": "ecaa2f8e-dcea-4efb-abad-a8950bb06e85",
   "metadata": {},
   "outputs": [
    {
     "data": {
      "text/html": [
       "<div><style>\n",
       ".dataframe > thead > tr > th,\n",
       ".dataframe > tbody > tr > td {\n",
       "  text-align: right;\n",
       "}\n",
       "</style>\n",
       "<small>shape: (19991, 1)</small><table border=\"1\" class=\"dataframe\"><thead><tr><th>facilities</th></tr><tr><td>str</td></tr></thead><tbody><tr><td>&quot;Minimart, Gymn…</td></tr><tr><td>&quot;Playground, Pa…</td></tr><tr><td>&quot;Minimart, Jogg…</td></tr><tr><td>&quot;Parking, Playg…</td></tr><tr><td>&quot;Parking, Secur…</td></tr><tr><td>&quot;Parking, Secur…</td></tr><tr><td>&quot;Parking, Secur…</td></tr><tr><td>&quot;Parking, Gymna…</td></tr><tr><td>&quot;Playground, Se…</td></tr><tr><td>&quot;Playground, Se…</td></tr><tr><td>&quot;Parking, Playg…</td></tr><tr><td>&quot;Parking, Secur…</td></tr><tr><td>&hellip;</td></tr><tr><td>&quot;Parking, Secur…</td></tr><tr><td>&quot;Parking, Secur…</td></tr><tr><td>&quot;Parking, Secur…</td></tr><tr><td>&quot;Parking, Minim…</td></tr><tr><td>&quot;Parking, Secur…</td></tr><tr><td>&quot;Gymnasium, Min…</td></tr><tr><td>null</td></tr><tr><td>&quot;Security, Park…</td></tr><tr><td>&quot;Jogging Track,…</td></tr><tr><td>&quot;Parking, Secur…</td></tr><tr><td>&quot;Parking, Secur…</td></tr><tr><td>&quot;Parking, Secur…</td></tr></tbody></table></div>"
      ],
      "text/plain": [
       "shape: (19_991, 1)\n",
       "┌───────────────────────────────────┐\n",
       "│ facilities                        │\n",
       "│ ---                               │\n",
       "│ str                               │\n",
       "╞═══════════════════════════════════╡\n",
       "│ Minimart, Gymnasium, Security, P… │\n",
       "│ Playground, Parking, Barbeque ar… │\n",
       "│ Minimart, Jogging Track, Lift, S… │\n",
       "│ Parking, Playground, Swimming Po… │\n",
       "│ …                                 │\n",
       "│ Jogging Track, Barbeque area, Pl… │\n",
       "│ Parking, Security, Lift, Swimmin… │\n",
       "│ Parking, Security, Lift, Swimmin… │\n",
       "│ Parking, Security, Lift, Swimmin… │\n",
       "└───────────────────────────────────┘"
      ]
     },
     "execution_count": 6,
     "metadata": {},
     "output_type": "execute_result"
    }
   ],
   "source": [
    "df.select(pl.col(\"facilities\"))"
   ]
  },
  {
   "cell_type": "code",
   "execution_count": 7,
   "id": "549c3edc-5184-4518-8919-75a05b7af20e",
   "metadata": {},
   "outputs": [],
   "source": [
    "df = df.filter(pl.col(\"region\") == \"Kuala Lumpur\")"
   ]
  },
  {
   "cell_type": "code",
   "execution_count": 8,
   "id": "817a952d-8936-4dce-a42e-bb8ce9d91f77",
   "metadata": {},
   "outputs": [
    {
     "data": {
      "text/html": [
       "<div><style>\n",
       ".dataframe > thead > tr > th,\n",
       ".dataframe > tbody > tr > td {\n",
       "  text-align: right;\n",
       "}\n",
       "</style>\n",
       "<small>shape: (0, 14)</small><table border=\"1\" class=\"dataframe\"><thead><tr><th>ads_id</th><th>prop_name</th><th>completion_year</th><th>monthly_rent</th><th>location</th><th>property_type</th><th>rooms</th><th>parking</th><th>bathroom</th><th>size</th><th>furnished</th><th>facilities</th><th>additional_facilities</th><th>region</th></tr><tr><td>i64</td><td>str</td><td>f64</td><td>str</td><td>str</td><td>str</td><td>str</td><td>f64</td><td>f64</td><td>str</td><td>str</td><td>str</td><td>str</td><td>str</td></tr></thead><tbody></tbody></table></div>"
      ],
      "text/plain": [
       "shape: (0, 14)\n",
       "┌────────┬───────────┬────────────┬────────────┬───┬───────────┬────────────┬────────────┬────────┐\n",
       "│ ads_id ┆ prop_name ┆ completion ┆ monthly_re ┆ … ┆ furnished ┆ facilities ┆ additional ┆ region │\n",
       "│ ---    ┆ ---       ┆ _year      ┆ nt         ┆   ┆ ---       ┆ ---        ┆ _facilitie ┆ ---    │\n",
       "│ i64    ┆ str       ┆ ---        ┆ ---        ┆   ┆ str       ┆ str        ┆ s          ┆ str    │\n",
       "│        ┆           ┆ f64        ┆ str        ┆   ┆           ┆            ┆ ---        ┆        │\n",
       "│        ┆           ┆            ┆            ┆   ┆           ┆            ┆ str        ┆        │\n",
       "╞════════╪═══════════╪════════════╪════════════╪═══╪═══════════╪════════════╪════════════╪════════╡\n",
       "└────────┴───────────┴────────────┴────────────┴───┴───────────┴────────────┴────────────┴────────┘"
      ]
     },
     "execution_count": 8,
     "metadata": {},
     "output_type": "execute_result"
    }
   ],
   "source": [
    "df.filter(df.is_duplicated())"
   ]
  },
  {
   "cell_type": "code",
   "execution_count": 9,
   "id": "94e19c27-1056-4a91-83e3-699a90a9c70d",
   "metadata": {},
   "outputs": [],
   "source": [
    "df = df.unique()"
   ]
  },
  {
   "cell_type": "code",
   "execution_count": 10,
   "id": "76d19ed5-516d-4d35-9b7d-e1fd3ab02b83",
   "metadata": {},
   "outputs": [],
   "source": [
    "df = df.with_columns(pl.col(\"monthly_rent\").apply(lambda x: int(re.search(r'RM (.*?) per', x).group(1).replace(' ', ''))))\n",
    "df = df.rename({\"monthly_rent\": \"monthly_rent_rm\"})"
   ]
  },
  {
   "cell_type": "code",
   "execution_count": 11,
   "id": "b5744d10-e744-4f4c-b786-190b27b02a51",
   "metadata": {},
   "outputs": [],
   "source": [
    "df = df.with_columns(pl.col(\"size\").apply(lambda x: int(re.search(r'(.*?) sq', x).group(1).replace(' ', ''))))\n",
    "df = df.rename({'size': 'size_sqft'})"
   ]
  },
  {
   "cell_type": "code",
   "execution_count": 12,
   "id": "1c3c2aa7-2dc3-4a17-a47d-4bd5e758a63f",
   "metadata": {},
   "outputs": [],
   "source": [
    "df = df.with_columns(pl.col(\"location\").apply(lambda x: re.sub(r\"Kuala Lumpur - \\s*\", \"\", x)))"
   ]
  },
  {
   "cell_type": "code",
   "execution_count": 13,
   "id": "b6abe84d-58ca-4f47-90fc-dba8e8c0ae6f",
   "metadata": {},
   "outputs": [
    {
     "data": {
      "text/html": [
       "<div><style>\n",
       ".dataframe > thead > tr > th,\n",
       ".dataframe > tbody > tr > td {\n",
       "  text-align: right;\n",
       "}\n",
       "</style>\n",
       "<small>shape: (9991, 14)</small><table border=\"1\" class=\"dataframe\"><thead><tr><th>ads_id</th><th>prop_name</th><th>completion_year</th><th>monthly_rent_rm</th><th>location</th><th>property_type</th><th>rooms</th><th>parking</th><th>bathroom</th><th>size_sqft</th><th>furnished</th><th>facilities</th><th>additional_facilities</th><th>region</th></tr><tr><td>i64</td><td>str</td><td>f64</td><td>i64</td><td>str</td><td>str</td><td>str</td><td>f64</td><td>f64</td><td>i64</td><td>str</td><td>str</td><td>str</td><td>str</td></tr></thead><tbody><tr><td>100276135</td><td>&quot;M Centura&quot;</td><td>2021.0</td><td>1400</td><td>&quot;Sentul&quot;</td><td>&quot;Service Reside…</td><td>&quot;3&quot;</td><td>null</td><td>2.0</td><td>850</td><td>&quot;Fully Furnishe…</td><td>&quot;Parking, Secur…</td><td>&quot;Air-Cond, Cook…</td><td>&quot;Kuala Lumpur&quot;</td></tr><tr><td>100237828</td><td>&quot;Regalia Reside…</td><td>2012.0</td><td>2000</td><td>&quot;Jalan Sultan I…</td><td>&quot;Service Reside…</td><td>&quot;1&quot;</td><td>null</td><td>1.0</td><td>755</td><td>&quot;Fully Furnishe…</td><td>&quot;Parking, Squas…</td><td>&quot;Internet, Cook…</td><td>&quot;Kuala Lumpur&quot;</td></tr><tr><td>98327472</td><td>&quot;Westcourt Apar…</td><td>null</td><td>800</td><td>&quot;Old Klang Road…</td><td>&quot;Apartment&quot;</td><td>&quot;3&quot;</td><td>1.0</td><td>2.0</td><td>1200</td><td>&quot;Partially Furn…</td><td>&quot;Parking, Gymna…</td><td>&quot;Cooking Allowe…</td><td>&quot;Kuala Lumpur&quot;</td></tr><tr><td>98757445</td><td>&quot;Swiss Garden R…</td><td>2011.0</td><td>2000</td><td>&quot;Bukit Bintang&quot;</td><td>&quot;Service Reside…</td><td>&quot;1&quot;</td><td>null</td><td>1.0</td><td>550</td><td>&quot;Fully Furnishe…</td><td>&quot;Squash Court, …</td><td>&quot;Air-Cond, Cook…</td><td>&quot;Kuala Lumpur&quot;</td></tr><tr><td>99951179</td><td>&quot;Platinum Lake …</td><td>null</td><td>2200</td><td>&quot;Setapak&quot;</td><td>&quot;Condominium&quot;</td><td>&quot;4&quot;</td><td>1.0</td><td>2.0</td><td>1313</td><td>&quot;Partially Furn…</td><td>null</td><td>null</td><td>&quot;Kuala Lumpur&quot;</td></tr><tr><td>99507816</td><td>&quot;Platinum Splen…</td><td>2020.0</td><td>1700</td><td>&quot;Keramat&quot;</td><td>&quot;Condominium&quot;</td><td>&quot;3&quot;</td><td>2.0</td><td>2.0</td><td>926</td><td>&quot;Not Furnished&quot;</td><td>&quot;Minimart, Swim…</td><td>&quot;Cooking Allowe…</td><td>&quot;Kuala Lumpur&quot;</td></tr><tr><td>100309845</td><td>&quot;Vista Mutiara&quot;</td><td>null</td><td>1200</td><td>&quot;Kepong&quot;</td><td>&quot;Condominium&quot;</td><td>&quot;3&quot;</td><td>1.0</td><td>2.0</td><td>1001</td><td>&quot;Partially Furn…</td><td>&quot;Parking, Minim…</td><td>&quot;Air-Cond, Cook…</td><td>&quot;Kuala Lumpur&quot;</td></tr><tr><td>99881982</td><td>&quot;Arte Mont Kiar…</td><td>null</td><td>2700</td><td>&quot;Mont Kiara&quot;</td><td>&quot;Service Reside…</td><td>&quot;2&quot;</td><td>1.0</td><td>2.0</td><td>839</td><td>&quot;Fully Furnishe…</td><td>&quot;Parking, Secur…</td><td>&quot;Air-Cond, Cook…</td><td>&quot;Kuala Lumpur&quot;</td></tr><tr><td>98778671</td><td>null</td><td>null</td><td>2200</td><td>&quot;Jalan Kuching&quot;</td><td>&quot;Condominium&quot;</td><td>&quot;3&quot;</td><td>2.0</td><td>2.0</td><td>1193</td><td>&quot;Fully Furnishe…</td><td>&quot;Parking, Secur…</td><td>&quot;Air-Cond, Cook…</td><td>&quot;Kuala Lumpur&quot;</td></tr><tr><td>99934573</td><td>&quot;Laman Midah&quot;</td><td>null</td><td>1199</td><td>&quot;Cheras&quot;</td><td>&quot;Condominium&quot;</td><td>&quot;3&quot;</td><td>2.0</td><td>2.0</td><td>800</td><td>&quot;Not Furnished&quot;</td><td>null</td><td>null</td><td>&quot;Kuala Lumpur&quot;</td></tr><tr><td>100138957</td><td>&quot;Ketumbar Heigh…</td><td>2010.0</td><td>1350</td><td>&quot;Cheras&quot;</td><td>&quot;Condominium&quot;</td><td>&quot;3&quot;</td><td>1.0</td><td>2.0</td><td>755</td><td>&quot;Fully Furnishe…</td><td>&quot;Parking, Secur…</td><td>&quot;Air-Cond, Cook…</td><td>&quot;Kuala Lumpur&quot;</td></tr><tr><td>99902938</td><td>&quot;Desa Tun Razak…</td><td>null</td><td>1000</td><td>&quot;Cheras&quot;</td><td>&quot;Apartment&quot;</td><td>&quot;2&quot;</td><td>1.0</td><td>1.0</td><td>657</td><td>&quot;Partially Furn…</td><td>&quot;Parking, Secur…</td><td>&quot;Air-Cond, Cook…</td><td>&quot;Kuala Lumpur&quot;</td></tr><tr><td>&hellip;</td><td>&hellip;</td><td>&hellip;</td><td>&hellip;</td><td>&hellip;</td><td>&hellip;</td><td>&hellip;</td><td>&hellip;</td><td>&hellip;</td><td>&hellip;</td><td>&hellip;</td><td>&hellip;</td><td>&hellip;</td><td>&hellip;</td></tr><tr><td>95117715</td><td>&quot;Titiwangsa Sen…</td><td>2011.0</td><td>2200</td><td>&quot;Titiwangsa&quot;</td><td>&quot;Condominium&quot;</td><td>&quot;3&quot;</td><td>null</td><td>2.0</td><td>1100</td><td>&quot;Fully Furnishe…</td><td>&quot;Squash Court, …</td><td>&quot;Air-Cond, Cook…</td><td>&quot;Kuala Lumpur&quot;</td></tr><tr><td>100001436</td><td>&quot;M Centura&quot;</td><td>2021.0</td><td>1500</td><td>&quot;Sentul&quot;</td><td>&quot;Service Reside…</td><td>&quot;3&quot;</td><td>1.0</td><td>2.0</td><td>850</td><td>&quot;Partially Furn…</td><td>&quot;Parking, Secur…</td><td>&quot;Air-Cond, Cook…</td><td>&quot;Kuala Lumpur&quot;</td></tr><tr><td>99748995</td><td>&quot;Platinum Lake …</td><td>null</td><td>1400</td><td>&quot;Setapak&quot;</td><td>&quot;Service Reside…</td><td>&quot;2&quot;</td><td>2.0</td><td>2.0</td><td>900</td><td>&quot;Partially Furn…</td><td>null</td><td>null</td><td>&quot;Kuala Lumpur&quot;</td></tr><tr><td>99931991</td><td>&quot;Kenari Court&quot;</td><td>null</td><td>1200</td><td>&quot;Ampang&quot;</td><td>&quot;Apartment&quot;</td><td>&quot;3&quot;</td><td>1.0</td><td>2.0</td><td>850</td><td>&quot;Partially Furn…</td><td>&quot;Security, Park…</td><td>&quot;Air-Cond, Near…</td><td>&quot;Kuala Lumpur&quot;</td></tr><tr><td>99757154</td><td>&quot;Fortune Court …</td><td>null</td><td>1100</td><td>&quot;Kepong&quot;</td><td>&quot;Apartment&quot;</td><td>&quot;3&quot;</td><td>null</td><td>2.0</td><td>1300</td><td>&quot;Partially Furn…</td><td>&quot;Swimming Pool,…</td><td>null</td><td>&quot;Kuala Lumpur&quot;</td></tr><tr><td>100265645</td><td>&quot;Pandan Court&quot;</td><td>2001.0</td><td>700</td><td>&quot;Ampang&quot;</td><td>&quot;Apartment&quot;</td><td>&quot;1&quot;</td><td>null</td><td>1.0</td><td>830</td><td>&quot;Fully Furnishe…</td><td>&quot;Security, Mini…</td><td>&quot;Air-Cond, Cook…</td><td>&quot;Kuala Lumpur&quot;</td></tr><tr><td>99847872</td><td>&quot;Scenaria @ Nor…</td><td>2015.0</td><td>2200</td><td>&quot;Segambut&quot;</td><td>&quot;Condominium&quot;</td><td>&quot;4&quot;</td><td>2.0</td><td>2.0</td><td>1262</td><td>&quot;Fully Furnishe…</td><td>null</td><td>&quot;Air-Cond, Cook…</td><td>&quot;Kuala Lumpur&quot;</td></tr><tr><td>99540431</td><td>&quot;Sri Pelangi (J…</td><td>2003.0</td><td>1200</td><td>&quot;Setapak&quot;</td><td>&quot;Condominium&quot;</td><td>&quot;3&quot;</td><td>2.0</td><td>2.0</td><td>900</td><td>&quot;Not Furnished&quot;</td><td>&quot;Parking, Secur…</td><td>&quot;Cooking Allowe…</td><td>&quot;Kuala Lumpur&quot;</td></tr><tr><td>98971143</td><td>&quot;Enesta&quot;</td><td>2021.0</td><td>1600</td><td>&quot;Kepong&quot;</td><td>&quot;Service Reside…</td><td>&quot;3&quot;</td><td>1.0</td><td>2.0</td><td>916</td><td>&quot;Partially Furn…</td><td>&quot;Parking, Secur…</td><td>&quot;Air-Cond, Cook…</td><td>&quot;Kuala Lumpur&quot;</td></tr><tr><td>99835964</td><td>&quot;The Elements&quot;</td><td>2015.0</td><td>2700</td><td>&quot;Ampang&quot;</td><td>&quot;Service Reside…</td><td>&quot;3&quot;</td><td>2.0</td><td>4.0</td><td>1435</td><td>&quot;Fully Furnishe…</td><td>&quot;Sauna, Barbequ…</td><td>&quot;Air-Cond, Cook…</td><td>&quot;Kuala Lumpur&quot;</td></tr><tr><td>99978070</td><td>&quot;Desa Pandan Ap…</td><td>null</td><td>1000</td><td>&quot;Desa Pandan&quot;</td><td>&quot;Flat&quot;</td><td>&quot;3&quot;</td><td>null</td><td>2.0</td><td>800</td><td>&quot;Partially Furn…</td><td>null</td><td>null</td><td>&quot;Kuala Lumpur&quot;</td></tr><tr><td>99885761</td><td>&quot;Savio Riana Du…</td><td>2019.0</td><td>1850</td><td>&quot;Segambut&quot;</td><td>&quot;Service Reside…</td><td>&quot;2&quot;</td><td>null</td><td>2.0</td><td>903</td><td>&quot;Partially Furn…</td><td>null</td><td>&quot;Cooking Allowe…</td><td>&quot;Kuala Lumpur&quot;</td></tr></tbody></table></div>"
      ],
      "text/plain": [
       "shape: (9_991, 14)\n",
       "┌───────────┬─────────┬────────────┬────────────┬───┬─────────┬──────────┬────────────┬────────┐\n",
       "│ ads_id    ┆ prop_na ┆ completion ┆ monthly_re ┆ … ┆ furnish ┆ faciliti ┆ additional ┆ region │\n",
       "│ ---       ┆ me      ┆ _year      ┆ nt_rm      ┆   ┆ ed      ┆ es       ┆ _facilitie ┆ ---    │\n",
       "│ i64       ┆ ---     ┆ ---        ┆ ---        ┆   ┆ ---     ┆ ---      ┆ s          ┆ str    │\n",
       "│           ┆ str     ┆ f64        ┆ i64        ┆   ┆ str     ┆ str      ┆ ---        ┆        │\n",
       "│           ┆         ┆            ┆            ┆   ┆         ┆          ┆ str        ┆        │\n",
       "╞═══════════╪═════════╪════════════╪════════════╪═══╪═════════╪══════════╪════════════╪════════╡\n",
       "│ 100276135 ┆ M       ┆ 2021.0     ┆ 1400       ┆ … ┆ Fully   ┆ Parking, ┆ Air-Cond,  ┆ Kuala  │\n",
       "│           ┆ Centura ┆            ┆            ┆   ┆ Furnish ┆ Security ┆ Cooking    ┆ Lumpur │\n",
       "│           ┆         ┆            ┆            ┆   ┆ ed      ┆ , Lift,  ┆ Allowed,   ┆        │\n",
       "│           ┆         ┆            ┆            ┆   ┆         ┆ Swimmin… ┆ Near …     ┆        │\n",
       "│ 100237828 ┆ Regalia ┆ 2012.0     ┆ 2000       ┆ … ┆ Fully   ┆ Parking, ┆ Internet,  ┆ Kuala  │\n",
       "│           ┆ Residen ┆            ┆            ┆   ┆ Furnish ┆ Squash   ┆ Cooking    ┆ Lumpur │\n",
       "│           ┆ ce      ┆            ┆            ┆   ┆ ed      ┆ Court,   ┆ Allowed,   ┆        │\n",
       "│           ┆         ┆            ┆            ┆   ┆         ┆ Swimming ┆ Air-C…     ┆        │\n",
       "│           ┆         ┆            ┆            ┆   ┆         ┆ …        ┆            ┆        │\n",
       "│ 98327472  ┆ Westcou ┆ null       ┆ 800        ┆ … ┆ Partial ┆ Parking, ┆ Cooking    ┆ Kuala  │\n",
       "│           ┆ rt Apar ┆            ┆            ┆   ┆ ly Furn ┆ Gymnasiu ┆ Allowed    ┆ Lumpur │\n",
       "│           ┆ tment   ┆            ┆            ┆   ┆ ished   ┆ m, Minim ┆            ┆        │\n",
       "│           ┆         ┆            ┆            ┆   ┆         ┆ art, Mu… ┆            ┆        │\n",
       "│ 98757445  ┆ Swiss   ┆ 2011.0     ┆ 2000       ┆ … ┆ Fully   ┆ Squash   ┆ Air-Cond,  ┆ Kuala  │\n",
       "│           ┆ Garden  ┆            ┆            ┆   ┆ Furnish ┆ Court,   ┆ Cooking    ┆ Lumpur │\n",
       "│           ┆ Residen ┆            ┆            ┆   ┆ ed      ┆ Sauna,   ┆ Allowed,   ┆        │\n",
       "│           ┆ ces     ┆            ┆            ┆   ┆         ┆ Swimming ┆ Near …     ┆        │\n",
       "│           ┆         ┆            ┆            ┆   ┆         ┆ Po…      ┆            ┆        │\n",
       "│ …         ┆ …       ┆ …          ┆ …          ┆ … ┆ …       ┆ …        ┆ …          ┆ …      │\n",
       "│ 98971143  ┆ Enesta  ┆ 2021.0     ┆ 1600       ┆ … ┆ Partial ┆ Parking, ┆ Air-Cond,  ┆ Kuala  │\n",
       "│           ┆         ┆            ┆            ┆   ┆ ly Furn ┆ Security ┆ Cooking    ┆ Lumpur │\n",
       "│           ┆         ┆            ┆            ┆   ┆ ished   ┆ , Lift,  ┆ Allowed,   ┆        │\n",
       "│           ┆         ┆            ┆            ┆   ┆         ┆ Swimmin… ┆ Washi…     ┆        │\n",
       "│ 99835964  ┆ The Ele ┆ 2015.0     ┆ 2700       ┆ … ┆ Fully   ┆ Sauna,   ┆ Air-Cond,  ┆ Kuala  │\n",
       "│           ┆ ments   ┆            ┆            ┆   ┆ Furnish ┆ Barbeque ┆ Cooking    ┆ Lumpur │\n",
       "│           ┆         ┆            ┆            ┆   ┆ ed      ┆ area,    ┆ Allowed,   ┆        │\n",
       "│           ┆         ┆            ┆            ┆   ┆         ┆ Playgrou ┆ Near …     ┆        │\n",
       "│           ┆         ┆            ┆            ┆   ┆         ┆ nd…      ┆            ┆        │\n",
       "│ 99978070  ┆ Desa    ┆ null       ┆ 1000       ┆ … ┆ Partial ┆ null     ┆ null       ┆ Kuala  │\n",
       "│           ┆ Pandan  ┆            ┆            ┆   ┆ ly Furn ┆          ┆            ┆ Lumpur │\n",
       "│           ┆ Apartme ┆            ┆            ┆   ┆ ished   ┆          ┆            ┆        │\n",
       "│           ┆ nt      ┆            ┆            ┆   ┆         ┆          ┆            ┆        │\n",
       "│ 99885761  ┆ Savio   ┆ 2019.0     ┆ 1850       ┆ … ┆ Partial ┆ null     ┆ Cooking    ┆ Kuala  │\n",
       "│           ┆ Riana   ┆            ┆            ┆   ┆ ly Furn ┆          ┆ Allowed,   ┆ Lumpur │\n",
       "│           ┆ Dutamas ┆            ┆            ┆   ┆ ished   ┆          ┆ Near       ┆        │\n",
       "│           ┆ Residen ┆            ┆            ┆   ┆         ┆          ┆ KTM/LRT,   ┆        │\n",
       "│           ┆ ce      ┆            ┆            ┆   ┆         ┆          ┆ I…         ┆        │\n",
       "└───────────┴─────────┴────────────┴────────────┴───┴─────────┴──────────┴────────────┴────────┘"
      ]
     },
     "execution_count": 13,
     "metadata": {},
     "output_type": "execute_result"
    }
   ],
   "source": [
    "df"
   ]
  },
  {
   "cell_type": "code",
   "execution_count": 14,
   "id": "062ea836-d680-45aa-aa17-fa08e19c28f1",
   "metadata": {},
   "outputs": [
    {
     "data": {
      "text/html": [
       "<div><style>\n",
       ".dataframe > thead > tr > th,\n",
       ".dataframe > tbody > tr > td {\n",
       "  text-align: right;\n",
       "}\n",
       "</style>\n",
       "<small>shape: (9991,)</small><table border=\"1\" class=\"dataframe\"><thead><tr><th>facilities</th></tr><tr><td>str</td></tr></thead><tbody><tr><td>&quot;Parking,Securi…</td></tr><tr><td>&quot;Parking,Squash…</td></tr><tr><td>&quot;Parking,Gymnas…</td></tr><tr><td>&quot;Squash Court,S…</td></tr><tr><td>null</td></tr><tr><td>&quot;Minimart,Swimm…</td></tr><tr><td>&quot;Parking,Minima…</td></tr><tr><td>&quot;Parking,Securi…</td></tr><tr><td>&quot;Parking,Securi…</td></tr><tr><td>null</td></tr><tr><td>&quot;Parking,Securi…</td></tr><tr><td>&quot;Parking,Securi…</td></tr><tr><td>&hellip;</td></tr><tr><td>&quot;Squash Court,P…</td></tr><tr><td>&quot;Parking,Securi…</td></tr><tr><td>null</td></tr><tr><td>&quot;Security,Parki…</td></tr><tr><td>&quot;Swimming Pool,…</td></tr><tr><td>&quot;Security,Minim…</td></tr><tr><td>null</td></tr><tr><td>&quot;Parking,Securi…</td></tr><tr><td>&quot;Parking,Securi…</td></tr><tr><td>&quot;Sauna,Barbeque…</td></tr><tr><td>null</td></tr><tr><td>null</td></tr></tbody></table></div>"
      ],
      "text/plain": [
       "shape: (9_991,)\n",
       "Series: 'facilities' [str]\n",
       "[\n",
       "\t\"Parking,Securi…\n",
       "\t\"Parking,Squash…\n",
       "\t\"Parking,Gymnas…\n",
       "\t\"Squash Court,S…\n",
       "\tnull\n",
       "\t\"Minimart,Swimm…\n",
       "\t\"Parking,Minima…\n",
       "\t\"Parking,Securi…\n",
       "\t\"Parking,Securi…\n",
       "\tnull\n",
       "\t\"Parking,Securi…\n",
       "\t\"Parking,Securi…\n",
       "\t…\n",
       "\t\"Security,Parki…\n",
       "\t\"Squash Court,P…\n",
       "\t\"Parking,Securi…\n",
       "\tnull\n",
       "\t\"Security,Parki…\n",
       "\t\"Swimming Pool,…\n",
       "\t\"Security,Minim…\n",
       "\tnull\n",
       "\t\"Parking,Securi…\n",
       "\t\"Parking,Securi…\n",
       "\t\"Sauna,Barbeque…\n",
       "\tnull\n",
       "\tnull\n",
       "]"
      ]
     },
     "execution_count": 14,
     "metadata": {},
     "output_type": "execute_result"
    }
   ],
   "source": [
    "df[\"facilities\"].apply(lambda x : str(x).replace(\", \", \",\"))"
   ]
  },
  {
   "cell_type": "code",
   "execution_count": 15,
   "id": "d4300e57-d4f3-4cac-9a70-b4d958dac51d",
   "metadata": {},
   "outputs": [],
   "source": [
    "def extract_near_ktm_lrt(text):\n",
    "    pattern = re.compile(r'\\bNear KTM/LRT\\b')\n",
    "    try:\n",
    "        match = pattern.search(text)\n",
    "        if match:\n",
    "            return 'yes'\n",
    "        return 'no'\n",
    "    except TypeError:\n",
    "        return text"
   ]
  },
  {
   "cell_type": "code",
   "execution_count": 16,
   "id": "d379f7e4-17dc-46e5-9c7d-f0748b8cd946",
   "metadata": {},
   "outputs": [
    {
     "data": {
      "text/html": [
       "<div><style>\n",
       ".dataframe > thead > tr > th,\n",
       ".dataframe > tbody > tr > td {\n",
       "  text-align: right;\n",
       "}\n",
       "</style>\n",
       "<small>shape: (9991,)</small><table border=\"1\" class=\"dataframe\"><thead><tr><th>additional_facilities</th></tr><tr><td>str</td></tr></thead><tbody><tr><td>&quot;yes&quot;</td></tr><tr><td>&quot;yes&quot;</td></tr><tr><td>&quot;no&quot;</td></tr><tr><td>&quot;yes&quot;</td></tr><tr><td>null</td></tr><tr><td>&quot;no&quot;</td></tr><tr><td>&quot;no&quot;</td></tr><tr><td>&quot;no&quot;</td></tr><tr><td>&quot;no&quot;</td></tr><tr><td>null</td></tr><tr><td>&quot;no&quot;</td></tr><tr><td>&quot;yes&quot;</td></tr><tr><td>&hellip;</td></tr><tr><td>&quot;yes&quot;</td></tr><tr><td>&quot;no&quot;</td></tr><tr><td>null</td></tr><tr><td>&quot;yes&quot;</td></tr><tr><td>null</td></tr><tr><td>&quot;no&quot;</td></tr><tr><td>&quot;no&quot;</td></tr><tr><td>&quot;no&quot;</td></tr><tr><td>&quot;no&quot;</td></tr><tr><td>&quot;yes&quot;</td></tr><tr><td>null</td></tr><tr><td>&quot;yes&quot;</td></tr></tbody></table></div>"
      ],
      "text/plain": [
       "shape: (9_991,)\n",
       "Series: 'additional_facilities' [str]\n",
       "[\n",
       "\t\"yes\"\n",
       "\t\"yes\"\n",
       "\t\"no\"\n",
       "\t\"yes\"\n",
       "\tnull\n",
       "\t\"no\"\n",
       "\t\"no\"\n",
       "\t\"no\"\n",
       "\t\"no\"\n",
       "\tnull\n",
       "\t\"no\"\n",
       "\t\"yes\"\n",
       "\t…\n",
       "\tnull\n",
       "\t\"yes\"\n",
       "\t\"no\"\n",
       "\tnull\n",
       "\t\"yes\"\n",
       "\tnull\n",
       "\t\"no\"\n",
       "\t\"no\"\n",
       "\t\"no\"\n",
       "\t\"no\"\n",
       "\t\"yes\"\n",
       "\tnull\n",
       "\t\"yes\"\n",
       "]"
      ]
     },
     "execution_count": 16,
     "metadata": {},
     "output_type": "execute_result"
    }
   ],
   "source": [
    "df[\"additional_facilities\"].apply(lambda x: extract_near_ktm_lrt(x))"
   ]
  },
  {
   "cell_type": "code",
   "execution_count": 17,
   "id": "3c125663-749a-4845-8bd1-de3fc9dea29c",
   "metadata": {},
   "outputs": [],
   "source": [
    "df = df.select([\n",
    "    pl.all(),\n",
    "    pl.col(\"additional_facilities\").apply(lambda x: extract_near_ktm_lrt(x)).alias(\"nearby_railways\"),\n",
    "    pl.col(\"facilities\").apply(lambda x : str(x).replace(\", \", \",\")).alias(\"facilities_clean\")\n",
    "])"
   ]
  },
  {
   "cell_type": "code",
   "execution_count": 18,
   "id": "edbfddfd-b10c-4d15-947b-1523a673798c",
   "metadata": {},
   "outputs": [
    {
     "data": {
      "text/html": [
       "<div><style>\n",
       ".dataframe > thead > tr > th,\n",
       ".dataframe > tbody > tr > td {\n",
       "  text-align: right;\n",
       "}\n",
       "</style>\n",
       "<small>shape: (9991, 16)</small><table border=\"1\" class=\"dataframe\"><thead><tr><th>ads_id</th><th>prop_name</th><th>completion_year</th><th>monthly_rent_rm</th><th>location</th><th>property_type</th><th>rooms</th><th>parking</th><th>bathroom</th><th>size_sqft</th><th>furnished</th><th>facilities</th><th>additional_facilities</th><th>region</th><th>nearby_railways</th><th>facilities_clean</th></tr><tr><td>i64</td><td>str</td><td>f64</td><td>i64</td><td>str</td><td>str</td><td>str</td><td>f64</td><td>f64</td><td>i64</td><td>str</td><td>str</td><td>str</td><td>str</td><td>str</td><td>str</td></tr></thead><tbody><tr><td>100276135</td><td>&quot;M Centura&quot;</td><td>2021.0</td><td>1400</td><td>&quot;Sentul&quot;</td><td>&quot;Service Reside…</td><td>&quot;3&quot;</td><td>null</td><td>2.0</td><td>850</td><td>&quot;Fully Furnishe…</td><td>&quot;Parking, Secur…</td><td>&quot;Air-Cond, Cook…</td><td>&quot;Kuala Lumpur&quot;</td><td>&quot;yes&quot;</td><td>&quot;Parking,Securi…</td></tr><tr><td>100237828</td><td>&quot;Regalia Reside…</td><td>2012.0</td><td>2000</td><td>&quot;Jalan Sultan I…</td><td>&quot;Service Reside…</td><td>&quot;1&quot;</td><td>null</td><td>1.0</td><td>755</td><td>&quot;Fully Furnishe…</td><td>&quot;Parking, Squas…</td><td>&quot;Internet, Cook…</td><td>&quot;Kuala Lumpur&quot;</td><td>&quot;yes&quot;</td><td>&quot;Parking,Squash…</td></tr><tr><td>98327472</td><td>&quot;Westcourt Apar…</td><td>null</td><td>800</td><td>&quot;Old Klang Road…</td><td>&quot;Apartment&quot;</td><td>&quot;3&quot;</td><td>1.0</td><td>2.0</td><td>1200</td><td>&quot;Partially Furn…</td><td>&quot;Parking, Gymna…</td><td>&quot;Cooking Allowe…</td><td>&quot;Kuala Lumpur&quot;</td><td>&quot;no&quot;</td><td>&quot;Parking,Gymnas…</td></tr><tr><td>98757445</td><td>&quot;Swiss Garden R…</td><td>2011.0</td><td>2000</td><td>&quot;Bukit Bintang&quot;</td><td>&quot;Service Reside…</td><td>&quot;1&quot;</td><td>null</td><td>1.0</td><td>550</td><td>&quot;Fully Furnishe…</td><td>&quot;Squash Court, …</td><td>&quot;Air-Cond, Cook…</td><td>&quot;Kuala Lumpur&quot;</td><td>&quot;yes&quot;</td><td>&quot;Squash Court,S…</td></tr><tr><td>99951179</td><td>&quot;Platinum Lake …</td><td>null</td><td>2200</td><td>&quot;Setapak&quot;</td><td>&quot;Condominium&quot;</td><td>&quot;4&quot;</td><td>1.0</td><td>2.0</td><td>1313</td><td>&quot;Partially Furn…</td><td>null</td><td>null</td><td>&quot;Kuala Lumpur&quot;</td><td>null</td><td>null</td></tr><tr><td>99507816</td><td>&quot;Platinum Splen…</td><td>2020.0</td><td>1700</td><td>&quot;Keramat&quot;</td><td>&quot;Condominium&quot;</td><td>&quot;3&quot;</td><td>2.0</td><td>2.0</td><td>926</td><td>&quot;Not Furnished&quot;</td><td>&quot;Minimart, Swim…</td><td>&quot;Cooking Allowe…</td><td>&quot;Kuala Lumpur&quot;</td><td>&quot;no&quot;</td><td>&quot;Minimart,Swimm…</td></tr><tr><td>100309845</td><td>&quot;Vista Mutiara&quot;</td><td>null</td><td>1200</td><td>&quot;Kepong&quot;</td><td>&quot;Condominium&quot;</td><td>&quot;3&quot;</td><td>1.0</td><td>2.0</td><td>1001</td><td>&quot;Partially Furn…</td><td>&quot;Parking, Minim…</td><td>&quot;Air-Cond, Cook…</td><td>&quot;Kuala Lumpur&quot;</td><td>&quot;no&quot;</td><td>&quot;Parking,Minima…</td></tr><tr><td>99881982</td><td>&quot;Arte Mont Kiar…</td><td>null</td><td>2700</td><td>&quot;Mont Kiara&quot;</td><td>&quot;Service Reside…</td><td>&quot;2&quot;</td><td>1.0</td><td>2.0</td><td>839</td><td>&quot;Fully Furnishe…</td><td>&quot;Parking, Secur…</td><td>&quot;Air-Cond, Cook…</td><td>&quot;Kuala Lumpur&quot;</td><td>&quot;no&quot;</td><td>&quot;Parking,Securi…</td></tr><tr><td>98778671</td><td>null</td><td>null</td><td>2200</td><td>&quot;Jalan Kuching&quot;</td><td>&quot;Condominium&quot;</td><td>&quot;3&quot;</td><td>2.0</td><td>2.0</td><td>1193</td><td>&quot;Fully Furnishe…</td><td>&quot;Parking, Secur…</td><td>&quot;Air-Cond, Cook…</td><td>&quot;Kuala Lumpur&quot;</td><td>&quot;no&quot;</td><td>&quot;Parking,Securi…</td></tr><tr><td>99934573</td><td>&quot;Laman Midah&quot;</td><td>null</td><td>1199</td><td>&quot;Cheras&quot;</td><td>&quot;Condominium&quot;</td><td>&quot;3&quot;</td><td>2.0</td><td>2.0</td><td>800</td><td>&quot;Not Furnished&quot;</td><td>null</td><td>null</td><td>&quot;Kuala Lumpur&quot;</td><td>null</td><td>null</td></tr><tr><td>100138957</td><td>&quot;Ketumbar Heigh…</td><td>2010.0</td><td>1350</td><td>&quot;Cheras&quot;</td><td>&quot;Condominium&quot;</td><td>&quot;3&quot;</td><td>1.0</td><td>2.0</td><td>755</td><td>&quot;Fully Furnishe…</td><td>&quot;Parking, Secur…</td><td>&quot;Air-Cond, Cook…</td><td>&quot;Kuala Lumpur&quot;</td><td>&quot;no&quot;</td><td>&quot;Parking,Securi…</td></tr><tr><td>99902938</td><td>&quot;Desa Tun Razak…</td><td>null</td><td>1000</td><td>&quot;Cheras&quot;</td><td>&quot;Apartment&quot;</td><td>&quot;2&quot;</td><td>1.0</td><td>1.0</td><td>657</td><td>&quot;Partially Furn…</td><td>&quot;Parking, Secur…</td><td>&quot;Air-Cond, Cook…</td><td>&quot;Kuala Lumpur&quot;</td><td>&quot;yes&quot;</td><td>&quot;Parking,Securi…</td></tr><tr><td>&hellip;</td><td>&hellip;</td><td>&hellip;</td><td>&hellip;</td><td>&hellip;</td><td>&hellip;</td><td>&hellip;</td><td>&hellip;</td><td>&hellip;</td><td>&hellip;</td><td>&hellip;</td><td>&hellip;</td><td>&hellip;</td><td>&hellip;</td><td>&hellip;</td><td>&hellip;</td></tr><tr><td>95117715</td><td>&quot;Titiwangsa Sen…</td><td>2011.0</td><td>2200</td><td>&quot;Titiwangsa&quot;</td><td>&quot;Condominium&quot;</td><td>&quot;3&quot;</td><td>null</td><td>2.0</td><td>1100</td><td>&quot;Fully Furnishe…</td><td>&quot;Squash Court, …</td><td>&quot;Air-Cond, Cook…</td><td>&quot;Kuala Lumpur&quot;</td><td>&quot;yes&quot;</td><td>&quot;Squash Court,P…</td></tr><tr><td>100001436</td><td>&quot;M Centura&quot;</td><td>2021.0</td><td>1500</td><td>&quot;Sentul&quot;</td><td>&quot;Service Reside…</td><td>&quot;3&quot;</td><td>1.0</td><td>2.0</td><td>850</td><td>&quot;Partially Furn…</td><td>&quot;Parking, Secur…</td><td>&quot;Air-Cond, Cook…</td><td>&quot;Kuala Lumpur&quot;</td><td>&quot;no&quot;</td><td>&quot;Parking,Securi…</td></tr><tr><td>99748995</td><td>&quot;Platinum Lake …</td><td>null</td><td>1400</td><td>&quot;Setapak&quot;</td><td>&quot;Service Reside…</td><td>&quot;2&quot;</td><td>2.0</td><td>2.0</td><td>900</td><td>&quot;Partially Furn…</td><td>null</td><td>null</td><td>&quot;Kuala Lumpur&quot;</td><td>null</td><td>null</td></tr><tr><td>99931991</td><td>&quot;Kenari Court&quot;</td><td>null</td><td>1200</td><td>&quot;Ampang&quot;</td><td>&quot;Apartment&quot;</td><td>&quot;3&quot;</td><td>1.0</td><td>2.0</td><td>850</td><td>&quot;Partially Furn…</td><td>&quot;Security, Park…</td><td>&quot;Air-Cond, Near…</td><td>&quot;Kuala Lumpur&quot;</td><td>&quot;yes&quot;</td><td>&quot;Security,Parki…</td></tr><tr><td>99757154</td><td>&quot;Fortune Court …</td><td>null</td><td>1100</td><td>&quot;Kepong&quot;</td><td>&quot;Apartment&quot;</td><td>&quot;3&quot;</td><td>null</td><td>2.0</td><td>1300</td><td>&quot;Partially Furn…</td><td>&quot;Swimming Pool,…</td><td>null</td><td>&quot;Kuala Lumpur&quot;</td><td>null</td><td>&quot;Swimming Pool,…</td></tr><tr><td>100265645</td><td>&quot;Pandan Court&quot;</td><td>2001.0</td><td>700</td><td>&quot;Ampang&quot;</td><td>&quot;Apartment&quot;</td><td>&quot;1&quot;</td><td>null</td><td>1.0</td><td>830</td><td>&quot;Fully Furnishe…</td><td>&quot;Security, Mini…</td><td>&quot;Air-Cond, Cook…</td><td>&quot;Kuala Lumpur&quot;</td><td>&quot;no&quot;</td><td>&quot;Security,Minim…</td></tr><tr><td>99847872</td><td>&quot;Scenaria @ Nor…</td><td>2015.0</td><td>2200</td><td>&quot;Segambut&quot;</td><td>&quot;Condominium&quot;</td><td>&quot;4&quot;</td><td>2.0</td><td>2.0</td><td>1262</td><td>&quot;Fully Furnishe…</td><td>null</td><td>&quot;Air-Cond, Cook…</td><td>&quot;Kuala Lumpur&quot;</td><td>&quot;no&quot;</td><td>null</td></tr><tr><td>99540431</td><td>&quot;Sri Pelangi (J…</td><td>2003.0</td><td>1200</td><td>&quot;Setapak&quot;</td><td>&quot;Condominium&quot;</td><td>&quot;3&quot;</td><td>2.0</td><td>2.0</td><td>900</td><td>&quot;Not Furnished&quot;</td><td>&quot;Parking, Secur…</td><td>&quot;Cooking Allowe…</td><td>&quot;Kuala Lumpur&quot;</td><td>&quot;no&quot;</td><td>&quot;Parking,Securi…</td></tr><tr><td>98971143</td><td>&quot;Enesta&quot;</td><td>2021.0</td><td>1600</td><td>&quot;Kepong&quot;</td><td>&quot;Service Reside…</td><td>&quot;3&quot;</td><td>1.0</td><td>2.0</td><td>916</td><td>&quot;Partially Furn…</td><td>&quot;Parking, Secur…</td><td>&quot;Air-Cond, Cook…</td><td>&quot;Kuala Lumpur&quot;</td><td>&quot;no&quot;</td><td>&quot;Parking,Securi…</td></tr><tr><td>99835964</td><td>&quot;The Elements&quot;</td><td>2015.0</td><td>2700</td><td>&quot;Ampang&quot;</td><td>&quot;Service Reside…</td><td>&quot;3&quot;</td><td>2.0</td><td>4.0</td><td>1435</td><td>&quot;Fully Furnishe…</td><td>&quot;Sauna, Barbequ…</td><td>&quot;Air-Cond, Cook…</td><td>&quot;Kuala Lumpur&quot;</td><td>&quot;yes&quot;</td><td>&quot;Sauna,Barbeque…</td></tr><tr><td>99978070</td><td>&quot;Desa Pandan Ap…</td><td>null</td><td>1000</td><td>&quot;Desa Pandan&quot;</td><td>&quot;Flat&quot;</td><td>&quot;3&quot;</td><td>null</td><td>2.0</td><td>800</td><td>&quot;Partially Furn…</td><td>null</td><td>null</td><td>&quot;Kuala Lumpur&quot;</td><td>null</td><td>null</td></tr><tr><td>99885761</td><td>&quot;Savio Riana Du…</td><td>2019.0</td><td>1850</td><td>&quot;Segambut&quot;</td><td>&quot;Service Reside…</td><td>&quot;2&quot;</td><td>null</td><td>2.0</td><td>903</td><td>&quot;Partially Furn…</td><td>null</td><td>&quot;Cooking Allowe…</td><td>&quot;Kuala Lumpur&quot;</td><td>&quot;yes&quot;</td><td>null</td></tr></tbody></table></div>"
      ],
      "text/plain": [
       "shape: (9_991, 16)\n",
       "┌─────────┬─────────┬────────────┬────────────┬───┬────────────┬─────────┬────────────┬────────────┐\n",
       "│ ads_id  ┆ prop_na ┆ completion ┆ monthly_re ┆ … ┆ additional ┆ region  ┆ nearby_rai ┆ facilities │\n",
       "│ ---     ┆ me      ┆ _year      ┆ nt_rm      ┆   ┆ _facilitie ┆ ---     ┆ lways      ┆ _clean     │\n",
       "│ i64     ┆ ---     ┆ ---        ┆ ---        ┆   ┆ s          ┆ str     ┆ ---        ┆ ---        │\n",
       "│         ┆ str     ┆ f64        ┆ i64        ┆   ┆ ---        ┆         ┆ str        ┆ str        │\n",
       "│         ┆         ┆            ┆            ┆   ┆ str        ┆         ┆            ┆            │\n",
       "╞═════════╪═════════╪════════════╪════════════╪═══╪════════════╪═════════╪════════════╪════════════╡\n",
       "│ 1002761 ┆ M       ┆ 2021.0     ┆ 1400       ┆ … ┆ Air-Cond,  ┆ Kuala   ┆ yes        ┆ Parking,Se │\n",
       "│ 35      ┆ Centura ┆            ┆            ┆   ┆ Cooking    ┆ Lumpur  ┆            ┆ curity,Lif │\n",
       "│         ┆         ┆            ┆            ┆   ┆ Allowed,   ┆         ┆            ┆ t,Swimming │\n",
       "│         ┆         ┆            ┆            ┆   ┆ Near …     ┆         ┆            ┆ P…         │\n",
       "│ 1002378 ┆ Regalia ┆ 2012.0     ┆ 2000       ┆ … ┆ Internet,  ┆ Kuala   ┆ yes        ┆ Parking,Sq │\n",
       "│ 28      ┆ Residen ┆            ┆            ┆   ┆ Cooking    ┆ Lumpur  ┆            ┆ uash Court │\n",
       "│         ┆ ce      ┆            ┆            ┆   ┆ Allowed,   ┆         ┆            ┆ ,Swimming  │\n",
       "│         ┆         ┆            ┆            ┆   ┆ Air-C…     ┆         ┆            ┆ Po…        │\n",
       "│ 9832747 ┆ Westcou ┆ null       ┆ 800        ┆ … ┆ Cooking    ┆ Kuala   ┆ no         ┆ Parking,Gy │\n",
       "│ 2       ┆ rt Apar ┆            ┆            ┆   ┆ Allowed    ┆ Lumpur  ┆            ┆ mnasium,Mi │\n",
       "│         ┆ tment   ┆            ┆            ┆   ┆            ┆         ┆            ┆ nimart,Mul │\n",
       "│         ┆         ┆            ┆            ┆   ┆            ┆         ┆            ┆ ti…        │\n",
       "│ 9875744 ┆ Swiss   ┆ 2011.0     ┆ 2000       ┆ … ┆ Air-Cond,  ┆ Kuala   ┆ yes        ┆ Squash Cou │\n",
       "│ 5       ┆ Garden  ┆            ┆            ┆   ┆ Cooking    ┆ Lumpur  ┆            ┆ rt,Sauna,S │\n",
       "│         ┆ Residen ┆            ┆            ┆   ┆ Allowed,   ┆         ┆            ┆ wimming    │\n",
       "│         ┆ ces     ┆            ┆            ┆   ┆ Near …     ┆         ┆            ┆ Pool…      │\n",
       "│ …       ┆ …       ┆ …          ┆ …          ┆ … ┆ …          ┆ …       ┆ …          ┆ …          │\n",
       "│ 9897114 ┆ Enesta  ┆ 2021.0     ┆ 1600       ┆ … ┆ Air-Cond,  ┆ Kuala   ┆ no         ┆ Parking,Se │\n",
       "│ 3       ┆         ┆            ┆            ┆   ┆ Cooking    ┆ Lumpur  ┆            ┆ curity,Lif │\n",
       "│         ┆         ┆            ┆            ┆   ┆ Allowed,   ┆         ┆            ┆ t,Swimming │\n",
       "│         ┆         ┆            ┆            ┆   ┆ Washi…     ┆         ┆            ┆ P…         │\n",
       "│ 9983596 ┆ The Ele ┆ 2015.0     ┆ 2700       ┆ … ┆ Air-Cond,  ┆ Kuala   ┆ yes        ┆ Sauna,Barb │\n",
       "│ 4       ┆ ments   ┆            ┆            ┆   ┆ Cooking    ┆ Lumpur  ┆            ┆ eque area, │\n",
       "│         ┆         ┆            ┆            ┆   ┆ Allowed,   ┆         ┆            ┆ Playground │\n",
       "│         ┆         ┆            ┆            ┆   ┆ Near …     ┆         ┆            ┆ ,G…        │\n",
       "│ 9997807 ┆ Desa    ┆ null       ┆ 1000       ┆ … ┆ null       ┆ Kuala   ┆ null       ┆ null       │\n",
       "│ 0       ┆ Pandan  ┆            ┆            ┆   ┆            ┆ Lumpur  ┆            ┆            │\n",
       "│         ┆ Apartme ┆            ┆            ┆   ┆            ┆         ┆            ┆            │\n",
       "│         ┆ nt      ┆            ┆            ┆   ┆            ┆         ┆            ┆            │\n",
       "│ 9988576 ┆ Savio   ┆ 2019.0     ┆ 1850       ┆ … ┆ Cooking    ┆ Kuala   ┆ yes        ┆ null       │\n",
       "│ 1       ┆ Riana   ┆            ┆            ┆   ┆ Allowed,   ┆ Lumpur  ┆            ┆            │\n",
       "│         ┆ Dutamas ┆            ┆            ┆   ┆ Near       ┆         ┆            ┆            │\n",
       "│         ┆ Residen ┆            ┆            ┆   ┆ KTM/LRT,   ┆         ┆            ┆            │\n",
       "│         ┆ ce      ┆            ┆            ┆   ┆ I…         ┆         ┆            ┆            │\n",
       "└─────────┴─────────┴────────────┴────────────┴───┴────────────┴─────────┴────────────┴────────────┘"
      ]
     },
     "execution_count": 18,
     "metadata": {},
     "output_type": "execute_result"
    }
   ],
   "source": [
    "df"
   ]
  },
  {
   "cell_type": "code",
   "execution_count": 19,
   "id": "ec617bd1-521e-4e4a-9503-6326e1e317e9",
   "metadata": {},
   "outputs": [],
   "source": [
    "def extract_facilities(text: str, regex: str):\n",
    "    pattern = re.compile(r'\\b{}\\b'.format(regex))\n",
    "    try:\n",
    "        match = pattern.search(text)\n",
    "        if match:\n",
    "            return 'yes'\n",
    "        return 'no'\n",
    "    except TypeError:\n",
    "        return text"
   ]
  },
  {
   "cell_type": "code",
   "execution_count": 20,
   "id": "a4ed9b33-586f-4a1d-8373-36f81e0c7313",
   "metadata": {},
   "outputs": [],
   "source": [
    "def pipe_extract_facilities(df: pl.DataFrame, regex: str) -> pl.DataFrame:\n",
    "    return df.select([pl.all(), pl.col(\"facilities_clean\").apply(lambda x: extract_facilities(x, regex)).alias(f\"{regex}_availability\")])"
   ]
  },
  {
   "cell_type": "raw",
   "id": "f89be888-0aa7-4417-b45b-a757962ca545",
   "metadata": {},
   "source": [
    "def extract_near_ktm_lrt(text):\n",
    "    pattern = re.compile(r'\\bNear KTM/LRT\\b')\n",
    "    try:\n",
    "        match = pattern.search(text)\n",
    "        if match:\n",
    "            return 'yes'\n",
    "        return 'no'\n",
    "    except TypeError:\n",
    "        return text"
   ]
  },
  {
   "cell_type": "code",
   "execution_count": 21,
   "id": "5b4e299b-a98f-4adc-b103-cdea79d46a19",
   "metadata": {},
   "outputs": [],
   "source": [
    "df_facilities = df.select(pl.col('facilities_clean').str.split(',').arr.to_struct(n_field_strategy=\"max_width\")).unnest('facilities_clean')"
   ]
  },
  {
   "cell_type": "code",
   "execution_count": 22,
   "id": "6dc8ba09-d3ea-42bb-b426-657d6bd72a75",
   "metadata": {},
   "outputs": [
    {
     "data": {
      "text/html": [
       "<div><style>\n",
       ".dataframe > thead > tr > th,\n",
       ".dataframe > tbody > tr > td {\n",
       "  text-align: right;\n",
       "}\n",
       "</style>\n",
       "<small>shape: (9991, 18)</small><table border=\"1\" class=\"dataframe\"><thead><tr><th>ads_id</th><th>prop_name</th><th>completion_year</th><th>monthly_rent_rm</th><th>location</th><th>property_type</th><th>rooms</th><th>parking</th><th>bathroom</th><th>size_sqft</th><th>furnished</th><th>facilities</th><th>additional_facilities</th><th>region</th><th>nearby_railways</th><th>facilities_clean</th><th>Gymnasium_availability</th><th>Swimming Pool_availability</th></tr><tr><td>i64</td><td>str</td><td>f64</td><td>i64</td><td>str</td><td>str</td><td>str</td><td>f64</td><td>f64</td><td>i64</td><td>str</td><td>str</td><td>str</td><td>str</td><td>str</td><td>str</td><td>str</td><td>str</td></tr></thead><tbody><tr><td>100276135</td><td>&quot;M Centura&quot;</td><td>2021.0</td><td>1400</td><td>&quot;Sentul&quot;</td><td>&quot;Service Reside…</td><td>&quot;3&quot;</td><td>null</td><td>2.0</td><td>850</td><td>&quot;Fully Furnishe…</td><td>&quot;Parking, Secur…</td><td>&quot;Air-Cond, Cook…</td><td>&quot;Kuala Lumpur&quot;</td><td>&quot;yes&quot;</td><td>&quot;Parking,Securi…</td><td>&quot;yes&quot;</td><td>&quot;yes&quot;</td></tr><tr><td>100237828</td><td>&quot;Regalia Reside…</td><td>2012.0</td><td>2000</td><td>&quot;Jalan Sultan I…</td><td>&quot;Service Reside…</td><td>&quot;1&quot;</td><td>null</td><td>1.0</td><td>755</td><td>&quot;Fully Furnishe…</td><td>&quot;Parking, Squas…</td><td>&quot;Internet, Cook…</td><td>&quot;Kuala Lumpur&quot;</td><td>&quot;yes&quot;</td><td>&quot;Parking,Squash…</td><td>&quot;yes&quot;</td><td>&quot;yes&quot;</td></tr><tr><td>98327472</td><td>&quot;Westcourt Apar…</td><td>null</td><td>800</td><td>&quot;Old Klang Road…</td><td>&quot;Apartment&quot;</td><td>&quot;3&quot;</td><td>1.0</td><td>2.0</td><td>1200</td><td>&quot;Partially Furn…</td><td>&quot;Parking, Gymna…</td><td>&quot;Cooking Allowe…</td><td>&quot;Kuala Lumpur&quot;</td><td>&quot;no&quot;</td><td>&quot;Parking,Gymnas…</td><td>&quot;yes&quot;</td><td>&quot;no&quot;</td></tr><tr><td>98757445</td><td>&quot;Swiss Garden R…</td><td>2011.0</td><td>2000</td><td>&quot;Bukit Bintang&quot;</td><td>&quot;Service Reside…</td><td>&quot;1&quot;</td><td>null</td><td>1.0</td><td>550</td><td>&quot;Fully Furnishe…</td><td>&quot;Squash Court, …</td><td>&quot;Air-Cond, Cook…</td><td>&quot;Kuala Lumpur&quot;</td><td>&quot;yes&quot;</td><td>&quot;Squash Court,S…</td><td>&quot;yes&quot;</td><td>&quot;yes&quot;</td></tr><tr><td>99951179</td><td>&quot;Platinum Lake …</td><td>null</td><td>2200</td><td>&quot;Setapak&quot;</td><td>&quot;Condominium&quot;</td><td>&quot;4&quot;</td><td>1.0</td><td>2.0</td><td>1313</td><td>&quot;Partially Furn…</td><td>null</td><td>null</td><td>&quot;Kuala Lumpur&quot;</td><td>null</td><td>null</td><td>null</td><td>null</td></tr><tr><td>99507816</td><td>&quot;Platinum Splen…</td><td>2020.0</td><td>1700</td><td>&quot;Keramat&quot;</td><td>&quot;Condominium&quot;</td><td>&quot;3&quot;</td><td>2.0</td><td>2.0</td><td>926</td><td>&quot;Not Furnished&quot;</td><td>&quot;Minimart, Swim…</td><td>&quot;Cooking Allowe…</td><td>&quot;Kuala Lumpur&quot;</td><td>&quot;no&quot;</td><td>&quot;Minimart,Swimm…</td><td>&quot;yes&quot;</td><td>&quot;yes&quot;</td></tr><tr><td>100309845</td><td>&quot;Vista Mutiara&quot;</td><td>null</td><td>1200</td><td>&quot;Kepong&quot;</td><td>&quot;Condominium&quot;</td><td>&quot;3&quot;</td><td>1.0</td><td>2.0</td><td>1001</td><td>&quot;Partially Furn…</td><td>&quot;Parking, Minim…</td><td>&quot;Air-Cond, Cook…</td><td>&quot;Kuala Lumpur&quot;</td><td>&quot;no&quot;</td><td>&quot;Parking,Minima…</td><td>&quot;no&quot;</td><td>&quot;yes&quot;</td></tr><tr><td>99881982</td><td>&quot;Arte Mont Kiar…</td><td>null</td><td>2700</td><td>&quot;Mont Kiara&quot;</td><td>&quot;Service Reside…</td><td>&quot;2&quot;</td><td>1.0</td><td>2.0</td><td>839</td><td>&quot;Fully Furnishe…</td><td>&quot;Parking, Secur…</td><td>&quot;Air-Cond, Cook…</td><td>&quot;Kuala Lumpur&quot;</td><td>&quot;no&quot;</td><td>&quot;Parking,Securi…</td><td>&quot;yes&quot;</td><td>&quot;yes&quot;</td></tr><tr><td>98778671</td><td>null</td><td>null</td><td>2200</td><td>&quot;Jalan Kuching&quot;</td><td>&quot;Condominium&quot;</td><td>&quot;3&quot;</td><td>2.0</td><td>2.0</td><td>1193</td><td>&quot;Fully Furnishe…</td><td>&quot;Parking, Secur…</td><td>&quot;Air-Cond, Cook…</td><td>&quot;Kuala Lumpur&quot;</td><td>&quot;no&quot;</td><td>&quot;Parking,Securi…</td><td>&quot;yes&quot;</td><td>&quot;yes&quot;</td></tr><tr><td>99934573</td><td>&quot;Laman Midah&quot;</td><td>null</td><td>1199</td><td>&quot;Cheras&quot;</td><td>&quot;Condominium&quot;</td><td>&quot;3&quot;</td><td>2.0</td><td>2.0</td><td>800</td><td>&quot;Not Furnished&quot;</td><td>null</td><td>null</td><td>&quot;Kuala Lumpur&quot;</td><td>null</td><td>null</td><td>null</td><td>null</td></tr><tr><td>100138957</td><td>&quot;Ketumbar Heigh…</td><td>2010.0</td><td>1350</td><td>&quot;Cheras&quot;</td><td>&quot;Condominium&quot;</td><td>&quot;3&quot;</td><td>1.0</td><td>2.0</td><td>755</td><td>&quot;Fully Furnishe…</td><td>&quot;Parking, Secur…</td><td>&quot;Air-Cond, Cook…</td><td>&quot;Kuala Lumpur&quot;</td><td>&quot;no&quot;</td><td>&quot;Parking,Securi…</td><td>&quot;no&quot;</td><td>&quot;yes&quot;</td></tr><tr><td>99902938</td><td>&quot;Desa Tun Razak…</td><td>null</td><td>1000</td><td>&quot;Cheras&quot;</td><td>&quot;Apartment&quot;</td><td>&quot;2&quot;</td><td>1.0</td><td>1.0</td><td>657</td><td>&quot;Partially Furn…</td><td>&quot;Parking, Secur…</td><td>&quot;Air-Cond, Cook…</td><td>&quot;Kuala Lumpur&quot;</td><td>&quot;yes&quot;</td><td>&quot;Parking,Securi…</td><td>&quot;yes&quot;</td><td>&quot;yes&quot;</td></tr><tr><td>&hellip;</td><td>&hellip;</td><td>&hellip;</td><td>&hellip;</td><td>&hellip;</td><td>&hellip;</td><td>&hellip;</td><td>&hellip;</td><td>&hellip;</td><td>&hellip;</td><td>&hellip;</td><td>&hellip;</td><td>&hellip;</td><td>&hellip;</td><td>&hellip;</td><td>&hellip;</td><td>&hellip;</td><td>&hellip;</td></tr><tr><td>95117715</td><td>&quot;Titiwangsa Sen…</td><td>2011.0</td><td>2200</td><td>&quot;Titiwangsa&quot;</td><td>&quot;Condominium&quot;</td><td>&quot;3&quot;</td><td>null</td><td>2.0</td><td>1100</td><td>&quot;Fully Furnishe…</td><td>&quot;Squash Court, …</td><td>&quot;Air-Cond, Cook…</td><td>&quot;Kuala Lumpur&quot;</td><td>&quot;yes&quot;</td><td>&quot;Squash Court,P…</td><td>&quot;yes&quot;</td><td>&quot;yes&quot;</td></tr><tr><td>100001436</td><td>&quot;M Centura&quot;</td><td>2021.0</td><td>1500</td><td>&quot;Sentul&quot;</td><td>&quot;Service Reside…</td><td>&quot;3&quot;</td><td>1.0</td><td>2.0</td><td>850</td><td>&quot;Partially Furn…</td><td>&quot;Parking, Secur…</td><td>&quot;Air-Cond, Cook…</td><td>&quot;Kuala Lumpur&quot;</td><td>&quot;no&quot;</td><td>&quot;Parking,Securi…</td><td>&quot;yes&quot;</td><td>&quot;yes&quot;</td></tr><tr><td>99748995</td><td>&quot;Platinum Lake …</td><td>null</td><td>1400</td><td>&quot;Setapak&quot;</td><td>&quot;Service Reside…</td><td>&quot;2&quot;</td><td>2.0</td><td>2.0</td><td>900</td><td>&quot;Partially Furn…</td><td>null</td><td>null</td><td>&quot;Kuala Lumpur&quot;</td><td>null</td><td>null</td><td>null</td><td>null</td></tr><tr><td>99931991</td><td>&quot;Kenari Court&quot;</td><td>null</td><td>1200</td><td>&quot;Ampang&quot;</td><td>&quot;Apartment&quot;</td><td>&quot;3&quot;</td><td>1.0</td><td>2.0</td><td>850</td><td>&quot;Partially Furn…</td><td>&quot;Security, Park…</td><td>&quot;Air-Cond, Near…</td><td>&quot;Kuala Lumpur&quot;</td><td>&quot;yes&quot;</td><td>&quot;Security,Parki…</td><td>&quot;no&quot;</td><td>&quot;no&quot;</td></tr><tr><td>99757154</td><td>&quot;Fortune Court …</td><td>null</td><td>1100</td><td>&quot;Kepong&quot;</td><td>&quot;Apartment&quot;</td><td>&quot;3&quot;</td><td>null</td><td>2.0</td><td>1300</td><td>&quot;Partially Furn…</td><td>&quot;Swimming Pool,…</td><td>null</td><td>&quot;Kuala Lumpur&quot;</td><td>null</td><td>&quot;Swimming Pool,…</td><td>&quot;no&quot;</td><td>&quot;yes&quot;</td></tr><tr><td>100265645</td><td>&quot;Pandan Court&quot;</td><td>2001.0</td><td>700</td><td>&quot;Ampang&quot;</td><td>&quot;Apartment&quot;</td><td>&quot;1&quot;</td><td>null</td><td>1.0</td><td>830</td><td>&quot;Fully Furnishe…</td><td>&quot;Security, Mini…</td><td>&quot;Air-Cond, Cook…</td><td>&quot;Kuala Lumpur&quot;</td><td>&quot;no&quot;</td><td>&quot;Security,Minim…</td><td>&quot;no&quot;</td><td>&quot;yes&quot;</td></tr><tr><td>99847872</td><td>&quot;Scenaria @ Nor…</td><td>2015.0</td><td>2200</td><td>&quot;Segambut&quot;</td><td>&quot;Condominium&quot;</td><td>&quot;4&quot;</td><td>2.0</td><td>2.0</td><td>1262</td><td>&quot;Fully Furnishe…</td><td>null</td><td>&quot;Air-Cond, Cook…</td><td>&quot;Kuala Lumpur&quot;</td><td>&quot;no&quot;</td><td>null</td><td>null</td><td>null</td></tr><tr><td>99540431</td><td>&quot;Sri Pelangi (J…</td><td>2003.0</td><td>1200</td><td>&quot;Setapak&quot;</td><td>&quot;Condominium&quot;</td><td>&quot;3&quot;</td><td>2.0</td><td>2.0</td><td>900</td><td>&quot;Not Furnished&quot;</td><td>&quot;Parking, Secur…</td><td>&quot;Cooking Allowe…</td><td>&quot;Kuala Lumpur&quot;</td><td>&quot;no&quot;</td><td>&quot;Parking,Securi…</td><td>&quot;no&quot;</td><td>&quot;no&quot;</td></tr><tr><td>98971143</td><td>&quot;Enesta&quot;</td><td>2021.0</td><td>1600</td><td>&quot;Kepong&quot;</td><td>&quot;Service Reside…</td><td>&quot;3&quot;</td><td>1.0</td><td>2.0</td><td>916</td><td>&quot;Partially Furn…</td><td>&quot;Parking, Secur…</td><td>&quot;Air-Cond, Cook…</td><td>&quot;Kuala Lumpur&quot;</td><td>&quot;no&quot;</td><td>&quot;Parking,Securi…</td><td>&quot;yes&quot;</td><td>&quot;yes&quot;</td></tr><tr><td>99835964</td><td>&quot;The Elements&quot;</td><td>2015.0</td><td>2700</td><td>&quot;Ampang&quot;</td><td>&quot;Service Reside…</td><td>&quot;3&quot;</td><td>2.0</td><td>4.0</td><td>1435</td><td>&quot;Fully Furnishe…</td><td>&quot;Sauna, Barbequ…</td><td>&quot;Air-Cond, Cook…</td><td>&quot;Kuala Lumpur&quot;</td><td>&quot;yes&quot;</td><td>&quot;Sauna,Barbeque…</td><td>&quot;yes&quot;</td><td>&quot;yes&quot;</td></tr><tr><td>99978070</td><td>&quot;Desa Pandan Ap…</td><td>null</td><td>1000</td><td>&quot;Desa Pandan&quot;</td><td>&quot;Flat&quot;</td><td>&quot;3&quot;</td><td>null</td><td>2.0</td><td>800</td><td>&quot;Partially Furn…</td><td>null</td><td>null</td><td>&quot;Kuala Lumpur&quot;</td><td>null</td><td>null</td><td>null</td><td>null</td></tr><tr><td>99885761</td><td>&quot;Savio Riana Du…</td><td>2019.0</td><td>1850</td><td>&quot;Segambut&quot;</td><td>&quot;Service Reside…</td><td>&quot;2&quot;</td><td>null</td><td>2.0</td><td>903</td><td>&quot;Partially Furn…</td><td>null</td><td>&quot;Cooking Allowe…</td><td>&quot;Kuala Lumpur&quot;</td><td>&quot;yes&quot;</td><td>null</td><td>null</td><td>null</td></tr></tbody></table></div>"
      ],
      "text/plain": [
       "shape: (9_991, 18)\n",
       "┌──────┬─────────┬────────────┬────────────┬───┬────────────┬────────────┬────────────┬────────────┐\n",
       "│ ads_ ┆ prop_na ┆ completion ┆ monthly_re ┆ … ┆ nearby_rai ┆ facilities ┆ Gymnasium_ ┆ Swimming   │\n",
       "│ id   ┆ me      ┆ _year      ┆ nt_rm      ┆   ┆ lways      ┆ _clean     ┆ availabili ┆ Pool_avail │\n",
       "│ ---  ┆ ---     ┆ ---        ┆ ---        ┆   ┆ ---        ┆ ---        ┆ ty         ┆ ability    │\n",
       "│ i64  ┆ str     ┆ f64        ┆ i64        ┆   ┆ str        ┆ str        ┆ ---        ┆ ---        │\n",
       "│      ┆         ┆            ┆            ┆   ┆            ┆            ┆ str        ┆ str        │\n",
       "╞══════╪═════════╪════════════╪════════════╪═══╪════════════╪════════════╪════════════╪════════════╡\n",
       "│ 1002 ┆ M       ┆ 2021.0     ┆ 1400       ┆ … ┆ yes        ┆ Parking,Se ┆ yes        ┆ yes        │\n",
       "│ 7613 ┆ Centura ┆            ┆            ┆   ┆            ┆ curity,Lif ┆            ┆            │\n",
       "│ 5    ┆         ┆            ┆            ┆   ┆            ┆ t,Swimming ┆            ┆            │\n",
       "│      ┆         ┆            ┆            ┆   ┆            ┆ P…         ┆            ┆            │\n",
       "│ 1002 ┆ Regalia ┆ 2012.0     ┆ 2000       ┆ … ┆ yes        ┆ Parking,Sq ┆ yes        ┆ yes        │\n",
       "│ 3782 ┆ Residen ┆            ┆            ┆   ┆            ┆ uash Court ┆            ┆            │\n",
       "│ 8    ┆ ce      ┆            ┆            ┆   ┆            ┆ ,Swimming  ┆            ┆            │\n",
       "│      ┆         ┆            ┆            ┆   ┆            ┆ Po…        ┆            ┆            │\n",
       "│ 9832 ┆ Westcou ┆ null       ┆ 800        ┆ … ┆ no         ┆ Parking,Gy ┆ yes        ┆ no         │\n",
       "│ 7472 ┆ rt Apar ┆            ┆            ┆   ┆            ┆ mnasium,Mi ┆            ┆            │\n",
       "│      ┆ tment   ┆            ┆            ┆   ┆            ┆ nimart,Mul ┆            ┆            │\n",
       "│      ┆         ┆            ┆            ┆   ┆            ┆ ti…        ┆            ┆            │\n",
       "│ 9875 ┆ Swiss   ┆ 2011.0     ┆ 2000       ┆ … ┆ yes        ┆ Squash Cou ┆ yes        ┆ yes        │\n",
       "│ 7445 ┆ Garden  ┆            ┆            ┆   ┆            ┆ rt,Sauna,S ┆            ┆            │\n",
       "│      ┆ Residen ┆            ┆            ┆   ┆            ┆ wimming    ┆            ┆            │\n",
       "│      ┆ ces     ┆            ┆            ┆   ┆            ┆ Pool…      ┆            ┆            │\n",
       "│ …    ┆ …       ┆ …          ┆ …          ┆ … ┆ …          ┆ …          ┆ …          ┆ …          │\n",
       "│ 9897 ┆ Enesta  ┆ 2021.0     ┆ 1600       ┆ … ┆ no         ┆ Parking,Se ┆ yes        ┆ yes        │\n",
       "│ 1143 ┆         ┆            ┆            ┆   ┆            ┆ curity,Lif ┆            ┆            │\n",
       "│      ┆         ┆            ┆            ┆   ┆            ┆ t,Swimming ┆            ┆            │\n",
       "│      ┆         ┆            ┆            ┆   ┆            ┆ P…         ┆            ┆            │\n",
       "│ 9983 ┆ The Ele ┆ 2015.0     ┆ 2700       ┆ … ┆ yes        ┆ Sauna,Barb ┆ yes        ┆ yes        │\n",
       "│ 5964 ┆ ments   ┆            ┆            ┆   ┆            ┆ eque area, ┆            ┆            │\n",
       "│      ┆         ┆            ┆            ┆   ┆            ┆ Playground ┆            ┆            │\n",
       "│      ┆         ┆            ┆            ┆   ┆            ┆ ,G…        ┆            ┆            │\n",
       "│ 9997 ┆ Desa    ┆ null       ┆ 1000       ┆ … ┆ null       ┆ null       ┆ null       ┆ null       │\n",
       "│ 8070 ┆ Pandan  ┆            ┆            ┆   ┆            ┆            ┆            ┆            │\n",
       "│      ┆ Apartme ┆            ┆            ┆   ┆            ┆            ┆            ┆            │\n",
       "│      ┆ nt      ┆            ┆            ┆   ┆            ┆            ┆            ┆            │\n",
       "│ 9988 ┆ Savio   ┆ 2019.0     ┆ 1850       ┆ … ┆ yes        ┆ null       ┆ null       ┆ null       │\n",
       "│ 5761 ┆ Riana   ┆            ┆            ┆   ┆            ┆            ┆            ┆            │\n",
       "│      ┆ Dutamas ┆            ┆            ┆   ┆            ┆            ┆            ┆            │\n",
       "│      ┆ Residen ┆            ┆            ┆   ┆            ┆            ┆            ┆            │\n",
       "│      ┆ ce      ┆            ┆            ┆   ┆            ┆            ┆            ┆            │\n",
       "└──────┴─────────┴────────────┴────────────┴───┴────────────┴────────────┴────────────┴────────────┘"
      ]
     },
     "execution_count": 22,
     "metadata": {},
     "output_type": "execute_result"
    }
   ],
   "source": [
    "df.pipe(pipe_extract_facilities, \"Gymnasium\").pipe(pipe_extract_facilities, \"Swimming Pool\")"
   ]
  },
  {
   "cell_type": "code",
   "execution_count": 23,
   "id": "77acb0b1-0da0-42f2-8758-93a4b53c26b0",
   "metadata": {},
   "outputs": [
    {
     "data": {
      "text/html": [
       "<div><style>\n",
       ".dataframe > thead > tr > th,\n",
       ".dataframe > tbody > tr > td {\n",
       "  text-align: right;\n",
       "}\n",
       "</style>\n",
       "<small>shape: (9991, 14)</small><table border=\"1\" class=\"dataframe\"><thead><tr><th>field_0</th><th>field_1</th><th>field_2</th><th>field_3</th><th>field_4</th><th>field_5</th><th>field_6</th><th>field_7</th><th>field_8</th><th>field_9</th><th>field_10</th><th>field_11</th><th>field_12</th><th>field_13</th></tr><tr><td>str</td><td>str</td><td>str</td><td>str</td><td>str</td><td>str</td><td>str</td><td>str</td><td>str</td><td>str</td><td>str</td><td>str</td><td>str</td><td>str</td></tr></thead><tbody><tr><td>&quot;Parking&quot;</td><td>&quot;Security&quot;</td><td>&quot;Lift&quot;</td><td>&quot;Swimming Pool&quot;</td><td>&quot;Playground&quot;</td><td>&quot;Gymnasium&quot;</td><td>&quot;Sauna&quot;</td><td>&quot;Barbeque area&quot;</td><td>&quot;Minimart&quot;</td><td>&quot;Multipurpose h…</td><td>&quot;Club house&quot;</td><td>&quot;Jogging Track&quot;</td><td>&quot;Tennis Court&quot;</td><td>&quot;Squash Court&quot;</td></tr><tr><td>&quot;Parking&quot;</td><td>&quot;Squash Court&quot;</td><td>&quot;Swimming Pool&quot;</td><td>&quot;Gymnasium&quot;</td><td>&quot;Playground&quot;</td><td>&quot;Security&quot;</td><td>&quot;Lift&quot;</td><td>null</td><td>null</td><td>null</td><td>null</td><td>null</td><td>null</td><td>null</td></tr><tr><td>&quot;Parking&quot;</td><td>&quot;Gymnasium&quot;</td><td>&quot;Minimart&quot;</td><td>&quot;Multipurpose h…</td><td>null</td><td>null</td><td>null</td><td>null</td><td>null</td><td>null</td><td>null</td><td>null</td><td>null</td><td>null</td></tr><tr><td>&quot;Squash Court&quot;</td><td>&quot;Sauna&quot;</td><td>&quot;Swimming Pool&quot;</td><td>&quot;Gymnasium&quot;</td><td>&quot;Lift&quot;</td><td>&quot;Security&quot;</td><td>&quot;Playground&quot;</td><td>&quot;Barbeque area&quot;</td><td>&quot;Minimart&quot;</td><td>&quot;Multipurpose h…</td><td>&quot;Jogging Track&quot;</td><td>null</td><td>null</td><td>null</td></tr><tr><td>null</td><td>null</td><td>null</td><td>null</td><td>null</td><td>null</td><td>null</td><td>null</td><td>null</td><td>null</td><td>null</td><td>null</td><td>null</td><td>null</td></tr><tr><td>&quot;Minimart&quot;</td><td>&quot;Swimming Pool&quot;</td><td>&quot;Security&quot;</td><td>&quot;Playground&quot;</td><td>&quot;Gymnasium&quot;</td><td>&quot;Sauna&quot;</td><td>&quot;Parking&quot;</td><td>&quot;Squash Court&quot;</td><td>&quot;Lift&quot;</td><td>&quot;Tennis Court&quot;</td><td>&quot;Barbeque area&quot;</td><td>&quot;Multipurpose h…</td><td>&quot;Jogging Track&quot;</td><td>null</td></tr><tr><td>&quot;Parking&quot;</td><td>&quot;Minimart&quot;</td><td>&quot;Security&quot;</td><td>&quot;Swimming Pool&quot;</td><td>&quot;Playground&quot;</td><td>&quot;Barbeque area&quot;</td><td>null</td><td>null</td><td>null</td><td>null</td><td>null</td><td>null</td><td>null</td><td>null</td></tr><tr><td>&quot;Parking&quot;</td><td>&quot;Security&quot;</td><td>&quot;Lift&quot;</td><td>&quot;Swimming Pool&quot;</td><td>&quot;Playground&quot;</td><td>&quot;Gymnasium&quot;</td><td>&quot;Barbeque area&quot;</td><td>&quot;Minimart&quot;</td><td>&quot;Multipurpose h…</td><td>&quot;Jogging Track&quot;</td><td>&quot;Club house&quot;</td><td>null</td><td>null</td><td>null</td></tr><tr><td>&quot;Parking&quot;</td><td>&quot;Security&quot;</td><td>&quot;Lift&quot;</td><td>&quot;Playground&quot;</td><td>&quot;Sauna&quot;</td><td>&quot;Barbeque area&quot;</td><td>&quot;Gymnasium&quot;</td><td>&quot;Multipurpose h…</td><td>&quot;Swimming Pool&quot;</td><td>&quot;Jogging Track&quot;</td><td>&quot;Minimart&quot;</td><td>&quot;Squash Court&quot;</td><td>&quot;Club house&quot;</td><td>&quot;Tennis Court&quot;</td></tr><tr><td>null</td><td>null</td><td>null</td><td>null</td><td>null</td><td>null</td><td>null</td><td>null</td><td>null</td><td>null</td><td>null</td><td>null</td><td>null</td><td>null</td></tr><tr><td>&quot;Parking&quot;</td><td>&quot;Security&quot;</td><td>&quot;Lift&quot;</td><td>&quot;Swimming Pool&quot;</td><td>&quot;Playground&quot;</td><td>null</td><td>null</td><td>null</td><td>null</td><td>null</td><td>null</td><td>null</td><td>null</td><td>null</td></tr><tr><td>&quot;Parking&quot;</td><td>&quot;Security&quot;</td><td>&quot;Lift&quot;</td><td>&quot;Swimming Pool&quot;</td><td>&quot;Playground&quot;</td><td>&quot;Gymnasium&quot;</td><td>&quot;Sauna&quot;</td><td>&quot;Barbeque area&quot;</td><td>&quot;Minimart&quot;</td><td>&quot;Multipurpose h…</td><td>&quot;Club house&quot;</td><td>&quot;Jogging Track&quot;</td><td>&quot;Tennis Court&quot;</td><td>&quot;Squash Court&quot;</td></tr><tr><td>&hellip;</td><td>&hellip;</td><td>&hellip;</td><td>&hellip;</td><td>&hellip;</td><td>&hellip;</td><td>&hellip;</td><td>&hellip;</td><td>&hellip;</td><td>&hellip;</td><td>&hellip;</td><td>&hellip;</td><td>&hellip;</td><td>&hellip;</td></tr><tr><td>&quot;Squash Court&quot;</td><td>&quot;Playground&quot;</td><td>&quot;Gymnasium&quot;</td><td>&quot;Security&quot;</td><td>&quot;Barbeque area&quot;</td><td>&quot;Swimming Pool&quot;</td><td>&quot;Tennis Court&quot;</td><td>null</td><td>null</td><td>null</td><td>null</td><td>null</td><td>null</td><td>null</td></tr><tr><td>&quot;Parking&quot;</td><td>&quot;Security&quot;</td><td>&quot;Lift&quot;</td><td>&quot;Swimming Pool&quot;</td><td>&quot;Playground&quot;</td><td>&quot;Gymnasium&quot;</td><td>&quot;Barbeque area&quot;</td><td>&quot;Minimart&quot;</td><td>&quot;Multipurpose h…</td><td>&quot;Jogging Track&quot;</td><td>null</td><td>null</td><td>null</td><td>null</td></tr><tr><td>null</td><td>null</td><td>null</td><td>null</td><td>null</td><td>null</td><td>null</td><td>null</td><td>null</td><td>null</td><td>null</td><td>null</td><td>null</td><td>null</td></tr><tr><td>&quot;Security&quot;</td><td>&quot;Parking&quot;</td><td>&quot;Playground&quot;</td><td>null</td><td>null</td><td>null</td><td>null</td><td>null</td><td>null</td><td>null</td><td>null</td><td>null</td><td>null</td><td>null</td></tr><tr><td>&quot;Swimming Pool&quot;</td><td>&quot;Sauna&quot;</td><td>&quot;Parking&quot;</td><td>&quot;Jogging Track&quot;</td><td>&quot;Squash Court&quot;</td><td>null</td><td>null</td><td>null</td><td>null</td><td>null</td><td>null</td><td>null</td><td>null</td><td>null</td></tr><tr><td>&quot;Security&quot;</td><td>&quot;Minimart&quot;</td><td>&quot;Swimming Pool&quot;</td><td>&quot;Parking&quot;</td><td>&quot;Playground&quot;</td><td>&quot;Lift&quot;</td><td>&quot;Multipurpose h…</td><td>&quot;Jogging Track&quot;</td><td>null</td><td>null</td><td>null</td><td>null</td><td>null</td><td>null</td></tr><tr><td>null</td><td>null</td><td>null</td><td>null</td><td>null</td><td>null</td><td>null</td><td>null</td><td>null</td><td>null</td><td>null</td><td>null</td><td>null</td><td>null</td></tr><tr><td>&quot;Parking&quot;</td><td>&quot;Security&quot;</td><td>&quot;Lift&quot;</td><td>null</td><td>null</td><td>null</td><td>null</td><td>null</td><td>null</td><td>null</td><td>null</td><td>null</td><td>null</td><td>null</td></tr><tr><td>&quot;Parking&quot;</td><td>&quot;Security&quot;</td><td>&quot;Lift&quot;</td><td>&quot;Swimming Pool&quot;</td><td>&quot;Playground&quot;</td><td>&quot;Gymnasium&quot;</td><td>&quot;Barbeque area&quot;</td><td>&quot;Multipurpose h…</td><td>null</td><td>null</td><td>null</td><td>null</td><td>null</td><td>null</td></tr><tr><td>&quot;Sauna&quot;</td><td>&quot;Barbeque area&quot;</td><td>&quot;Playground&quot;</td><td>&quot;Gymnasium&quot;</td><td>&quot;Jogging Track&quot;</td><td>&quot;Multipurpose h…</td><td>&quot;Security&quot;</td><td>&quot;Swimming Pool&quot;</td><td>&quot;Lift&quot;</td><td>&quot;Minimart&quot;</td><td>null</td><td>null</td><td>null</td><td>null</td></tr><tr><td>null</td><td>null</td><td>null</td><td>null</td><td>null</td><td>null</td><td>null</td><td>null</td><td>null</td><td>null</td><td>null</td><td>null</td><td>null</td><td>null</td></tr><tr><td>null</td><td>null</td><td>null</td><td>null</td><td>null</td><td>null</td><td>null</td><td>null</td><td>null</td><td>null</td><td>null</td><td>null</td><td>null</td><td>null</td></tr></tbody></table></div>"
      ],
      "text/plain": [
       "shape: (9_991, 14)\n",
       "┌───────────┬───────────┬───────────┬───────────┬───┬───────────┬───────────┬───────────┬──────────┐\n",
       "│ field_0   ┆ field_1   ┆ field_2   ┆ field_3   ┆ … ┆ field_10  ┆ field_11  ┆ field_12  ┆ field_13 │\n",
       "│ ---       ┆ ---       ┆ ---       ┆ ---       ┆   ┆ ---       ┆ ---       ┆ ---       ┆ ---      │\n",
       "│ str       ┆ str       ┆ str       ┆ str       ┆   ┆ str       ┆ str       ┆ str       ┆ str      │\n",
       "╞═══════════╪═══════════╪═══════════╪═══════════╪═══╪═══════════╪═══════════╪═══════════╪══════════╡\n",
       "│ Parking   ┆ Security  ┆ Lift      ┆ Swimming  ┆ … ┆ Club      ┆ Jogging   ┆ Tennis    ┆ Squash   │\n",
       "│           ┆           ┆           ┆ Pool      ┆   ┆ house     ┆ Track     ┆ Court     ┆ Court    │\n",
       "│ Parking   ┆ Squash    ┆ Swimming  ┆ Gymnasium ┆ … ┆ null      ┆ null      ┆ null      ┆ null     │\n",
       "│           ┆ Court     ┆ Pool      ┆           ┆   ┆           ┆           ┆           ┆          │\n",
       "│ Parking   ┆ Gymnasium ┆ Minimart  ┆ Multipurp ┆ … ┆ null      ┆ null      ┆ null      ┆ null     │\n",
       "│           ┆           ┆           ┆ ose hall  ┆   ┆           ┆           ┆           ┆          │\n",
       "│ Squash    ┆ Sauna     ┆ Swimming  ┆ Gymnasium ┆ … ┆ Jogging   ┆ null      ┆ null      ┆ null     │\n",
       "│ Court     ┆           ┆ Pool      ┆           ┆   ┆ Track     ┆           ┆           ┆          │\n",
       "│ …         ┆ …         ┆ …         ┆ …         ┆ … ┆ …         ┆ …         ┆ …         ┆ …        │\n",
       "│ Parking   ┆ Security  ┆ Lift      ┆ Swimming  ┆ … ┆ null      ┆ null      ┆ null      ┆ null     │\n",
       "│           ┆           ┆           ┆ Pool      ┆   ┆           ┆           ┆           ┆          │\n",
       "│ Sauna     ┆ Barbeque  ┆ Playgroun ┆ Gymnasium ┆ … ┆ null      ┆ null      ┆ null      ┆ null     │\n",
       "│           ┆ area      ┆ d         ┆           ┆   ┆           ┆           ┆           ┆          │\n",
       "│ null      ┆ null      ┆ null      ┆ null      ┆ … ┆ null      ┆ null      ┆ null      ┆ null     │\n",
       "│ null      ┆ null      ┆ null      ┆ null      ┆ … ┆ null      ┆ null      ┆ null      ┆ null     │\n",
       "└───────────┴───────────┴───────────┴───────────┴───┴───────────┴───────────┴───────────┴──────────┘"
      ]
     },
     "execution_count": 23,
     "metadata": {},
     "output_type": "execute_result"
    }
   ],
   "source": [
    "df_facilities"
   ]
  },
  {
   "cell_type": "code",
   "execution_count": 24,
   "id": "73f2c9ee-605c-4c14-9831-50b1b292ad27",
   "metadata": {},
   "outputs": [
    {
     "data": {
      "text/html": [
       "<div><style>\n",
       ".dataframe > thead > tr > th,\n",
       ".dataframe > tbody > tr > td {\n",
       "  text-align: right;\n",
       "}\n",
       "</style>\n",
       "<small>shape: (30,)</small><table border=\"1\" class=\"dataframe\"><thead><tr><th>field_0</th></tr><tr><td>str</td></tr></thead><tbody><tr><td>&quot;Squash Court&quot;</td></tr><tr><td>&quot;Lift&quot;</td></tr><tr><td>&quot;Jogging Track&quot;</td></tr><tr><td>null</td></tr><tr><td>&quot;Tennis Court&quot;</td></tr><tr><td>&quot;Club house&quot;</td></tr><tr><td>&quot;Barbeque area&quot;</td></tr><tr><td>&quot;Swimming Pool&quot;</td></tr><tr><td>&quot;Multipurpose h…</td></tr><tr><td>&quot;Minimart&quot;</td></tr><tr><td>&quot;Security&quot;</td></tr><tr><td>&quot;Playground&quot;</td></tr><tr><td>&hellip;</td></tr><tr><td>null</td></tr><tr><td>&quot;Sauna&quot;</td></tr><tr><td>&quot;Club house&quot;</td></tr><tr><td>&quot;Swimming Pool&quot;</td></tr><tr><td>&quot;Tennis Court&quot;</td></tr><tr><td>&quot;Barbeque area&quot;</td></tr><tr><td>&quot;Playground&quot;</td></tr><tr><td>&quot;Jogging Track&quot;</td></tr><tr><td>&quot;Multipurpose h…</td></tr><tr><td>&quot;Lift&quot;</td></tr><tr><td>&quot;Gymnasium&quot;</td></tr><tr><td>&quot;Minimart&quot;</td></tr></tbody></table></div>"
      ],
      "text/plain": [
       "shape: (30,)\n",
       "Series: 'field_0' [str]\n",
       "[\n",
       "\t\"Squash Court\"\n",
       "\t\"Lift\"\n",
       "\t\"Jogging Track\"\n",
       "\tnull\n",
       "\t\"Tennis Court\"\n",
       "\t\"Club house\"\n",
       "\t\"Barbeque area\"\n",
       "\t\"Swimming Pool\"\n",
       "\t\"Multipurpose h…\n",
       "\t\"Minimart\"\n",
       "\t\"Security\"\n",
       "\t\"Playground\"\n",
       "\t…\n",
       "\t\"Parking\"\n",
       "\tnull\n",
       "\t\"Sauna\"\n",
       "\t\"Club house\"\n",
       "\t\"Swimming Pool\"\n",
       "\t\"Tennis Court\"\n",
       "\t\"Barbeque area\"\n",
       "\t\"Playground\"\n",
       "\t\"Jogging Track\"\n",
       "\t\"Multipurpose h…\n",
       "\t\"Lift\"\n",
       "\t\"Gymnasium\"\n",
       "\t\"Minimart\"\n",
       "]"
      ]
     },
     "execution_count": 24,
     "metadata": {},
     "output_type": "execute_result"
    }
   ],
   "source": [
    "pl.concat([df_facilities[\"field_0\"].unique(), df_facilities[\"field_1\"].unique()])"
   ]
  },
  {
   "cell_type": "code",
   "execution_count": 25,
   "id": "14c57683-646b-4aec-8bc2-2a2aa04c0fd6",
   "metadata": {},
   "outputs": [],
   "source": [
    "field_0_df = df_facilities.select(pl.col('field_0').alias(\"field\")).unique()\n",
    "field_1_df = df_facilities.select(pl.col('field_1').alias(\"field\")).unique()\n",
    "field_2_df = df_facilities.select(pl.col('field_2').alias(\"field\")).unique()\n",
    "field_3_df = df_facilities.select(pl.col('field_3').alias(\"field\")).unique()\n",
    "field_4_df = df_facilities.select(pl.col('field_4').alias(\"field\")).unique()\n",
    "field_5_df = df_facilities.select(pl.col('field_5').alias(\"field\")).unique()\n",
    "field_6_df = df_facilities.select(pl.col('field_6').alias(\"field\")).unique()\n",
    "field_7_df = df_facilities.select(pl.col('field_7').alias(\"field\")).unique()\n",
    "field_8_df = df_facilities.select(pl.col('field_8').alias(\"field\")).unique()\n",
    "field_9_df = df_facilities.select(pl.col('field_9').alias(\"field\")).unique()\n",
    "field_10_df = df_facilities.select(pl.col('field_10').alias(\"field\")).unique()\n",
    "field_11_df = df_facilities.select(pl.col('field_11').alias(\"field\")).unique()\n",
    "field_12_df = df_facilities.select(pl.col('field_12').alias(\"field\")).unique()\n",
    "field_13_df = df_facilities.select(pl.col('field_13').alias(\"field\")).unique()"
   ]
  },
  {
   "cell_type": "code",
   "execution_count": 26,
   "id": "d26313d1-1090-44cf-8b74-3b8fc716b373",
   "metadata": {},
   "outputs": [
    {
     "data": {
      "text/html": [
       "<div><style>\n",
       ".dataframe > thead > tr > th,\n",
       ".dataframe > tbody > tr > td {\n",
       "  text-align: right;\n",
       "}\n",
       "</style>\n",
       "<small>shape: (15, 1)</small><table border=\"1\" class=\"dataframe\"><thead><tr><th>field</th></tr><tr><td>str</td></tr></thead><tbody><tr><td>&quot;Minimart&quot;</td></tr><tr><td>&quot;Jogging Track&quot;</td></tr><tr><td>&quot;Gymnasium&quot;</td></tr><tr><td>&quot;Tennis Court&quot;</td></tr><tr><td>&quot;Barbeque area&quot;</td></tr><tr><td>&quot;Playground&quot;</td></tr><tr><td>&quot;Sauna&quot;</td></tr><tr><td>&quot;Multipurpose h…</td></tr><tr><td>&quot;Swimming Pool&quot;</td></tr><tr><td>&quot;Squash Court&quot;</td></tr><tr><td>&quot;Lift&quot;</td></tr><tr><td>&quot;Parking&quot;</td></tr><tr><td>&quot;Club house&quot;</td></tr><tr><td>&quot;Security&quot;</td></tr><tr><td>null</td></tr></tbody></table></div>"
      ],
      "text/plain": [
       "shape: (15, 1)\n",
       "┌───────────────┐\n",
       "│ field         │\n",
       "│ ---           │\n",
       "│ str           │\n",
       "╞═══════════════╡\n",
       "│ Minimart      │\n",
       "│ Jogging Track │\n",
       "│ Gymnasium     │\n",
       "│ Tennis Court  │\n",
       "│ …             │\n",
       "│ Parking       │\n",
       "│ Club house    │\n",
       "│ Security      │\n",
       "│ null          │\n",
       "└───────────────┘"
      ]
     },
     "execution_count": 26,
     "metadata": {},
     "output_type": "execute_result"
    }
   ],
   "source": [
    "field_13_df"
   ]
  },
  {
   "cell_type": "code",
   "execution_count": 27,
   "id": "bf85b103-5c96-4249-949b-7324a9b631b2",
   "metadata": {},
   "outputs": [
    {
     "name": "stdout",
     "output_type": "stream",
     "text": [
      "field_0_df,\n",
      "field_1_df,\n",
      "field_2_df,\n",
      "field_3_df,\n",
      "field_4_df,\n",
      "field_5_df,\n",
      "field_6_df,\n",
      "field_7_df,\n",
      "field_8_df,\n",
      "field_9_df,\n",
      "field_10_df,\n",
      "field_11_df,\n",
      "field_12_df,\n",
      "field_13_df,\n"
     ]
    }
   ],
   "source": [
    "for i in range(0,14):\n",
    "    print(f\"field_{i}_df,\")"
   ]
  },
  {
   "cell_type": "code",
   "execution_count": 28,
   "id": "111485a2-8924-4b90-87d6-9c56614076bb",
   "metadata": {},
   "outputs": [
    {
     "data": {
      "text/html": [
       "<div><style>\n",
       ".dataframe > thead > tr > th,\n",
       ".dataframe > tbody > tr > td {\n",
       "  text-align: right;\n",
       "}\n",
       "</style>\n",
       "<small>shape: (17, 1)</small><table border=\"1\" class=\"dataframe\"><thead><tr><th>field</th></tr><tr><td>str</td></tr></thead><tbody><tr><td>&quot;Jogging Track&quot;</td></tr><tr><td>&quot;Club house&quot;</td></tr><tr><td>&quot;Minimart&quot;</td></tr><tr><td>null</td></tr><tr><td>&quot;Sauna&quot;</td></tr><tr><td>&quot;Playground&quot;</td></tr><tr><td>&quot;Security&quot;</td></tr><tr><td>&quot;Parking&quot;</td></tr><tr><td>&quot;Lift&quot;</td></tr><tr><td>&quot;Squash Court&quot;</td></tr><tr><td>&quot;Barbeque area&quot;</td></tr><tr><td>&quot;Tennis Court&quot;</td></tr><tr><td>&quot;11&quot;</td></tr><tr><td>&quot;Multipurpose h…</td></tr><tr><td>&quot;Swimming Pool&quot;</td></tr><tr><td>&quot;10&quot;</td></tr><tr><td>&quot;Gymnasium&quot;</td></tr></tbody></table></div>"
      ],
      "text/plain": [
       "shape: (17, 1)\n",
       "┌───────────────────┐\n",
       "│ field             │\n",
       "│ ---               │\n",
       "│ str               │\n",
       "╞═══════════════════╡\n",
       "│ Jogging Track     │\n",
       "│ Club house        │\n",
       "│ Minimart          │\n",
       "│ null              │\n",
       "│ …                 │\n",
       "│ Multipurpose hall │\n",
       "│ Swimming Pool     │\n",
       "│ 10                │\n",
       "│ Gymnasium         │\n",
       "└───────────────────┘"
      ]
     },
     "execution_count": 28,
     "metadata": {},
     "output_type": "execute_result"
    }
   ],
   "source": [
    "pl.concat([field_0_df,\n",
    "field_1_df,\n",
    "field_2_df,\n",
    "field_3_df,\n",
    "field_4_df,\n",
    "field_5_df,\n",
    "field_6_df,\n",
    "field_7_df,\n",
    "field_8_df,\n",
    "field_9_df,\n",
    "field_10_df,\n",
    "field_11_df,\n",
    "field_12_df,\n",
    "field_13_df]).unique()"
   ]
  },
  {
   "cell_type": "code",
   "execution_count": 29,
   "id": "8efef9a5-024d-4cc8-b167-00b234731ed0",
   "metadata": {},
   "outputs": [
    {
     "data": {
      "text/html": [
       "<div><style>\n",
       ".dataframe > thead > tr > th,\n",
       ".dataframe > tbody > tr > td {\n",
       "  text-align: right;\n",
       "}\n",
       "</style>\n",
       "<small>shape: (15, 1)</small><table border=\"1\" class=\"dataframe\"><thead><tr><th>field</th></tr><tr><td>str</td></tr></thead><tbody><tr><td>&quot;Sauna&quot;</td></tr><tr><td>&quot;Tennis Court&quot;</td></tr><tr><td>&quot;Playground&quot;</td></tr><tr><td>&quot;Barbeque area&quot;</td></tr><tr><td>&quot;Multipurpose h…</td></tr><tr><td>&quot;Parking&quot;</td></tr><tr><td>&quot;Swimming Pool&quot;</td></tr><tr><td>&quot;Jogging Track&quot;</td></tr><tr><td>&quot;Club house&quot;</td></tr><tr><td>&quot;Gymnasium&quot;</td></tr><tr><td>null</td></tr><tr><td>&quot;Lift&quot;</td></tr><tr><td>&quot;Security&quot;</td></tr><tr><td>&quot;Minimart&quot;</td></tr><tr><td>&quot;Squash Court&quot;</td></tr></tbody></table></div>"
      ],
      "text/plain": [
       "shape: (15, 1)\n",
       "┌───────────────┐\n",
       "│ field         │\n",
       "│ ---           │\n",
       "│ str           │\n",
       "╞═══════════════╡\n",
       "│ Sauna         │\n",
       "│ Tennis Court  │\n",
       "│ Playground    │\n",
       "│ Barbeque area │\n",
       "│ …             │\n",
       "│ Lift          │\n",
       "│ Security      │\n",
       "│ Minimart      │\n",
       "│ Squash Court  │\n",
       "└───────────────┘"
      ]
     },
     "execution_count": 29,
     "metadata": {},
     "output_type": "execute_result"
    }
   ],
   "source": [
    "field_0_df"
   ]
  },
  {
   "cell_type": "code",
   "execution_count": 30,
   "id": "61bac160-f40c-46b1-bb56-434f1fa625fd",
   "metadata": {},
   "outputs": [
    {
     "data": {
      "text/html": [
       "<div><style>\n",
       ".dataframe > thead > tr > th,\n",
       ".dataframe > tbody > tr > td {\n",
       "  text-align: right;\n",
       "}\n",
       "</style>\n",
       "<small>shape: (15, 1)</small><table border=\"1\" class=\"dataframe\"><thead><tr><th>field</th></tr><tr><td>str</td></tr></thead><tbody><tr><td>&quot;Lift&quot;</td></tr><tr><td>&quot;Security&quot;</td></tr><tr><td>&quot;Sauna&quot;</td></tr><tr><td>&quot;Swimming Pool&quot;</td></tr><tr><td>&quot;Club house&quot;</td></tr><tr><td>&quot;Gymnasium&quot;</td></tr><tr><td>&quot;Playground&quot;</td></tr><tr><td>&quot;Barbeque area&quot;</td></tr><tr><td>&quot;Minimart&quot;</td></tr><tr><td>null</td></tr><tr><td>&quot;Jogging Track&quot;</td></tr><tr><td>&quot;Parking&quot;</td></tr><tr><td>&quot;Squash Court&quot;</td></tr><tr><td>&quot;Multipurpose h…</td></tr><tr><td>&quot;Tennis Court&quot;</td></tr></tbody></table></div>"
      ],
      "text/plain": [
       "shape: (15, 1)\n",
       "┌───────────────────┐\n",
       "│ field             │\n",
       "│ ---               │\n",
       "│ str               │\n",
       "╞═══════════════════╡\n",
       "│ Lift              │\n",
       "│ Security          │\n",
       "│ Sauna             │\n",
       "│ Swimming Pool     │\n",
       "│ …                 │\n",
       "│ Parking           │\n",
       "│ Squash Court      │\n",
       "│ Multipurpose hall │\n",
       "│ Tennis Court      │\n",
       "└───────────────────┘"
      ]
     },
     "execution_count": 30,
     "metadata": {},
     "output_type": "execute_result"
    }
   ],
   "source": [
    "field_1_df"
   ]
  },
  {
   "cell_type": "code",
   "execution_count": 31,
   "id": "0993398f-c313-4fd0-9a5b-cfb7813c3116",
   "metadata": {},
   "outputs": [
    {
     "data": {
      "text/plain": [
       "'Walao haha'"
      ]
     },
     "execution_count": 31,
     "metadata": {},
     "output_type": "execute_result"
    }
   ],
   "source": [
    "input = \"haha\"\n",
    "\"Walao {}\".format(input)"
   ]
  },
  {
   "cell_type": "code",
   "execution_count": null,
   "id": "f79f437c-de9a-4451-9c45-5dc61e99ab8f",
   "metadata": {},
   "outputs": [],
   "source": []
  }
 ],
 "metadata": {
  "kernelspec": {
   "display_name": "Python 3 (ipykernel)",
   "language": "python",
   "name": "python3"
  },
  "language_info": {
   "codemirror_mode": {
    "name": "ipython",
    "version": 3
   },
   "file_extension": ".py",
   "mimetype": "text/x-python",
   "name": "python",
   "nbconvert_exporter": "python",
   "pygments_lexer": "ipython3",
   "version": "3.11.0"
  }
 },
 "nbformat": 4,
 "nbformat_minor": 5
}
